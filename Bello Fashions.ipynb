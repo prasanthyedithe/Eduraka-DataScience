{
 "cells": [
  {
   "cell_type": "markdown",
   "metadata": {},
   "source": [
    "## <u>Python for AI-ML</u>\n",
    "\n",
    "# Module 4 - Data Preprocessing"
   ]
  },
  {
   "cell_type": "markdown",
   "metadata": {},
   "source": [
    "# Use Case-1: Bello Fashions\n",
    "\n",
    "\n",
    "### Problem Statement\n",
    "The data analysis team has been given a task to analyze the monthly sales by the manager."
   ]
  },
  {
   "cell_type": "markdown",
   "metadata": {},
   "source": [
    "### Import Basic Libraries"
   ]
  },
  {
   "cell_type": "code",
   "execution_count": 1,
   "metadata": {},
   "outputs": [],
   "source": [
    "import pandas as pd\n",
    "import numpy as np"
   ]
  },
  {
   "cell_type": "markdown",
   "metadata": {},
   "source": [
    "### Reading Data from Multiple Sources"
   ]
  },
  {
   "cell_type": "markdown",
   "metadata": {},
   "source": [
    "Richard reads data from multiple sources using pandas and merges into a single flat file(CSV). Later, he shares this file to Robin to perform the Data Analyst."
   ]
  },
  {
   "cell_type": "code",
   "execution_count": 2,
   "metadata": {},
   "outputs": [],
   "source": [
    "from sqlalchemy import create_engine"
   ]
  },
  {
   "cell_type": "code",
   "execution_count": 3,
   "metadata": {},
   "outputs": [],
   "source": [
    "engine=create_engine('sqlite:///db_bello_customers.db')"
   ]
  },
  {
   "cell_type": "code",
   "execution_count": 4,
   "metadata": {},
   "outputs": [],
   "source": [
    "on_premise_db=pd.read_sql_table('Payments',engine.connect())"
   ]
  },
  {
   "cell_type": "code",
   "execution_count": 5,
   "metadata": {},
   "outputs": [],
   "source": [
    "cld_data=pd.read_csv('https://raw.githubusercontent.com/SameerJain901/datasets/master/cld_bello_customers.csv')"
   ]
  },
  {
   "cell_type": "code",
   "execution_count": 6,
   "metadata": {},
   "outputs": [],
   "source": [
    "lcl_data=pd.read_excel('lcl_bello_sales.xlsx')"
   ]
  },
  {
   "cell_type": "code",
   "execution_count": 7,
   "metadata": {},
   "outputs": [
    {
     "data": {
      "text/html": [
       "<div>\n",
       "<style scoped>\n",
       "    .dataframe tbody tr th:only-of-type {\n",
       "        vertical-align: middle;\n",
       "    }\n",
       "\n",
       "    .dataframe tbody tr th {\n",
       "        vertical-align: top;\n",
       "    }\n",
       "\n",
       "    .dataframe thead th {\n",
       "        text-align: right;\n",
       "    }\n",
       "</style>\n",
       "<table border=\"1\" class=\"dataframe\">\n",
       "  <thead>\n",
       "    <tr style=\"text-align: right;\">\n",
       "      <th></th>\n",
       "      <th>Date</th>\n",
       "      <th>CustomerID</th>\n",
       "      <th>PaymentMode</th>\n",
       "      <th>ShippingMode</th>\n",
       "      <th>Gender</th>\n",
       "      <th>ShippingTime</th>\n",
       "    </tr>\n",
       "  </thead>\n",
       "  <tbody>\n",
       "    <tr>\n",
       "      <th>0</th>\n",
       "      <td>16/08/20</td>\n",
       "      <td>10471</td>\n",
       "      <td>Creditcard</td>\n",
       "      <td>Economy</td>\n",
       "      <td>Female</td>\n",
       "      <td>17.0</td>\n",
       "    </tr>\n",
       "    <tr>\n",
       "      <th>1</th>\n",
       "      <td>2/8/2020 0:00</td>\n",
       "      <td>10472</td>\n",
       "      <td>Ewallet</td>\n",
       "      <td>Mail</td>\n",
       "      <td>Unspecified</td>\n",
       "      <td>12.0</td>\n",
       "    </tr>\n",
       "    <tr>\n",
       "      <th>2</th>\n",
       "      <td>8/8/2020 0:00</td>\n",
       "      <td>10473</td>\n",
       "      <td>Prepaid Card</td>\n",
       "      <td>Mail</td>\n",
       "      <td>None</td>\n",
       "      <td>10.0</td>\n",
       "    </tr>\n",
       "    <tr>\n",
       "      <th>3</th>\n",
       "      <td>None</td>\n",
       "      <td>10474</td>\n",
       "      <td>Directdeposit</td>\n",
       "      <td>Normal</td>\n",
       "      <td>Female</td>\n",
       "      <td>2133.0</td>\n",
       "    </tr>\n",
       "    <tr>\n",
       "      <th>4</th>\n",
       "      <td>24/08/20</td>\n",
       "      <td>10475</td>\n",
       "      <td>None</td>\n",
       "      <td>Economy</td>\n",
       "      <td>Male</td>\n",
       "      <td>2133.0</td>\n",
       "    </tr>\n",
       "  </tbody>\n",
       "</table>\n",
       "</div>"
      ],
      "text/plain": [
       "            Date  CustomerID    PaymentMode ShippingMode       Gender  \\\n",
       "0       16/08/20       10471     Creditcard      Economy       Female   \n",
       "1  2/8/2020 0:00       10472        Ewallet         Mail  Unspecified   \n",
       "2  8/8/2020 0:00       10473   Prepaid Card         Mail         None   \n",
       "3           None       10474  Directdeposit       Normal       Female   \n",
       "4       24/08/20       10475           None      Economy         Male   \n",
       "\n",
       "   ShippingTime  \n",
       "0          17.0  \n",
       "1          12.0  \n",
       "2          10.0  \n",
       "3        2133.0  \n",
       "4        2133.0  "
      ]
     },
     "execution_count": 7,
     "metadata": {},
     "output_type": "execute_result"
    }
   ],
   "source": [
    "on_premise_db.head()"
   ]
  },
  {
   "cell_type": "code",
   "execution_count": 8,
   "metadata": {},
   "outputs": [
    {
     "data": {
      "text/html": [
       "<div>\n",
       "<style scoped>\n",
       "    .dataframe tbody tr th:only-of-type {\n",
       "        vertical-align: middle;\n",
       "    }\n",
       "\n",
       "    .dataframe tbody tr th {\n",
       "        vertical-align: top;\n",
       "    }\n",
       "\n",
       "    .dataframe thead th {\n",
       "        text-align: right;\n",
       "    }\n",
       "</style>\n",
       "<table border=\"1\" class=\"dataframe\">\n",
       "  <thead>\n",
       "    <tr style=\"text-align: right;\">\n",
       "      <th></th>\n",
       "      <th>CustomerID</th>\n",
       "      <th>Price</th>\n",
       "    </tr>\n",
       "  </thead>\n",
       "  <tbody>\n",
       "    <tr>\n",
       "      <th>0</th>\n",
       "      <td>10471</td>\n",
       "      <td>₹ 675036.2138626401</td>\n",
       "    </tr>\n",
       "    <tr>\n",
       "      <th>1</th>\n",
       "      <td>10472</td>\n",
       "      <td>€ 2,315.53</td>\n",
       "    </tr>\n",
       "    <tr>\n",
       "      <th>2</th>\n",
       "      <td>10473</td>\n",
       "      <td>₹ 611426.29122378</td>\n",
       "    </tr>\n",
       "    <tr>\n",
       "      <th>3</th>\n",
       "      <td>10474</td>\n",
       "      <td>₹ 210869.48083470002</td>\n",
       "    </tr>\n",
       "    <tr>\n",
       "      <th>4</th>\n",
       "      <td>10475</td>\n",
       "      <td>₹ 679422.2811434</td>\n",
       "    </tr>\n",
       "  </tbody>\n",
       "</table>\n",
       "</div>"
      ],
      "text/plain": [
       "   CustomerID                 Price\n",
       "0       10471   ₹ 675036.2138626401\n",
       "1       10472            € 2,315.53\n",
       "2       10473     ₹ 611426.29122378\n",
       "3       10474  ₹ 210869.48083470002\n",
       "4       10475      ₹ 679422.2811434"
      ]
     },
     "execution_count": 8,
     "metadata": {},
     "output_type": "execute_result"
    }
   ],
   "source": [
    "lcl_data.head()"
   ]
  },
  {
   "cell_type": "code",
   "execution_count": 9,
   "metadata": {},
   "outputs": [
    {
     "data": {
      "text/html": [
       "<div>\n",
       "<style scoped>\n",
       "    .dataframe tbody tr th:only-of-type {\n",
       "        vertical-align: middle;\n",
       "    }\n",
       "\n",
       "    .dataframe tbody tr th {\n",
       "        vertical-align: top;\n",
       "    }\n",
       "\n",
       "    .dataframe thead th {\n",
       "        text-align: right;\n",
       "    }\n",
       "</style>\n",
       "<table border=\"1\" class=\"dataframe\">\n",
       "  <thead>\n",
       "    <tr style=\"text-align: right;\">\n",
       "      <th></th>\n",
       "      <th>CustomerID</th>\n",
       "      <th>ProductType</th>\n",
       "      <th>Rating</th>\n",
       "      <th>Total_Ratings</th>\n",
       "      <th>PaymentMode</th>\n",
       "    </tr>\n",
       "  </thead>\n",
       "  <tbody>\n",
       "    <tr>\n",
       "      <th>0</th>\n",
       "      <td>10471</td>\n",
       "      <td>coates</td>\n",
       "      <td>1 start</td>\n",
       "      <td>8736</td>\n",
       "      <td>Creditcard</td>\n",
       "    </tr>\n",
       "    <tr>\n",
       "      <th>1</th>\n",
       "      <td>10472</td>\n",
       "      <td>dresses</td>\n",
       "      <td>2 star</td>\n",
       "      <td>8547</td>\n",
       "      <td>Ewallet</td>\n",
       "    </tr>\n",
       "    <tr>\n",
       "      <th>2</th>\n",
       "      <td>10473</td>\n",
       "      <td>NaN</td>\n",
       "      <td>2 star</td>\n",
       "      <td>9833</td>\n",
       "      <td>Prepaid Card</td>\n",
       "    </tr>\n",
       "    <tr>\n",
       "      <th>3</th>\n",
       "      <td>10474</td>\n",
       "      <td>dresses</td>\n",
       "      <td>2star</td>\n",
       "      <td>7591</td>\n",
       "      <td>Directdeposit</td>\n",
       "    </tr>\n",
       "    <tr>\n",
       "      <th>4</th>\n",
       "      <td>10475</td>\n",
       "      <td>pantas</td>\n",
       "      <td>1 start</td>\n",
       "      <td>5131</td>\n",
       "      <td>NaN</td>\n",
       "    </tr>\n",
       "  </tbody>\n",
       "</table>\n",
       "</div>"
      ],
      "text/plain": [
       "   CustomerID ProductType   Rating  Total_Ratings    PaymentMode\n",
       "0       10471      coates  1 start           8736     Creditcard\n",
       "1       10472    dresses    2 star           8547        Ewallet\n",
       "2       10473         NaN   2 star           9833   Prepaid Card\n",
       "3       10474    dresses     2star           7591  Directdeposit\n",
       "4       10475      pantas  1 start           5131            NaN"
      ]
     },
     "execution_count": 9,
     "metadata": {},
     "output_type": "execute_result"
    }
   ],
   "source": [
    "cld_data.head()"
   ]
  },
  {
   "cell_type": "code",
   "execution_count": 10,
   "metadata": {},
   "outputs": [
    {
     "data": {
      "text/plain": [
       "((100, 2), (100, 5), (100, 6))"
      ]
     },
     "execution_count": 10,
     "metadata": {},
     "output_type": "execute_result"
    }
   ],
   "source": [
    "# Checking shape of all the DataFrames\n",
    "lcl_data.shape,cld_data.shape,on_premise_db.shape"
   ]
  },
  {
   "cell_type": "code",
   "execution_count": 11,
   "metadata": {},
   "outputs": [],
   "source": [
    "# Remove the columns CustomerID from other two DataFrames as they are present in cld_data\n",
    "lcl_data.drop('CustomerID',axis=1,inplace=True)\n",
    "on_premise_db.drop('CustomerID',axis=1,inplace=True)"
   ]
  },
  {
   "cell_type": "markdown",
   "metadata": {},
   "source": [
    "Now, we have to merge them into one single file so that Robin can analyze the data."
   ]
  },
  {
   "cell_type": "code",
   "execution_count": 12,
   "metadata": {},
   "outputs": [],
   "source": [
    "data=pd.concat([cld_data,on_premise_db,lcl_data],axis=1)"
   ]
  },
  {
   "cell_type": "code",
   "execution_count": 13,
   "metadata": {},
   "outputs": [
    {
     "data": {
      "text/plain": [
       "(100, 11)"
      ]
     },
     "execution_count": 13,
     "metadata": {},
     "output_type": "execute_result"
    }
   ],
   "source": [
    "data.shape"
   ]
  },
  {
   "cell_type": "code",
   "execution_count": 14,
   "metadata": {},
   "outputs": [
    {
     "data": {
      "text/html": [
       "<div>\n",
       "<style scoped>\n",
       "    .dataframe tbody tr th:only-of-type {\n",
       "        vertical-align: middle;\n",
       "    }\n",
       "\n",
       "    .dataframe tbody tr th {\n",
       "        vertical-align: top;\n",
       "    }\n",
       "\n",
       "    .dataframe thead th {\n",
       "        text-align: right;\n",
       "    }\n",
       "</style>\n",
       "<table border=\"1\" class=\"dataframe\">\n",
       "  <thead>\n",
       "    <tr style=\"text-align: right;\">\n",
       "      <th></th>\n",
       "      <th>CustomerID</th>\n",
       "      <th>ProductType</th>\n",
       "      <th>Rating</th>\n",
       "      <th>Total_Ratings</th>\n",
       "      <th>PaymentMode</th>\n",
       "      <th>Date</th>\n",
       "      <th>PaymentMode</th>\n",
       "      <th>ShippingMode</th>\n",
       "      <th>Gender</th>\n",
       "      <th>ShippingTime</th>\n",
       "      <th>Price</th>\n",
       "    </tr>\n",
       "  </thead>\n",
       "  <tbody>\n",
       "    <tr>\n",
       "      <th>0</th>\n",
       "      <td>10471</td>\n",
       "      <td>coates</td>\n",
       "      <td>1 start</td>\n",
       "      <td>8736</td>\n",
       "      <td>Creditcard</td>\n",
       "      <td>16/08/20</td>\n",
       "      <td>Creditcard</td>\n",
       "      <td>Economy</td>\n",
       "      <td>Female</td>\n",
       "      <td>17.0</td>\n",
       "      <td>₹ 675036.2138626401</td>\n",
       "    </tr>\n",
       "    <tr>\n",
       "      <th>1</th>\n",
       "      <td>10472</td>\n",
       "      <td>dresses</td>\n",
       "      <td>2 star</td>\n",
       "      <td>8547</td>\n",
       "      <td>Ewallet</td>\n",
       "      <td>2/8/2020 0:00</td>\n",
       "      <td>Ewallet</td>\n",
       "      <td>Mail</td>\n",
       "      <td>Unspecified</td>\n",
       "      <td>12.0</td>\n",
       "      <td>€ 2,315.53</td>\n",
       "    </tr>\n",
       "    <tr>\n",
       "      <th>2</th>\n",
       "      <td>10473</td>\n",
       "      <td>NaN</td>\n",
       "      <td>2 star</td>\n",
       "      <td>9833</td>\n",
       "      <td>Prepaid Card</td>\n",
       "      <td>8/8/2020 0:00</td>\n",
       "      <td>Prepaid Card</td>\n",
       "      <td>Mail</td>\n",
       "      <td>None</td>\n",
       "      <td>10.0</td>\n",
       "      <td>₹ 611426.29122378</td>\n",
       "    </tr>\n",
       "    <tr>\n",
       "      <th>3</th>\n",
       "      <td>10474</td>\n",
       "      <td>dresses</td>\n",
       "      <td>2star</td>\n",
       "      <td>7591</td>\n",
       "      <td>Directdeposit</td>\n",
       "      <td>None</td>\n",
       "      <td>Directdeposit</td>\n",
       "      <td>Normal</td>\n",
       "      <td>Female</td>\n",
       "      <td>2133.0</td>\n",
       "      <td>₹ 210869.48083470002</td>\n",
       "    </tr>\n",
       "    <tr>\n",
       "      <th>4</th>\n",
       "      <td>10475</td>\n",
       "      <td>pantas</td>\n",
       "      <td>1 start</td>\n",
       "      <td>5131</td>\n",
       "      <td>NaN</td>\n",
       "      <td>24/08/20</td>\n",
       "      <td>None</td>\n",
       "      <td>Economy</td>\n",
       "      <td>Male</td>\n",
       "      <td>2133.0</td>\n",
       "      <td>₹ 679422.2811434</td>\n",
       "    </tr>\n",
       "  </tbody>\n",
       "</table>\n",
       "</div>"
      ],
      "text/plain": [
       "   CustomerID ProductType   Rating  Total_Ratings    PaymentMode  \\\n",
       "0       10471      coates  1 start           8736     Creditcard   \n",
       "1       10472    dresses    2 star           8547        Ewallet   \n",
       "2       10473         NaN   2 star           9833   Prepaid Card   \n",
       "3       10474    dresses     2star           7591  Directdeposit   \n",
       "4       10475      pantas  1 start           5131            NaN   \n",
       "\n",
       "            Date    PaymentMode ShippingMode       Gender  ShippingTime  \\\n",
       "0       16/08/20     Creditcard      Economy       Female          17.0   \n",
       "1  2/8/2020 0:00        Ewallet         Mail  Unspecified          12.0   \n",
       "2  8/8/2020 0:00   Prepaid Card         Mail         None          10.0   \n",
       "3           None  Directdeposit       Normal       Female        2133.0   \n",
       "4       24/08/20           None      Economy         Male        2133.0   \n",
       "\n",
       "                  Price  \n",
       "0   ₹ 675036.2138626401  \n",
       "1            € 2,315.53  \n",
       "2     ₹ 611426.29122378  \n",
       "3  ₹ 210869.48083470002  \n",
       "4      ₹ 679422.2811434  "
      ]
     },
     "execution_count": 14,
     "metadata": {},
     "output_type": "execute_result"
    }
   ],
   "source": [
    "data.head()"
   ]
  },
  {
   "cell_type": "code",
   "execution_count": 15,
   "metadata": {},
   "outputs": [],
   "source": [
    "data.reset_index(inplace=True)"
   ]
  },
  {
   "cell_type": "code",
   "execution_count": 16,
   "metadata": {},
   "outputs": [],
   "source": [
    "# Arrange the columns\n",
    "data=data[['Date','CustomerID','ProductType','Rating','Total_Ratings','Gender',\n",
    "                                'PaymentMode','ShippingMode','ShippingTime','Price']]"
   ]
  },
  {
   "cell_type": "code",
   "execution_count": 17,
   "metadata": {},
   "outputs": [
    {
     "data": {
      "text/html": [
       "<div>\n",
       "<style scoped>\n",
       "    .dataframe tbody tr th:only-of-type {\n",
       "        vertical-align: middle;\n",
       "    }\n",
       "\n",
       "    .dataframe tbody tr th {\n",
       "        vertical-align: top;\n",
       "    }\n",
       "\n",
       "    .dataframe thead th {\n",
       "        text-align: right;\n",
       "    }\n",
       "</style>\n",
       "<table border=\"1\" class=\"dataframe\">\n",
       "  <thead>\n",
       "    <tr style=\"text-align: right;\">\n",
       "      <th></th>\n",
       "      <th>Date</th>\n",
       "      <th>CustomerID</th>\n",
       "      <th>ProductType</th>\n",
       "      <th>Rating</th>\n",
       "      <th>Total_Ratings</th>\n",
       "      <th>Gender</th>\n",
       "      <th>PaymentMode</th>\n",
       "      <th>PaymentMode</th>\n",
       "      <th>ShippingMode</th>\n",
       "      <th>ShippingTime</th>\n",
       "      <th>Price</th>\n",
       "    </tr>\n",
       "  </thead>\n",
       "  <tbody>\n",
       "    <tr>\n",
       "      <th>0</th>\n",
       "      <td>16/08/20</td>\n",
       "      <td>10471</td>\n",
       "      <td>coates</td>\n",
       "      <td>1 start</td>\n",
       "      <td>8736</td>\n",
       "      <td>Female</td>\n",
       "      <td>Creditcard</td>\n",
       "      <td>Creditcard</td>\n",
       "      <td>Economy</td>\n",
       "      <td>17.0</td>\n",
       "      <td>₹ 675036.2138626401</td>\n",
       "    </tr>\n",
       "    <tr>\n",
       "      <th>1</th>\n",
       "      <td>2/8/2020 0:00</td>\n",
       "      <td>10472</td>\n",
       "      <td>dresses</td>\n",
       "      <td>2 star</td>\n",
       "      <td>8547</td>\n",
       "      <td>Unspecified</td>\n",
       "      <td>Ewallet</td>\n",
       "      <td>Ewallet</td>\n",
       "      <td>Mail</td>\n",
       "      <td>12.0</td>\n",
       "      <td>€ 2,315.53</td>\n",
       "    </tr>\n",
       "    <tr>\n",
       "      <th>2</th>\n",
       "      <td>8/8/2020 0:00</td>\n",
       "      <td>10473</td>\n",
       "      <td>NaN</td>\n",
       "      <td>2 star</td>\n",
       "      <td>9833</td>\n",
       "      <td>None</td>\n",
       "      <td>Prepaid Card</td>\n",
       "      <td>Prepaid Card</td>\n",
       "      <td>Mail</td>\n",
       "      <td>10.0</td>\n",
       "      <td>₹ 611426.29122378</td>\n",
       "    </tr>\n",
       "    <tr>\n",
       "      <th>3</th>\n",
       "      <td>None</td>\n",
       "      <td>10474</td>\n",
       "      <td>dresses</td>\n",
       "      <td>2star</td>\n",
       "      <td>7591</td>\n",
       "      <td>Female</td>\n",
       "      <td>Directdeposit</td>\n",
       "      <td>Directdeposit</td>\n",
       "      <td>Normal</td>\n",
       "      <td>2133.0</td>\n",
       "      <td>₹ 210869.48083470002</td>\n",
       "    </tr>\n",
       "    <tr>\n",
       "      <th>4</th>\n",
       "      <td>24/08/20</td>\n",
       "      <td>10475</td>\n",
       "      <td>pantas</td>\n",
       "      <td>1 start</td>\n",
       "      <td>5131</td>\n",
       "      <td>Male</td>\n",
       "      <td>NaN</td>\n",
       "      <td>None</td>\n",
       "      <td>Economy</td>\n",
       "      <td>2133.0</td>\n",
       "      <td>₹ 679422.2811434</td>\n",
       "    </tr>\n",
       "  </tbody>\n",
       "</table>\n",
       "</div>"
      ],
      "text/plain": [
       "            Date  CustomerID ProductType   Rating  Total_Ratings       Gender  \\\n",
       "0       16/08/20       10471      coates  1 start           8736       Female   \n",
       "1  2/8/2020 0:00       10472    dresses    2 star           8547  Unspecified   \n",
       "2  8/8/2020 0:00       10473         NaN   2 star           9833         None   \n",
       "3           None       10474    dresses     2star           7591       Female   \n",
       "4       24/08/20       10475      pantas  1 start           5131         Male   \n",
       "\n",
       "     PaymentMode    PaymentMode ShippingMode  ShippingTime  \\\n",
       "0     Creditcard     Creditcard      Economy          17.0   \n",
       "1        Ewallet        Ewallet         Mail          12.0   \n",
       "2   Prepaid Card   Prepaid Card         Mail          10.0   \n",
       "3  Directdeposit  Directdeposit       Normal        2133.0   \n",
       "4            NaN           None      Economy        2133.0   \n",
       "\n",
       "                  Price  \n",
       "0   ₹ 675036.2138626401  \n",
       "1            € 2,315.53  \n",
       "2     ₹ 611426.29122378  \n",
       "3  ₹ 210869.48083470002  \n",
       "4      ₹ 679422.2811434  "
      ]
     },
     "execution_count": 17,
     "metadata": {},
     "output_type": "execute_result"
    }
   ],
   "source": [
    "data.head()"
   ]
  },
  {
   "cell_type": "markdown",
   "metadata": {},
   "source": [
    "#### Data dictionary for the data"
   ]
  },
  {
   "attachments": {
    "image.png": {
     "image/png": "[encoded data removed]"
    }
   },
   "cell_type": "markdown",
   "metadata": {},
   "source": [
    "![image.png](attachment:image.png)"
   ]
  },
  {
   "cell_type": "code",
   "execution_count": 18,
   "metadata": {},
   "outputs": [],
   "source": [
    "# Saving the data\n",
    "data.to_csv('Bello_Customers.csv',index=False)"
   ]
  },
  {
   "cell_type": "markdown",
   "metadata": {},
   "source": [
    "### Duplicate Entries"
   ]
  },
  {
   "cell_type": "code",
   "execution_count": 19,
   "metadata": {},
   "outputs": [],
   "source": [
    "uncleaned=pd.read_csv('Bello_Customers.csv')"
   ]
  },
  {
   "cell_type": "code",
   "execution_count": 20,
   "metadata": {},
   "outputs": [],
   "source": [
    "data=uncleaned.copy()"
   ]
  },
  {
   "cell_type": "code",
   "execution_count": 21,
   "metadata": {},
   "outputs": [
    {
     "data": {
      "text/plain": [
       "0     False\n",
       "1     False\n",
       "2     False\n",
       "3     False\n",
       "4     False\n",
       "      ...  \n",
       "95    False\n",
       "96    False\n",
       "97    False\n",
       "98    False\n",
       "99    False\n",
       "Length: 100, dtype: bool"
      ]
     },
     "execution_count": 21,
     "metadata": {},
     "output_type": "execute_result"
    }
   ],
   "source": [
    "# Returns boolean series denoting duplicate rows\n",
    "data.duplicated()"
   ]
  },
  {
   "cell_type": "code",
   "execution_count": 22,
   "metadata": {},
   "outputs": [
    {
     "data": {
      "text/html": [
       "<div>\n",
       "<style scoped>\n",
       "    .dataframe tbody tr th:only-of-type {\n",
       "        vertical-align: middle;\n",
       "    }\n",
       "\n",
       "    .dataframe tbody tr th {\n",
       "        vertical-align: top;\n",
       "    }\n",
       "\n",
       "    .dataframe thead th {\n",
       "        text-align: right;\n",
       "    }\n",
       "</style>\n",
       "<table border=\"1\" class=\"dataframe\">\n",
       "  <thead>\n",
       "    <tr style=\"text-align: right;\">\n",
       "      <th></th>\n",
       "      <th>Date</th>\n",
       "      <th>CustomerID</th>\n",
       "      <th>ProductType</th>\n",
       "      <th>Rating</th>\n",
       "      <th>Total_Ratings</th>\n",
       "      <th>Gender</th>\n",
       "      <th>PaymentMode</th>\n",
       "      <th>PaymentMode.1</th>\n",
       "      <th>ShippingMode</th>\n",
       "      <th>ShippingTime</th>\n",
       "      <th>Price</th>\n",
       "    </tr>\n",
       "  </thead>\n",
       "  <tbody>\n",
       "    <tr>\n",
       "      <th>88</th>\n",
       "      <td>31/08/20</td>\n",
       "      <td>10558</td>\n",
       "      <td>coates</td>\n",
       "      <td>5 star</td>\n",
       "      <td>7007</td>\n",
       "      <td>Unspecified</td>\n",
       "      <td>Credit Card</td>\n",
       "      <td>Credit Card</td>\n",
       "      <td>Normal</td>\n",
       "      <td>11.0</td>\n",
       "      <td>₹ 234895.78095268</td>\n",
       "    </tr>\n",
       "    <tr>\n",
       "      <th>89</th>\n",
       "      <td>31/08/20</td>\n",
       "      <td>10558</td>\n",
       "      <td>coates</td>\n",
       "      <td>5 star</td>\n",
       "      <td>7007</td>\n",
       "      <td>Unspecified</td>\n",
       "      <td>Credit Card</td>\n",
       "      <td>Credit Card</td>\n",
       "      <td>Normal</td>\n",
       "      <td>11.0</td>\n",
       "      <td>₹ 234895.78095268</td>\n",
       "    </tr>\n",
       "  </tbody>\n",
       "</table>\n",
       "</div>"
      ],
      "text/plain": [
       "        Date  CustomerID ProductType  Rating  Total_Ratings       Gender  \\\n",
       "88  31/08/20       10558      coates  5 star           7007  Unspecified   \n",
       "89  31/08/20       10558      coates  5 star           7007  Unspecified   \n",
       "\n",
       "    PaymentMode PaymentMode.1 ShippingMode  ShippingTime              Price  \n",
       "88  Credit Card   Credit Card       Normal          11.0  ₹ 234895.78095268  \n",
       "89  Credit Card   Credit Card       Normal          11.0  ₹ 234895.78095268  "
      ]
     },
     "execution_count": 22,
     "metadata": {},
     "output_type": "execute_result"
    }
   ],
   "source": [
    "# Let's see which rows are duplicates\n",
    "data[data.duplicated()]"
   ]
  },
  {
   "cell_type": "code",
   "execution_count": 23,
   "metadata": {},
   "outputs": [
    {
     "data": {
      "text/plain": [
       "Date                      31/08/20\n",
       "CustomerID                   10558\n",
       "ProductType                 coates\n",
       "Rating                      5 star\n",
       "Total_Ratings                 7007\n",
       "Gender                 Unspecified\n",
       "PaymentMode            Credit Card\n",
       "PaymentMode.1          Credit Card\n",
       "ShippingMode                Normal\n",
       "ShippingTime                    11\n",
       "Price            ₹ 234895.78095268\n",
       "Name: 87, dtype: object"
      ]
     },
     "execution_count": 23,
     "metadata": {},
     "output_type": "execute_result"
    }
   ],
   "source": [
    "# original entry\n",
    "data.iloc[87,:]"
   ]
  },
  {
   "cell_type": "code",
   "execution_count": 24,
   "metadata": {},
   "outputs": [],
   "source": [
    "# Dropping duplicate entries where inplace attribute ensures that the change is updated in the DataFrame \n",
    "data.drop_duplicates(inplace=True)"
   ]
  },
  {
   "cell_type": "code",
   "execution_count": 25,
   "metadata": {},
   "outputs": [
    {
     "data": {
      "text/plain": [
       "756115"
      ]
     },
     "execution_count": 25,
     "metadata": {},
     "output_type": "execute_result"
    }
   ],
   "source": [
    "# What would be the total ratings if duplicates entries were there?\n",
    "uncleaned.Total_Ratings.sum()"
   ]
  },
  {
   "cell_type": "code",
   "execution_count": 26,
   "metadata": {},
   "outputs": [
    {
     "data": {
      "text/plain": [
       "742101"
      ]
     },
     "execution_count": 26,
     "metadata": {},
     "output_type": "execute_result"
    }
   ],
   "source": [
    "# Price after removing duplicate entries\n",
    "data.Total_Ratings.sum()"
   ]
  },
  {
   "cell_type": "code",
   "execution_count": 27,
   "metadata": {},
   "outputs": [
    {
     "data": {
      "text/plain": [
       "14014"
      ]
     },
     "execution_count": 27,
     "metadata": {},
     "output_type": "execute_result"
    }
   ],
   "source": [
    "# Difference between the ratings\n",
    "uncleaned.Total_Ratings.sum()-data.Total_Ratings.sum()"
   ]
  },
  {
   "cell_type": "markdown",
   "metadata": {},
   "source": [
    "Even the change after dropping duplicates seems very little, it generates inconsistent results and would have been harmful to the industry in the long run."
   ]
  },
  {
   "cell_type": "markdown",
   "metadata": {},
   "source": [
    "### Shipping Time"
   ]
  },
  {
   "cell_type": "code",
   "execution_count": 28,
   "metadata": {},
   "outputs": [
    {
     "data": {
      "text/plain": [
       "<matplotlib.axes._subplots.AxesSubplot at 0x7f6bf93cee80>"
      ]
     },
     "execution_count": 28,
     "metadata": {},
     "output_type": "execute_result"
    },
    {
     "data": {
      "image/png": "[encoded data removed]",
      "text/plain": [
       "<Figure size 432x288 with 1 Axes>"
      ]
     },
     "metadata": {
      "needs_background": "light"
     },
     "output_type": "display_data"
    }
   ],
   "source": [
    "# As discussed, we know that we can remove outliers using boxplot and IQR\n",
    "data.boxplot()"
   ]
  },
  {
   "cell_type": "markdown",
   "metadata": {},
   "source": [
    "As you can see there are 5 extreme entries in the data that should be removed. Shipping time cannot be negative as well."
   ]
  },
  {
   "cell_type": "code",
   "execution_count": 29,
   "metadata": {},
   "outputs": [],
   "source": [
    "# Pandas allows you to get quantiles using quantile function\n",
    "Q1 = data['ShippingTime'].quantile(0.25)\n",
    "Q3 = data['ShippingTime'].quantile(0.75)\n",
    "IQR = Q3 - Q1"
   ]
  },
  {
   "cell_type": "code",
   "execution_count": 30,
   "metadata": {},
   "outputs": [
    {
     "name": "stdout",
     "output_type": "stream",
     "text": [
      "The IQR value is 9.0\n"
     ]
    }
   ],
   "source": [
    "print('The IQR value is',IQR)"
   ]
  },
  {
   "cell_type": "code",
   "execution_count": 31,
   "metadata": {},
   "outputs": [],
   "source": [
    "# Let's see which entries are outliers\n",
    "outliers=data[(data.ShippingTime < (Q1 - 1.5 * IQR)) |(data.ShippingTime > (Q3 + 1.5 * IQR))]"
   ]
  },
  {
   "cell_type": "code",
   "execution_count": 32,
   "metadata": {},
   "outputs": [
    {
     "data": {
      "text/html": [
       "<div>\n",
       "<style scoped>\n",
       "    .dataframe tbody tr th:only-of-type {\n",
       "        vertical-align: middle;\n",
       "    }\n",
       "\n",
       "    .dataframe tbody tr th {\n",
       "        vertical-align: top;\n",
       "    }\n",
       "\n",
       "    .dataframe thead th {\n",
       "        text-align: right;\n",
       "    }\n",
       "</style>\n",
       "<table border=\"1\" class=\"dataframe\">\n",
       "  <thead>\n",
       "    <tr style=\"text-align: right;\">\n",
       "      <th></th>\n",
       "      <th>Date</th>\n",
       "      <th>CustomerID</th>\n",
       "      <th>ProductType</th>\n",
       "      <th>Rating</th>\n",
       "      <th>Total_Ratings</th>\n",
       "      <th>Gender</th>\n",
       "      <th>PaymentMode</th>\n",
       "      <th>PaymentMode.1</th>\n",
       "      <th>ShippingMode</th>\n",
       "      <th>ShippingTime</th>\n",
       "      <th>Price</th>\n",
       "    </tr>\n",
       "  </thead>\n",
       "  <tbody>\n",
       "    <tr>\n",
       "      <th>3</th>\n",
       "      <td>NaN</td>\n",
       "      <td>10474</td>\n",
       "      <td>dresses</td>\n",
       "      <td>2star</td>\n",
       "      <td>7591</td>\n",
       "      <td>Female</td>\n",
       "      <td>Directdeposit</td>\n",
       "      <td>Directdeposit</td>\n",
       "      <td>Normal</td>\n",
       "      <td>2133.0</td>\n",
       "      <td>₹ 210869.48083470002</td>\n",
       "    </tr>\n",
       "    <tr>\n",
       "      <th>4</th>\n",
       "      <td>24/08/20</td>\n",
       "      <td>10475</td>\n",
       "      <td>pantas</td>\n",
       "      <td>1 start</td>\n",
       "      <td>5131</td>\n",
       "      <td>Male</td>\n",
       "      <td>NaN</td>\n",
       "      <td>NaN</td>\n",
       "      <td>Economy</td>\n",
       "      <td>2133.0</td>\n",
       "      <td>₹ 679422.2811434</td>\n",
       "    </tr>\n",
       "    <tr>\n",
       "      <th>27</th>\n",
       "      <td>19/08/20</td>\n",
       "      <td>10498</td>\n",
       "      <td>Coats/Jackets</td>\n",
       "      <td>3 star</td>\n",
       "      <td>9297</td>\n",
       "      <td>Unspecified</td>\n",
       "      <td>Direct Deposit</td>\n",
       "      <td>Direct Deposit</td>\n",
       "      <td>Express</td>\n",
       "      <td>213.0</td>\n",
       "      <td>₹ 635118.07344224</td>\n",
       "    </tr>\n",
       "    <tr>\n",
       "      <th>43</th>\n",
       "      <td>14/08/20</td>\n",
       "      <td>10514</td>\n",
       "      <td>dresses</td>\n",
       "      <td>5 star</td>\n",
       "      <td>5567</td>\n",
       "      <td>Unspecified</td>\n",
       "      <td>Credit Card</td>\n",
       "      <td>Credit Card</td>\n",
       "      <td>Express</td>\n",
       "      <td>1321.0</td>\n",
       "      <td>€ 7,261.79</td>\n",
       "    </tr>\n",
       "    <tr>\n",
       "      <th>59</th>\n",
       "      <td>17/08/20</td>\n",
       "      <td>10530</td>\n",
       "      <td>Cardigan</td>\n",
       "      <td>4 star</td>\n",
       "      <td>6930</td>\n",
       "      <td>Female</td>\n",
       "      <td>Cash</td>\n",
       "      <td>Cash</td>\n",
       "      <td>Economy</td>\n",
       "      <td>3113.0</td>\n",
       "      <td>$8,670.69</td>\n",
       "    </tr>\n",
       "    <tr>\n",
       "      <th>71</th>\n",
       "      <td>20/08/20</td>\n",
       "      <td>10542</td>\n",
       "      <td>Hats</td>\n",
       "      <td>2star</td>\n",
       "      <td>9157</td>\n",
       "      <td>Male</td>\n",
       "      <td>Cash</td>\n",
       "      <td>Cash</td>\n",
       "      <td>Mail</td>\n",
       "      <td>3132.0</td>\n",
       "      <td>₹ 708227.40839738</td>\n",
       "    </tr>\n",
       "    <tr>\n",
       "      <th>98</th>\n",
       "      <td>26/08/20</td>\n",
       "      <td>10569</td>\n",
       "      <td>Pants</td>\n",
       "      <td>5 star</td>\n",
       "      <td>5200</td>\n",
       "      <td>Male</td>\n",
       "      <td>Directdeposit</td>\n",
       "      <td>Directdeposit</td>\n",
       "      <td>Economy</td>\n",
       "      <td>-2131.0</td>\n",
       "      <td>£ 4118.0053827500005</td>\n",
       "    </tr>\n",
       "  </tbody>\n",
       "</table>\n",
       "</div>"
      ],
      "text/plain": [
       "        Date  CustomerID    ProductType   Rating  Total_Ratings       Gender  \\\n",
       "3        NaN       10474       dresses     2star           7591       Female   \n",
       "4   24/08/20       10475         pantas  1 start           5131         Male   \n",
       "27  19/08/20       10498  Coats/Jackets   3 star           9297  Unspecified   \n",
       "43  14/08/20       10514       dresses    5 star           5567  Unspecified   \n",
       "59  17/08/20       10530       Cardigan   4 star           6930       Female   \n",
       "71  20/08/20       10542           Hats    2star           9157         Male   \n",
       "98  26/08/20       10569          Pants   5 star           5200         Male   \n",
       "\n",
       "       PaymentMode   PaymentMode.1 ShippingMode  ShippingTime  \\\n",
       "3    Directdeposit   Directdeposit       Normal        2133.0   \n",
       "4              NaN             NaN      Economy        2133.0   \n",
       "27  Direct Deposit  Direct Deposit      Express         213.0   \n",
       "43     Credit Card     Credit Card      Express        1321.0   \n",
       "59            Cash            Cash      Economy        3113.0   \n",
       "71            Cash            Cash         Mail        3132.0   \n",
       "98   Directdeposit   Directdeposit      Economy       -2131.0   \n",
       "\n",
       "                   Price  \n",
       "3   ₹ 210869.48083470002  \n",
       "4       ₹ 679422.2811434  \n",
       "27     ₹ 635118.07344224  \n",
       "43            € 7,261.79  \n",
       "59            $8,670.69   \n",
       "71     ₹ 708227.40839738  \n",
       "98  £ 4118.0053827500005  "
      ]
     },
     "execution_count": 32,
     "metadata": {},
     "output_type": "execute_result"
    }
   ],
   "source": [
    "outliers"
   ]
  },
  {
   "cell_type": "code",
   "execution_count": 33,
   "metadata": {},
   "outputs": [],
   "source": [
    "# Dropping these entries\n",
    "data.drop([3,4,27,43,59,71,98],axis=0,inplace=True)"
   ]
  },
  {
   "cell_type": "code",
   "execution_count": 34,
   "metadata": {},
   "outputs": [
    {
     "data": {
      "text/plain": [
       "<matplotlib.axes._subplots.AxesSubplot at 0x7f6bf8f9f0a0>"
      ]
     },
     "execution_count": 34,
     "metadata": {},
     "output_type": "execute_result"
    },
    {
     "data": {
      "image/png": "[encoded data removed]",
      "text/plain": [
       "<Figure size 432x288 with 1 Axes>"
      ]
     },
     "metadata": {
      "needs_background": "light"
     },
     "output_type": "display_data"
    }
   ],
   "source": [
    "# No outliers present in the data\n",
    "data.boxplot(column='ShippingTime') # You can also specify the names of columns you want to plot for."
   ]
  },
  {
   "cell_type": "code",
   "execution_count": 35,
   "metadata": {},
   "outputs": [
    {
     "name": "stdout",
     "output_type": "stream",
     "text": [
      "Before:  112.02\n",
      "After:  12.822\n",
      "Difference:  99.198\n"
     ]
    }
   ],
   "source": [
    "# Let's check the total shipping time before and after remvoging outliers\n",
    "print('Before: ', round(uncleaned.ShippingTime.mean(),3))\n",
    "print('After: ',round(data.ShippingTime.mean(),3))\n",
    "print('Difference: ',round(uncleaned.ShippingTime.mean()-data.ShippingTime.mean(),3))"
   ]
  },
  {
   "cell_type": "markdown",
   "metadata": {},
   "source": [
    "That is really extreme change in values. This would have caused serious harm to the company."
   ]
  },
  {
   "cell_type": "markdown",
   "metadata": {},
   "source": [
    "### Empty Records/Values"
   ]
  },
  {
   "cell_type": "code",
   "execution_count": 36,
   "metadata": {},
   "outputs": [
    {
     "data": {
      "text/plain": [
       "True"
      ]
     },
     "execution_count": 36,
     "metadata": {},
     "output_type": "execute_result"
    }
   ],
   "source": [
    "# Let's see if there are any null values or not\n",
    "data.isnull().values.any()"
   ]
  },
  {
   "cell_type": "code",
   "execution_count": 37,
   "metadata": {},
   "outputs": [],
   "source": [
    "# Preparing a function that returns information on missing values\n",
    "def check_miss(data):\n",
    "    '''\n",
    "    Returns a sorted DataFrame that contains information about missing values in each column.\n",
    "    Null Values: Either the column has null values or not.\n",
    "    Count_Nulls: Number of null values\n",
    "    Percentage_Nulls: Percentage of null values\n",
    "    '''\n",
    "    cnull=[sum(data[y].isnull()) for y in data.columns]\n",
    "    miss=pd.DataFrame({'Col_name':data.columns,'Null Values':\n",
    "                        [any(data[x].isnull()) for x in data.columns],\n",
    "                    'Count_Nulls':cnull,\n",
    "                    'Percentage_Nulls':list((np.array(cnull)*100)/data.shape[0]),\n",
    "                    'DataType':list(data[x].dtype for x in data.columns)\n",
    "                      })\n",
    "    return miss.sort_values(by='Count_Nulls',ascending=False)"
   ]
  },
  {
   "cell_type": "code",
   "execution_count": 38,
   "metadata": {},
   "outputs": [
    {
     "data": {
      "text/html": [
       "<div>\n",
       "<style scoped>\n",
       "    .dataframe tbody tr th:only-of-type {\n",
       "        vertical-align: middle;\n",
       "    }\n",
       "\n",
       "    .dataframe tbody tr th {\n",
       "        vertical-align: top;\n",
       "    }\n",
       "\n",
       "    .dataframe thead th {\n",
       "        text-align: right;\n",
       "    }\n",
       "</style>\n",
       "<table border=\"1\" class=\"dataframe\">\n",
       "  <thead>\n",
       "    <tr style=\"text-align: right;\">\n",
       "      <th></th>\n",
       "      <th>Col_name</th>\n",
       "      <th>Null Values</th>\n",
       "      <th>Count_Nulls</th>\n",
       "      <th>Percentage_Nulls</th>\n",
       "      <th>DataType</th>\n",
       "    </tr>\n",
       "  </thead>\n",
       "  <tbody>\n",
       "    <tr>\n",
       "      <th>3</th>\n",
       "      <td>Rating</td>\n",
       "      <td>True</td>\n",
       "      <td>6</td>\n",
       "      <td>6.593407</td>\n",
       "      <td>object</td>\n",
       "    </tr>\n",
       "    <tr>\n",
       "      <th>5</th>\n",
       "      <td>Gender</td>\n",
       "      <td>True</td>\n",
       "      <td>5</td>\n",
       "      <td>5.494505</td>\n",
       "      <td>object</td>\n",
       "    </tr>\n",
       "    <tr>\n",
       "      <th>6</th>\n",
       "      <td>PaymentMode</td>\n",
       "      <td>True</td>\n",
       "      <td>5</td>\n",
       "      <td>5.494505</td>\n",
       "      <td>object</td>\n",
       "    </tr>\n",
       "    <tr>\n",
       "      <th>7</th>\n",
       "      <td>PaymentMode.1</td>\n",
       "      <td>True</td>\n",
       "      <td>5</td>\n",
       "      <td>5.494505</td>\n",
       "      <td>object</td>\n",
       "    </tr>\n",
       "    <tr>\n",
       "      <th>2</th>\n",
       "      <td>ProductType</td>\n",
       "      <td>True</td>\n",
       "      <td>4</td>\n",
       "      <td>4.395604</td>\n",
       "      <td>object</td>\n",
       "    </tr>\n",
       "    <tr>\n",
       "      <th>8</th>\n",
       "      <td>ShippingMode</td>\n",
       "      <td>True</td>\n",
       "      <td>3</td>\n",
       "      <td>3.296703</td>\n",
       "      <td>object</td>\n",
       "    </tr>\n",
       "    <tr>\n",
       "      <th>9</th>\n",
       "      <td>ShippingTime</td>\n",
       "      <td>True</td>\n",
       "      <td>1</td>\n",
       "      <td>1.098901</td>\n",
       "      <td>float64</td>\n",
       "    </tr>\n",
       "    <tr>\n",
       "      <th>10</th>\n",
       "      <td>Price</td>\n",
       "      <td>True</td>\n",
       "      <td>1</td>\n",
       "      <td>1.098901</td>\n",
       "      <td>object</td>\n",
       "    </tr>\n",
       "    <tr>\n",
       "      <th>0</th>\n",
       "      <td>Date</td>\n",
       "      <td>False</td>\n",
       "      <td>0</td>\n",
       "      <td>0.000000</td>\n",
       "      <td>object</td>\n",
       "    </tr>\n",
       "    <tr>\n",
       "      <th>1</th>\n",
       "      <td>CustomerID</td>\n",
       "      <td>False</td>\n",
       "      <td>0</td>\n",
       "      <td>0.000000</td>\n",
       "      <td>int64</td>\n",
       "    </tr>\n",
       "    <tr>\n",
       "      <th>4</th>\n",
       "      <td>Total_Ratings</td>\n",
       "      <td>False</td>\n",
       "      <td>0</td>\n",
       "      <td>0.000000</td>\n",
       "      <td>int64</td>\n",
       "    </tr>\n",
       "  </tbody>\n",
       "</table>\n",
       "</div>"
      ],
      "text/plain": [
       "         Col_name  Null Values  Count_Nulls  Percentage_Nulls DataType\n",
       "3          Rating         True            6          6.593407   object\n",
       "5          Gender         True            5          5.494505   object\n",
       "6     PaymentMode         True            5          5.494505   object\n",
       "7   PaymentMode.1         True            5          5.494505   object\n",
       "2     ProductType         True            4          4.395604   object\n",
       "8    ShippingMode         True            3          3.296703   object\n",
       "9    ShippingTime         True            1          1.098901  float64\n",
       "10          Price         True            1          1.098901   object\n",
       "0            Date        False            0          0.000000   object\n",
       "1      CustomerID        False            0          0.000000    int64\n",
       "4   Total_Ratings        False            0          0.000000    int64"
      ]
     },
     "execution_count": 38,
     "metadata": {},
     "output_type": "execute_result"
    }
   ],
   "source": [
    "check_miss(data)"
   ]
  },
  {
   "cell_type": "markdown",
   "metadata": {},
   "source": [
    "Almost every column has missing values."
   ]
  },
  {
   "cell_type": "code",
   "execution_count": 39,
   "metadata": {},
   "outputs": [
    {
     "data": {
      "text/html": [
       "<div>\n",
       "<style scoped>\n",
       "    .dataframe tbody tr th:only-of-type {\n",
       "        vertical-align: middle;\n",
       "    }\n",
       "\n",
       "    .dataframe tbody tr th {\n",
       "        vertical-align: top;\n",
       "    }\n",
       "\n",
       "    .dataframe thead th {\n",
       "        text-align: right;\n",
       "    }\n",
       "</style>\n",
       "<table border=\"1\" class=\"dataframe\">\n",
       "  <thead>\n",
       "    <tr style=\"text-align: right;\">\n",
       "      <th></th>\n",
       "      <th>Date</th>\n",
       "      <th>CustomerID</th>\n",
       "      <th>ProductType</th>\n",
       "      <th>Rating</th>\n",
       "      <th>Total_Ratings</th>\n",
       "      <th>Gender</th>\n",
       "      <th>PaymentMode</th>\n",
       "      <th>PaymentMode.1</th>\n",
       "      <th>ShippingMode</th>\n",
       "      <th>ShippingTime</th>\n",
       "      <th>Price</th>\n",
       "    </tr>\n",
       "  </thead>\n",
       "  <tbody>\n",
       "  </tbody>\n",
       "</table>\n",
       "</div>"
      ],
      "text/plain": [
       "Empty DataFrame\n",
       "Columns: [Date, CustomerID, ProductType, Rating, Total_Ratings, Gender, PaymentMode, PaymentMode.1, ShippingMode, ShippingTime, Price]\n",
       "Index: []"
      ]
     },
     "execution_count": 39,
     "metadata": {},
     "output_type": "execute_result"
    }
   ],
   "source": [
    "# Data with no dates should be deleted \n",
    "# It seams we have already dealt with the data with no dates\n",
    "data[data.Date.isna()]"
   ]
  },
  {
   "cell_type": "markdown",
   "metadata": {},
   "source": [
    "##### Missingno Library"
   ]
  },
  {
   "cell_type": "code",
   "execution_count": 40,
   "metadata": {},
   "outputs": [],
   "source": [
    "# Please wait while the library is installed\n",
    "!pip install missingno --quiet --disable-pip-version-check"
   ]
  },
  {
   "cell_type": "code",
   "execution_count": 41,
   "metadata": {},
   "outputs": [],
   "source": [
    "import missingno as mn"
   ]
  },
  {
   "cell_type": "code",
   "execution_count": 42,
   "metadata": {},
   "outputs": [
    {
     "data": {
      "text/plain": [
       "<matplotlib.axes._subplots.AxesSubplot at 0x7f6be933e580>"
      ]
     },
     "execution_count": 42,
     "metadata": {},
     "output_type": "execute_result"
    },
    {
     "data": {
      "image/png": "[encoded data removed]",
      "text/plain": [
       "<Figure size 1800x720 with 2 Axes>"
      ]
     },
     "metadata": {
      "needs_background": "light"
     },
     "output_type": "display_data"
    }
   ],
   "source": [
    "mn.matrix(data)"
   ]
  },
  {
   "cell_type": "code",
   "execution_count": 43,
   "metadata": {},
   "outputs": [
    {
     "name": "stdout",
     "output_type": "stream",
     "text": [
      "<class 'pandas.core.frame.DataFrame'>\n",
      "Int64Index: 91 entries, 0 to 99\n",
      "Data columns (total 11 columns):\n",
      " #   Column         Non-Null Count  Dtype  \n",
      "---  ------         --------------  -----  \n",
      " 0   Date           91 non-null     object \n",
      " 1   CustomerID     91 non-null     int64  \n",
      " 2   ProductType    87 non-null     object \n",
      " 3   Rating         85 non-null     object \n",
      " 4   Total_Ratings  91 non-null     int64  \n",
      " 5   Gender         86 non-null     object \n",
      " 6   PaymentMode    86 non-null     object \n",
      " 7   PaymentMode.1  86 non-null     object \n",
      " 8   ShippingMode   88 non-null     object \n",
      " 9   ShippingTime   90 non-null     float64\n",
      " 10  Price          90 non-null     object \n",
      "dtypes: float64(1), int64(2), object(8)\n",
      "memory usage: 8.5+ KB\n"
     ]
    }
   ],
   "source": [
    "data.info()"
   ]
  },
  {
   "cell_type": "code",
   "execution_count": 44,
   "metadata": {},
   "outputs": [],
   "source": [
    "# First we have to change the DataTypes for all the required columns\n",
    "data.ProductType=data.ProductType.astype('string')\n",
    "data.PaymentMode=data.PaymentMode.astype('string')\n",
    "data.Rating=data.Rating.astype('category')\n",
    "data.Gender=data.Gender.astype('category')\n",
    "data.PaymentMode=data.PaymentMode.astype('category')\n",
    "data.ShippingMode=data.ShippingMode.astype('string')\n",
    "data.Price=data.Price.astype('string')"
   ]
  },
  {
   "cell_type": "code",
   "execution_count": 45,
   "metadata": {},
   "outputs": [],
   "source": [
    "# ProductType, and PaymentMode can be filled with mode\n",
    "# While State can be filled with NA, Gender with Unspecified\n",
    "# We can fill Price with mean values as we have made a sale for that day\n",
    "data.ProductType.fillna(data.ProductType.mode()[0],inplace=True)\n",
    "data.PaymentMode.fillna(data.PaymentMode.mode()[0],inplace=True)\n",
    "data.Gender.fillna('Unspecified',inplace=True)\n",
    "data.Rating.fillna(data.Rating.mode()[0],inplace=True)\n",
    "data.ShippingMode.fillna(data.ShippingMode.mode()[0],inplace=True)\n",
    "data.ShippingTime.fillna(data.ShippingTime.mean(),inplace=True)"
   ]
  },
  {
   "cell_type": "code",
   "execution_count": 46,
   "metadata": {},
   "outputs": [
    {
     "data": {
      "text/html": [
       "<div>\n",
       "<style scoped>\n",
       "    .dataframe tbody tr th:only-of-type {\n",
       "        vertical-align: middle;\n",
       "    }\n",
       "\n",
       "    .dataframe tbody tr th {\n",
       "        vertical-align: top;\n",
       "    }\n",
       "\n",
       "    .dataframe thead th {\n",
       "        text-align: right;\n",
       "    }\n",
       "</style>\n",
       "<table border=\"1\" class=\"dataframe\">\n",
       "  <thead>\n",
       "    <tr style=\"text-align: right;\">\n",
       "      <th></th>\n",
       "      <th>Col_name</th>\n",
       "      <th>Null Values</th>\n",
       "      <th>Count_Nulls</th>\n",
       "      <th>Percentage_Nulls</th>\n",
       "      <th>DataType</th>\n",
       "    </tr>\n",
       "  </thead>\n",
       "  <tbody>\n",
       "    <tr>\n",
       "      <th>7</th>\n",
       "      <td>PaymentMode.1</td>\n",
       "      <td>True</td>\n",
       "      <td>5</td>\n",
       "      <td>5.494505</td>\n",
       "      <td>object</td>\n",
       "    </tr>\n",
       "    <tr>\n",
       "      <th>10</th>\n",
       "      <td>Price</td>\n",
       "      <td>True</td>\n",
       "      <td>1</td>\n",
       "      <td>1.098901</td>\n",
       "      <td>string</td>\n",
       "    </tr>\n",
       "    <tr>\n",
       "      <th>0</th>\n",
       "      <td>Date</td>\n",
       "      <td>False</td>\n",
       "      <td>0</td>\n",
       "      <td>0.000000</td>\n",
       "      <td>object</td>\n",
       "    </tr>\n",
       "    <tr>\n",
       "      <th>1</th>\n",
       "      <td>CustomerID</td>\n",
       "      <td>False</td>\n",
       "      <td>0</td>\n",
       "      <td>0.000000</td>\n",
       "      <td>int64</td>\n",
       "    </tr>\n",
       "    <tr>\n",
       "      <th>2</th>\n",
       "      <td>ProductType</td>\n",
       "      <td>False</td>\n",
       "      <td>0</td>\n",
       "      <td>0.000000</td>\n",
       "      <td>string</td>\n",
       "    </tr>\n",
       "    <tr>\n",
       "      <th>3</th>\n",
       "      <td>Rating</td>\n",
       "      <td>False</td>\n",
       "      <td>0</td>\n",
       "      <td>0.000000</td>\n",
       "      <td>category</td>\n",
       "    </tr>\n",
       "    <tr>\n",
       "      <th>4</th>\n",
       "      <td>Total_Ratings</td>\n",
       "      <td>False</td>\n",
       "      <td>0</td>\n",
       "      <td>0.000000</td>\n",
       "      <td>int64</td>\n",
       "    </tr>\n",
       "    <tr>\n",
       "      <th>5</th>\n",
       "      <td>Gender</td>\n",
       "      <td>False</td>\n",
       "      <td>0</td>\n",
       "      <td>0.000000</td>\n",
       "      <td>category</td>\n",
       "    </tr>\n",
       "    <tr>\n",
       "      <th>6</th>\n",
       "      <td>PaymentMode</td>\n",
       "      <td>False</td>\n",
       "      <td>0</td>\n",
       "      <td>0.000000</td>\n",
       "      <td>category</td>\n",
       "    </tr>\n",
       "    <tr>\n",
       "      <th>8</th>\n",
       "      <td>ShippingMode</td>\n",
       "      <td>False</td>\n",
       "      <td>0</td>\n",
       "      <td>0.000000</td>\n",
       "      <td>string</td>\n",
       "    </tr>\n",
       "    <tr>\n",
       "      <th>9</th>\n",
       "      <td>ShippingTime</td>\n",
       "      <td>False</td>\n",
       "      <td>0</td>\n",
       "      <td>0.000000</td>\n",
       "      <td>float64</td>\n",
       "    </tr>\n",
       "  </tbody>\n",
       "</table>\n",
       "</div>"
      ],
      "text/plain": [
       "         Col_name  Null Values  Count_Nulls  Percentage_Nulls  DataType\n",
       "7   PaymentMode.1         True            5          5.494505    object\n",
       "10          Price         True            1          1.098901    string\n",
       "0            Date        False            0          0.000000    object\n",
       "1      CustomerID        False            0          0.000000     int64\n",
       "2     ProductType        False            0          0.000000    string\n",
       "3          Rating        False            0          0.000000  category\n",
       "4   Total_Ratings        False            0          0.000000     int64\n",
       "5          Gender        False            0          0.000000  category\n",
       "6     PaymentMode        False            0          0.000000  category\n",
       "8    ShippingMode        False            0          0.000000    string\n",
       "9    ShippingTime        False            0          0.000000   float64"
      ]
     },
     "execution_count": 46,
     "metadata": {},
     "output_type": "execute_result"
    }
   ],
   "source": [
    "# Checking for missing data again\n",
    "check_miss(data)"
   ]
  },
  {
   "cell_type": "code",
   "execution_count": 47,
   "metadata": {},
   "outputs": [
    {
     "name": "stdout",
     "output_type": "stream",
     "text": [
      "ProductType Before:  ['coates' 'dresses ' nan 'pantas' 'Coats/Jackets' 'Jeans' 'Pants'\n",
      " 'Cardigan' 'Dresses' 'Shirts/Tops' 'Hats']\n"
     ]
    }
   ],
   "source": [
    "# What if we used unclean data? How many Product Types would be?\n",
    "print('ProductType Before: ',uncleaned.ProductType.unique())"
   ]
  },
  {
   "cell_type": "code",
   "execution_count": 48,
   "metadata": {},
   "outputs": [
    {
     "name": "stdout",
     "output_type": "stream",
     "text": [
      "ProductType After:  <StringArray>\n",
      "[       'coates',      'dresses ', 'Coats/Jackets',         'Jeans',\n",
      "        'pantas',         'Pants',      'Cardigan',       'Dresses',\n",
      "   'Shirts/Tops',          'Hats']\n",
      "Length: 10, dtype: string\n"
     ]
    }
   ],
   "source": [
    "print('ProductType After: ',data.ProductType.unique())"
   ]
  },
  {
   "cell_type": "markdown",
   "metadata": {},
   "source": [
    "We had an additional product type which is nan(np.nan/null value). This would have created inconsistencies in analysis. We still have to fill empty Price column but it is quite hard due to different currencies."
   ]
  },
  {
   "cell_type": "markdown",
   "metadata": {},
   "source": [
    "### Manipulating Values"
   ]
  },
  {
   "cell_type": "markdown",
   "metadata": {},
   "source": [
    "There are typos in the ProductType. There can be in other categorical columns as well."
   ]
  },
  {
   "cell_type": "code",
   "execution_count": 49,
   "metadata": {},
   "outputs": [
    {
     "data": {
      "text/html": [
       "<div>\n",
       "<style scoped>\n",
       "    .dataframe tbody tr th:only-of-type {\n",
       "        vertical-align: middle;\n",
       "    }\n",
       "\n",
       "    .dataframe tbody tr th {\n",
       "        vertical-align: top;\n",
       "    }\n",
       "\n",
       "    .dataframe thead th {\n",
       "        text-align: right;\n",
       "    }\n",
       "</style>\n",
       "<table border=\"1\" class=\"dataframe\">\n",
       "  <thead>\n",
       "    <tr style=\"text-align: right;\">\n",
       "      <th></th>\n",
       "      <th>Date</th>\n",
       "      <th>CustomerID</th>\n",
       "      <th>ProductType</th>\n",
       "      <th>Rating</th>\n",
       "      <th>Total_Ratings</th>\n",
       "      <th>Gender</th>\n",
       "      <th>PaymentMode</th>\n",
       "      <th>PaymentMode.1</th>\n",
       "      <th>ShippingMode</th>\n",
       "      <th>ShippingTime</th>\n",
       "      <th>Price</th>\n",
       "    </tr>\n",
       "  </thead>\n",
       "  <tbody>\n",
       "    <tr>\n",
       "      <th>0</th>\n",
       "      <td>16/08/20</td>\n",
       "      <td>10471</td>\n",
       "      <td>coates</td>\n",
       "      <td>1 start</td>\n",
       "      <td>8736</td>\n",
       "      <td>Female</td>\n",
       "      <td>Creditcard</td>\n",
       "      <td>Creditcard</td>\n",
       "      <td>Economy</td>\n",
       "      <td>17.0</td>\n",
       "      <td>₹ 675036.2138626401</td>\n",
       "    </tr>\n",
       "    <tr>\n",
       "      <th>1</th>\n",
       "      <td>2/8/2020 0:00</td>\n",
       "      <td>10472</td>\n",
       "      <td>dresses</td>\n",
       "      <td>2 star</td>\n",
       "      <td>8547</td>\n",
       "      <td>Unspecified</td>\n",
       "      <td>Ewallet</td>\n",
       "      <td>Ewallet</td>\n",
       "      <td>Mail</td>\n",
       "      <td>12.0</td>\n",
       "      <td>€ 2,315.53</td>\n",
       "    </tr>\n",
       "    <tr>\n",
       "      <th>2</th>\n",
       "      <td>8/8/2020 0:00</td>\n",
       "      <td>10473</td>\n",
       "      <td>coates</td>\n",
       "      <td>2 star</td>\n",
       "      <td>9833</td>\n",
       "      <td>Unspecified</td>\n",
       "      <td>Prepaid Card</td>\n",
       "      <td>Prepaid Card</td>\n",
       "      <td>Mail</td>\n",
       "      <td>10.0</td>\n",
       "      <td>₹ 611426.29122378</td>\n",
       "    </tr>\n",
       "    <tr>\n",
       "      <th>5</th>\n",
       "      <td>28/08/20</td>\n",
       "      <td>10476</td>\n",
       "      <td>Coats/Jackets</td>\n",
       "      <td>2 star</td>\n",
       "      <td>5347</td>\n",
       "      <td>Female</td>\n",
       "      <td>Direct Deposit</td>\n",
       "      <td>Direct Deposit</td>\n",
       "      <td>Mail</td>\n",
       "      <td>20.0</td>\n",
       "      <td>&lt;NA&gt;</td>\n",
       "    </tr>\n",
       "    <tr>\n",
       "      <th>6</th>\n",
       "      <td>8/8/2020 0:00</td>\n",
       "      <td>10477</td>\n",
       "      <td>coates</td>\n",
       "      <td>5 star</td>\n",
       "      <td>9406</td>\n",
       "      <td>Unspecified</td>\n",
       "      <td>Direct Deposit</td>\n",
       "      <td>Direct Deposit</td>\n",
       "      <td>Mail</td>\n",
       "      <td>14.0</td>\n",
       "      <td>£ 6610.077565000001</td>\n",
       "    </tr>\n",
       "  </tbody>\n",
       "</table>\n",
       "</div>"
      ],
      "text/plain": [
       "            Date  CustomerID    ProductType   Rating  Total_Ratings  \\\n",
       "0       16/08/20       10471         coates  1 start           8736   \n",
       "1  2/8/2020 0:00       10472       dresses    2 star           8547   \n",
       "2  8/8/2020 0:00       10473         coates   2 star           9833   \n",
       "5       28/08/20       10476  Coats/Jackets   2 star           5347   \n",
       "6  8/8/2020 0:00       10477         coates   5 star           9406   \n",
       "\n",
       "        Gender     PaymentMode   PaymentMode.1 ShippingMode  ShippingTime  \\\n",
       "0       Female      Creditcard      Creditcard      Economy          17.0   \n",
       "1  Unspecified         Ewallet         Ewallet         Mail          12.0   \n",
       "2  Unspecified    Prepaid Card    Prepaid Card         Mail          10.0   \n",
       "5       Female  Direct Deposit  Direct Deposit         Mail          20.0   \n",
       "6  Unspecified  Direct Deposit  Direct Deposit         Mail          14.0   \n",
       "\n",
       "                 Price  \n",
       "0  ₹ 675036.2138626401  \n",
       "1           € 2,315.53  \n",
       "2    ₹ 611426.29122378  \n",
       "5                 <NA>  \n",
       "6  £ 6610.077565000001  "
      ]
     },
     "execution_count": 49,
     "metadata": {},
     "output_type": "execute_result"
    }
   ],
   "source": [
    "data.head()"
   ]
  },
  {
   "cell_type": "code",
   "execution_count": 50,
   "metadata": {},
   "outputs": [],
   "source": [
    "def find_unique(data,cols):\n",
    "    '''\n",
    "    Returns a DataFrame that contains information about unique values for the column names provided.\n",
    "    data: DataFrame\n",
    "    cols: list of column names\n",
    "    '''\n",
    "    cnull=[sum(data[y].isnull()) for y in data.columns]\n",
    "    uq=pd.DataFrame({'Col_name':cols,\n",
    "                     'Count_':list(len(data[x].unique()) for x in cols),\n",
    "                    'Unique':list(data[x].unique() for x in cols),\n",
    "                      })\n",
    "    return uq"
   ]
  },
  {
   "cell_type": "code",
   "execution_count": 51,
   "metadata": {},
   "outputs": [
    {
     "data": {
      "text/html": [
       "<div>\n",
       "<style scoped>\n",
       "    .dataframe tbody tr th:only-of-type {\n",
       "        vertical-align: middle;\n",
       "    }\n",
       "\n",
       "    .dataframe tbody tr th {\n",
       "        vertical-align: top;\n",
       "    }\n",
       "\n",
       "    .dataframe thead th {\n",
       "        text-align: right;\n",
       "    }\n",
       "</style>\n",
       "<table border=\"1\" class=\"dataframe\">\n",
       "  <thead>\n",
       "    <tr style=\"text-align: right;\">\n",
       "      <th></th>\n",
       "      <th>Col_name</th>\n",
       "      <th>Count_</th>\n",
       "      <th>Unique</th>\n",
       "    </tr>\n",
       "  </thead>\n",
       "  <tbody>\n",
       "    <tr>\n",
       "      <th>0</th>\n",
       "      <td>ProductType</td>\n",
       "      <td>10</td>\n",
       "      <td>[coates, dresses , Coats/Jackets, Jeans, panta...</td>\n",
       "    </tr>\n",
       "    <tr>\n",
       "      <th>1</th>\n",
       "      <td>PaymentMode</td>\n",
       "      <td>9</td>\n",
       "      <td>[Creditcard, Ewallet, Prepaid Card, Direct Dep...</td>\n",
       "    </tr>\n",
       "    <tr>\n",
       "      <th>2</th>\n",
       "      <td>Gender</td>\n",
       "      <td>3</td>\n",
       "      <td>[Female, Unspecified, Male]\n",
       "Categories (3, obj...</td>\n",
       "    </tr>\n",
       "    <tr>\n",
       "      <th>3</th>\n",
       "      <td>Rating</td>\n",
       "      <td>6</td>\n",
       "      <td>[1 start, 2 star, 5 star, 4 star, 2star, 3 sta...</td>\n",
       "    </tr>\n",
       "    <tr>\n",
       "      <th>4</th>\n",
       "      <td>ShippingMode</td>\n",
       "      <td>4</td>\n",
       "      <td>[Economy, Mail, Express, Normal]</td>\n",
       "    </tr>\n",
       "  </tbody>\n",
       "</table>\n",
       "</div>"
      ],
      "text/plain": [
       "       Col_name  Count_                                             Unique\n",
       "0   ProductType      10  [coates, dresses , Coats/Jackets, Jeans, panta...\n",
       "1   PaymentMode       9  [Creditcard, Ewallet, Prepaid Card, Direct Dep...\n",
       "2        Gender       3  [Female, Unspecified, Male]\n",
       "Categories (3, obj...\n",
       "3        Rating       6  [1 start, 2 star, 5 star, 4 star, 2star, 3 sta...\n",
       "4  ShippingMode       4                   [Economy, Mail, Express, Normal]"
      ]
     },
     "execution_count": 51,
     "metadata": {},
     "output_type": "execute_result"
    }
   ],
   "source": [
    "unq=find_unique(data,['ProductType','PaymentMode','Gender','Rating','ShippingMode'])\n",
    "unq"
   ]
  },
  {
   "cell_type": "markdown",
   "metadata": {},
   "source": [
    "Rating, ProductType and PaymentMode has typos."
   ]
  },
  {
   "cell_type": "code",
   "execution_count": 52,
   "metadata": {},
   "outputs": [
    {
     "name": "stdout",
     "output_type": "stream",
     "text": [
      "ProductType:  | coates | dresses  | Coats/Jackets | Jeans | pantas | Pants | Cardigan | Dresses | Shirts/Tops | Hats\n",
      "PaymentMode:  | Creditcard | Ewallet | Prepaid Card | Direct Deposit | Mobile Payment | Cash | Mobile | Credit Card | Directdeposit\n",
      "Raing:  | 1 start | 2 star | 5 star | 4 star | 2star | 3 star\n"
     ]
    }
   ],
   "source": [
    "print('ProductType: ',*unq.iloc[0,2],sep=' | ')\n",
    "print('PaymentMode: ',*unq.iloc[1,2],sep=' | ')\n",
    "print('Raing: ',*unq.iloc[3,2],sep=' | ')"
   ]
  },
  {
   "cell_type": "markdown",
   "metadata": {},
   "source": [
    "Typing errors: \n",
    "- __coates__ should be _Coats/Jackets_\n",
    "- __dresses__ should be _Dresses_\n",
    "- __pantas__ should be _Pants_\n",
    "- __Creditcard__ should be _Credit Card_\n",
    "- __Directdeposit__ should be _Direct Deposit_\n",
    "- __2star__ should be _2 star_"
   ]
  },
  {
   "cell_type": "code",
   "execution_count": 53,
   "metadata": {},
   "outputs": [],
   "source": [
    "# Manipulating the values\n",
    "def change(i):\n",
    "    if i=='coates':\n",
    "        return 'Coats/Jackets'\n",
    "    elif i=='dresses ':\n",
    "        return 'Dresses'\n",
    "    elif i=='pantas':\n",
    "        return 'Pants'\n",
    "    else:\n",
    "        return i\n",
    "def change2(i):\n",
    "    if i=='Creditcard':\n",
    "        return 'Credit Card'\n",
    "    elif i=='Directdeposit':\n",
    "        return 'Direct Deposit'\n",
    "    else:\n",
    "        return i\n",
    "def change_rating(i):\n",
    "    if i=='2star':\n",
    "        return '2 star'\n",
    "    elif i=='1 start':\n",
    "        return '1 star'\n",
    "    else:\n",
    "        return i\n",
    "data.PaymentMode=data.PaymentMode.apply(change2)\n",
    "data.ProductType=data.ProductType.apply(change)\n",
    "data.Rating=data.Rating.apply(change_rating)"
   ]
  },
  {
   "cell_type": "code",
   "execution_count": 54,
   "metadata": {},
   "outputs": [
    {
     "data": {
      "text/html": [
       "<div>\n",
       "<style scoped>\n",
       "    .dataframe tbody tr th:only-of-type {\n",
       "        vertical-align: middle;\n",
       "    }\n",
       "\n",
       "    .dataframe tbody tr th {\n",
       "        vertical-align: top;\n",
       "    }\n",
       "\n",
       "    .dataframe thead th {\n",
       "        text-align: right;\n",
       "    }\n",
       "</style>\n",
       "<table border=\"1\" class=\"dataframe\">\n",
       "  <thead>\n",
       "    <tr style=\"text-align: right;\">\n",
       "      <th></th>\n",
       "      <th>Col_name</th>\n",
       "      <th>Count_</th>\n",
       "      <th>Unique</th>\n",
       "    </tr>\n",
       "  </thead>\n",
       "  <tbody>\n",
       "    <tr>\n",
       "      <th>0</th>\n",
       "      <td>ProductType</td>\n",
       "      <td>7</td>\n",
       "      <td>[Coats/Jackets, Dresses, Jeans, Pants, Cardiga...</td>\n",
       "    </tr>\n",
       "    <tr>\n",
       "      <th>1</th>\n",
       "      <td>PaymentMode</td>\n",
       "      <td>7</td>\n",
       "      <td>[Credit Card, Ewallet, Prepaid Card, Direct De...</td>\n",
       "    </tr>\n",
       "    <tr>\n",
       "      <th>2</th>\n",
       "      <td>Gender</td>\n",
       "      <td>3</td>\n",
       "      <td>[Female, Unspecified, Male]\n",
       "Categories (3, obj...</td>\n",
       "    </tr>\n",
       "    <tr>\n",
       "      <th>3</th>\n",
       "      <td>Rating</td>\n",
       "      <td>5</td>\n",
       "      <td>[1 star, 2 star, 5 star, 4 star, 3 star]</td>\n",
       "    </tr>\n",
       "    <tr>\n",
       "      <th>4</th>\n",
       "      <td>ShippingMode</td>\n",
       "      <td>4</td>\n",
       "      <td>[Economy, Mail, Express, Normal]</td>\n",
       "    </tr>\n",
       "  </tbody>\n",
       "</table>\n",
       "</div>"
      ],
      "text/plain": [
       "       Col_name  Count_                                             Unique\n",
       "0   ProductType       7  [Coats/Jackets, Dresses, Jeans, Pants, Cardiga...\n",
       "1   PaymentMode       7  [Credit Card, Ewallet, Prepaid Card, Direct De...\n",
       "2        Gender       3  [Female, Unspecified, Male]\n",
       "Categories (3, obj...\n",
       "3        Rating       5           [1 star, 2 star, 5 star, 4 star, 3 star]\n",
       "4  ShippingMode       4                   [Economy, Mail, Express, Normal]"
      ]
     },
     "execution_count": 54,
     "metadata": {},
     "output_type": "execute_result"
    }
   ],
   "source": [
    "find_unique(data,['ProductType','PaymentMode','Gender','Rating','ShippingMode'])"
   ]
  },
  {
   "cell_type": "code",
   "execution_count": 55,
   "metadata": {},
   "outputs": [],
   "source": [
    "# we will have to work with dates as well\n",
    "data.Date=pd.to_datetime(data.Date,dayfirst=True)"
   ]
  },
  {
   "cell_type": "code",
   "execution_count": 56,
   "metadata": {},
   "outputs": [
    {
     "data": {
      "text/html": [
       "<div>\n",
       "<style scoped>\n",
       "    .dataframe tbody tr th:only-of-type {\n",
       "        vertical-align: middle;\n",
       "    }\n",
       "\n",
       "    .dataframe tbody tr th {\n",
       "        vertical-align: top;\n",
       "    }\n",
       "\n",
       "    .dataframe thead th {\n",
       "        text-align: right;\n",
       "    }\n",
       "</style>\n",
       "<table border=\"1\" class=\"dataframe\">\n",
       "  <thead>\n",
       "    <tr style=\"text-align: right;\">\n",
       "      <th></th>\n",
       "      <th>Date</th>\n",
       "      <th>CustomerID</th>\n",
       "      <th>ProductType</th>\n",
       "      <th>Rating</th>\n",
       "      <th>Total_Ratings</th>\n",
       "      <th>Gender</th>\n",
       "      <th>PaymentMode</th>\n",
       "      <th>PaymentMode.1</th>\n",
       "      <th>ShippingMode</th>\n",
       "      <th>ShippingTime</th>\n",
       "      <th>Price</th>\n",
       "    </tr>\n",
       "  </thead>\n",
       "  <tbody>\n",
       "    <tr>\n",
       "      <th>0</th>\n",
       "      <td>2020-08-16</td>\n",
       "      <td>10471</td>\n",
       "      <td>Coats/Jackets</td>\n",
       "      <td>1 star</td>\n",
       "      <td>8736</td>\n",
       "      <td>Female</td>\n",
       "      <td>Credit Card</td>\n",
       "      <td>Creditcard</td>\n",
       "      <td>Economy</td>\n",
       "      <td>17.0</td>\n",
       "      <td>₹ 675036.2138626401</td>\n",
       "    </tr>\n",
       "    <tr>\n",
       "      <th>1</th>\n",
       "      <td>2020-08-02</td>\n",
       "      <td>10472</td>\n",
       "      <td>Dresses</td>\n",
       "      <td>2 star</td>\n",
       "      <td>8547</td>\n",
       "      <td>Unspecified</td>\n",
       "      <td>Ewallet</td>\n",
       "      <td>Ewallet</td>\n",
       "      <td>Mail</td>\n",
       "      <td>12.0</td>\n",
       "      <td>€ 2,315.53</td>\n",
       "    </tr>\n",
       "    <tr>\n",
       "      <th>2</th>\n",
       "      <td>2020-08-08</td>\n",
       "      <td>10473</td>\n",
       "      <td>Coats/Jackets</td>\n",
       "      <td>2 star</td>\n",
       "      <td>9833</td>\n",
       "      <td>Unspecified</td>\n",
       "      <td>Prepaid Card</td>\n",
       "      <td>Prepaid Card</td>\n",
       "      <td>Mail</td>\n",
       "      <td>10.0</td>\n",
       "      <td>₹ 611426.29122378</td>\n",
       "    </tr>\n",
       "    <tr>\n",
       "      <th>5</th>\n",
       "      <td>2020-08-28</td>\n",
       "      <td>10476</td>\n",
       "      <td>Coats/Jackets</td>\n",
       "      <td>2 star</td>\n",
       "      <td>5347</td>\n",
       "      <td>Female</td>\n",
       "      <td>Direct Deposit</td>\n",
       "      <td>Direct Deposit</td>\n",
       "      <td>Mail</td>\n",
       "      <td>20.0</td>\n",
       "      <td>&lt;NA&gt;</td>\n",
       "    </tr>\n",
       "    <tr>\n",
       "      <th>6</th>\n",
       "      <td>2020-08-08</td>\n",
       "      <td>10477</td>\n",
       "      <td>Coats/Jackets</td>\n",
       "      <td>5 star</td>\n",
       "      <td>9406</td>\n",
       "      <td>Unspecified</td>\n",
       "      <td>Direct Deposit</td>\n",
       "      <td>Direct Deposit</td>\n",
       "      <td>Mail</td>\n",
       "      <td>14.0</td>\n",
       "      <td>£ 6610.077565000001</td>\n",
       "    </tr>\n",
       "  </tbody>\n",
       "</table>\n",
       "</div>"
      ],
      "text/plain": [
       "        Date  CustomerID    ProductType  Rating  Total_Ratings       Gender  \\\n",
       "0 2020-08-16       10471  Coats/Jackets  1 star           8736       Female   \n",
       "1 2020-08-02       10472        Dresses  2 star           8547  Unspecified   \n",
       "2 2020-08-08       10473  Coats/Jackets  2 star           9833  Unspecified   \n",
       "5 2020-08-28       10476  Coats/Jackets  2 star           5347       Female   \n",
       "6 2020-08-08       10477  Coats/Jackets  5 star           9406  Unspecified   \n",
       "\n",
       "      PaymentMode   PaymentMode.1 ShippingMode  ShippingTime  \\\n",
       "0     Credit Card      Creditcard      Economy          17.0   \n",
       "1         Ewallet         Ewallet         Mail          12.0   \n",
       "2    Prepaid Card    Prepaid Card         Mail          10.0   \n",
       "5  Direct Deposit  Direct Deposit         Mail          20.0   \n",
       "6  Direct Deposit  Direct Deposit         Mail          14.0   \n",
       "\n",
       "                 Price  \n",
       "0  ₹ 675036.2138626401  \n",
       "1           € 2,315.53  \n",
       "2    ₹ 611426.29122378  \n",
       "5                 <NA>  \n",
       "6  £ 6610.077565000001  "
      ]
     },
     "execution_count": 56,
     "metadata": {},
     "output_type": "execute_result"
    }
   ],
   "source": [
    "data.head()"
   ]
  },
  {
   "cell_type": "markdown",
   "metadata": {},
   "source": [
    "### Grouping"
   ]
  },
  {
   "cell_type": "markdown",
   "metadata": {},
   "source": [
    "Robin has to calculate average shipping time for each product type. Let's see how can he do this:"
   ]
  },
  {
   "cell_type": "code",
   "execution_count": 57,
   "metadata": {},
   "outputs": [
    {
     "name": "stdout",
     "output_type": "stream",
     "text": [
      "Average shipping time for each product type: \n"
     ]
    },
    {
     "data": {
      "text/html": [
       "<div>\n",
       "<style scoped>\n",
       "    .dataframe tbody tr th:only-of-type {\n",
       "        vertical-align: middle;\n",
       "    }\n",
       "\n",
       "    .dataframe tbody tr th {\n",
       "        vertical-align: top;\n",
       "    }\n",
       "\n",
       "    .dataframe thead th {\n",
       "        text-align: right;\n",
       "    }\n",
       "</style>\n",
       "<table border=\"1\" class=\"dataframe\">\n",
       "  <thead>\n",
       "    <tr style=\"text-align: right;\">\n",
       "      <th></th>\n",
       "      <th>mean</th>\n",
       "      <th>max</th>\n",
       "      <th>min</th>\n",
       "    </tr>\n",
       "    <tr>\n",
       "      <th>ProductType</th>\n",
       "      <th></th>\n",
       "      <th></th>\n",
       "      <th></th>\n",
       "    </tr>\n",
       "  </thead>\n",
       "  <tbody>\n",
       "    <tr>\n",
       "      <th>Cardigan</th>\n",
       "      <td>11.333333</td>\n",
       "      <td>16.0</td>\n",
       "      <td>6.0</td>\n",
       "    </tr>\n",
       "    <tr>\n",
       "      <th>Coats/Jackets</th>\n",
       "      <td>12.653846</td>\n",
       "      <td>20.0</td>\n",
       "      <td>5.0</td>\n",
       "    </tr>\n",
       "    <tr>\n",
       "      <th>Dresses</th>\n",
       "      <td>13.473684</td>\n",
       "      <td>20.0</td>\n",
       "      <td>5.0</td>\n",
       "    </tr>\n",
       "    <tr>\n",
       "      <th>Hats</th>\n",
       "      <td>13.000000</td>\n",
       "      <td>20.0</td>\n",
       "      <td>7.0</td>\n",
       "    </tr>\n",
       "    <tr>\n",
       "      <th>Jeans</th>\n",
       "      <td>11.200000</td>\n",
       "      <td>18.0</td>\n",
       "      <td>5.0</td>\n",
       "    </tr>\n",
       "    <tr>\n",
       "      <th>Pants</th>\n",
       "      <td>14.485185</td>\n",
       "      <td>20.0</td>\n",
       "      <td>9.0</td>\n",
       "    </tr>\n",
       "    <tr>\n",
       "      <th>Shirts/Tops</th>\n",
       "      <td>12.500000</td>\n",
       "      <td>20.0</td>\n",
       "      <td>5.0</td>\n",
       "    </tr>\n",
       "  </tbody>\n",
       "</table>\n",
       "</div>"
      ],
      "text/plain": [
       "                    mean   max  min\n",
       "ProductType                        \n",
       "Cardigan       11.333333  16.0  6.0\n",
       "Coats/Jackets  12.653846  20.0  5.0\n",
       "Dresses        13.473684  20.0  5.0\n",
       "Hats           13.000000  20.0  7.0\n",
       "Jeans          11.200000  18.0  5.0\n",
       "Pants          14.485185  20.0  9.0\n",
       "Shirts/Tops    12.500000  20.0  5.0"
      ]
     },
     "execution_count": 57,
     "metadata": {},
     "output_type": "execute_result"
    }
   ],
   "source": [
    "print('Average shipping time for each product type: ')\n",
    "data.groupby('ProductType').ShippingTime.agg([np.mean,max,min])"
   ]
  },
  {
   "cell_type": "code",
   "execution_count": 58,
   "metadata": {},
   "outputs": [
    {
     "data": {
      "text/plain": [
       "{'Female': Int64Index([ 0,  5,  9, 10, 11, 14, 16, 17, 19, 20, 31, 33, 35, 37, 39, 46, 47,\n",
       "             51, 54, 61, 67, 68, 72, 74, 84, 86, 93, 95, 97],\n",
       "            dtype='int64'),\n",
       " 'Male': Int64Index([ 8, 13, 15, 23, 25, 26, 34, 36, 41, 42, 44, 45, 53, 56, 63, 64, 65,\n",
       "             66, 69, 73, 75, 77, 80, 81, 83, 85, 90, 91, 92, 94],\n",
       "            dtype='int64'),\n",
       " 'Unspecified': Int64Index([ 1,  2,  6,  7, 12, 18, 21, 22, 24, 28, 29, 30, 32, 38, 40, 48, 49,\n",
       "             50, 52, 55, 57, 58, 60, 62, 70, 76, 78, 79, 82, 87, 96, 99],\n",
       "            dtype='int64')}"
      ]
     },
     "execution_count": 58,
     "metadata": {},
     "output_type": "execute_result"
    }
   ],
   "source": [
    "# checking groups present in the data\n",
    "grouped=data.groupby('Gender')\n",
    "grouped.groups"
   ]
  },
  {
   "cell_type": "code",
   "execution_count": 59,
   "metadata": {},
   "outputs": [
    {
     "data": {
      "text/html": [
       "<div>\n",
       "<style scoped>\n",
       "    .dataframe tbody tr th:only-of-type {\n",
       "        vertical-align: middle;\n",
       "    }\n",
       "\n",
       "    .dataframe tbody tr th {\n",
       "        vertical-align: top;\n",
       "    }\n",
       "\n",
       "    .dataframe thead th {\n",
       "        text-align: right;\n",
       "    }\n",
       "</style>\n",
       "<table border=\"1\" class=\"dataframe\">\n",
       "  <thead>\n",
       "    <tr style=\"text-align: right;\">\n",
       "      <th></th>\n",
       "      <th>Date</th>\n",
       "      <th>CustomerID</th>\n",
       "      <th>ProductType</th>\n",
       "      <th>Rating</th>\n",
       "      <th>Total_Ratings</th>\n",
       "      <th>Gender</th>\n",
       "      <th>PaymentMode</th>\n",
       "      <th>PaymentMode.1</th>\n",
       "      <th>ShippingMode</th>\n",
       "      <th>ShippingTime</th>\n",
       "      <th>Price</th>\n",
       "    </tr>\n",
       "  </thead>\n",
       "  <tbody>\n",
       "    <tr>\n",
       "      <th>8</th>\n",
       "      <td>2020-08-01</td>\n",
       "      <td>10479</td>\n",
       "      <td>Pants</td>\n",
       "      <td>4 star</td>\n",
       "      <td>9630</td>\n",
       "      <td>Male</td>\n",
       "      <td>Direct Deposit</td>\n",
       "      <td>Direct Deposit</td>\n",
       "      <td>Express</td>\n",
       "      <td>12.822222</td>\n",
       "      <td>£ 3010.212198</td>\n",
       "    </tr>\n",
       "    <tr>\n",
       "      <th>13</th>\n",
       "      <td>2020-08-02</td>\n",
       "      <td>10484</td>\n",
       "      <td>Coats/Jackets</td>\n",
       "      <td>1 star</td>\n",
       "      <td>5024</td>\n",
       "      <td>Male</td>\n",
       "      <td>Mobile Payment</td>\n",
       "      <td>Mobile Payment</td>\n",
       "      <td>Express</td>\n",
       "      <td>18.000000</td>\n",
       "      <td>$3,148.65</td>\n",
       "    </tr>\n",
       "    <tr>\n",
       "      <th>15</th>\n",
       "      <td>2020-08-06</td>\n",
       "      <td>10486</td>\n",
       "      <td>Coats/Jackets</td>\n",
       "      <td>1 star</td>\n",
       "      <td>6701</td>\n",
       "      <td>Male</td>\n",
       "      <td>Direct Deposit</td>\n",
       "      <td>Direct Deposit</td>\n",
       "      <td>Mail</td>\n",
       "      <td>19.000000</td>\n",
       "      <td>£ 2190.66134375</td>\n",
       "    </tr>\n",
       "    <tr>\n",
       "      <th>23</th>\n",
       "      <td>2020-08-03</td>\n",
       "      <td>10494</td>\n",
       "      <td>Dresses</td>\n",
       "      <td>2 star</td>\n",
       "      <td>5668</td>\n",
       "      <td>Male</td>\n",
       "      <td>Credit Card</td>\n",
       "      <td>Credit Card</td>\n",
       "      <td>Mail</td>\n",
       "      <td>20.000000</td>\n",
       "      <td>₹ 596893.42988816</td>\n",
       "    </tr>\n",
       "    <tr>\n",
       "      <th>25</th>\n",
       "      <td>2020-08-08</td>\n",
       "      <td>10496</td>\n",
       "      <td>Hats</td>\n",
       "      <td>4 star</td>\n",
       "      <td>6594</td>\n",
       "      <td>Male</td>\n",
       "      <td>Prepaid Card</td>\n",
       "      <td>Prepaid Card</td>\n",
       "      <td>Express</td>\n",
       "      <td>20.000000</td>\n",
       "      <td>£ 4564.22450475</td>\n",
       "    </tr>\n",
       "  </tbody>\n",
       "</table>\n",
       "</div>"
      ],
      "text/plain": [
       "         Date  CustomerID    ProductType  Rating  Total_Ratings Gender  \\\n",
       "8  2020-08-01       10479          Pants  4 star           9630   Male   \n",
       "13 2020-08-02       10484  Coats/Jackets  1 star           5024   Male   \n",
       "15 2020-08-06       10486  Coats/Jackets  1 star           6701   Male   \n",
       "23 2020-08-03       10494        Dresses  2 star           5668   Male   \n",
       "25 2020-08-08       10496           Hats  4 star           6594   Male   \n",
       "\n",
       "       PaymentMode   PaymentMode.1 ShippingMode  ShippingTime  \\\n",
       "8   Direct Deposit  Direct Deposit      Express     12.822222   \n",
       "13  Mobile Payment  Mobile Payment      Express     18.000000   \n",
       "15  Direct Deposit  Direct Deposit         Mail     19.000000   \n",
       "23     Credit Card     Credit Card         Mail     20.000000   \n",
       "25    Prepaid Card    Prepaid Card      Express     20.000000   \n",
       "\n",
       "                Price  \n",
       "8       £ 3010.212198  \n",
       "13         $3,148.65   \n",
       "15    £ 2190.66134375  \n",
       "23  ₹ 596893.42988816  \n",
       "25    £ 4564.22450475  "
      ]
     },
     "execution_count": 59,
     "metadata": {},
     "output_type": "execute_result"
    }
   ],
   "source": [
    "# First 5 records in group Male\n",
    "grouped.get_group('Male')[:5]"
   ]
  },
  {
   "cell_type": "code",
   "execution_count": 60,
   "metadata": {},
   "outputs": [
    {
     "name": "stdout",
     "output_type": "stream",
     "text": [
      "Average shipping time for each product type: \n"
     ]
    },
    {
     "data": {
      "text/html": [
       "<div>\n",
       "<style scoped>\n",
       "    .dataframe tbody tr th:only-of-type {\n",
       "        vertical-align: middle;\n",
       "    }\n",
       "\n",
       "    .dataframe tbody tr th {\n",
       "        vertical-align: top;\n",
       "    }\n",
       "\n",
       "    .dataframe thead th {\n",
       "        text-align: right;\n",
       "    }\n",
       "</style>\n",
       "<table border=\"1\" class=\"dataframe\">\n",
       "  <thead>\n",
       "    <tr style=\"text-align: right;\">\n",
       "      <th></th>\n",
       "      <th>mean</th>\n",
       "      <th>max</th>\n",
       "      <th>min</th>\n",
       "    </tr>\n",
       "    <tr>\n",
       "      <th>ShippingMode</th>\n",
       "      <th></th>\n",
       "      <th></th>\n",
       "      <th></th>\n",
       "    </tr>\n",
       "  </thead>\n",
       "  <tbody>\n",
       "    <tr>\n",
       "      <th>Economy</th>\n",
       "      <td>15.176471</td>\n",
       "      <td>20.0</td>\n",
       "      <td>8.0</td>\n",
       "    </tr>\n",
       "    <tr>\n",
       "      <th>Express</th>\n",
       "      <td>12.310101</td>\n",
       "      <td>20.0</td>\n",
       "      <td>5.0</td>\n",
       "    </tr>\n",
       "    <tr>\n",
       "      <th>Mail</th>\n",
       "      <td>12.857143</td>\n",
       "      <td>20.0</td>\n",
       "      <td>5.0</td>\n",
       "    </tr>\n",
       "    <tr>\n",
       "      <th>Normal</th>\n",
       "      <td>11.583333</td>\n",
       "      <td>18.0</td>\n",
       "      <td>5.0</td>\n",
       "    </tr>\n",
       "  </tbody>\n",
       "</table>\n",
       "</div>"
      ],
      "text/plain": [
       "                   mean   max  min\n",
       "ShippingMode                      \n",
       "Economy       15.176471  20.0  8.0\n",
       "Express       12.310101  20.0  5.0\n",
       "Mail          12.857143  20.0  5.0\n",
       "Normal        11.583333  18.0  5.0"
      ]
     },
     "execution_count": 60,
     "metadata": {},
     "output_type": "execute_result"
    }
   ],
   "source": [
    "print('Average shipping time for each product type: ')\n",
    "data.groupby('ShippingMode').ShippingTime.agg([np.mean,max,min])"
   ]
  },
  {
   "cell_type": "code",
   "execution_count": 61,
   "metadata": {},
   "outputs": [
    {
     "name": "stdout",
     "output_type": "stream",
     "text": [
      "Average total ratings for each product type based on Gender: \n"
     ]
    },
    {
     "data": {
      "text/html": [
       "<div>\n",
       "<style scoped>\n",
       "    .dataframe tbody tr th:only-of-type {\n",
       "        vertical-align: middle;\n",
       "    }\n",
       "\n",
       "    .dataframe tbody tr th {\n",
       "        vertical-align: top;\n",
       "    }\n",
       "\n",
       "    .dataframe thead th {\n",
       "        text-align: right;\n",
       "    }\n",
       "</style>\n",
       "<table border=\"1\" class=\"dataframe\">\n",
       "  <thead>\n",
       "    <tr style=\"text-align: right;\">\n",
       "      <th></th>\n",
       "      <th></th>\n",
       "      <th>mean</th>\n",
       "      <th>max</th>\n",
       "      <th>min</th>\n",
       "    </tr>\n",
       "    <tr>\n",
       "      <th>ProductType</th>\n",
       "      <th>Gender</th>\n",
       "      <th></th>\n",
       "      <th></th>\n",
       "      <th></th>\n",
       "    </tr>\n",
       "  </thead>\n",
       "  <tbody>\n",
       "    <tr>\n",
       "      <th rowspan=\"3\" valign=\"top\">Cardigan</th>\n",
       "      <th>Female</th>\n",
       "      <td>8524.000000</td>\n",
       "      <td>9925</td>\n",
       "      <td>6081</td>\n",
       "    </tr>\n",
       "    <tr>\n",
       "      <th>Male</th>\n",
       "      <td>6313.500000</td>\n",
       "      <td>7547</td>\n",
       "      <td>5080</td>\n",
       "    </tr>\n",
       "    <tr>\n",
       "      <th>Unspecified</th>\n",
       "      <td>7021.000000</td>\n",
       "      <td>7021</td>\n",
       "      <td>7021</td>\n",
       "    </tr>\n",
       "    <tr>\n",
       "      <th rowspan=\"3\" valign=\"top\">Coats/Jackets</th>\n",
       "      <th>Female</th>\n",
       "      <td>7577.000000</td>\n",
       "      <td>9714</td>\n",
       "      <td>5037</td>\n",
       "    </tr>\n",
       "    <tr>\n",
       "      <th>Male</th>\n",
       "      <td>7052.750000</td>\n",
       "      <td>9832</td>\n",
       "      <td>5024</td>\n",
       "    </tr>\n",
       "    <tr>\n",
       "      <th>Unspecified</th>\n",
       "      <td>8021.625000</td>\n",
       "      <td>9833</td>\n",
       "      <td>5498</td>\n",
       "    </tr>\n",
       "    <tr>\n",
       "      <th rowspan=\"3\" valign=\"top\">Dresses</th>\n",
       "      <th>Female</th>\n",
       "      <td>8121.000000</td>\n",
       "      <td>9142</td>\n",
       "      <td>7287</td>\n",
       "    </tr>\n",
       "    <tr>\n",
       "      <th>Male</th>\n",
       "      <td>7202.111111</td>\n",
       "      <td>9570</td>\n",
       "      <td>5485</td>\n",
       "    </tr>\n",
       "    <tr>\n",
       "      <th>Unspecified</th>\n",
       "      <td>8319.250000</td>\n",
       "      <td>9365</td>\n",
       "      <td>6195</td>\n",
       "    </tr>\n",
       "    <tr>\n",
       "      <th rowspan=\"3\" valign=\"top\">Hats</th>\n",
       "      <th>Female</th>\n",
       "      <td>7532.000000</td>\n",
       "      <td>7532</td>\n",
       "      <td>7532</td>\n",
       "    </tr>\n",
       "    <tr>\n",
       "      <th>Male</th>\n",
       "      <td>7819.000000</td>\n",
       "      <td>8734</td>\n",
       "      <td>6594</td>\n",
       "    </tr>\n",
       "    <tr>\n",
       "      <th>Unspecified</th>\n",
       "      <td>5830.000000</td>\n",
       "      <td>6040</td>\n",
       "      <td>5620</td>\n",
       "    </tr>\n",
       "    <tr>\n",
       "      <th rowspan=\"3\" valign=\"top\">Jeans</th>\n",
       "      <th>Female</th>\n",
       "      <td>7842.000000</td>\n",
       "      <td>8399</td>\n",
       "      <td>7285</td>\n",
       "    </tr>\n",
       "    <tr>\n",
       "      <th>Male</th>\n",
       "      <td>6955.500000</td>\n",
       "      <td>7033</td>\n",
       "      <td>6878</td>\n",
       "    </tr>\n",
       "    <tr>\n",
       "      <th>Unspecified</th>\n",
       "      <td>8380.500000</td>\n",
       "      <td>9482</td>\n",
       "      <td>7352</td>\n",
       "    </tr>\n",
       "    <tr>\n",
       "      <th rowspan=\"3\" valign=\"top\">Pants</th>\n",
       "      <th>Female</th>\n",
       "      <td>7048.200000</td>\n",
       "      <td>7816</td>\n",
       "      <td>5783</td>\n",
       "    </tr>\n",
       "    <tr>\n",
       "      <th>Male</th>\n",
       "      <td>8023.000000</td>\n",
       "      <td>9630</td>\n",
       "      <td>6416</td>\n",
       "    </tr>\n",
       "    <tr>\n",
       "      <th>Unspecified</th>\n",
       "      <td>7590.400000</td>\n",
       "      <td>8745</td>\n",
       "      <td>6569</td>\n",
       "    </tr>\n",
       "    <tr>\n",
       "      <th rowspan=\"3\" valign=\"top\">Shirts/Tops</th>\n",
       "      <th>Female</th>\n",
       "      <td>9057.500000</td>\n",
       "      <td>9296</td>\n",
       "      <td>8819</td>\n",
       "    </tr>\n",
       "    <tr>\n",
       "      <th>Male</th>\n",
       "      <td>7708.500000</td>\n",
       "      <td>9965</td>\n",
       "      <td>5757</td>\n",
       "    </tr>\n",
       "    <tr>\n",
       "      <th>Unspecified</th>\n",
       "      <td>7351.000000</td>\n",
       "      <td>9015</td>\n",
       "      <td>5077</td>\n",
       "    </tr>\n",
       "  </tbody>\n",
       "</table>\n",
       "</div>"
      ],
      "text/plain": [
       "                                  mean   max   min\n",
       "ProductType   Gender                              \n",
       "Cardigan      Female       8524.000000  9925  6081\n",
       "              Male         6313.500000  7547  5080\n",
       "              Unspecified  7021.000000  7021  7021\n",
       "Coats/Jackets Female       7577.000000  9714  5037\n",
       "              Male         7052.750000  9832  5024\n",
       "              Unspecified  8021.625000  9833  5498\n",
       "Dresses       Female       8121.000000  9142  7287\n",
       "              Male         7202.111111  9570  5485\n",
       "              Unspecified  8319.250000  9365  6195\n",
       "Hats          Female       7532.000000  7532  7532\n",
       "              Male         7819.000000  8734  6594\n",
       "              Unspecified  5830.000000  6040  5620\n",
       "Jeans         Female       7842.000000  8399  7285\n",
       "              Male         6955.500000  7033  6878\n",
       "              Unspecified  8380.500000  9482  7352\n",
       "Pants         Female       7048.200000  7816  5783\n",
       "              Male         8023.000000  9630  6416\n",
       "              Unspecified  7590.400000  8745  6569\n",
       "Shirts/Tops   Female       9057.500000  9296  8819\n",
       "              Male         7708.500000  9965  5757\n",
       "              Unspecified  7351.000000  9015  5077"
      ]
     },
     "execution_count": 61,
     "metadata": {},
     "output_type": "execute_result"
    }
   ],
   "source": [
    "print('Average total ratings for each product type based on Gender: ')\n",
    "data.groupby(['ProductType','Gender']).Total_Ratings.agg([np.mean,max,min])"
   ]
  },
  {
   "cell_type": "code",
   "execution_count": 62,
   "metadata": {},
   "outputs": [
    {
     "name": "stdout",
     "output_type": "stream",
     "text": [
      "Average shipping time for each product type based on Gender: \n"
     ]
    },
    {
     "data": {
      "text/html": [
       "<div>\n",
       "<style scoped>\n",
       "    .dataframe tbody tr th:only-of-type {\n",
       "        vertical-align: middle;\n",
       "    }\n",
       "\n",
       "    .dataframe tbody tr th {\n",
       "        vertical-align: top;\n",
       "    }\n",
       "\n",
       "    .dataframe thead th {\n",
       "        text-align: right;\n",
       "    }\n",
       "</style>\n",
       "<table border=\"1\" class=\"dataframe\">\n",
       "  <thead>\n",
       "    <tr style=\"text-align: right;\">\n",
       "      <th></th>\n",
       "      <th></th>\n",
       "      <th>mean</th>\n",
       "      <th>max</th>\n",
       "      <th>min</th>\n",
       "    </tr>\n",
       "    <tr>\n",
       "      <th>ProductType</th>\n",
       "      <th>Gender</th>\n",
       "      <th></th>\n",
       "      <th></th>\n",
       "      <th></th>\n",
       "    </tr>\n",
       "  </thead>\n",
       "  <tbody>\n",
       "    <tr>\n",
       "      <th rowspan=\"3\" valign=\"top\">Cardigan</th>\n",
       "      <th>Female</th>\n",
       "      <td>13.333333</td>\n",
       "      <td>16.0</td>\n",
       "      <td>12.000000</td>\n",
       "    </tr>\n",
       "    <tr>\n",
       "      <th>Male</th>\n",
       "      <td>11.000000</td>\n",
       "      <td>14.0</td>\n",
       "      <td>8.000000</td>\n",
       "    </tr>\n",
       "    <tr>\n",
       "      <th>Unspecified</th>\n",
       "      <td>6.000000</td>\n",
       "      <td>6.0</td>\n",
       "      <td>6.000000</td>\n",
       "    </tr>\n",
       "    <tr>\n",
       "      <th rowspan=\"3\" valign=\"top\">Coats/Jackets</th>\n",
       "      <th>Female</th>\n",
       "      <td>14.100000</td>\n",
       "      <td>20.0</td>\n",
       "      <td>5.000000</td>\n",
       "    </tr>\n",
       "    <tr>\n",
       "      <th>Male</th>\n",
       "      <td>13.000000</td>\n",
       "      <td>19.0</td>\n",
       "      <td>6.000000</td>\n",
       "    </tr>\n",
       "    <tr>\n",
       "      <th>Unspecified</th>\n",
       "      <td>10.500000</td>\n",
       "      <td>14.0</td>\n",
       "      <td>8.000000</td>\n",
       "    </tr>\n",
       "    <tr>\n",
       "      <th rowspan=\"3\" valign=\"top\">Dresses</th>\n",
       "      <th>Female</th>\n",
       "      <td>12.000000</td>\n",
       "      <td>20.0</td>\n",
       "      <td>5.000000</td>\n",
       "    </tr>\n",
       "    <tr>\n",
       "      <th>Male</th>\n",
       "      <td>14.555556</td>\n",
       "      <td>20.0</td>\n",
       "      <td>5.000000</td>\n",
       "    </tr>\n",
       "    <tr>\n",
       "      <th>Unspecified</th>\n",
       "      <td>13.250000</td>\n",
       "      <td>19.0</td>\n",
       "      <td>9.000000</td>\n",
       "    </tr>\n",
       "    <tr>\n",
       "      <th rowspan=\"3\" valign=\"top\">Hats</th>\n",
       "      <th>Female</th>\n",
       "      <td>7.000000</td>\n",
       "      <td>7.0</td>\n",
       "      <td>7.000000</td>\n",
       "    </tr>\n",
       "    <tr>\n",
       "      <th>Male</th>\n",
       "      <td>17.333333</td>\n",
       "      <td>20.0</td>\n",
       "      <td>16.000000</td>\n",
       "    </tr>\n",
       "    <tr>\n",
       "      <th>Unspecified</th>\n",
       "      <td>9.500000</td>\n",
       "      <td>12.0</td>\n",
       "      <td>7.000000</td>\n",
       "    </tr>\n",
       "    <tr>\n",
       "      <th rowspan=\"3\" valign=\"top\">Jeans</th>\n",
       "      <th>Female</th>\n",
       "      <td>11.000000</td>\n",
       "      <td>14.0</td>\n",
       "      <td>8.000000</td>\n",
       "    </tr>\n",
       "    <tr>\n",
       "      <th>Male</th>\n",
       "      <td>12.000000</td>\n",
       "      <td>14.0</td>\n",
       "      <td>10.000000</td>\n",
       "    </tr>\n",
       "    <tr>\n",
       "      <th>Unspecified</th>\n",
       "      <td>11.000000</td>\n",
       "      <td>18.0</td>\n",
       "      <td>5.000000</td>\n",
       "    </tr>\n",
       "    <tr>\n",
       "      <th rowspan=\"3\" valign=\"top\">Pants</th>\n",
       "      <th>Female</th>\n",
       "      <td>14.000000</td>\n",
       "      <td>19.0</td>\n",
       "      <td>10.000000</td>\n",
       "    </tr>\n",
       "    <tr>\n",
       "      <th>Male</th>\n",
       "      <td>16.411111</td>\n",
       "      <td>20.0</td>\n",
       "      <td>12.822222</td>\n",
       "    </tr>\n",
       "    <tr>\n",
       "      <th>Unspecified</th>\n",
       "      <td>14.200000</td>\n",
       "      <td>18.0</td>\n",
       "      <td>9.000000</td>\n",
       "    </tr>\n",
       "    <tr>\n",
       "      <th rowspan=\"3\" valign=\"top\">Shirts/Tops</th>\n",
       "      <th>Female</th>\n",
       "      <td>18.500000</td>\n",
       "      <td>20.0</td>\n",
       "      <td>17.000000</td>\n",
       "    </tr>\n",
       "    <tr>\n",
       "      <th>Male</th>\n",
       "      <td>10.000000</td>\n",
       "      <td>15.0</td>\n",
       "      <td>7.000000</td>\n",
       "    </tr>\n",
       "    <tr>\n",
       "      <th>Unspecified</th>\n",
       "      <td>12.166667</td>\n",
       "      <td>17.0</td>\n",
       "      <td>5.000000</td>\n",
       "    </tr>\n",
       "  </tbody>\n",
       "</table>\n",
       "</div>"
      ],
      "text/plain": [
       "                                mean   max        min\n",
       "ProductType   Gender                                 \n",
       "Cardigan      Female       13.333333  16.0  12.000000\n",
       "              Male         11.000000  14.0   8.000000\n",
       "              Unspecified   6.000000   6.0   6.000000\n",
       "Coats/Jackets Female       14.100000  20.0   5.000000\n",
       "              Male         13.000000  19.0   6.000000\n",
       "              Unspecified  10.500000  14.0   8.000000\n",
       "Dresses       Female       12.000000  20.0   5.000000\n",
       "              Male         14.555556  20.0   5.000000\n",
       "              Unspecified  13.250000  19.0   9.000000\n",
       "Hats          Female        7.000000   7.0   7.000000\n",
       "              Male         17.333333  20.0  16.000000\n",
       "              Unspecified   9.500000  12.0   7.000000\n",
       "Jeans         Female       11.000000  14.0   8.000000\n",
       "              Male         12.000000  14.0  10.000000\n",
       "              Unspecified  11.000000  18.0   5.000000\n",
       "Pants         Female       14.000000  19.0  10.000000\n",
       "              Male         16.411111  20.0  12.822222\n",
       "              Unspecified  14.200000  18.0   9.000000\n",
       "Shirts/Tops   Female       18.500000  20.0  17.000000\n",
       "              Male         10.000000  15.0   7.000000\n",
       "              Unspecified  12.166667  17.0   5.000000"
      ]
     },
     "execution_count": 62,
     "metadata": {},
     "output_type": "execute_result"
    }
   ],
   "source": [
    "print('Average shipping time for each product type based on Gender: ')\n",
    "data.groupby(['ProductType','Gender']).ShippingTime.agg([np.mean,max,min])"
   ]
  },
  {
   "cell_type": "code",
   "execution_count": 63,
   "metadata": {},
   "outputs": [
    {
     "name": "stdout",
     "output_type": "stream",
     "text": [
      "Average shipping time for products ordered on days for each shipping mode:\n"
     ]
    },
    {
     "data": {
      "text/html": [
       "<div>\n",
       "<style scoped>\n",
       "    .dataframe tbody tr th:only-of-type {\n",
       "        vertical-align: middle;\n",
       "    }\n",
       "\n",
       "    .dataframe tbody tr th {\n",
       "        vertical-align: top;\n",
       "    }\n",
       "\n",
       "    .dataframe thead th {\n",
       "        text-align: right;\n",
       "    }\n",
       "</style>\n",
       "<table border=\"1\" class=\"dataframe\">\n",
       "  <thead>\n",
       "    <tr style=\"text-align: right;\">\n",
       "      <th>ShippingMode</th>\n",
       "      <th>Economy</th>\n",
       "      <th>Express</th>\n",
       "      <th>Mail</th>\n",
       "      <th>Normal</th>\n",
       "    </tr>\n",
       "    <tr>\n",
       "      <th>Date</th>\n",
       "      <th></th>\n",
       "      <th></th>\n",
       "      <th></th>\n",
       "      <th></th>\n",
       "    </tr>\n",
       "  </thead>\n",
       "  <tbody>\n",
       "    <tr>\n",
       "      <th>2020-08-01</th>\n",
       "      <td>NaN</td>\n",
       "      <td>12.822222</td>\n",
       "      <td>11.0</td>\n",
       "      <td>9.000000</td>\n",
       "    </tr>\n",
       "    <tr>\n",
       "      <th>2020-08-02</th>\n",
       "      <td>20.0</td>\n",
       "      <td>18.000000</td>\n",
       "      <td>10.5</td>\n",
       "      <td>12.000000</td>\n",
       "    </tr>\n",
       "    <tr>\n",
       "      <th>2020-08-03</th>\n",
       "      <td>NaN</td>\n",
       "      <td>8.000000</td>\n",
       "      <td>20.0</td>\n",
       "      <td>NaN</td>\n",
       "    </tr>\n",
       "    <tr>\n",
       "      <th>2020-08-04</th>\n",
       "      <td>NaN</td>\n",
       "      <td>5.000000</td>\n",
       "      <td>NaN</td>\n",
       "      <td>12.333333</td>\n",
       "    </tr>\n",
       "    <tr>\n",
       "      <th>2020-08-05</th>\n",
       "      <td>20.0</td>\n",
       "      <td>NaN</td>\n",
       "      <td>NaN</td>\n",
       "      <td>10.000000</td>\n",
       "    </tr>\n",
       "    <tr>\n",
       "      <th>2020-08-06</th>\n",
       "      <td>NaN</td>\n",
       "      <td>14.500000</td>\n",
       "      <td>19.0</td>\n",
       "      <td>7.000000</td>\n",
       "    </tr>\n",
       "    <tr>\n",
       "      <th>2020-08-07</th>\n",
       "      <td>13.0</td>\n",
       "      <td>NaN</td>\n",
       "      <td>14.0</td>\n",
       "      <td>NaN</td>\n",
       "    </tr>\n",
       "    <tr>\n",
       "      <th>2020-08-08</th>\n",
       "      <td>NaN</td>\n",
       "      <td>13.500000</td>\n",
       "      <td>11.8</td>\n",
       "      <td>14.000000</td>\n",
       "    </tr>\n",
       "    <tr>\n",
       "      <th>2020-08-09</th>\n",
       "      <td>NaN</td>\n",
       "      <td>16.000000</td>\n",
       "      <td>NaN</td>\n",
       "      <td>NaN</td>\n",
       "    </tr>\n",
       "    <tr>\n",
       "      <th>2020-08-11</th>\n",
       "      <td>19.0</td>\n",
       "      <td>6.000000</td>\n",
       "      <td>NaN</td>\n",
       "      <td>NaN</td>\n",
       "    </tr>\n",
       "    <tr>\n",
       "      <th>2020-08-12</th>\n",
       "      <td>16.0</td>\n",
       "      <td>15.000000</td>\n",
       "      <td>9.0</td>\n",
       "      <td>NaN</td>\n",
       "    </tr>\n",
       "    <tr>\n",
       "      <th>2020-08-13</th>\n",
       "      <td>9.0</td>\n",
       "      <td>19.000000</td>\n",
       "      <td>NaN</td>\n",
       "      <td>NaN</td>\n",
       "    </tr>\n",
       "    <tr>\n",
       "      <th>2020-08-14</th>\n",
       "      <td>17.0</td>\n",
       "      <td>7.000000</td>\n",
       "      <td>NaN</td>\n",
       "      <td>NaN</td>\n",
       "    </tr>\n",
       "    <tr>\n",
       "      <th>2020-08-16</th>\n",
       "      <td>14.0</td>\n",
       "      <td>19.000000</td>\n",
       "      <td>16.0</td>\n",
       "      <td>13.000000</td>\n",
       "    </tr>\n",
       "    <tr>\n",
       "      <th>2020-08-17</th>\n",
       "      <td>18.0</td>\n",
       "      <td>NaN</td>\n",
       "      <td>10.0</td>\n",
       "      <td>NaN</td>\n",
       "    </tr>\n",
       "    <tr>\n",
       "      <th>2020-08-18</th>\n",
       "      <td>NaN</td>\n",
       "      <td>NaN</td>\n",
       "      <td>10.0</td>\n",
       "      <td>8.000000</td>\n",
       "    </tr>\n",
       "    <tr>\n",
       "      <th>2020-08-20</th>\n",
       "      <td>NaN</td>\n",
       "      <td>NaN</td>\n",
       "      <td>7.0</td>\n",
       "      <td>18.000000</td>\n",
       "    </tr>\n",
       "    <tr>\n",
       "      <th>2020-08-21</th>\n",
       "      <td>12.5</td>\n",
       "      <td>NaN</td>\n",
       "      <td>NaN</td>\n",
       "      <td>15.000000</td>\n",
       "    </tr>\n",
       "    <tr>\n",
       "      <th>2020-08-23</th>\n",
       "      <td>NaN</td>\n",
       "      <td>5.000000</td>\n",
       "      <td>13.0</td>\n",
       "      <td>NaN</td>\n",
       "    </tr>\n",
       "    <tr>\n",
       "      <th>2020-08-24</th>\n",
       "      <td>11.0</td>\n",
       "      <td>NaN</td>\n",
       "      <td>NaN</td>\n",
       "      <td>14.000000</td>\n",
       "    </tr>\n",
       "    <tr>\n",
       "      <th>2020-08-25</th>\n",
       "      <td>NaN</td>\n",
       "      <td>20.000000</td>\n",
       "      <td>NaN</td>\n",
       "      <td>12.000000</td>\n",
       "    </tr>\n",
       "    <tr>\n",
       "      <th>2020-08-26</th>\n",
       "      <td>NaN</td>\n",
       "      <td>NaN</td>\n",
       "      <td>19.0</td>\n",
       "      <td>5.000000</td>\n",
       "    </tr>\n",
       "    <tr>\n",
       "      <th>2020-08-28</th>\n",
       "      <td>NaN</td>\n",
       "      <td>12.000000</td>\n",
       "      <td>17.0</td>\n",
       "      <td>NaN</td>\n",
       "    </tr>\n",
       "    <tr>\n",
       "      <th>2020-08-29</th>\n",
       "      <td>15.0</td>\n",
       "      <td>9.000000</td>\n",
       "      <td>6.0</td>\n",
       "      <td>7.000000</td>\n",
       "    </tr>\n",
       "    <tr>\n",
       "      <th>2020-08-30</th>\n",
       "      <td>14.5</td>\n",
       "      <td>9.000000</td>\n",
       "      <td>19.0</td>\n",
       "      <td>17.000000</td>\n",
       "    </tr>\n",
       "    <tr>\n",
       "      <th>2020-08-31</th>\n",
       "      <td>NaN</td>\n",
       "      <td>10.000000</td>\n",
       "      <td>NaN</td>\n",
       "      <td>10.000000</td>\n",
       "    </tr>\n",
       "  </tbody>\n",
       "</table>\n",
       "</div>"
      ],
      "text/plain": [
       "ShippingMode  Economy    Express  Mail     Normal\n",
       "Date                                             \n",
       "2020-08-01        NaN  12.822222  11.0   9.000000\n",
       "2020-08-02       20.0  18.000000  10.5  12.000000\n",
       "2020-08-03        NaN   8.000000  20.0        NaN\n",
       "2020-08-04        NaN   5.000000   NaN  12.333333\n",
       "2020-08-05       20.0        NaN   NaN  10.000000\n",
       "2020-08-06        NaN  14.500000  19.0   7.000000\n",
       "2020-08-07       13.0        NaN  14.0        NaN\n",
       "2020-08-08        NaN  13.500000  11.8  14.000000\n",
       "2020-08-09        NaN  16.000000   NaN        NaN\n",
       "2020-08-11       19.0   6.000000   NaN        NaN\n",
       "2020-08-12       16.0  15.000000   9.0        NaN\n",
       "2020-08-13        9.0  19.000000   NaN        NaN\n",
       "2020-08-14       17.0   7.000000   NaN        NaN\n",
       "2020-08-16       14.0  19.000000  16.0  13.000000\n",
       "2020-08-17       18.0        NaN  10.0        NaN\n",
       "2020-08-18        NaN        NaN  10.0   8.000000\n",
       "2020-08-20        NaN        NaN   7.0  18.000000\n",
       "2020-08-21       12.5        NaN   NaN  15.000000\n",
       "2020-08-23        NaN   5.000000  13.0        NaN\n",
       "2020-08-24       11.0        NaN   NaN  14.000000\n",
       "2020-08-25        NaN  20.000000   NaN  12.000000\n",
       "2020-08-26        NaN        NaN  19.0   5.000000\n",
       "2020-08-28        NaN  12.000000  17.0        NaN\n",
       "2020-08-29       15.0   9.000000   6.0   7.000000\n",
       "2020-08-30       14.5   9.000000  19.0  17.000000\n",
       "2020-08-31        NaN  10.000000   NaN  10.000000"
      ]
     },
     "execution_count": 63,
     "metadata": {},
     "output_type": "execute_result"
    }
   ],
   "source": [
    "# Pandas provide an easy way to calculate the aggregate using pivot_table function\n",
    "print('Average shipping time for products ordered on days for each shipping mode:')\n",
    "pd.pivot_table(data,index='Date',columns='ShippingMode',values='ShippingTime')"
   ]
  },
  {
   "cell_type": "markdown",
   "metadata": {},
   "source": [
    "### Filtering"
   ]
  },
  {
   "cell_type": "markdown",
   "metadata": {},
   "source": [
    "Robin wants entries belonging to state average expense more than 7800. Let's see how to get this:"
   ]
  },
  {
   "cell_type": "code",
   "execution_count": 64,
   "metadata": {},
   "outputs": [
    {
     "data": {
      "text/html": [
       "<div>\n",
       "<style scoped>\n",
       "    .dataframe tbody tr th:only-of-type {\n",
       "        vertical-align: middle;\n",
       "    }\n",
       "\n",
       "    .dataframe tbody tr th {\n",
       "        vertical-align: top;\n",
       "    }\n",
       "\n",
       "    .dataframe thead th {\n",
       "        text-align: right;\n",
       "    }\n",
       "</style>\n",
       "<table border=\"1\" class=\"dataframe\">\n",
       "  <thead>\n",
       "    <tr style=\"text-align: right;\">\n",
       "      <th></th>\n",
       "      <th>Date</th>\n",
       "      <th>CustomerID</th>\n",
       "      <th>ProductType</th>\n",
       "      <th>Rating</th>\n",
       "      <th>Total_Ratings</th>\n",
       "      <th>Gender</th>\n",
       "      <th>PaymentMode</th>\n",
       "      <th>PaymentMode.1</th>\n",
       "      <th>ShippingMode</th>\n",
       "      <th>ShippingTime</th>\n",
       "      <th>Price</th>\n",
       "    </tr>\n",
       "  </thead>\n",
       "  <tbody>\n",
       "    <tr>\n",
       "      <th>7</th>\n",
       "      <td>2020-08-08</td>\n",
       "      <td>10478</td>\n",
       "      <td>Jeans</td>\n",
       "      <td>1 star</td>\n",
       "      <td>8554</td>\n",
       "      <td>Unspecified</td>\n",
       "      <td>Direct Deposit</td>\n",
       "      <td>Direct Deposit</td>\n",
       "      <td>Mail</td>\n",
       "      <td>18.0</td>\n",
       "      <td>$4,287.06</td>\n",
       "    </tr>\n",
       "    <tr>\n",
       "      <th>29</th>\n",
       "      <td>2020-08-02</td>\n",
       "      <td>10500</td>\n",
       "      <td>Jeans</td>\n",
       "      <td>1 star</td>\n",
       "      <td>9410</td>\n",
       "      <td>Unspecified</td>\n",
       "      <td>Direct Deposit</td>\n",
       "      <td>Direct Deposit</td>\n",
       "      <td>Mail</td>\n",
       "      <td>5.0</td>\n",
       "      <td>$21,312,321.13</td>\n",
       "    </tr>\n",
       "    <tr>\n",
       "      <th>38</th>\n",
       "      <td>2020-08-29</td>\n",
       "      <td>10509</td>\n",
       "      <td>Jeans</td>\n",
       "      <td>1 star</td>\n",
       "      <td>7352</td>\n",
       "      <td>Unspecified</td>\n",
       "      <td>Credit Card</td>\n",
       "      <td>Creditcard</td>\n",
       "      <td>Express</td>\n",
       "      <td>9.0</td>\n",
       "      <td>$2,591.72</td>\n",
       "    </tr>\n",
       "    <tr>\n",
       "      <th>45</th>\n",
       "      <td>2020-08-25</td>\n",
       "      <td>10516</td>\n",
       "      <td>Jeans</td>\n",
       "      <td>3 star</td>\n",
       "      <td>7033</td>\n",
       "      <td>Male</td>\n",
       "      <td>Direct Deposit</td>\n",
       "      <td>NaN</td>\n",
       "      <td>Normal</td>\n",
       "      <td>14.0</td>\n",
       "      <td>₹ 167727.12548098</td>\n",
       "    </tr>\n",
       "    <tr>\n",
       "      <th>47</th>\n",
       "      <td>2020-08-21</td>\n",
       "      <td>10518</td>\n",
       "      <td>Jeans</td>\n",
       "      <td>2 star</td>\n",
       "      <td>7285</td>\n",
       "      <td>Female</td>\n",
       "      <td>Credit Card</td>\n",
       "      <td>Creditcard</td>\n",
       "      <td>Normal</td>\n",
       "      <td>14.0</td>\n",
       "      <td>€ 2,773.90</td>\n",
       "    </tr>\n",
       "    <tr>\n",
       "      <th>48</th>\n",
       "      <td>2020-08-20</td>\n",
       "      <td>10519</td>\n",
       "      <td>Jeans</td>\n",
       "      <td>2 star</td>\n",
       "      <td>7678</td>\n",
       "      <td>Unspecified</td>\n",
       "      <td>Ewallet</td>\n",
       "      <td>Ewallet</td>\n",
       "      <td>Normal</td>\n",
       "      <td>18.0</td>\n",
       "      <td>₹ 159529.19686752</td>\n",
       "    </tr>\n",
       "    <tr>\n",
       "      <th>55</th>\n",
       "      <td>2020-08-05</td>\n",
       "      <td>10526</td>\n",
       "      <td>Jeans</td>\n",
       "      <td>2 star</td>\n",
       "      <td>9482</td>\n",
       "      <td>Unspecified</td>\n",
       "      <td>Direct Deposit</td>\n",
       "      <td>Direct Deposit</td>\n",
       "      <td>Normal</td>\n",
       "      <td>10.0</td>\n",
       "      <td>₹ 321706.90933682</td>\n",
       "    </tr>\n",
       "    <tr>\n",
       "      <th>61</th>\n",
       "      <td>2020-08-21</td>\n",
       "      <td>10532</td>\n",
       "      <td>Jeans</td>\n",
       "      <td>2 star</td>\n",
       "      <td>8399</td>\n",
       "      <td>Female</td>\n",
       "      <td>Credit Card</td>\n",
       "      <td>Credit Card</td>\n",
       "      <td>Economy</td>\n",
       "      <td>8.0</td>\n",
       "      <td>€ 4,773.37</td>\n",
       "    </tr>\n",
       "    <tr>\n",
       "      <th>65</th>\n",
       "      <td>2020-08-31</td>\n",
       "      <td>10536</td>\n",
       "      <td>Jeans</td>\n",
       "      <td>1 star</td>\n",
       "      <td>6878</td>\n",
       "      <td>Male</td>\n",
       "      <td>Prepaid Card</td>\n",
       "      <td>Prepaid Card</td>\n",
       "      <td>Express</td>\n",
       "      <td>10.0</td>\n",
       "      <td>$7,072.56</td>\n",
       "    </tr>\n",
       "    <tr>\n",
       "      <th>99</th>\n",
       "      <td>2020-08-29</td>\n",
       "      <td>10570</td>\n",
       "      <td>Jeans</td>\n",
       "      <td>1 star</td>\n",
       "      <td>7807</td>\n",
       "      <td>Unspecified</td>\n",
       "      <td>Credit Card</td>\n",
       "      <td>Credit Card</td>\n",
       "      <td>Mail</td>\n",
       "      <td>6.0</td>\n",
       "      <td>£ 6232.343745500001</td>\n",
       "    </tr>\n",
       "  </tbody>\n",
       "</table>\n",
       "</div>"
      ],
      "text/plain": [
       "         Date  CustomerID ProductType  Rating  Total_Ratings       Gender  \\\n",
       "7  2020-08-08       10478       Jeans  1 star           8554  Unspecified   \n",
       "29 2020-08-02       10500       Jeans  1 star           9410  Unspecified   \n",
       "38 2020-08-29       10509       Jeans  1 star           7352  Unspecified   \n",
       "45 2020-08-25       10516       Jeans  3 star           7033         Male   \n",
       "47 2020-08-21       10518       Jeans  2 star           7285       Female   \n",
       "48 2020-08-20       10519       Jeans  2 star           7678  Unspecified   \n",
       "55 2020-08-05       10526       Jeans  2 star           9482  Unspecified   \n",
       "61 2020-08-21       10532       Jeans  2 star           8399       Female   \n",
       "65 2020-08-31       10536       Jeans  1 star           6878         Male   \n",
       "99 2020-08-29       10570       Jeans  1 star           7807  Unspecified   \n",
       "\n",
       "       PaymentMode   PaymentMode.1 ShippingMode  ShippingTime  \\\n",
       "7   Direct Deposit  Direct Deposit         Mail          18.0   \n",
       "29  Direct Deposit  Direct Deposit         Mail           5.0   \n",
       "38     Credit Card      Creditcard      Express           9.0   \n",
       "45  Direct Deposit             NaN       Normal          14.0   \n",
       "47     Credit Card      Creditcard       Normal          14.0   \n",
       "48         Ewallet         Ewallet       Normal          18.0   \n",
       "55  Direct Deposit  Direct Deposit       Normal          10.0   \n",
       "61     Credit Card     Credit Card      Economy           8.0   \n",
       "65    Prepaid Card    Prepaid Card      Express          10.0   \n",
       "99     Credit Card     Credit Card         Mail           6.0   \n",
       "\n",
       "                  Price  \n",
       "7            $4,287.06   \n",
       "29      $21,312,321.13   \n",
       "38           $2,591.72   \n",
       "45    ₹ 167727.12548098  \n",
       "47           € 2,773.90  \n",
       "48    ₹ 159529.19686752  \n",
       "55    ₹ 321706.90933682  \n",
       "61           € 4,773.37  \n",
       "65           $7,072.56   \n",
       "99  £ 6232.343745500001  "
      ]
     },
     "execution_count": 64,
     "metadata": {},
     "output_type": "execute_result"
    }
   ],
   "source": [
    "data.groupby('ProductType').filter(lambda val:val['Total_Ratings'].mean()>7800)"
   ]
  },
  {
   "cell_type": "markdown",
   "metadata": {},
   "source": [
    "### Tranforming"
   ]
  },
  {
   "cell_type": "code",
   "execution_count": 65,
   "metadata": {},
   "outputs": [],
   "source": [
    "from bs4 import BeautifulSoup\n",
    "import requests as rq"
   ]
  },
  {
   "cell_type": "code",
   "execution_count": 66,
   "metadata": {},
   "outputs": [
    {
     "data": {
      "text/html": [
       "<div>\n",
       "<style scoped>\n",
       "    .dataframe tbody tr th:only-of-type {\n",
       "        vertical-align: middle;\n",
       "    }\n",
       "\n",
       "    .dataframe tbody tr th {\n",
       "        vertical-align: top;\n",
       "    }\n",
       "\n",
       "    .dataframe thead th {\n",
       "        text-align: right;\n",
       "    }\n",
       "</style>\n",
       "<table border=\"1\" class=\"dataframe\">\n",
       "  <thead>\n",
       "    <tr style=\"text-align: right;\">\n",
       "      <th></th>\n",
       "      <th>Col_name</th>\n",
       "      <th>Null Values</th>\n",
       "      <th>Count_Nulls</th>\n",
       "      <th>Percentage_Nulls</th>\n",
       "      <th>DataType</th>\n",
       "    </tr>\n",
       "  </thead>\n",
       "  <tbody>\n",
       "    <tr>\n",
       "      <th>7</th>\n",
       "      <td>PaymentMode.1</td>\n",
       "      <td>True</td>\n",
       "      <td>5</td>\n",
       "      <td>5.494505</td>\n",
       "      <td>object</td>\n",
       "    </tr>\n",
       "    <tr>\n",
       "      <th>10</th>\n",
       "      <td>Price</td>\n",
       "      <td>True</td>\n",
       "      <td>1</td>\n",
       "      <td>1.098901</td>\n",
       "      <td>string</td>\n",
       "    </tr>\n",
       "    <tr>\n",
       "      <th>0</th>\n",
       "      <td>Date</td>\n",
       "      <td>False</td>\n",
       "      <td>0</td>\n",
       "      <td>0.000000</td>\n",
       "      <td>datetime64[ns]</td>\n",
       "    </tr>\n",
       "    <tr>\n",
       "      <th>1</th>\n",
       "      <td>CustomerID</td>\n",
       "      <td>False</td>\n",
       "      <td>0</td>\n",
       "      <td>0.000000</td>\n",
       "      <td>int64</td>\n",
       "    </tr>\n",
       "    <tr>\n",
       "      <th>2</th>\n",
       "      <td>ProductType</td>\n",
       "      <td>False</td>\n",
       "      <td>0</td>\n",
       "      <td>0.000000</td>\n",
       "      <td>object</td>\n",
       "    </tr>\n",
       "    <tr>\n",
       "      <th>3</th>\n",
       "      <td>Rating</td>\n",
       "      <td>False</td>\n",
       "      <td>0</td>\n",
       "      <td>0.000000</td>\n",
       "      <td>object</td>\n",
       "    </tr>\n",
       "    <tr>\n",
       "      <th>4</th>\n",
       "      <td>Total_Ratings</td>\n",
       "      <td>False</td>\n",
       "      <td>0</td>\n",
       "      <td>0.000000</td>\n",
       "      <td>int64</td>\n",
       "    </tr>\n",
       "    <tr>\n",
       "      <th>5</th>\n",
       "      <td>Gender</td>\n",
       "      <td>False</td>\n",
       "      <td>0</td>\n",
       "      <td>0.000000</td>\n",
       "      <td>category</td>\n",
       "    </tr>\n",
       "    <tr>\n",
       "      <th>6</th>\n",
       "      <td>PaymentMode</td>\n",
       "      <td>False</td>\n",
       "      <td>0</td>\n",
       "      <td>0.000000</td>\n",
       "      <td>object</td>\n",
       "    </tr>\n",
       "    <tr>\n",
       "      <th>8</th>\n",
       "      <td>ShippingMode</td>\n",
       "      <td>False</td>\n",
       "      <td>0</td>\n",
       "      <td>0.000000</td>\n",
       "      <td>string</td>\n",
       "    </tr>\n",
       "    <tr>\n",
       "      <th>9</th>\n",
       "      <td>ShippingTime</td>\n",
       "      <td>False</td>\n",
       "      <td>0</td>\n",
       "      <td>0.000000</td>\n",
       "      <td>float64</td>\n",
       "    </tr>\n",
       "  </tbody>\n",
       "</table>\n",
       "</div>"
      ],
      "text/plain": [
       "         Col_name  Null Values  Count_Nulls  Percentage_Nulls        DataType\n",
       "7   PaymentMode.1         True            5          5.494505          object\n",
       "10          Price         True            1          1.098901          string\n",
       "0            Date        False            0          0.000000  datetime64[ns]\n",
       "1      CustomerID        False            0          0.000000           int64\n",
       "2     ProductType        False            0          0.000000          object\n",
       "3          Rating        False            0          0.000000          object\n",
       "4   Total_Ratings        False            0          0.000000           int64\n",
       "5          Gender        False            0          0.000000        category\n",
       "6     PaymentMode        False            0          0.000000          object\n",
       "8    ShippingMode        False            0          0.000000          string\n",
       "9    ShippingTime        False            0          0.000000         float64"
      ]
     },
     "execution_count": 66,
     "metadata": {},
     "output_type": "execute_result"
    }
   ],
   "source": [
    "# Let's check for missing values \n",
    "check_miss(data)"
   ]
  },
  {
   "cell_type": "markdown",
   "metadata": {},
   "source": [
    "##### There is still a missing value in Price column"
   ]
  },
  {
   "cell_type": "code",
   "execution_count": 67,
   "metadata": {},
   "outputs": [
    {
     "data": {
      "text/html": [
       "<div>\n",
       "<style scoped>\n",
       "    .dataframe tbody tr th:only-of-type {\n",
       "        vertical-align: middle;\n",
       "    }\n",
       "\n",
       "    .dataframe tbody tr th {\n",
       "        vertical-align: top;\n",
       "    }\n",
       "\n",
       "    .dataframe thead th {\n",
       "        text-align: right;\n",
       "    }\n",
       "</style>\n",
       "<table border=\"1\" class=\"dataframe\">\n",
       "  <thead>\n",
       "    <tr style=\"text-align: right;\">\n",
       "      <th></th>\n",
       "      <th>Date</th>\n",
       "      <th>CustomerID</th>\n",
       "      <th>ProductType</th>\n",
       "      <th>Rating</th>\n",
       "      <th>Total_Ratings</th>\n",
       "      <th>Gender</th>\n",
       "      <th>PaymentMode</th>\n",
       "      <th>PaymentMode.1</th>\n",
       "      <th>ShippingMode</th>\n",
       "      <th>ShippingTime</th>\n",
       "      <th>Price</th>\n",
       "    </tr>\n",
       "  </thead>\n",
       "  <tbody>\n",
       "    <tr>\n",
       "      <th>5</th>\n",
       "      <td>2020-08-28</td>\n",
       "      <td>10476</td>\n",
       "      <td>Coats/Jackets</td>\n",
       "      <td>2 star</td>\n",
       "      <td>5347</td>\n",
       "      <td>Female</td>\n",
       "      <td>Direct Deposit</td>\n",
       "      <td>Direct Deposit</td>\n",
       "      <td>Mail</td>\n",
       "      <td>20.0</td>\n",
       "      <td>&lt;NA&gt;</td>\n",
       "    </tr>\n",
       "  </tbody>\n",
       "</table>\n",
       "</div>"
      ],
      "text/plain": [
       "        Date  CustomerID    ProductType  Rating  Total_Ratings  Gender  \\\n",
       "5 2020-08-28       10476  Coats/Jackets  2 star           5347  Female   \n",
       "\n",
       "      PaymentMode   PaymentMode.1 ShippingMode  ShippingTime Price  \n",
       "5  Direct Deposit  Direct Deposit         Mail          20.0  <NA>  "
      ]
     },
     "execution_count": 67,
     "metadata": {},
     "output_type": "execute_result"
    }
   ],
   "source": [
    "data[data.Price.isna()==True]"
   ]
  },
  {
   "cell_type": "markdown",
   "metadata": {},
   "source": [
    "##### We will convert the value to 0 for now."
   ]
  },
  {
   "cell_type": "code",
   "execution_count": 68,
   "metadata": {},
   "outputs": [],
   "source": [
    "# Getting all the exchange rates\n",
    "res=rq.get('https://x-rates.com/table/?from=USD&amount=1')\n",
    "soup=BeautifulSoup(res.content)\n",
    "qq=soup.tbody\n",
    "erate=[]\n",
    "for i in qq.find_all('td',class_='rtRates')[1:6:2]:\n",
    "    erate.append(float(i.text))"
   ]
  },
  {
   "cell_type": "code",
   "execution_count": 69,
   "metadata": {},
   "outputs": [],
   "source": [
    "currency=['$','€','£','₹']"
   ]
  },
  {
   "cell_type": "code",
   "execution_count": 70,
   "metadata": {},
   "outputs": [],
   "source": [
    "def currency(i):\n",
    "    if pd.isna(i):\n",
    "        return ''\n",
    "    if '$' in i:\n",
    "        return 'American Dollar'\n",
    "    elif '€' in i:\n",
    "        return 'Euro'\n",
    "    elif '£' in i:\n",
    "        return 'British Pound'\n",
    "    elif '₹' in i:\n",
    "        return 'Indian Rupee'\n",
    "    else:\n",
    "        return ''"
   ]
  },
  {
   "cell_type": "code",
   "execution_count": 71,
   "metadata": {},
   "outputs": [],
   "source": [
    "PaidCurrency=data.Price.apply(currency)"
   ]
  },
  {
   "cell_type": "code",
   "execution_count": 72,
   "metadata": {},
   "outputs": [],
   "source": [
    "data['PaidCurrency']=PaidCurrency"
   ]
  },
  {
   "cell_type": "code",
   "execution_count": 73,
   "metadata": {},
   "outputs": [],
   "source": [
    "data['Price_dollar']=data.Price"
   ]
  },
  {
   "cell_type": "code",
   "execution_count": 74,
   "metadata": {},
   "outputs": [],
   "source": [
    "data.Price_dollar=data.Price_dollar.str.replace('$','')\n",
    "data.Price_dollar=data.Price_dollar.str.replace('€','')\n",
    "data.Price_dollar=data.Price_dollar.str.replace('£','')\n",
    "data.Price_dollar=data.Price_dollar.str.replace('₹','')\n",
    "data.Price_dollar=data.Price_dollar.str.replace(',','')"
   ]
  },
  {
   "cell_type": "code",
   "execution_count": 75,
   "metadata": {},
   "outputs": [],
   "source": [
    "data.Price_dollar.fillna('0',inplace=True)"
   ]
  },
  {
   "cell_type": "code",
   "execution_count": 76,
   "metadata": {},
   "outputs": [],
   "source": [
    "data.Price_dollar=data.Price_dollar.astype('float')"
   ]
  },
  {
   "cell_type": "code",
   "execution_count": 77,
   "metadata": {},
   "outputs": [],
   "source": [
    "price_dollar=[]\n",
    "for i in range(100):\n",
    "    try:\n",
    "        if data.PaidCurrency[i]=='Indian Rupee':\n",
    "            price_dollar.append(data.Price_dollar[i]*erate[2])\n",
    "        elif data.PaidCurrency[i]=='British Pound':\n",
    "            price_dollar.append(data.Price_dollar[i]*erate[1])\n",
    "        elif data.PaidCurrency[i]=='Euro':\n",
    "            price_dollar.append(data.Price_dollar[i]*erate[0])\n",
    "        else:\n",
    "            price_dollar.append(data.Price_dollar[i])\n",
    "    except KeyError:\n",
    "        continue"
   ]
  },
  {
   "cell_type": "code",
   "execution_count": 78,
   "metadata": {},
   "outputs": [],
   "source": [
    "data.Price_dollar=price_dollar"
   ]
  },
  {
   "cell_type": "code",
   "execution_count": 79,
   "metadata": {},
   "outputs": [
    {
     "data": {
      "text/html": [
       "<div>\n",
       "<style scoped>\n",
       "    .dataframe tbody tr th:only-of-type {\n",
       "        vertical-align: middle;\n",
       "    }\n",
       "\n",
       "    .dataframe tbody tr th {\n",
       "        vertical-align: top;\n",
       "    }\n",
       "\n",
       "    .dataframe thead th {\n",
       "        text-align: right;\n",
       "    }\n",
       "</style>\n",
       "<table border=\"1\" class=\"dataframe\">\n",
       "  <thead>\n",
       "    <tr style=\"text-align: right;\">\n",
       "      <th></th>\n",
       "      <th>Date</th>\n",
       "      <th>CustomerID</th>\n",
       "      <th>ProductType</th>\n",
       "      <th>Rating</th>\n",
       "      <th>Total_Ratings</th>\n",
       "      <th>Gender</th>\n",
       "      <th>PaymentMode</th>\n",
       "      <th>PaymentMode.1</th>\n",
       "      <th>ShippingMode</th>\n",
       "      <th>ShippingTime</th>\n",
       "      <th>Price</th>\n",
       "      <th>PaidCurrency</th>\n",
       "      <th>Price_dollar</th>\n",
       "    </tr>\n",
       "  </thead>\n",
       "  <tbody>\n",
       "    <tr>\n",
       "      <th>0</th>\n",
       "      <td>2020-08-16</td>\n",
       "      <td>10471</td>\n",
       "      <td>Coats/Jackets</td>\n",
       "      <td>1 star</td>\n",
       "      <td>8736</td>\n",
       "      <td>Female</td>\n",
       "      <td>Credit Card</td>\n",
       "      <td>Creditcard</td>\n",
       "      <td>Economy</td>\n",
       "      <td>17.0</td>\n",
       "      <td>₹ 675036.2138626401</td>\n",
       "      <td>Indian Rupee</td>\n",
       "      <td>9210.194102</td>\n",
       "    </tr>\n",
       "    <tr>\n",
       "      <th>1</th>\n",
       "      <td>2020-08-02</td>\n",
       "      <td>10472</td>\n",
       "      <td>Dresses</td>\n",
       "      <td>2 star</td>\n",
       "      <td>8547</td>\n",
       "      <td>Unspecified</td>\n",
       "      <td>Ewallet</td>\n",
       "      <td>Ewallet</td>\n",
       "      <td>Mail</td>\n",
       "      <td>12.0</td>\n",
       "      <td>€ 2,315.53</td>\n",
       "      <td>Euro</td>\n",
       "      <td>2743.889157</td>\n",
       "    </tr>\n",
       "    <tr>\n",
       "      <th>2</th>\n",
       "      <td>2020-08-08</td>\n",
       "      <td>10473</td>\n",
       "      <td>Coats/Jackets</td>\n",
       "      <td>2 star</td>\n",
       "      <td>9833</td>\n",
       "      <td>Unspecified</td>\n",
       "      <td>Prepaid Card</td>\n",
       "      <td>Prepaid Card</td>\n",
       "      <td>Mail</td>\n",
       "      <td>10.0</td>\n",
       "      <td>₹ 611426.29122378</td>\n",
       "      <td>Indian Rupee</td>\n",
       "      <td>8342.300317</td>\n",
       "    </tr>\n",
       "    <tr>\n",
       "      <th>5</th>\n",
       "      <td>2020-08-28</td>\n",
       "      <td>10476</td>\n",
       "      <td>Coats/Jackets</td>\n",
       "      <td>2 star</td>\n",
       "      <td>5347</td>\n",
       "      <td>Female</td>\n",
       "      <td>Direct Deposit</td>\n",
       "      <td>Direct Deposit</td>\n",
       "      <td>Mail</td>\n",
       "      <td>20.0</td>\n",
       "      <td>&lt;NA&gt;</td>\n",
       "      <td></td>\n",
       "      <td>0.000000</td>\n",
       "    </tr>\n",
       "    <tr>\n",
       "      <th>6</th>\n",
       "      <td>2020-08-08</td>\n",
       "      <td>10477</td>\n",
       "      <td>Coats/Jackets</td>\n",
       "      <td>5 star</td>\n",
       "      <td>9406</td>\n",
       "      <td>Unspecified</td>\n",
       "      <td>Direct Deposit</td>\n",
       "      <td>Direct Deposit</td>\n",
       "      <td>Mail</td>\n",
       "      <td>14.0</td>\n",
       "      <td>£ 6610.077565000001</td>\n",
       "      <td>British Pound</td>\n",
       "      <td>8774.342551</td>\n",
       "    </tr>\n",
       "  </tbody>\n",
       "</table>\n",
       "</div>"
      ],
      "text/plain": [
       "        Date  CustomerID    ProductType  Rating  Total_Ratings       Gender  \\\n",
       "0 2020-08-16       10471  Coats/Jackets  1 star           8736       Female   \n",
       "1 2020-08-02       10472        Dresses  2 star           8547  Unspecified   \n",
       "2 2020-08-08       10473  Coats/Jackets  2 star           9833  Unspecified   \n",
       "5 2020-08-28       10476  Coats/Jackets  2 star           5347       Female   \n",
       "6 2020-08-08       10477  Coats/Jackets  5 star           9406  Unspecified   \n",
       "\n",
       "      PaymentMode   PaymentMode.1 ShippingMode  ShippingTime  \\\n",
       "0     Credit Card      Creditcard      Economy          17.0   \n",
       "1         Ewallet         Ewallet         Mail          12.0   \n",
       "2    Prepaid Card    Prepaid Card         Mail          10.0   \n",
       "5  Direct Deposit  Direct Deposit         Mail          20.0   \n",
       "6  Direct Deposit  Direct Deposit         Mail          14.0   \n",
       "\n",
       "                 Price   PaidCurrency  Price_dollar  \n",
       "0  ₹ 675036.2138626401   Indian Rupee   9210.194102  \n",
       "1           € 2,315.53           Euro   2743.889157  \n",
       "2    ₹ 611426.29122378   Indian Rupee   8342.300317  \n",
       "5                 <NA>                     0.000000  \n",
       "6  £ 6610.077565000001  British Pound   8774.342551  "
      ]
     },
     "execution_count": 79,
     "metadata": {},
     "output_type": "execute_result"
    }
   ],
   "source": [
    "data.head()"
   ]
  },
  {
   "cell_type": "code",
   "execution_count": 80,
   "metadata": {},
   "outputs": [
    {
     "data": {
      "text/html": [
       "<div>\n",
       "<style scoped>\n",
       "    .dataframe tbody tr th:only-of-type {\n",
       "        vertical-align: middle;\n",
       "    }\n",
       "\n",
       "    .dataframe tbody tr th {\n",
       "        vertical-align: top;\n",
       "    }\n",
       "\n",
       "    .dataframe thead th {\n",
       "        text-align: right;\n",
       "    }\n",
       "</style>\n",
       "<table border=\"1\" class=\"dataframe\">\n",
       "  <thead>\n",
       "    <tr style=\"text-align: right;\">\n",
       "      <th></th>\n",
       "      <th>CustomerID</th>\n",
       "      <th>Price</th>\n",
       "      <th>PaidCurrency</th>\n",
       "    </tr>\n",
       "  </thead>\n",
       "  <tbody>\n",
       "    <tr>\n",
       "      <th>0</th>\n",
       "      <td>10471</td>\n",
       "      <td>₹ 675036.2138626401</td>\n",
       "      <td>Indian Rupee</td>\n",
       "    </tr>\n",
       "    <tr>\n",
       "      <th>1</th>\n",
       "      <td>10472</td>\n",
       "      <td>€ 2,315.53</td>\n",
       "      <td>Euro</td>\n",
       "    </tr>\n",
       "    <tr>\n",
       "      <th>2</th>\n",
       "      <td>10473</td>\n",
       "      <td>₹ 611426.29122378</td>\n",
       "      <td>Indian Rupee</td>\n",
       "    </tr>\n",
       "    <tr>\n",
       "      <th>5</th>\n",
       "      <td>10476</td>\n",
       "      <td>&lt;NA&gt;</td>\n",
       "      <td></td>\n",
       "    </tr>\n",
       "    <tr>\n",
       "      <th>6</th>\n",
       "      <td>10477</td>\n",
       "      <td>£ 6610.077565000001</td>\n",
       "      <td>British Pound</td>\n",
       "    </tr>\n",
       "    <tr>\n",
       "      <th>7</th>\n",
       "      <td>10478</td>\n",
       "      <td>$4,287.06</td>\n",
       "      <td>American Dollar</td>\n",
       "    </tr>\n",
       "    <tr>\n",
       "      <th>8</th>\n",
       "      <td>10479</td>\n",
       "      <td>£ 3010.212198</td>\n",
       "      <td>British Pound</td>\n",
       "    </tr>\n",
       "    <tr>\n",
       "      <th>9</th>\n",
       "      <td>10480</td>\n",
       "      <td>£ 4032878.5368307503</td>\n",
       "      <td>British Pound</td>\n",
       "    </tr>\n",
       "    <tr>\n",
       "      <th>10</th>\n",
       "      <td>10481</td>\n",
       "      <td>€ 3,702.54</td>\n",
       "      <td>Euro</td>\n",
       "    </tr>\n",
       "  </tbody>\n",
       "</table>\n",
       "</div>"
      ],
      "text/plain": [
       "    CustomerID                 Price     PaidCurrency\n",
       "0        10471   ₹ 675036.2138626401     Indian Rupee\n",
       "1        10472            € 2,315.53             Euro\n",
       "2        10473     ₹ 611426.29122378     Indian Rupee\n",
       "5        10476                  <NA>                 \n",
       "6        10477   £ 6610.077565000001    British Pound\n",
       "7        10478            $4,287.06   American Dollar\n",
       "8        10479         £ 3010.212198    British Pound\n",
       "9        10480  £ 4032878.5368307503    British Pound\n",
       "10       10481            € 3,702.54             Euro"
      ]
     },
     "execution_count": 80,
     "metadata": {},
     "output_type": "execute_result"
    }
   ],
   "source": [
    "data[['CustomerID','Price','PaidCurrency']].head(9)"
   ]
  },
  {
   "cell_type": "code",
   "execution_count": 81,
   "metadata": {},
   "outputs": [
    {
     "data": {
      "text/plain": [
       "<matplotlib.axes._subplots.AxesSubplot at 0x7f6be6328190>"
      ]
     },
     "execution_count": 81,
     "metadata": {},
     "output_type": "execute_result"
    },
    {
     "data": {
      "image/png": "[encoded data removed]",
      "text/plain": [
       "<Figure size 432x288 with 1 Axes>"
      ]
     },
     "metadata": {
      "needs_background": "light"
     },
     "output_type": "display_data"
    }
   ],
   "source": [
    "# Since we have just transformed the Price ranges we will have to recheck for missing values and outliers again\n",
    "data.boxplot(column='Price_dollar')"
   ]
  },
  {
   "cell_type": "markdown",
   "metadata": {},
   "source": [
    "There are 3 outliers present in the data."
   ]
  },
  {
   "cell_type": "code",
   "execution_count": 82,
   "metadata": {},
   "outputs": [],
   "source": [
    "# Pandas allows you to get quantiles using quantile function\n",
    "Q1 = data['Price_dollar'].quantile(0.25)\n",
    "Q3 = data['Price_dollar'].quantile(0.75)\n",
    "IQR = Q3 - Q1"
   ]
  },
  {
   "cell_type": "code",
   "execution_count": 83,
   "metadata": {},
   "outputs": [
    {
     "name": "stdout",
     "output_type": "stream",
     "text": [
      "The IQR value is 4925.2835664978265\n"
     ]
    }
   ],
   "source": [
    "print('The IQR value is',IQR)"
   ]
  },
  {
   "cell_type": "code",
   "execution_count": 84,
   "metadata": {},
   "outputs": [],
   "source": [
    "# Let's see which entries are outliers\n",
    "outliers=data[(data.Price_dollar < (Q1 - 1.5 * IQR)) |(data.Price_dollar > (Q3 + 1.5 * IQR))]"
   ]
  },
  {
   "cell_type": "code",
   "execution_count": 85,
   "metadata": {},
   "outputs": [
    {
     "data": {
      "text/html": [
       "<div>\n",
       "<style scoped>\n",
       "    .dataframe tbody tr th:only-of-type {\n",
       "        vertical-align: middle;\n",
       "    }\n",
       "\n",
       "    .dataframe tbody tr th {\n",
       "        vertical-align: top;\n",
       "    }\n",
       "\n",
       "    .dataframe thead th {\n",
       "        text-align: right;\n",
       "    }\n",
       "</style>\n",
       "<table border=\"1\" class=\"dataframe\">\n",
       "  <thead>\n",
       "    <tr style=\"text-align: right;\">\n",
       "      <th></th>\n",
       "      <th>Date</th>\n",
       "      <th>CustomerID</th>\n",
       "      <th>ProductType</th>\n",
       "      <th>Rating</th>\n",
       "      <th>Total_Ratings</th>\n",
       "      <th>Gender</th>\n",
       "      <th>PaymentMode</th>\n",
       "      <th>PaymentMode.1</th>\n",
       "      <th>ShippingMode</th>\n",
       "      <th>ShippingTime</th>\n",
       "      <th>Price</th>\n",
       "      <th>PaidCurrency</th>\n",
       "      <th>Price_dollar</th>\n",
       "    </tr>\n",
       "  </thead>\n",
       "  <tbody>\n",
       "    <tr>\n",
       "      <th>9</th>\n",
       "      <td>2020-08-16</td>\n",
       "      <td>10480</td>\n",
       "      <td>Pants</td>\n",
       "      <td>1 star</td>\n",
       "      <td>6914</td>\n",
       "      <td>Female</td>\n",
       "      <td>Prepaid Card</td>\n",
       "      <td>Prepaid Card</td>\n",
       "      <td>Express</td>\n",
       "      <td>19.0</td>\n",
       "      <td>£ 4032878.5368307503</td>\n",
       "      <td>British Pound</td>\n",
       "      <td>5.353320e+06</td>\n",
       "    </tr>\n",
       "    <tr>\n",
       "      <th>16</th>\n",
       "      <td>2020-08-17</td>\n",
       "      <td>10487</td>\n",
       "      <td>Pants</td>\n",
       "      <td>2 star</td>\n",
       "      <td>5783</td>\n",
       "      <td>Female</td>\n",
       "      <td>Credit Card</td>\n",
       "      <td>Credit Card</td>\n",
       "      <td>Economy</td>\n",
       "      <td>19.0</td>\n",
       "      <td>£ 25773831.320659</td>\n",
       "      <td>British Pound</td>\n",
       "      <td>3.421267e+07</td>\n",
       "    </tr>\n",
       "    <tr>\n",
       "      <th>29</th>\n",
       "      <td>2020-08-02</td>\n",
       "      <td>10500</td>\n",
       "      <td>Jeans</td>\n",
       "      <td>1 star</td>\n",
       "      <td>9410</td>\n",
       "      <td>Unspecified</td>\n",
       "      <td>Direct Deposit</td>\n",
       "      <td>Direct Deposit</td>\n",
       "      <td>Mail</td>\n",
       "      <td>5.0</td>\n",
       "      <td>$21,312,321.13</td>\n",
       "      <td>American Dollar</td>\n",
       "      <td>2.131232e+07</td>\n",
       "    </tr>\n",
       "  </tbody>\n",
       "</table>\n",
       "</div>"
      ],
      "text/plain": [
       "         Date  CustomerID ProductType  Rating  Total_Ratings       Gender  \\\n",
       "9  2020-08-16       10480       Pants  1 star           6914       Female   \n",
       "16 2020-08-17       10487       Pants  2 star           5783       Female   \n",
       "29 2020-08-02       10500       Jeans  1 star           9410  Unspecified   \n",
       "\n",
       "       PaymentMode   PaymentMode.1 ShippingMode  ShippingTime  \\\n",
       "9     Prepaid Card    Prepaid Card      Express          19.0   \n",
       "16     Credit Card     Credit Card      Economy          19.0   \n",
       "29  Direct Deposit  Direct Deposit         Mail           5.0   \n",
       "\n",
       "                   Price     PaidCurrency  Price_dollar  \n",
       "9   £ 4032878.5368307503    British Pound  5.353320e+06  \n",
       "16     £ 25773831.320659    British Pound  3.421267e+07  \n",
       "29       $21,312,321.13   American Dollar  2.131232e+07  "
      ]
     },
     "execution_count": 85,
     "metadata": {},
     "output_type": "execute_result"
    }
   ],
   "source": [
    "outliers"
   ]
  },
  {
   "cell_type": "code",
   "execution_count": 86,
   "metadata": {},
   "outputs": [],
   "source": [
    "data.drop([9,16,29],axis=0,inplace=True)"
   ]
  },
  {
   "cell_type": "code",
   "execution_count": 87,
   "metadata": {},
   "outputs": [
    {
     "data": {
      "text/html": [
       "<div>\n",
       "<style scoped>\n",
       "    .dataframe tbody tr th:only-of-type {\n",
       "        vertical-align: middle;\n",
       "    }\n",
       "\n",
       "    .dataframe tbody tr th {\n",
       "        vertical-align: top;\n",
       "    }\n",
       "\n",
       "    .dataframe thead th {\n",
       "        text-align: right;\n",
       "    }\n",
       "</style>\n",
       "<table border=\"1\" class=\"dataframe\">\n",
       "  <thead>\n",
       "    <tr style=\"text-align: right;\">\n",
       "      <th></th>\n",
       "      <th>Date</th>\n",
       "      <th>CustomerID</th>\n",
       "      <th>ProductType</th>\n",
       "      <th>Rating</th>\n",
       "      <th>Total_Ratings</th>\n",
       "      <th>Gender</th>\n",
       "      <th>PaymentMode</th>\n",
       "      <th>PaymentMode.1</th>\n",
       "      <th>ShippingMode</th>\n",
       "      <th>ShippingTime</th>\n",
       "      <th>Price</th>\n",
       "      <th>PaidCurrency</th>\n",
       "      <th>Price_dollar</th>\n",
       "    </tr>\n",
       "  </thead>\n",
       "  <tbody>\n",
       "    <tr>\n",
       "      <th>8</th>\n",
       "      <td>2020-08-01</td>\n",
       "      <td>10479</td>\n",
       "      <td>Pants</td>\n",
       "      <td>4 star</td>\n",
       "      <td>9630</td>\n",
       "      <td>Male</td>\n",
       "      <td>Direct Deposit</td>\n",
       "      <td>Direct Deposit</td>\n",
       "      <td>Express</td>\n",
       "      <td>12.822222</td>\n",
       "      <td>£ 3010.212198</td>\n",
       "      <td>British Pound</td>\n",
       "      <td>3995.812866</td>\n",
       "    </tr>\n",
       "    <tr>\n",
       "      <th>11</th>\n",
       "      <td>2020-08-18</td>\n",
       "      <td>10482</td>\n",
       "      <td>Pants</td>\n",
       "      <td>5 star</td>\n",
       "      <td>7816</td>\n",
       "      <td>Female</td>\n",
       "      <td>Mobile Payment</td>\n",
       "      <td>Mobile Payment</td>\n",
       "      <td>Mail</td>\n",
       "      <td>10.000000</td>\n",
       "      <td>€ 6,580.20</td>\n",
       "      <td>Euro</td>\n",
       "      <td>7797.497519</td>\n",
       "    </tr>\n",
       "    <tr>\n",
       "      <th>22</th>\n",
       "      <td>2020-08-04</td>\n",
       "      <td>10493</td>\n",
       "      <td>Pants</td>\n",
       "      <td>4 star</td>\n",
       "      <td>6943</td>\n",
       "      <td>Unspecified</td>\n",
       "      <td>Ewallet</td>\n",
       "      <td>Ewallet</td>\n",
       "      <td>Normal</td>\n",
       "      <td>17.000000</td>\n",
       "      <td>₹ 634808.1963701401</td>\n",
       "      <td>Indian Rupee</td>\n",
       "      <td>8661.323031</td>\n",
       "    </tr>\n",
       "    <tr>\n",
       "      <th>28</th>\n",
       "      <td>2020-08-30</td>\n",
       "      <td>10499</td>\n",
       "      <td>Pants</td>\n",
       "      <td>4 star</td>\n",
       "      <td>7160</td>\n",
       "      <td>Unspecified</td>\n",
       "      <td>Cash</td>\n",
       "      <td>Cash</td>\n",
       "      <td>Economy</td>\n",
       "      <td>17.000000</td>\n",
       "      <td>₹ 176647.10500702</td>\n",
       "      <td>Indian Rupee</td>\n",
       "      <td>2410.173101</td>\n",
       "    </tr>\n",
       "    <tr>\n",
       "      <th>30</th>\n",
       "      <td>2020-08-31</td>\n",
       "      <td>10501</td>\n",
       "      <td>Pants</td>\n",
       "      <td>4 star</td>\n",
       "      <td>6569</td>\n",
       "      <td>Unspecified</td>\n",
       "      <td>Credit Card</td>\n",
       "      <td>Creditcard</td>\n",
       "      <td>Normal</td>\n",
       "      <td>9.000000</td>\n",
       "      <td>₹ 581033.69733056</td>\n",
       "      <td>Indian Rupee</td>\n",
       "      <td>7927.623766</td>\n",
       "    </tr>\n",
       "    <tr>\n",
       "      <th>41</th>\n",
       "      <td>2020-08-02</td>\n",
       "      <td>10512</td>\n",
       "      <td>Pants</td>\n",
       "      <td>2 star</td>\n",
       "      <td>6416</td>\n",
       "      <td>Male</td>\n",
       "      <td>Credit Card</td>\n",
       "      <td>Creditcard</td>\n",
       "      <td>Economy</td>\n",
       "      <td>20.000000</td>\n",
       "      <td>£ 5925.050872750001</td>\n",
       "      <td>British Pound</td>\n",
       "      <td>7865.025104</td>\n",
       "    </tr>\n",
       "    <tr>\n",
       "      <th>60</th>\n",
       "      <td>2020-08-30</td>\n",
       "      <td>10531</td>\n",
       "      <td>Pants</td>\n",
       "      <td>1 star</td>\n",
       "      <td>8535</td>\n",
       "      <td>Unspecified</td>\n",
       "      <td>Direct Deposit</td>\n",
       "      <td>Direct Deposit</td>\n",
       "      <td>Normal</td>\n",
       "      <td>18.000000</td>\n",
       "      <td>€ 5,597.06</td>\n",
       "      <td>Euro</td>\n",
       "      <td>6632.482518</td>\n",
       "    </tr>\n",
       "    <tr>\n",
       "      <th>68</th>\n",
       "      <td>2020-08-02</td>\n",
       "      <td>10539</td>\n",
       "      <td>Pants</td>\n",
       "      <td>4 star</td>\n",
       "      <td>7374</td>\n",
       "      <td>Female</td>\n",
       "      <td>Credit Card</td>\n",
       "      <td>Credit Card</td>\n",
       "      <td>Normal</td>\n",
       "      <td>12.000000</td>\n",
       "      <td>$1,842.56</td>\n",
       "      <td>American Dollar</td>\n",
       "      <td>1842.560000</td>\n",
       "    </tr>\n",
       "    <tr>\n",
       "      <th>78</th>\n",
       "      <td>2020-08-18</td>\n",
       "      <td>10549</td>\n",
       "      <td>Pants</td>\n",
       "      <td>3 star</td>\n",
       "      <td>8745</td>\n",
       "      <td>Unspecified</td>\n",
       "      <td>Prepaid Card</td>\n",
       "      <td>Prepaid Card</td>\n",
       "      <td>Mail</td>\n",
       "      <td>10.000000</td>\n",
       "      <td>£ 4060.4158125000004</td>\n",
       "      <td>British Pound</td>\n",
       "      <td>5389.873097</td>\n",
       "    </tr>\n",
       "    <tr>\n",
       "      <th>97</th>\n",
       "      <td>2020-08-25</td>\n",
       "      <td>10568</td>\n",
       "      <td>Pants</td>\n",
       "      <td>3 star</td>\n",
       "      <td>7354</td>\n",
       "      <td>Female</td>\n",
       "      <td>Credit Card</td>\n",
       "      <td>Credit Card</td>\n",
       "      <td>Normal</td>\n",
       "      <td>10.000000</td>\n",
       "      <td>₹ 577078.47118378</td>\n",
       "      <td>Indian Rupee</td>\n",
       "      <td>7873.658661</td>\n",
       "    </tr>\n",
       "  </tbody>\n",
       "</table>\n",
       "</div>"
      ],
      "text/plain": [
       "         Date  CustomerID ProductType  Rating  Total_Ratings       Gender  \\\n",
       "8  2020-08-01       10479       Pants  4 star           9630         Male   \n",
       "11 2020-08-18       10482       Pants  5 star           7816       Female   \n",
       "22 2020-08-04       10493       Pants  4 star           6943  Unspecified   \n",
       "28 2020-08-30       10499       Pants  4 star           7160  Unspecified   \n",
       "30 2020-08-31       10501       Pants  4 star           6569  Unspecified   \n",
       "41 2020-08-02       10512       Pants  2 star           6416         Male   \n",
       "60 2020-08-30       10531       Pants  1 star           8535  Unspecified   \n",
       "68 2020-08-02       10539       Pants  4 star           7374       Female   \n",
       "78 2020-08-18       10549       Pants  3 star           8745  Unspecified   \n",
       "97 2020-08-25       10568       Pants  3 star           7354       Female   \n",
       "\n",
       "       PaymentMode   PaymentMode.1 ShippingMode  ShippingTime  \\\n",
       "8   Direct Deposit  Direct Deposit      Express     12.822222   \n",
       "11  Mobile Payment  Mobile Payment         Mail     10.000000   \n",
       "22         Ewallet         Ewallet       Normal     17.000000   \n",
       "28            Cash            Cash      Economy     17.000000   \n",
       "30     Credit Card      Creditcard       Normal      9.000000   \n",
       "41     Credit Card      Creditcard      Economy     20.000000   \n",
       "60  Direct Deposit  Direct Deposit       Normal     18.000000   \n",
       "68     Credit Card     Credit Card       Normal     12.000000   \n",
       "78    Prepaid Card    Prepaid Card         Mail     10.000000   \n",
       "97     Credit Card     Credit Card       Normal     10.000000   \n",
       "\n",
       "                   Price     PaidCurrency  Price_dollar  \n",
       "8          £ 3010.212198    British Pound   3995.812866  \n",
       "11            € 6,580.20             Euro   7797.497519  \n",
       "22   ₹ 634808.1963701401     Indian Rupee   8661.323031  \n",
       "28     ₹ 176647.10500702     Indian Rupee   2410.173101  \n",
       "30     ₹ 581033.69733056     Indian Rupee   7927.623766  \n",
       "41   £ 5925.050872750001    British Pound   7865.025104  \n",
       "60            € 5,597.06             Euro   6632.482518  \n",
       "68            $1,842.56   American Dollar   1842.560000  \n",
       "78  £ 4060.4158125000004    British Pound   5389.873097  \n",
       "97     ₹ 577078.47118378     Indian Rupee   7873.658661  "
      ]
     },
     "execution_count": 87,
     "metadata": {},
     "output_type": "execute_result"
    }
   ],
   "source": [
    "# lets try to filter entries with product type average expense is more than 6000\n",
    "data.groupby('ProductType').filter(lambda val:val['Price_dollar'].mean()>6000)"
   ]
  },
  {
   "cell_type": "markdown",
   "metadata": {},
   "source": [
    "### Encoding"
   ]
  },
  {
   "cell_type": "markdown",
   "metadata": {},
   "source": [
    "#### LabelEncoder"
   ]
  },
  {
   "cell_type": "markdown",
   "metadata": {},
   "source": [
    "Scikit-learn(__sklearn__) is a famous machine learning library which provides a number of data preprocessing methods and machine learning algorithms. \n"
   ]
  },
  {
   "cell_type": "code",
   "execution_count": 88,
   "metadata": {},
   "outputs": [],
   "source": [
    "from sklearn.preprocessing import LabelEncoder"
   ]
  },
  {
   "cell_type": "code",
   "execution_count": 89,
   "metadata": {},
   "outputs": [
    {
     "data": {
      "text/html": [
       "<div>\n",
       "<style scoped>\n",
       "    .dataframe tbody tr th:only-of-type {\n",
       "        vertical-align: middle;\n",
       "    }\n",
       "\n",
       "    .dataframe tbody tr th {\n",
       "        vertical-align: top;\n",
       "    }\n",
       "\n",
       "    .dataframe thead th {\n",
       "        text-align: right;\n",
       "    }\n",
       "</style>\n",
       "<table border=\"1\" class=\"dataframe\">\n",
       "  <thead>\n",
       "    <tr style=\"text-align: right;\">\n",
       "      <th></th>\n",
       "      <th>CustomerID</th>\n",
       "      <th>ProductType</th>\n",
       "      <th>Rating</th>\n",
       "      <th>ShippingMode</th>\n",
       "    </tr>\n",
       "  </thead>\n",
       "  <tbody>\n",
       "    <tr>\n",
       "      <th>0</th>\n",
       "      <td>10471</td>\n",
       "      <td>Coats/Jackets</td>\n",
       "      <td>1 star</td>\n",
       "      <td>Economy</td>\n",
       "    </tr>\n",
       "    <tr>\n",
       "      <th>1</th>\n",
       "      <td>10472</td>\n",
       "      <td>Dresses</td>\n",
       "      <td>2 star</td>\n",
       "      <td>Mail</td>\n",
       "    </tr>\n",
       "    <tr>\n",
       "      <th>2</th>\n",
       "      <td>10473</td>\n",
       "      <td>Coats/Jackets</td>\n",
       "      <td>2 star</td>\n",
       "      <td>Mail</td>\n",
       "    </tr>\n",
       "    <tr>\n",
       "      <th>5</th>\n",
       "      <td>10476</td>\n",
       "      <td>Coats/Jackets</td>\n",
       "      <td>2 star</td>\n",
       "      <td>Mail</td>\n",
       "    </tr>\n",
       "    <tr>\n",
       "      <th>6</th>\n",
       "      <td>10477</td>\n",
       "      <td>Coats/Jackets</td>\n",
       "      <td>5 star</td>\n",
       "      <td>Mail</td>\n",
       "    </tr>\n",
       "    <tr>\n",
       "      <th>7</th>\n",
       "      <td>10478</td>\n",
       "      <td>Jeans</td>\n",
       "      <td>1 star</td>\n",
       "      <td>Mail</td>\n",
       "    </tr>\n",
       "    <tr>\n",
       "      <th>8</th>\n",
       "      <td>10479</td>\n",
       "      <td>Pants</td>\n",
       "      <td>4 star</td>\n",
       "      <td>Express</td>\n",
       "    </tr>\n",
       "    <tr>\n",
       "      <th>10</th>\n",
       "      <td>10481</td>\n",
       "      <td>Dresses</td>\n",
       "      <td>2 star</td>\n",
       "      <td>Economy</td>\n",
       "    </tr>\n",
       "    <tr>\n",
       "      <th>11</th>\n",
       "      <td>10482</td>\n",
       "      <td>Pants</td>\n",
       "      <td>5 star</td>\n",
       "      <td>Mail</td>\n",
       "    </tr>\n",
       "  </tbody>\n",
       "</table>\n",
       "</div>"
      ],
      "text/plain": [
       "    CustomerID    ProductType  Rating ShippingMode\n",
       "0        10471  Coats/Jackets  1 star      Economy\n",
       "1        10472        Dresses  2 star         Mail\n",
       "2        10473  Coats/Jackets  2 star         Mail\n",
       "5        10476  Coats/Jackets  2 star         Mail\n",
       "6        10477  Coats/Jackets  5 star         Mail\n",
       "7        10478          Jeans  1 star         Mail\n",
       "8        10479          Pants  4 star      Express\n",
       "10       10481        Dresses  2 star      Economy\n",
       "11       10482          Pants  5 star         Mail"
      ]
     },
     "execution_count": 89,
     "metadata": {},
     "output_type": "execute_result"
    }
   ],
   "source": [
    "data[['CustomerID','ProductType','Rating','ShippingMode']].head(9)"
   ]
  },
  {
   "cell_type": "code",
   "execution_count": 90,
   "metadata": {},
   "outputs": [],
   "source": [
    "encoded_data=data.copy()"
   ]
  },
  {
   "cell_type": "code",
   "execution_count": 91,
   "metadata": {},
   "outputs": [],
   "source": [
    "encoded_data.Rating=LabelEncoder().fit_transform(data.Rating)"
   ]
  },
  {
   "cell_type": "code",
   "execution_count": 92,
   "metadata": {},
   "outputs": [
    {
     "data": {
      "text/html": [
       "<div>\n",
       "<style scoped>\n",
       "    .dataframe tbody tr th:only-of-type {\n",
       "        vertical-align: middle;\n",
       "    }\n",
       "\n",
       "    .dataframe tbody tr th {\n",
       "        vertical-align: top;\n",
       "    }\n",
       "\n",
       "    .dataframe thead th {\n",
       "        text-align: right;\n",
       "    }\n",
       "</style>\n",
       "<table border=\"1\" class=\"dataframe\">\n",
       "  <thead>\n",
       "    <tr style=\"text-align: right;\">\n",
       "      <th></th>\n",
       "      <th>Date</th>\n",
       "      <th>CustomerID</th>\n",
       "      <th>ProductType</th>\n",
       "      <th>Rating</th>\n",
       "      <th>Total_Ratings</th>\n",
       "      <th>Gender</th>\n",
       "      <th>PaymentMode</th>\n",
       "      <th>PaymentMode.1</th>\n",
       "      <th>ShippingMode</th>\n",
       "      <th>ShippingTime</th>\n",
       "      <th>Price</th>\n",
       "      <th>PaidCurrency</th>\n",
       "      <th>Price_dollar</th>\n",
       "    </tr>\n",
       "  </thead>\n",
       "  <tbody>\n",
       "    <tr>\n",
       "      <th>0</th>\n",
       "      <td>2020-08-16</td>\n",
       "      <td>10471</td>\n",
       "      <td>Coats/Jackets</td>\n",
       "      <td>0</td>\n",
       "      <td>8736</td>\n",
       "      <td>Female</td>\n",
       "      <td>Credit Card</td>\n",
       "      <td>Creditcard</td>\n",
       "      <td>Economy</td>\n",
       "      <td>17.0</td>\n",
       "      <td>₹ 675036.2138626401</td>\n",
       "      <td>Indian Rupee</td>\n",
       "      <td>9210.194102</td>\n",
       "    </tr>\n",
       "    <tr>\n",
       "      <th>1</th>\n",
       "      <td>2020-08-02</td>\n",
       "      <td>10472</td>\n",
       "      <td>Dresses</td>\n",
       "      <td>1</td>\n",
       "      <td>8547</td>\n",
       "      <td>Unspecified</td>\n",
       "      <td>Ewallet</td>\n",
       "      <td>Ewallet</td>\n",
       "      <td>Mail</td>\n",
       "      <td>12.0</td>\n",
       "      <td>€ 2,315.53</td>\n",
       "      <td>Euro</td>\n",
       "      <td>2743.889157</td>\n",
       "    </tr>\n",
       "    <tr>\n",
       "      <th>2</th>\n",
       "      <td>2020-08-08</td>\n",
       "      <td>10473</td>\n",
       "      <td>Coats/Jackets</td>\n",
       "      <td>1</td>\n",
       "      <td>9833</td>\n",
       "      <td>Unspecified</td>\n",
       "      <td>Prepaid Card</td>\n",
       "      <td>Prepaid Card</td>\n",
       "      <td>Mail</td>\n",
       "      <td>10.0</td>\n",
       "      <td>₹ 611426.29122378</td>\n",
       "      <td>Indian Rupee</td>\n",
       "      <td>8342.300317</td>\n",
       "    </tr>\n",
       "    <tr>\n",
       "      <th>5</th>\n",
       "      <td>2020-08-28</td>\n",
       "      <td>10476</td>\n",
       "      <td>Coats/Jackets</td>\n",
       "      <td>1</td>\n",
       "      <td>5347</td>\n",
       "      <td>Female</td>\n",
       "      <td>Direct Deposit</td>\n",
       "      <td>Direct Deposit</td>\n",
       "      <td>Mail</td>\n",
       "      <td>20.0</td>\n",
       "      <td>&lt;NA&gt;</td>\n",
       "      <td></td>\n",
       "      <td>0.000000</td>\n",
       "    </tr>\n",
       "    <tr>\n",
       "      <th>6</th>\n",
       "      <td>2020-08-08</td>\n",
       "      <td>10477</td>\n",
       "      <td>Coats/Jackets</td>\n",
       "      <td>4</td>\n",
       "      <td>9406</td>\n",
       "      <td>Unspecified</td>\n",
       "      <td>Direct Deposit</td>\n",
       "      <td>Direct Deposit</td>\n",
       "      <td>Mail</td>\n",
       "      <td>14.0</td>\n",
       "      <td>£ 6610.077565000001</td>\n",
       "      <td>British Pound</td>\n",
       "      <td>8774.342551</td>\n",
       "    </tr>\n",
       "  </tbody>\n",
       "</table>\n",
       "</div>"
      ],
      "text/plain": [
       "        Date  CustomerID    ProductType  Rating  Total_Ratings       Gender  \\\n",
       "0 2020-08-16       10471  Coats/Jackets       0           8736       Female   \n",
       "1 2020-08-02       10472        Dresses       1           8547  Unspecified   \n",
       "2 2020-08-08       10473  Coats/Jackets       1           9833  Unspecified   \n",
       "5 2020-08-28       10476  Coats/Jackets       1           5347       Female   \n",
       "6 2020-08-08       10477  Coats/Jackets       4           9406  Unspecified   \n",
       "\n",
       "      PaymentMode   PaymentMode.1 ShippingMode  ShippingTime  \\\n",
       "0     Credit Card      Creditcard      Economy          17.0   \n",
       "1         Ewallet         Ewallet         Mail          12.0   \n",
       "2    Prepaid Card    Prepaid Card         Mail          10.0   \n",
       "5  Direct Deposit  Direct Deposit         Mail          20.0   \n",
       "6  Direct Deposit  Direct Deposit         Mail          14.0   \n",
       "\n",
       "                 Price   PaidCurrency  Price_dollar  \n",
       "0  ₹ 675036.2138626401   Indian Rupee   9210.194102  \n",
       "1           € 2,315.53           Euro   2743.889157  \n",
       "2    ₹ 611426.29122378   Indian Rupee   8342.300317  \n",
       "5                 <NA>                     0.000000  \n",
       "6  £ 6610.077565000001  British Pound   8774.342551  "
      ]
     },
     "execution_count": 92,
     "metadata": {},
     "output_type": "execute_result"
    }
   ],
   "source": [
    "encoded_data.head()"
   ]
  },
  {
   "cell_type": "markdown",
   "metadata": {},
   "source": [
    "#### Mapping"
   ]
  },
  {
   "cell_type": "code",
   "execution_count": 93,
   "metadata": {},
   "outputs": [],
   "source": [
    "encoded_data=data.copy()"
   ]
  },
  {
   "cell_type": "code",
   "execution_count": 94,
   "metadata": {},
   "outputs": [],
   "source": [
    "def map_rating(i):\n",
    "    if i=='1 star':\n",
    "        return 0\n",
    "    elif i=='2 star':\n",
    "        return 1\n",
    "    elif i=='3 star':\n",
    "        return 2\n",
    "    elif i=='4 star':\n",
    "        return 3\n",
    "    elif i=='5 star':\n",
    "        return 4\n",
    "    else:\n",
    "        return -1"
   ]
  },
  {
   "cell_type": "code",
   "execution_count": 95,
   "metadata": {},
   "outputs": [],
   "source": [
    "encoded_data.Rating=encoded_data.Rating.map(map_rating)"
   ]
  },
  {
   "cell_type": "code",
   "execution_count": 96,
   "metadata": {},
   "outputs": [
    {
     "data": {
      "text/html": [
       "<div>\n",
       "<style scoped>\n",
       "    .dataframe tbody tr th:only-of-type {\n",
       "        vertical-align: middle;\n",
       "    }\n",
       "\n",
       "    .dataframe tbody tr th {\n",
       "        vertical-align: top;\n",
       "    }\n",
       "\n",
       "    .dataframe thead th {\n",
       "        text-align: right;\n",
       "    }\n",
       "</style>\n",
       "<table border=\"1\" class=\"dataframe\">\n",
       "  <thead>\n",
       "    <tr style=\"text-align: right;\">\n",
       "      <th></th>\n",
       "      <th>Date</th>\n",
       "      <th>CustomerID</th>\n",
       "      <th>ProductType</th>\n",
       "      <th>Rating</th>\n",
       "      <th>Total_Ratings</th>\n",
       "      <th>Gender</th>\n",
       "      <th>PaymentMode</th>\n",
       "      <th>PaymentMode.1</th>\n",
       "      <th>ShippingMode</th>\n",
       "      <th>ShippingTime</th>\n",
       "      <th>Price</th>\n",
       "      <th>PaidCurrency</th>\n",
       "      <th>Price_dollar</th>\n",
       "    </tr>\n",
       "  </thead>\n",
       "  <tbody>\n",
       "    <tr>\n",
       "      <th>0</th>\n",
       "      <td>2020-08-16</td>\n",
       "      <td>10471</td>\n",
       "      <td>Coats/Jackets</td>\n",
       "      <td>0</td>\n",
       "      <td>8736</td>\n",
       "      <td>Female</td>\n",
       "      <td>Credit Card</td>\n",
       "      <td>Creditcard</td>\n",
       "      <td>Economy</td>\n",
       "      <td>17.0</td>\n",
       "      <td>₹ 675036.2138626401</td>\n",
       "      <td>Indian Rupee</td>\n",
       "      <td>9210.194102</td>\n",
       "    </tr>\n",
       "    <tr>\n",
       "      <th>1</th>\n",
       "      <td>2020-08-02</td>\n",
       "      <td>10472</td>\n",
       "      <td>Dresses</td>\n",
       "      <td>1</td>\n",
       "      <td>8547</td>\n",
       "      <td>Unspecified</td>\n",
       "      <td>Ewallet</td>\n",
       "      <td>Ewallet</td>\n",
       "      <td>Mail</td>\n",
       "      <td>12.0</td>\n",
       "      <td>€ 2,315.53</td>\n",
       "      <td>Euro</td>\n",
       "      <td>2743.889157</td>\n",
       "    </tr>\n",
       "    <tr>\n",
       "      <th>2</th>\n",
       "      <td>2020-08-08</td>\n",
       "      <td>10473</td>\n",
       "      <td>Coats/Jackets</td>\n",
       "      <td>1</td>\n",
       "      <td>9833</td>\n",
       "      <td>Unspecified</td>\n",
       "      <td>Prepaid Card</td>\n",
       "      <td>Prepaid Card</td>\n",
       "      <td>Mail</td>\n",
       "      <td>10.0</td>\n",
       "      <td>₹ 611426.29122378</td>\n",
       "      <td>Indian Rupee</td>\n",
       "      <td>8342.300317</td>\n",
       "    </tr>\n",
       "    <tr>\n",
       "      <th>5</th>\n",
       "      <td>2020-08-28</td>\n",
       "      <td>10476</td>\n",
       "      <td>Coats/Jackets</td>\n",
       "      <td>1</td>\n",
       "      <td>5347</td>\n",
       "      <td>Female</td>\n",
       "      <td>Direct Deposit</td>\n",
       "      <td>Direct Deposit</td>\n",
       "      <td>Mail</td>\n",
       "      <td>20.0</td>\n",
       "      <td>&lt;NA&gt;</td>\n",
       "      <td></td>\n",
       "      <td>0.000000</td>\n",
       "    </tr>\n",
       "    <tr>\n",
       "      <th>6</th>\n",
       "      <td>2020-08-08</td>\n",
       "      <td>10477</td>\n",
       "      <td>Coats/Jackets</td>\n",
       "      <td>4</td>\n",
       "      <td>9406</td>\n",
       "      <td>Unspecified</td>\n",
       "      <td>Direct Deposit</td>\n",
       "      <td>Direct Deposit</td>\n",
       "      <td>Mail</td>\n",
       "      <td>14.0</td>\n",
       "      <td>£ 6610.077565000001</td>\n",
       "      <td>British Pound</td>\n",
       "      <td>8774.342551</td>\n",
       "    </tr>\n",
       "  </tbody>\n",
       "</table>\n",
       "</div>"
      ],
      "text/plain": [
       "        Date  CustomerID    ProductType  Rating  Total_Ratings       Gender  \\\n",
       "0 2020-08-16       10471  Coats/Jackets       0           8736       Female   \n",
       "1 2020-08-02       10472        Dresses       1           8547  Unspecified   \n",
       "2 2020-08-08       10473  Coats/Jackets       1           9833  Unspecified   \n",
       "5 2020-08-28       10476  Coats/Jackets       1           5347       Female   \n",
       "6 2020-08-08       10477  Coats/Jackets       4           9406  Unspecified   \n",
       "\n",
       "      PaymentMode   PaymentMode.1 ShippingMode  ShippingTime  \\\n",
       "0     Credit Card      Creditcard      Economy          17.0   \n",
       "1         Ewallet         Ewallet         Mail          12.0   \n",
       "2    Prepaid Card    Prepaid Card         Mail          10.0   \n",
       "5  Direct Deposit  Direct Deposit         Mail          20.0   \n",
       "6  Direct Deposit  Direct Deposit         Mail          14.0   \n",
       "\n",
       "                 Price   PaidCurrency  Price_dollar  \n",
       "0  ₹ 675036.2138626401   Indian Rupee   9210.194102  \n",
       "1           € 2,315.53           Euro   2743.889157  \n",
       "2    ₹ 611426.29122378   Indian Rupee   8342.300317  \n",
       "5                 <NA>                     0.000000  \n",
       "6  £ 6610.077565000001  British Pound   8774.342551  "
      ]
     },
     "execution_count": 96,
     "metadata": {},
     "output_type": "execute_result"
    }
   ],
   "source": [
    "encoded_data.head()"
   ]
  },
  {
   "cell_type": "markdown",
   "metadata": {},
   "source": [
    "#### OneHotEncoder"
   ]
  },
  {
   "cell_type": "code",
   "execution_count": 97,
   "metadata": {},
   "outputs": [],
   "source": [
    "encoded_data=data.copy()"
   ]
  },
  {
   "cell_type": "code",
   "execution_count": 98,
   "metadata": {},
   "outputs": [
    {
     "data": {
      "text/html": [
       "<div>\n",
       "<style scoped>\n",
       "    .dataframe tbody tr th:only-of-type {\n",
       "        vertical-align: middle;\n",
       "    }\n",
       "\n",
       "    .dataframe tbody tr th {\n",
       "        vertical-align: top;\n",
       "    }\n",
       "\n",
       "    .dataframe thead th {\n",
       "        text-align: right;\n",
       "    }\n",
       "</style>\n",
       "<table border=\"1\" class=\"dataframe\">\n",
       "  <thead>\n",
       "    <tr style=\"text-align: right;\">\n",
       "      <th></th>\n",
       "      <th>CustomerID</th>\n",
       "      <th>ProductType</th>\n",
       "      <th>Rating</th>\n",
       "      <th>ShippingMode</th>\n",
       "    </tr>\n",
       "  </thead>\n",
       "  <tbody>\n",
       "    <tr>\n",
       "      <th>0</th>\n",
       "      <td>10471</td>\n",
       "      <td>Coats/Jackets</td>\n",
       "      <td>1 star</td>\n",
       "      <td>Economy</td>\n",
       "    </tr>\n",
       "    <tr>\n",
       "      <th>1</th>\n",
       "      <td>10472</td>\n",
       "      <td>Dresses</td>\n",
       "      <td>2 star</td>\n",
       "      <td>Mail</td>\n",
       "    </tr>\n",
       "    <tr>\n",
       "      <th>2</th>\n",
       "      <td>10473</td>\n",
       "      <td>Coats/Jackets</td>\n",
       "      <td>2 star</td>\n",
       "      <td>Mail</td>\n",
       "    </tr>\n",
       "    <tr>\n",
       "      <th>5</th>\n",
       "      <td>10476</td>\n",
       "      <td>Coats/Jackets</td>\n",
       "      <td>2 star</td>\n",
       "      <td>Mail</td>\n",
       "    </tr>\n",
       "    <tr>\n",
       "      <th>6</th>\n",
       "      <td>10477</td>\n",
       "      <td>Coats/Jackets</td>\n",
       "      <td>5 star</td>\n",
       "      <td>Mail</td>\n",
       "    </tr>\n",
       "  </tbody>\n",
       "</table>\n",
       "</div>"
      ],
      "text/plain": [
       "   CustomerID    ProductType  Rating ShippingMode\n",
       "0       10471  Coats/Jackets  1 star      Economy\n",
       "1       10472        Dresses  2 star         Mail\n",
       "2       10473  Coats/Jackets  2 star         Mail\n",
       "5       10476  Coats/Jackets  2 star         Mail\n",
       "6       10477  Coats/Jackets  5 star         Mail"
      ]
     },
     "execution_count": 98,
     "metadata": {},
     "output_type": "execute_result"
    }
   ],
   "source": [
    "encoded_data[['CustomerID','ProductType','Rating','ShippingMode']].head()"
   ]
  },
  {
   "cell_type": "code",
   "execution_count": 99,
   "metadata": {},
   "outputs": [],
   "source": [
    "from sklearn.preprocessing import OneHotEncoder"
   ]
  },
  {
   "cell_type": "code",
   "execution_count": 100,
   "metadata": {},
   "outputs": [],
   "source": [
    "lbe=LabelEncoder()"
   ]
  },
  {
   "cell_type": "code",
   "execution_count": 101,
   "metadata": {},
   "outputs": [],
   "source": [
    "encoded_data['ProductType_lbl']=lbe.fit_transform(encoded_data.ProductType)"
   ]
  },
  {
   "cell_type": "code",
   "execution_count": 102,
   "metadata": {},
   "outputs": [],
   "source": [
    "ohe=OneHotEncoder(handle_unknown='ignore')"
   ]
  },
  {
   "cell_type": "code",
   "execution_count": 103,
   "metadata": {},
   "outputs": [],
   "source": [
    "out=pd.DataFrame(ohe.fit_transform(encoded_data[['ProductType_lbl']]).toarray())"
   ]
  },
  {
   "cell_type": "code",
   "execution_count": 104,
   "metadata": {},
   "outputs": [],
   "source": [
    "# Merge the dataframe\n",
    "encoded_data = encoded_data.join(out)"
   ]
  },
  {
   "cell_type": "code",
   "execution_count": 105,
   "metadata": {},
   "outputs": [
    {
     "data": {
      "text/html": [
       "<div>\n",
       "<style scoped>\n",
       "    .dataframe tbody tr th:only-of-type {\n",
       "        vertical-align: middle;\n",
       "    }\n",
       "\n",
       "    .dataframe tbody tr th {\n",
       "        vertical-align: top;\n",
       "    }\n",
       "\n",
       "    .dataframe thead th {\n",
       "        text-align: right;\n",
       "    }\n",
       "</style>\n",
       "<table border=\"1\" class=\"dataframe\">\n",
       "  <thead>\n",
       "    <tr style=\"text-align: right;\">\n",
       "      <th></th>\n",
       "      <th>Date</th>\n",
       "      <th>ProductType</th>\n",
       "      <th>PaymentMode.1</th>\n",
       "      <th>ProductType_lbl</th>\n",
       "      <th>0</th>\n",
       "      <th>1</th>\n",
       "      <th>2</th>\n",
       "      <th>3</th>\n",
       "      <th>4</th>\n",
       "      <th>5</th>\n",
       "      <th>6</th>\n",
       "    </tr>\n",
       "  </thead>\n",
       "  <tbody>\n",
       "    <tr>\n",
       "      <th>0</th>\n",
       "      <td>2020-08-16</td>\n",
       "      <td>Coats/Jackets</td>\n",
       "      <td>Creditcard</td>\n",
       "      <td>1</td>\n",
       "      <td>0.0</td>\n",
       "      <td>1.0</td>\n",
       "      <td>0.0</td>\n",
       "      <td>0.0</td>\n",
       "      <td>0.0</td>\n",
       "      <td>0.0</td>\n",
       "      <td>0.0</td>\n",
       "    </tr>\n",
       "    <tr>\n",
       "      <th>1</th>\n",
       "      <td>2020-08-02</td>\n",
       "      <td>Dresses</td>\n",
       "      <td>Ewallet</td>\n",
       "      <td>2</td>\n",
       "      <td>0.0</td>\n",
       "      <td>0.0</td>\n",
       "      <td>1.0</td>\n",
       "      <td>0.0</td>\n",
       "      <td>0.0</td>\n",
       "      <td>0.0</td>\n",
       "      <td>0.0</td>\n",
       "    </tr>\n",
       "    <tr>\n",
       "      <th>2</th>\n",
       "      <td>2020-08-08</td>\n",
       "      <td>Coats/Jackets</td>\n",
       "      <td>Prepaid Card</td>\n",
       "      <td>1</td>\n",
       "      <td>0.0</td>\n",
       "      <td>1.0</td>\n",
       "      <td>0.0</td>\n",
       "      <td>0.0</td>\n",
       "      <td>0.0</td>\n",
       "      <td>0.0</td>\n",
       "      <td>0.0</td>\n",
       "    </tr>\n",
       "    <tr>\n",
       "      <th>5</th>\n",
       "      <td>2020-08-28</td>\n",
       "      <td>Coats/Jackets</td>\n",
       "      <td>Direct Deposit</td>\n",
       "      <td>1</td>\n",
       "      <td>0.0</td>\n",
       "      <td>0.0</td>\n",
       "      <td>0.0</td>\n",
       "      <td>0.0</td>\n",
       "      <td>1.0</td>\n",
       "      <td>0.0</td>\n",
       "      <td>0.0</td>\n",
       "    </tr>\n",
       "    <tr>\n",
       "      <th>6</th>\n",
       "      <td>2020-08-08</td>\n",
       "      <td>Coats/Jackets</td>\n",
       "      <td>Direct Deposit</td>\n",
       "      <td>1</td>\n",
       "      <td>0.0</td>\n",
       "      <td>0.0</td>\n",
       "      <td>0.0</td>\n",
       "      <td>0.0</td>\n",
       "      <td>0.0</td>\n",
       "      <td>1.0</td>\n",
       "      <td>0.0</td>\n",
       "    </tr>\n",
       "  </tbody>\n",
       "</table>\n",
       "</div>"
      ],
      "text/plain": [
       "        Date    ProductType   PaymentMode.1  ProductType_lbl    0    1    2  \\\n",
       "0 2020-08-16  Coats/Jackets      Creditcard                1  0.0  1.0  0.0   \n",
       "1 2020-08-02        Dresses         Ewallet                2  0.0  0.0  1.0   \n",
       "2 2020-08-08  Coats/Jackets    Prepaid Card                1  0.0  1.0  0.0   \n",
       "5 2020-08-28  Coats/Jackets  Direct Deposit                1  0.0  0.0  0.0   \n",
       "6 2020-08-08  Coats/Jackets  Direct Deposit                1  0.0  0.0  0.0   \n",
       "\n",
       "     3    4    5    6  \n",
       "0  0.0  0.0  0.0  0.0  \n",
       "1  0.0  0.0  0.0  0.0  \n",
       "2  0.0  0.0  0.0  0.0  \n",
       "5  0.0  1.0  0.0  0.0  \n",
       "6  0.0  0.0  1.0  0.0  "
      ]
     },
     "execution_count": 105,
     "metadata": {},
     "output_type": "execute_result"
    }
   ],
   "source": [
    "encoded_data.drop(['CustomerID','Rating','ShippingMode','Total_Ratings','Gender','PaymentMode',\n",
    "                   'ShippingTime','Price','Price_dollar','PaidCurrency'],axis=1).head()"
   ]
  },
  {
   "cell_type": "markdown",
   "metadata": {},
   "source": [
    "#### Pandas Dummies"
   ]
  },
  {
   "cell_type": "code",
   "execution_count": 106,
   "metadata": {},
   "outputs": [],
   "source": [
    "# We can simply do the similar thing using pandas dummies\n",
    "encoded_data=data.copy()"
   ]
  },
  {
   "cell_type": "code",
   "execution_count": 107,
   "metadata": {},
   "outputs": [],
   "source": [
    "encoded_data=pd.get_dummies(encoded_data,columns=['ProductType'])"
   ]
  },
  {
   "cell_type": "code",
   "execution_count": 108,
   "metadata": {},
   "outputs": [
    {
     "data": {
      "text/html": [
       "<div>\n",
       "<style scoped>\n",
       "    .dataframe tbody tr th:only-of-type {\n",
       "        vertical-align: middle;\n",
       "    }\n",
       "\n",
       "    .dataframe tbody tr th {\n",
       "        vertical-align: top;\n",
       "    }\n",
       "\n",
       "    .dataframe thead th {\n",
       "        text-align: right;\n",
       "    }\n",
       "</style>\n",
       "<table border=\"1\" class=\"dataframe\">\n",
       "  <thead>\n",
       "    <tr style=\"text-align: right;\">\n",
       "      <th></th>\n",
       "      <th>Date</th>\n",
       "      <th>PaymentMode.1</th>\n",
       "      <th>ProductType_Cardigan</th>\n",
       "      <th>ProductType_Coats/Jackets</th>\n",
       "      <th>ProductType_Dresses</th>\n",
       "      <th>ProductType_Hats</th>\n",
       "      <th>ProductType_Jeans</th>\n",
       "      <th>ProductType_Pants</th>\n",
       "      <th>ProductType_Shirts/Tops</th>\n",
       "    </tr>\n",
       "  </thead>\n",
       "  <tbody>\n",
       "    <tr>\n",
       "      <th>0</th>\n",
       "      <td>2020-08-16</td>\n",
       "      <td>Creditcard</td>\n",
       "      <td>0</td>\n",
       "      <td>1</td>\n",
       "      <td>0</td>\n",
       "      <td>0</td>\n",
       "      <td>0</td>\n",
       "      <td>0</td>\n",
       "      <td>0</td>\n",
       "    </tr>\n",
       "    <tr>\n",
       "      <th>1</th>\n",
       "      <td>2020-08-02</td>\n",
       "      <td>Ewallet</td>\n",
       "      <td>0</td>\n",
       "      <td>0</td>\n",
       "      <td>1</td>\n",
       "      <td>0</td>\n",
       "      <td>0</td>\n",
       "      <td>0</td>\n",
       "      <td>0</td>\n",
       "    </tr>\n",
       "    <tr>\n",
       "      <th>2</th>\n",
       "      <td>2020-08-08</td>\n",
       "      <td>Prepaid Card</td>\n",
       "      <td>0</td>\n",
       "      <td>1</td>\n",
       "      <td>0</td>\n",
       "      <td>0</td>\n",
       "      <td>0</td>\n",
       "      <td>0</td>\n",
       "      <td>0</td>\n",
       "    </tr>\n",
       "    <tr>\n",
       "      <th>5</th>\n",
       "      <td>2020-08-28</td>\n",
       "      <td>Direct Deposit</td>\n",
       "      <td>0</td>\n",
       "      <td>1</td>\n",
       "      <td>0</td>\n",
       "      <td>0</td>\n",
       "      <td>0</td>\n",
       "      <td>0</td>\n",
       "      <td>0</td>\n",
       "    </tr>\n",
       "    <tr>\n",
       "      <th>6</th>\n",
       "      <td>2020-08-08</td>\n",
       "      <td>Direct Deposit</td>\n",
       "      <td>0</td>\n",
       "      <td>1</td>\n",
       "      <td>0</td>\n",
       "      <td>0</td>\n",
       "      <td>0</td>\n",
       "      <td>0</td>\n",
       "      <td>0</td>\n",
       "    </tr>\n",
       "  </tbody>\n",
       "</table>\n",
       "</div>"
      ],
      "text/plain": [
       "        Date   PaymentMode.1  ProductType_Cardigan  ProductType_Coats/Jackets  \\\n",
       "0 2020-08-16      Creditcard                     0                          1   \n",
       "1 2020-08-02         Ewallet                     0                          0   \n",
       "2 2020-08-08    Prepaid Card                     0                          1   \n",
       "5 2020-08-28  Direct Deposit                     0                          1   \n",
       "6 2020-08-08  Direct Deposit                     0                          1   \n",
       "\n",
       "   ProductType_Dresses  ProductType_Hats  ProductType_Jeans  \\\n",
       "0                    0                 0                  0   \n",
       "1                    1                 0                  0   \n",
       "2                    0                 0                  0   \n",
       "5                    0                 0                  0   \n",
       "6                    0                 0                  0   \n",
       "\n",
       "   ProductType_Pants  ProductType_Shirts/Tops  \n",
       "0                  0                        0  \n",
       "1                  0                        0  \n",
       "2                  0                        0  \n",
       "5                  0                        0  \n",
       "6                  0                        0  "
      ]
     },
     "execution_count": 108,
     "metadata": {},
     "output_type": "execute_result"
    }
   ],
   "source": [
    "encoded_data.drop(['CustomerID','Rating','ShippingMode','Total_Ratings','Gender','PaymentMode',\n",
    "                   'ShippingTime','Price','Price_dollar','PaidCurrency'],axis=1).head()"
   ]
  },
  {
   "cell_type": "markdown",
   "metadata": {},
   "source": [
    "It is more convenient to use dummies as it reduces a lot of clutter in the code."
   ]
  },
  {
   "cell_type": "markdown",
   "metadata": {},
   "source": [
    "#### LabelBinarizer"
   ]
  },
  {
   "cell_type": "code",
   "execution_count": 109,
   "metadata": {},
   "outputs": [],
   "source": [
    "from sklearn.preprocessing import LabelBinarizer"
   ]
  },
  {
   "cell_type": "code",
   "execution_count": 110,
   "metadata": {},
   "outputs": [],
   "source": [
    "encoded_data=data.copy()"
   ]
  },
  {
   "cell_type": "code",
   "execution_count": 111,
   "metadata": {},
   "outputs": [],
   "source": [
    "lbz=LabelBinarizer()"
   ]
  },
  {
   "cell_type": "code",
   "execution_count": 112,
   "metadata": {},
   "outputs": [
    {
     "data": {
      "text/plain": [
       "array([[0, 1, 0, 0, 0, 0, 0],\n",
       "       [0, 0, 1, 0, 0, 0, 0],\n",
       "       [0, 1, 0, 0, 0, 0, 0],\n",
       "       [0, 1, 0, 0, 0, 0, 0],\n",
       "       [0, 1, 0, 0, 0, 0, 0]])"
      ]
     },
     "execution_count": 112,
     "metadata": {},
     "output_type": "execute_result"
    }
   ],
   "source": [
    "lbz.fit_transform(encoded_data.ProductType)[:5]"
   ]
  },
  {
   "cell_type": "markdown",
   "metadata": {},
   "source": [
    "As you can see LabelBinarizer returns a 2D array just like OneHotEncoder"
   ]
  },
  {
   "cell_type": "markdown",
   "metadata": {},
   "source": [
    "#### Target Encoding - LeaveOneOut Encoder"
   ]
  },
  {
   "cell_type": "code",
   "execution_count": 113,
   "metadata": {},
   "outputs": [],
   "source": [
    "# Please wait while the library is installed\n",
    "!pip install category-encoders --quiet  --disable-pip-version-check"
   ]
  },
  {
   "cell_type": "code",
   "execution_count": 114,
   "metadata": {},
   "outputs": [],
   "source": [
    "from category_encoders import LeaveOneOutEncoder"
   ]
  },
  {
   "cell_type": "code",
   "execution_count": 115,
   "metadata": {},
   "outputs": [],
   "source": [
    "X=data.drop('Price_dollar',axis=1)\n",
    "y=data.Price_dollar"
   ]
  },
  {
   "cell_type": "code",
   "execution_count": 116,
   "metadata": {},
   "outputs": [],
   "source": [
    "lo=LeaveOneOutEncoder(cols=['ShippingMode'])"
   ]
  },
  {
   "cell_type": "code",
   "execution_count": 117,
   "metadata": {},
   "outputs": [
    {
     "data": {
      "text/plain": [
       "LeaveOneOutEncoder(cols=['ShippingMode'], drop_invariant=False,\n",
       "                   handle_missing='value', handle_unknown='value',\n",
       "                   random_state=None, return_df=True, sigma=None, verbose=0)"
      ]
     },
     "execution_count": 117,
     "metadata": {},
     "output_type": "execute_result"
    }
   ],
   "source": [
    "lo.fit(X,y)"
   ]
  },
  {
   "cell_type": "code",
   "execution_count": 118,
   "metadata": {},
   "outputs": [
    {
     "data": {
      "text/html": [
       "<div>\n",
       "<style scoped>\n",
       "    .dataframe tbody tr th:only-of-type {\n",
       "        vertical-align: middle;\n",
       "    }\n",
       "\n",
       "    .dataframe tbody tr th {\n",
       "        vertical-align: top;\n",
       "    }\n",
       "\n",
       "    .dataframe thead th {\n",
       "        text-align: right;\n",
       "    }\n",
       "</style>\n",
       "<table border=\"1\" class=\"dataframe\">\n",
       "  <thead>\n",
       "    <tr style=\"text-align: right;\">\n",
       "      <th></th>\n",
       "      <th>CustomerID</th>\n",
       "      <th>ShippingMode</th>\n",
       "    </tr>\n",
       "  </thead>\n",
       "  <tbody>\n",
       "    <tr>\n",
       "      <th>0</th>\n",
       "      <td>10471</td>\n",
       "      <td>Economy</td>\n",
       "    </tr>\n",
       "    <tr>\n",
       "      <th>1</th>\n",
       "      <td>10472</td>\n",
       "      <td>Mail</td>\n",
       "    </tr>\n",
       "    <tr>\n",
       "      <th>2</th>\n",
       "      <td>10473</td>\n",
       "      <td>Mail</td>\n",
       "    </tr>\n",
       "    <tr>\n",
       "      <th>5</th>\n",
       "      <td>10476</td>\n",
       "      <td>Mail</td>\n",
       "    </tr>\n",
       "    <tr>\n",
       "      <th>6</th>\n",
       "      <td>10477</td>\n",
       "      <td>Mail</td>\n",
       "    </tr>\n",
       "  </tbody>\n",
       "</table>\n",
       "</div>"
      ],
      "text/plain": [
       "   CustomerID ShippingMode\n",
       "0       10471      Economy\n",
       "1       10472         Mail\n",
       "2       10473         Mail\n",
       "5       10476         Mail\n",
       "6       10477         Mail"
      ]
     },
     "execution_count": 118,
     "metadata": {},
     "output_type": "execute_result"
    }
   ],
   "source": [
    "data[['CustomerID','ShippingMode']].head(5)"
   ]
  },
  {
   "cell_type": "code",
   "execution_count": 119,
   "metadata": {},
   "outputs": [
    {
     "data": {
      "text/html": [
       "<div>\n",
       "<style scoped>\n",
       "    .dataframe tbody tr th:only-of-type {\n",
       "        vertical-align: middle;\n",
       "    }\n",
       "\n",
       "    .dataframe tbody tr th {\n",
       "        vertical-align: top;\n",
       "    }\n",
       "\n",
       "    .dataframe thead th {\n",
       "        text-align: right;\n",
       "    }\n",
       "</style>\n",
       "<table border=\"1\" class=\"dataframe\">\n",
       "  <thead>\n",
       "    <tr style=\"text-align: right;\">\n",
       "      <th></th>\n",
       "      <th>CustomerID</th>\n",
       "      <th>ShippingMode</th>\n",
       "    </tr>\n",
       "  </thead>\n",
       "  <tbody>\n",
       "    <tr>\n",
       "      <th>0</th>\n",
       "      <td>10471</td>\n",
       "      <td>4772.678937</td>\n",
       "    </tr>\n",
       "    <tr>\n",
       "      <th>1</th>\n",
       "      <td>10472</td>\n",
       "      <td>5504.073433</td>\n",
       "    </tr>\n",
       "    <tr>\n",
       "      <th>2</th>\n",
       "      <td>10473</td>\n",
       "      <td>5504.073433</td>\n",
       "    </tr>\n",
       "    <tr>\n",
       "      <th>5</th>\n",
       "      <td>10476</td>\n",
       "      <td>5504.073433</td>\n",
       "    </tr>\n",
       "    <tr>\n",
       "      <th>6</th>\n",
       "      <td>10477</td>\n",
       "      <td>5504.073433</td>\n",
       "    </tr>\n",
       "  </tbody>\n",
       "</table>\n",
       "</div>"
      ],
      "text/plain": [
       "   CustomerID  ShippingMode\n",
       "0       10471   4772.678937\n",
       "1       10472   5504.073433\n",
       "2       10473   5504.073433\n",
       "5       10476   5504.073433\n",
       "6       10477   5504.073433"
      ]
     },
     "execution_count": 119,
     "metadata": {},
     "output_type": "execute_result"
    }
   ],
   "source": [
    "lo.transform(X)[['CustomerID','ShippingMode']].head(5)"
   ]
  },
  {
   "cell_type": "markdown",
   "metadata": {},
   "source": [
    "### Scaling"
   ]
  },
  {
   "cell_type": "markdown",
   "metadata": {},
   "source": [
    "#### StandardScaler"
   ]
  },
  {
   "cell_type": "code",
   "execution_count": 120,
   "metadata": {},
   "outputs": [
    {
     "data": {
      "text/html": [
       "<div>\n",
       "<style scoped>\n",
       "    .dataframe tbody tr th:only-of-type {\n",
       "        vertical-align: middle;\n",
       "    }\n",
       "\n",
       "    .dataframe tbody tr th {\n",
       "        vertical-align: top;\n",
       "    }\n",
       "\n",
       "    .dataframe thead th {\n",
       "        text-align: right;\n",
       "    }\n",
       "</style>\n",
       "<table border=\"1\" class=\"dataframe\">\n",
       "  <thead>\n",
       "    <tr style=\"text-align: right;\">\n",
       "      <th></th>\n",
       "      <th>Date</th>\n",
       "      <th>CustomerID</th>\n",
       "      <th>ProductType</th>\n",
       "      <th>Rating</th>\n",
       "      <th>Total_Ratings</th>\n",
       "      <th>Gender</th>\n",
       "      <th>PaymentMode</th>\n",
       "      <th>PaymentMode.1</th>\n",
       "      <th>ShippingMode</th>\n",
       "      <th>ShippingTime</th>\n",
       "      <th>Price</th>\n",
       "      <th>PaidCurrency</th>\n",
       "      <th>Price_dollar</th>\n",
       "    </tr>\n",
       "  </thead>\n",
       "  <tbody>\n",
       "    <tr>\n",
       "      <th>0</th>\n",
       "      <td>2020-08-16</td>\n",
       "      <td>10471</td>\n",
       "      <td>Coats/Jackets</td>\n",
       "      <td>1 star</td>\n",
       "      <td>8736</td>\n",
       "      <td>Female</td>\n",
       "      <td>Credit Card</td>\n",
       "      <td>Creditcard</td>\n",
       "      <td>Economy</td>\n",
       "      <td>17.0</td>\n",
       "      <td>₹ 675036.2138626401</td>\n",
       "      <td>Indian Rupee</td>\n",
       "      <td>9210.194102</td>\n",
       "    </tr>\n",
       "    <tr>\n",
       "      <th>1</th>\n",
       "      <td>2020-08-02</td>\n",
       "      <td>10472</td>\n",
       "      <td>Dresses</td>\n",
       "      <td>2 star</td>\n",
       "      <td>8547</td>\n",
       "      <td>Unspecified</td>\n",
       "      <td>Ewallet</td>\n",
       "      <td>Ewallet</td>\n",
       "      <td>Mail</td>\n",
       "      <td>12.0</td>\n",
       "      <td>€ 2,315.53</td>\n",
       "      <td>Euro</td>\n",
       "      <td>2743.889157</td>\n",
       "    </tr>\n",
       "    <tr>\n",
       "      <th>2</th>\n",
       "      <td>2020-08-08</td>\n",
       "      <td>10473</td>\n",
       "      <td>Coats/Jackets</td>\n",
       "      <td>2 star</td>\n",
       "      <td>9833</td>\n",
       "      <td>Unspecified</td>\n",
       "      <td>Prepaid Card</td>\n",
       "      <td>Prepaid Card</td>\n",
       "      <td>Mail</td>\n",
       "      <td>10.0</td>\n",
       "      <td>₹ 611426.29122378</td>\n",
       "      <td>Indian Rupee</td>\n",
       "      <td>8342.300317</td>\n",
       "    </tr>\n",
       "    <tr>\n",
       "      <th>5</th>\n",
       "      <td>2020-08-28</td>\n",
       "      <td>10476</td>\n",
       "      <td>Coats/Jackets</td>\n",
       "      <td>2 star</td>\n",
       "      <td>5347</td>\n",
       "      <td>Female</td>\n",
       "      <td>Direct Deposit</td>\n",
       "      <td>Direct Deposit</td>\n",
       "      <td>Mail</td>\n",
       "      <td>20.0</td>\n",
       "      <td>&lt;NA&gt;</td>\n",
       "      <td></td>\n",
       "      <td>0.000000</td>\n",
       "    </tr>\n",
       "    <tr>\n",
       "      <th>6</th>\n",
       "      <td>2020-08-08</td>\n",
       "      <td>10477</td>\n",
       "      <td>Coats/Jackets</td>\n",
       "      <td>5 star</td>\n",
       "      <td>9406</td>\n",
       "      <td>Unspecified</td>\n",
       "      <td>Direct Deposit</td>\n",
       "      <td>Direct Deposit</td>\n",
       "      <td>Mail</td>\n",
       "      <td>14.0</td>\n",
       "      <td>£ 6610.077565000001</td>\n",
       "      <td>British Pound</td>\n",
       "      <td>8774.342551</td>\n",
       "    </tr>\n",
       "  </tbody>\n",
       "</table>\n",
       "</div>"
      ],
      "text/plain": [
       "        Date  CustomerID    ProductType  Rating  Total_Ratings       Gender  \\\n",
       "0 2020-08-16       10471  Coats/Jackets  1 star           8736       Female   \n",
       "1 2020-08-02       10472        Dresses  2 star           8547  Unspecified   \n",
       "2 2020-08-08       10473  Coats/Jackets  2 star           9833  Unspecified   \n",
       "5 2020-08-28       10476  Coats/Jackets  2 star           5347       Female   \n",
       "6 2020-08-08       10477  Coats/Jackets  5 star           9406  Unspecified   \n",
       "\n",
       "      PaymentMode   PaymentMode.1 ShippingMode  ShippingTime  \\\n",
       "0     Credit Card      Creditcard      Economy          17.0   \n",
       "1         Ewallet         Ewallet         Mail          12.0   \n",
       "2    Prepaid Card    Prepaid Card         Mail          10.0   \n",
       "5  Direct Deposit  Direct Deposit         Mail          20.0   \n",
       "6  Direct Deposit  Direct Deposit         Mail          14.0   \n",
       "\n",
       "                 Price   PaidCurrency  Price_dollar  \n",
       "0  ₹ 675036.2138626401   Indian Rupee   9210.194102  \n",
       "1           € 2,315.53           Euro   2743.889157  \n",
       "2    ₹ 611426.29122378   Indian Rupee   8342.300317  \n",
       "5                 <NA>                     0.000000  \n",
       "6  £ 6610.077565000001  British Pound   8774.342551  "
      ]
     },
     "execution_count": 120,
     "metadata": {},
     "output_type": "execute_result"
    }
   ],
   "source": [
    "data.head()"
   ]
  },
  {
   "cell_type": "code",
   "execution_count": 121,
   "metadata": {},
   "outputs": [
    {
     "data": {
      "text/html": [
       "<div>\n",
       "<style scoped>\n",
       "    .dataframe tbody tr th:only-of-type {\n",
       "        vertical-align: middle;\n",
       "    }\n",
       "\n",
       "    .dataframe tbody tr th {\n",
       "        vertical-align: top;\n",
       "    }\n",
       "\n",
       "    .dataframe thead th {\n",
       "        text-align: right;\n",
       "    }\n",
       "</style>\n",
       "<table border=\"1\" class=\"dataframe\">\n",
       "  <thead>\n",
       "    <tr style=\"text-align: right;\">\n",
       "      <th></th>\n",
       "      <th>Total_Ratings</th>\n",
       "      <th>ShippingTime</th>\n",
       "      <th>Price_dollar</th>\n",
       "    </tr>\n",
       "  </thead>\n",
       "  <tbody>\n",
       "    <tr>\n",
       "      <th>mean</th>\n",
       "      <td>7626.375</td>\n",
       "      <td>12.770707</td>\n",
       "      <td>5166.039683</td>\n",
       "    </tr>\n",
       "    <tr>\n",
       "      <th>max</th>\n",
       "      <td>9965.000</td>\n",
       "      <td>20.000000</td>\n",
       "      <td>9962.440000</td>\n",
       "    </tr>\n",
       "    <tr>\n",
       "      <th>min</th>\n",
       "      <td>5024.000</td>\n",
       "      <td>5.000000</td>\n",
       "      <td>0.000000</td>\n",
       "    </tr>\n",
       "  </tbody>\n",
       "</table>\n",
       "</div>"
      ],
      "text/plain": [
       "      Total_Ratings  ShippingTime  Price_dollar\n",
       "mean       7626.375     12.770707   5166.039683\n",
       "max        9965.000     20.000000   9962.440000\n",
       "min        5024.000      5.000000      0.000000"
      ]
     },
     "execution_count": 121,
     "metadata": {},
     "output_type": "execute_result"
    }
   ],
   "source": [
    "data[['Total_Ratings','ShippingTime','Price_dollar']].agg([np.mean,max,min])"
   ]
  },
  {
   "cell_type": "code",
   "execution_count": 122,
   "metadata": {},
   "outputs": [
    {
     "data": {
      "text/plain": [
       "<matplotlib.axes._subplots.AxesSubplot at 0x7f6be4e29760>"
      ]
     },
     "execution_count": 122,
     "metadata": {},
     "output_type": "execute_result"
    },
    {
     "data": {
      "image/png": "[encoded data removed]",
      "text/plain": [
       "<Figure size 432x288 with 1 Axes>"
      ]
     },
     "metadata": {
      "needs_background": "light"
     },
     "output_type": "display_data"
    }
   ],
   "source": [
    "data[['Total_Ratings','ShippingTime','Price_dollar']].boxplot()"
   ]
  },
  {
   "cell_type": "markdown",
   "metadata": {},
   "source": [
    "Clearly, there is difference is scales in features."
   ]
  },
  {
   "cell_type": "code",
   "execution_count": 123,
   "metadata": {},
   "outputs": [],
   "source": [
    "scaled_data=data.copy()"
   ]
  },
  {
   "cell_type": "code",
   "execution_count": 124,
   "metadata": {},
   "outputs": [],
   "source": [
    "from sklearn.preprocessing import StandardScaler"
   ]
  },
  {
   "cell_type": "code",
   "execution_count": 125,
   "metadata": {},
   "outputs": [],
   "source": [
    "scl_tr=StandardScaler() # scaling total ratings\n",
    "scl_st=StandardScaler() # scaling shipping time\n",
    "scl_pd=StandardScaler() # scaling price in dollars"
   ]
  },
  {
   "cell_type": "code",
   "execution_count": 126,
   "metadata": {},
   "outputs": [],
   "source": [
    "scaled_data.Total_Ratings=scl_tr.fit_transform(scaled_data[['Total_Ratings']])\n",
    "scaled_data.ShippingTime=scl_st.fit_transform(scaled_data[['ShippingTime']])\n",
    "scaled_data.Price_dollar=scl_pd.fit_transform(scaled_data[['Price_dollar']])"
   ]
  },
  {
   "cell_type": "code",
   "execution_count": 127,
   "metadata": {},
   "outputs": [
    {
     "data": {
      "text/plain": [
       "<matplotlib.axes._subplots.AxesSubplot at 0x7f6be4d537c0>"
      ]
     },
     "execution_count": 127,
     "metadata": {},
     "output_type": "execute_result"
    },
    {
     "data": {
      "image/png": "[encoded data removed]",
      "text/plain": [
       "<Figure size 432x288 with 1 Axes>"
      ]
     },
     "metadata": {
      "needs_background": "light"
     },
     "output_type": "display_data"
    }
   ],
   "source": [
    "scaled_data[['Total_Ratings','ShippingTime','Price_dollar']].boxplot()"
   ]
  },
  {
   "cell_type": "markdown",
   "metadata": {},
   "source": [
    "#### MinMaxScaler"
   ]
  },
  {
   "cell_type": "code",
   "execution_count": 128,
   "metadata": {},
   "outputs": [],
   "source": [
    "scaled_data=data.copy()"
   ]
  },
  {
   "cell_type": "code",
   "execution_count": 129,
   "metadata": {},
   "outputs": [],
   "source": [
    "from sklearn.preprocessing import MinMaxScaler"
   ]
  },
  {
   "cell_type": "code",
   "execution_count": 130,
   "metadata": {},
   "outputs": [],
   "source": [
    "mcl_tr=MinMaxScaler() # scaling total ratings\n",
    "mcl_st=MinMaxScaler() # scaling shipping time\n",
    "mcl_pd=MinMaxScaler() # scaling price in dollars"
   ]
  },
  {
   "cell_type": "code",
   "execution_count": 131,
   "metadata": {},
   "outputs": [],
   "source": [
    "scaled_data.Total_Ratings=mcl_tr.fit_transform(scaled_data[['Total_Ratings']])\n",
    "scaled_data.ShippingTime=mcl_st.fit_transform(scaled_data[['ShippingTime']])\n",
    "scaled_data.Price_dollar=mcl_pd.fit_transform(scaled_data[['Price_dollar']])"
   ]
  },
  {
   "cell_type": "code",
   "execution_count": 132,
   "metadata": {},
   "outputs": [
    {
     "data": {
      "text/plain": [
       "<matplotlib.axes._subplots.AxesSubplot at 0x7f6be4dcf280>"
      ]
     },
     "execution_count": 132,
     "metadata": {},
     "output_type": "execute_result"
    },
    {
     "data": {
      "image/png": "[encoded data removed]",
      "text/plain": [
       "<Figure size 432x288 with 1 Axes>"
      ]
     },
     "metadata": {
      "needs_background": "light"
     },
     "output_type": "display_data"
    }
   ],
   "source": [
    "scaled_data[['Total_Ratings','ShippingTime','Price_dollar']].boxplot()"
   ]
  },
  {
   "cell_type": "markdown",
   "metadata": {},
   "source": [
    "MinMaxScaler scales data between 0-1"
   ]
  },
  {
   "cell_type": "markdown",
   "metadata": {},
   "source": [
    "#### Binarizer"
   ]
  },
  {
   "cell_type": "code",
   "execution_count": 133,
   "metadata": {},
   "outputs": [],
   "source": [
    "from sklearn.preprocessing import Binarizer"
   ]
  },
  {
   "cell_type": "code",
   "execution_count": 134,
   "metadata": {},
   "outputs": [],
   "source": [
    "scaled_data=data.copy()"
   ]
  },
  {
   "cell_type": "code",
   "execution_count": 135,
   "metadata": {},
   "outputs": [],
   "source": [
    "bl=Binarizer(5000)"
   ]
  },
  {
   "cell_type": "code",
   "execution_count": 136,
   "metadata": {},
   "outputs": [],
   "source": [
    "# Let's say we have divide data where purchase were made more than 5000\n",
    "scaled_data['Price_5000']=bl.fit_transform(scaled_data[['Price_dollar']])"
   ]
  },
  {
   "cell_type": "code",
   "execution_count": 137,
   "metadata": {},
   "outputs": [
    {
     "data": {
      "text/html": [
       "<div>\n",
       "<style scoped>\n",
       "    .dataframe tbody tr th:only-of-type {\n",
       "        vertical-align: middle;\n",
       "    }\n",
       "\n",
       "    .dataframe tbody tr th {\n",
       "        vertical-align: top;\n",
       "    }\n",
       "\n",
       "    .dataframe thead th {\n",
       "        text-align: right;\n",
       "    }\n",
       "</style>\n",
       "<table border=\"1\" class=\"dataframe\">\n",
       "  <thead>\n",
       "    <tr style=\"text-align: right;\">\n",
       "      <th></th>\n",
       "      <th>Price_dollar</th>\n",
       "      <th>Price_5000</th>\n",
       "    </tr>\n",
       "  </thead>\n",
       "  <tbody>\n",
       "    <tr>\n",
       "      <th>0</th>\n",
       "      <td>9210.194102</td>\n",
       "      <td>1.0</td>\n",
       "    </tr>\n",
       "    <tr>\n",
       "      <th>1</th>\n",
       "      <td>2743.889157</td>\n",
       "      <td>0.0</td>\n",
       "    </tr>\n",
       "    <tr>\n",
       "      <th>2</th>\n",
       "      <td>8342.300317</td>\n",
       "      <td>1.0</td>\n",
       "    </tr>\n",
       "    <tr>\n",
       "      <th>5</th>\n",
       "      <td>0.000000</td>\n",
       "      <td>0.0</td>\n",
       "    </tr>\n",
       "    <tr>\n",
       "      <th>6</th>\n",
       "      <td>8774.342551</td>\n",
       "      <td>1.0</td>\n",
       "    </tr>\n",
       "  </tbody>\n",
       "</table>\n",
       "</div>"
      ],
      "text/plain": [
       "   Price_dollar  Price_5000\n",
       "0   9210.194102         1.0\n",
       "1   2743.889157         0.0\n",
       "2   8342.300317         1.0\n",
       "5      0.000000         0.0\n",
       "6   8774.342551         1.0"
      ]
     },
     "execution_count": 137,
     "metadata": {},
     "output_type": "execute_result"
    }
   ],
   "source": [
    "scaled_data[['Price_dollar','Price_5000']].head()"
   ]
  },
  {
   "cell_type": "markdown",
   "metadata": {},
   "source": [
    "##### Saving Preprocessed DataFrame"
   ]
  },
  {
   "cell_type": "code",
   "execution_count": 138,
   "metadata": {},
   "outputs": [
    {
     "data": {
      "text/html": [
       "<div>\n",
       "<style scoped>\n",
       "    .dataframe tbody tr th:only-of-type {\n",
       "        vertical-align: middle;\n",
       "    }\n",
       "\n",
       "    .dataframe tbody tr th {\n",
       "        vertical-align: top;\n",
       "    }\n",
       "\n",
       "    .dataframe thead th {\n",
       "        text-align: right;\n",
       "    }\n",
       "</style>\n",
       "<table border=\"1\" class=\"dataframe\">\n",
       "  <thead>\n",
       "    <tr style=\"text-align: right;\">\n",
       "      <th></th>\n",
       "      <th>Date</th>\n",
       "      <th>CustomerID</th>\n",
       "      <th>ProductType</th>\n",
       "      <th>Rating</th>\n",
       "      <th>Total_Ratings</th>\n",
       "      <th>Gender</th>\n",
       "      <th>PaymentMode</th>\n",
       "      <th>PaymentMode.1</th>\n",
       "      <th>ShippingMode</th>\n",
       "      <th>ShippingTime</th>\n",
       "      <th>Price</th>\n",
       "      <th>PaidCurrency</th>\n",
       "      <th>Price_dollar</th>\n",
       "    </tr>\n",
       "  </thead>\n",
       "  <tbody>\n",
       "    <tr>\n",
       "      <th>0</th>\n",
       "      <td>2020-08-16</td>\n",
       "      <td>10471</td>\n",
       "      <td>Coats/Jackets</td>\n",
       "      <td>1 star</td>\n",
       "      <td>8736</td>\n",
       "      <td>Female</td>\n",
       "      <td>Credit Card</td>\n",
       "      <td>Creditcard</td>\n",
       "      <td>Economy</td>\n",
       "      <td>17.0</td>\n",
       "      <td>₹ 675036.2138626401</td>\n",
       "      <td>Indian Rupee</td>\n",
       "      <td>9210.194102</td>\n",
       "    </tr>\n",
       "    <tr>\n",
       "      <th>1</th>\n",
       "      <td>2020-08-02</td>\n",
       "      <td>10472</td>\n",
       "      <td>Dresses</td>\n",
       "      <td>2 star</td>\n",
       "      <td>8547</td>\n",
       "      <td>Unspecified</td>\n",
       "      <td>Ewallet</td>\n",
       "      <td>Ewallet</td>\n",
       "      <td>Mail</td>\n",
       "      <td>12.0</td>\n",
       "      <td>€ 2,315.53</td>\n",
       "      <td>Euro</td>\n",
       "      <td>2743.889157</td>\n",
       "    </tr>\n",
       "    <tr>\n",
       "      <th>2</th>\n",
       "      <td>2020-08-08</td>\n",
       "      <td>10473</td>\n",
       "      <td>Coats/Jackets</td>\n",
       "      <td>2 star</td>\n",
       "      <td>9833</td>\n",
       "      <td>Unspecified</td>\n",
       "      <td>Prepaid Card</td>\n",
       "      <td>Prepaid Card</td>\n",
       "      <td>Mail</td>\n",
       "      <td>10.0</td>\n",
       "      <td>₹ 611426.29122378</td>\n",
       "      <td>Indian Rupee</td>\n",
       "      <td>8342.300317</td>\n",
       "    </tr>\n",
       "    <tr>\n",
       "      <th>5</th>\n",
       "      <td>2020-08-28</td>\n",
       "      <td>10476</td>\n",
       "      <td>Coats/Jackets</td>\n",
       "      <td>2 star</td>\n",
       "      <td>5347</td>\n",
       "      <td>Female</td>\n",
       "      <td>Direct Deposit</td>\n",
       "      <td>Direct Deposit</td>\n",
       "      <td>Mail</td>\n",
       "      <td>20.0</td>\n",
       "      <td>&lt;NA&gt;</td>\n",
       "      <td></td>\n",
       "      <td>0.000000</td>\n",
       "    </tr>\n",
       "    <tr>\n",
       "      <th>6</th>\n",
       "      <td>2020-08-08</td>\n",
       "      <td>10477</td>\n",
       "      <td>Coats/Jackets</td>\n",
       "      <td>5 star</td>\n",
       "      <td>9406</td>\n",
       "      <td>Unspecified</td>\n",
       "      <td>Direct Deposit</td>\n",
       "      <td>Direct Deposit</td>\n",
       "      <td>Mail</td>\n",
       "      <td>14.0</td>\n",
       "      <td>£ 6610.077565000001</td>\n",
       "      <td>British Pound</td>\n",
       "      <td>8774.342551</td>\n",
       "    </tr>\n",
       "  </tbody>\n",
       "</table>\n",
       "</div>"
      ],
      "text/plain": [
       "        Date  CustomerID    ProductType  Rating  Total_Ratings       Gender  \\\n",
       "0 2020-08-16       10471  Coats/Jackets  1 star           8736       Female   \n",
       "1 2020-08-02       10472        Dresses  2 star           8547  Unspecified   \n",
       "2 2020-08-08       10473  Coats/Jackets  2 star           9833  Unspecified   \n",
       "5 2020-08-28       10476  Coats/Jackets  2 star           5347       Female   \n",
       "6 2020-08-08       10477  Coats/Jackets  5 star           9406  Unspecified   \n",
       "\n",
       "      PaymentMode   PaymentMode.1 ShippingMode  ShippingTime  \\\n",
       "0     Credit Card      Creditcard      Economy          17.0   \n",
       "1         Ewallet         Ewallet         Mail          12.0   \n",
       "2    Prepaid Card    Prepaid Card         Mail          10.0   \n",
       "5  Direct Deposit  Direct Deposit         Mail          20.0   \n",
       "6  Direct Deposit  Direct Deposit         Mail          14.0   \n",
       "\n",
       "                 Price   PaidCurrency  Price_dollar  \n",
       "0  ₹ 675036.2138626401   Indian Rupee   9210.194102  \n",
       "1           € 2,315.53           Euro   2743.889157  \n",
       "2    ₹ 611426.29122378   Indian Rupee   8342.300317  \n",
       "5                 <NA>                     0.000000  \n",
       "6  £ 6610.077565000001  British Pound   8774.342551  "
      ]
     },
     "execution_count": 138,
     "metadata": {},
     "output_type": "execute_result"
    }
   ],
   "source": [
    "data.head()"
   ]
  },
  {
   "cell_type": "code",
   "execution_count": 139,
   "metadata": {},
   "outputs": [],
   "source": [
    "data.to_csv('Bello_Fashions_processed.csv',index=False)"
   ]
  },
  {
   "cell_type": "markdown",
   "metadata": {},
   "source": [
    "### Advance Manipulation"
   ]
  },
  {
   "cell_type": "markdown",
   "metadata": {},
   "source": [
    "#### Plotting and Styling"
   ]
  },
  {
   "cell_type": "markdown",
   "metadata": {},
   "source": [
    "#### Plotting"
   ]
  },
  {
   "cell_type": "code",
   "execution_count": 140,
   "metadata": {},
   "outputs": [
    {
     "data": {
      "text/html": [
       "<div>\n",
       "<style scoped>\n",
       "    .dataframe tbody tr th:only-of-type {\n",
       "        vertical-align: middle;\n",
       "    }\n",
       "\n",
       "    .dataframe tbody tr th {\n",
       "        vertical-align: top;\n",
       "    }\n",
       "\n",
       "    .dataframe thead th {\n",
       "        text-align: right;\n",
       "    }\n",
       "</style>\n",
       "<table border=\"1\" class=\"dataframe\">\n",
       "  <thead>\n",
       "    <tr style=\"text-align: right;\">\n",
       "      <th></th>\n",
       "      <th>Date</th>\n",
       "      <th>CustomerID</th>\n",
       "      <th>ProductType</th>\n",
       "      <th>Rating</th>\n",
       "      <th>Total_Ratings</th>\n",
       "      <th>Gender</th>\n",
       "      <th>PaymentMode</th>\n",
       "      <th>PaymentMode.1</th>\n",
       "      <th>ShippingMode</th>\n",
       "      <th>ShippingTime</th>\n",
       "      <th>Price</th>\n",
       "      <th>PaidCurrency</th>\n",
       "      <th>Price_dollar</th>\n",
       "    </tr>\n",
       "  </thead>\n",
       "  <tbody>\n",
       "    <tr>\n",
       "      <th>0</th>\n",
       "      <td>2020-08-16</td>\n",
       "      <td>10471</td>\n",
       "      <td>Coats/Jackets</td>\n",
       "      <td>1 star</td>\n",
       "      <td>8736</td>\n",
       "      <td>Female</td>\n",
       "      <td>Credit Card</td>\n",
       "      <td>Creditcard</td>\n",
       "      <td>Economy</td>\n",
       "      <td>17.0</td>\n",
       "      <td>₹ 675036.2138626401</td>\n",
       "      <td>Indian Rupee</td>\n",
       "      <td>9210.194102</td>\n",
       "    </tr>\n",
       "    <tr>\n",
       "      <th>1</th>\n",
       "      <td>2020-08-02</td>\n",
       "      <td>10472</td>\n",
       "      <td>Dresses</td>\n",
       "      <td>2 star</td>\n",
       "      <td>8547</td>\n",
       "      <td>Unspecified</td>\n",
       "      <td>Ewallet</td>\n",
       "      <td>Ewallet</td>\n",
       "      <td>Mail</td>\n",
       "      <td>12.0</td>\n",
       "      <td>€ 2,315.53</td>\n",
       "      <td>Euro</td>\n",
       "      <td>2743.889157</td>\n",
       "    </tr>\n",
       "    <tr>\n",
       "      <th>2</th>\n",
       "      <td>2020-08-08</td>\n",
       "      <td>10473</td>\n",
       "      <td>Coats/Jackets</td>\n",
       "      <td>2 star</td>\n",
       "      <td>9833</td>\n",
       "      <td>Unspecified</td>\n",
       "      <td>Prepaid Card</td>\n",
       "      <td>Prepaid Card</td>\n",
       "      <td>Mail</td>\n",
       "      <td>10.0</td>\n",
       "      <td>₹ 611426.29122378</td>\n",
       "      <td>Indian Rupee</td>\n",
       "      <td>8342.300317</td>\n",
       "    </tr>\n",
       "    <tr>\n",
       "      <th>5</th>\n",
       "      <td>2020-08-28</td>\n",
       "      <td>10476</td>\n",
       "      <td>Coats/Jackets</td>\n",
       "      <td>2 star</td>\n",
       "      <td>5347</td>\n",
       "      <td>Female</td>\n",
       "      <td>Direct Deposit</td>\n",
       "      <td>Direct Deposit</td>\n",
       "      <td>Mail</td>\n",
       "      <td>20.0</td>\n",
       "      <td>&lt;NA&gt;</td>\n",
       "      <td></td>\n",
       "      <td>0.000000</td>\n",
       "    </tr>\n",
       "    <tr>\n",
       "      <th>6</th>\n",
       "      <td>2020-08-08</td>\n",
       "      <td>10477</td>\n",
       "      <td>Coats/Jackets</td>\n",
       "      <td>5 star</td>\n",
       "      <td>9406</td>\n",
       "      <td>Unspecified</td>\n",
       "      <td>Direct Deposit</td>\n",
       "      <td>Direct Deposit</td>\n",
       "      <td>Mail</td>\n",
       "      <td>14.0</td>\n",
       "      <td>£ 6610.077565000001</td>\n",
       "      <td>British Pound</td>\n",
       "      <td>8774.342551</td>\n",
       "    </tr>\n",
       "  </tbody>\n",
       "</table>\n",
       "</div>"
      ],
      "text/plain": [
       "        Date  CustomerID    ProductType  Rating  Total_Ratings       Gender  \\\n",
       "0 2020-08-16       10471  Coats/Jackets  1 star           8736       Female   \n",
       "1 2020-08-02       10472        Dresses  2 star           8547  Unspecified   \n",
       "2 2020-08-08       10473  Coats/Jackets  2 star           9833  Unspecified   \n",
       "5 2020-08-28       10476  Coats/Jackets  2 star           5347       Female   \n",
       "6 2020-08-08       10477  Coats/Jackets  5 star           9406  Unspecified   \n",
       "\n",
       "      PaymentMode   PaymentMode.1 ShippingMode  ShippingTime  \\\n",
       "0     Credit Card      Creditcard      Economy          17.0   \n",
       "1         Ewallet         Ewallet         Mail          12.0   \n",
       "2    Prepaid Card    Prepaid Card         Mail          10.0   \n",
       "5  Direct Deposit  Direct Deposit         Mail          20.0   \n",
       "6  Direct Deposit  Direct Deposit         Mail          14.0   \n",
       "\n",
       "                 Price   PaidCurrency  Price_dollar  \n",
       "0  ₹ 675036.2138626401   Indian Rupee   9210.194102  \n",
       "1           € 2,315.53           Euro   2743.889157  \n",
       "2    ₹ 611426.29122378   Indian Rupee   8342.300317  \n",
       "5                 <NA>                     0.000000  \n",
       "6  £ 6610.077565000001  British Pound   8774.342551  "
      ]
     },
     "execution_count": 140,
     "metadata": {},
     "output_type": "execute_result"
    }
   ],
   "source": [
    "data.head()"
   ]
  },
  {
   "cell_type": "code",
   "execution_count": 141,
   "metadata": {},
   "outputs": [],
   "source": [
    "def getCount(data,cat):\n",
    "    '''\n",
    "    data: DataFrame\n",
    "    cat: category name  \n",
    "    '''\n",
    "    rre={'Category':[],'Length':[]}\n",
    "    for grp,gata in data.groupby(cat):\n",
    "        rre['Category'].append(grp)\n",
    "        rre['Length'].append(len(gata))\n",
    "    return pd.DataFrame(rre)"
   ]
  },
  {
   "cell_type": "markdown",
   "metadata": {},
   "source": [
    "##### Most Popular Product Type"
   ]
  },
  {
   "cell_type": "code",
   "execution_count": 142,
   "metadata": {},
   "outputs": [],
   "source": [
    "pt_count=getCount(data,'ProductType')\n",
    "pt_count.set_index('Category',inplace=True)"
   ]
  },
  {
   "cell_type": "code",
   "execution_count": 143,
   "metadata": {},
   "outputs": [
    {
     "data": {
      "text/plain": [
       "<matplotlib.axes._subplots.AxesSubplot at 0x7f6be4c6f0a0>"
      ]
     },
     "execution_count": 143,
     "metadata": {},
     "output_type": "execute_result"
    },
    {
     "data": {
      "image/png": "[encoded data removed]",
      "text/plain": [
       "<Figure size 432x288 with 1 Axes>"
      ]
     },
     "metadata": {
      "needs_background": "light"
     },
     "output_type": "display_data"
    }
   ],
   "source": [
    "pt_count.plot(kind='bar',title='Product Sales')"
   ]
  },
  {
   "cell_type": "markdown",
   "metadata": {},
   "source": [
    "##### Most Preferred Payment Mode"
   ]
  },
  {
   "cell_type": "code",
   "execution_count": 144,
   "metadata": {},
   "outputs": [
    {
     "data": {
      "text/plain": [
       "<matplotlib.axes._subplots.AxesSubplot at 0x7f6be4bf03d0>"
      ]
     },
     "execution_count": 144,
     "metadata": {},
     "output_type": "execute_result"
    },
    {
     "data": {
      "image/png": "[encoded data removed]",
      "text/plain": [
       "<Figure size 432x288 with 1 Axes>"
      ]
     },
     "metadata": {
      "needs_background": "light"
     },
     "output_type": "display_data"
    }
   ],
   "source": [
    "pt_count=getCount(data,'PaymentMode')\n",
    "pt_count.set_index('Category',inplace=True)\n",
    "pt_count.plot(kind='bar',title='Payment Mode')"
   ]
  },
  {
   "cell_type": "markdown",
   "metadata": {},
   "source": [
    "##### Most Preferred Shipping Mode"
   ]
  },
  {
   "cell_type": "code",
   "execution_count": 145,
   "metadata": {},
   "outputs": [
    {
     "data": {
      "text/plain": [
       "<matplotlib.axes._subplots.AxesSubplot at 0x7f6be4b563d0>"
      ]
     },
     "execution_count": 145,
     "metadata": {},
     "output_type": "execute_result"
    },
    {
     "data": {
      "image/png": "[encoded data removed]",
      "text/plain": [
       "<Figure size 432x288 with 1 Axes>"
      ]
     },
     "metadata": {
      "needs_background": "light"
     },
     "output_type": "display_data"
    }
   ],
   "source": [
    "pt_count=getCount(data,'ShippingMode')\n",
    "pt_count.set_index('Category',inplace=True)\n",
    "pt_count.plot(kind='bar',title='Payment Mode')"
   ]
  },
  {
   "cell_type": "markdown",
   "metadata": {},
   "source": [
    "##### Average Price/ShippingTime of products per category"
   ]
  },
  {
   "cell_type": "code",
   "execution_count": 146,
   "metadata": {},
   "outputs": [],
   "source": [
    "aprice=data.groupby('ProductType')['Price_dollar'].agg(np.mean)"
   ]
  },
  {
   "cell_type": "code",
   "execution_count": 147,
   "metadata": {},
   "outputs": [
    {
     "data": {
      "text/plain": [
       "<matplotlib.axes._subplots.AxesSubplot at 0x7f6be4b27370>"
      ]
     },
     "execution_count": 147,
     "metadata": {},
     "output_type": "execute_result"
    },
    {
     "data": {
      "image/png": "[encoded data removed]",
      "text/plain": [
       "<Figure size 432x288 with 1 Axes>"
      ]
     },
     "metadata": {
      "needs_background": "light"
     },
     "output_type": "display_data"
    }
   ],
   "source": [
    "aprice.plot(kind='bar')"
   ]
  },
  {
   "cell_type": "code",
   "execution_count": 148,
   "metadata": {},
   "outputs": [
    {
     "data": {
      "text/plain": [
       "<matplotlib.axes._subplots.AxesSubplot at 0x7f6be4a7b8b0>"
      ]
     },
     "execution_count": 148,
     "metadata": {},
     "output_type": "execute_result"
    },
    {
     "data": {
      "image/png": "[encoded data removed]",
      "text/plain": [
       "<Figure size 432x288 with 1 Axes>"
      ]
     },
     "metadata": {
      "needs_background": "light"
     },
     "output_type": "display_data"
    }
   ],
   "source": [
    "aship=data.groupby('ProductType')['ShippingTime'].agg(np.mean)\n",
    "aship.plot(kind='bar')"
   ]
  },
  {
   "cell_type": "markdown",
   "metadata": {},
   "source": [
    "##### Check the distribution of Shipping time"
   ]
  },
  {
   "cell_type": "code",
   "execution_count": 149,
   "metadata": {},
   "outputs": [
    {
     "data": {
      "text/plain": [
       "<matplotlib.axes._subplots.AxesSubplot at 0x7f6be4a78580>"
      ]
     },
     "execution_count": 149,
     "metadata": {},
     "output_type": "execute_result"
    },
    {
     "data": {
      "image/png": "[encoded data removed]",
      "text/plain": [
       "<Figure size 432x288 with 1 Axes>"
      ]
     },
     "metadata": {
      "needs_background": "light"
     },
     "output_type": "display_data"
    }
   ],
   "source": [
    "data[['ShippingTime']].plot.hist()"
   ]
  },
  {
   "cell_type": "markdown",
   "metadata": {},
   "source": [
    "##### Pie Chart"
   ]
  },
  {
   "cell_type": "code",
   "execution_count": 150,
   "metadata": {},
   "outputs": [
    {
     "data": {
      "text/plain": [
       "<matplotlib.axes._subplots.AxesSubplot at 0x7f6be49f0df0>"
      ]
     },
     "execution_count": 150,
     "metadata": {},
     "output_type": "execute_result"
    },
    {
     "data": {
      "image/png": "[encoded data removed]",
      "text/plain": [
       "<Figure size 432x288 with 1 Axes>"
      ]
     },
     "metadata": {},
     "output_type": "display_data"
    }
   ],
   "source": [
    "pt_count=getCount(data,'PaymentMode')\n",
    "pt_count.set_index('Category',inplace=True)\n",
    "pt_count.Length.plot.pie(title='Payment Mode')"
   ]
  },
  {
   "cell_type": "markdown",
   "metadata": {},
   "source": [
    "#### Highlighting Price >5000"
   ]
  },
  {
   "cell_type": "code",
   "execution_count": 151,
   "metadata": {},
   "outputs": [],
   "source": [
    "styled_data=data.head(10).style"
   ]
  },
  {
   "cell_type": "code",
   "execution_count": 152,
   "metadata": {},
   "outputs": [
    {
     "data": {
      "text/html": [
       "<style  type=\"text/css\" >\n",
       "    #T_ddf0b7da_ee73_11ea_ae36_0242ac110004row0_col10 {\n",
       "            background-color :  #e1eff6;\n",
       "        }    #T_ddf0b7da_ee73_11ea_ae36_0242ac110004row1_col10 {\n",
       "            background-color :  #eccbd9;\n",
       "        }    #T_ddf0b7da_ee73_11ea_ae36_0242ac110004row2_col10 {\n",
       "            background-color :  #e1eff6;\n",
       "        }    #T_ddf0b7da_ee73_11ea_ae36_0242ac110004row3_col10 {\n",
       "            background-color :  #eccbd9;\n",
       "        }    #T_ddf0b7da_ee73_11ea_ae36_0242ac110004row4_col10 {\n",
       "            background-color :  #e1eff6;\n",
       "        }    #T_ddf0b7da_ee73_11ea_ae36_0242ac110004row5_col10 {\n",
       "            background-color :  #eccbd9;\n",
       "        }    #T_ddf0b7da_ee73_11ea_ae36_0242ac110004row6_col10 {\n",
       "            background-color :  #eccbd9;\n",
       "        }    #T_ddf0b7da_ee73_11ea_ae36_0242ac110004row7_col10 {\n",
       "            background-color :  #eccbd9;\n",
       "        }    #T_ddf0b7da_ee73_11ea_ae36_0242ac110004row8_col10 {\n",
       "            background-color :  #e1eff6;\n",
       "        }    #T_ddf0b7da_ee73_11ea_ae36_0242ac110004row9_col10 {\n",
       "            background-color :  #e1eff6;\n",
       "        }</style><table id=\"T_ddf0b7da_ee73_11ea_ae36_0242ac110004\" ><thead>    <tr>        <th class=\"blank level0\" ></th>        <th class=\"col_heading level0 col0\" >CustomerID</th>        <th class=\"col_heading level0 col1\" >ProductType</th>        <th class=\"col_heading level0 col2\" >Rating</th>        <th class=\"col_heading level0 col3\" >Total_Ratings</th>        <th class=\"col_heading level0 col4\" >Gender</th>        <th class=\"col_heading level0 col5\" >PaymentMode</th>        <th class=\"col_heading level0 col6\" >PaymentMode.1</th>        <th class=\"col_heading level0 col7\" >ShippingMode</th>        <th class=\"col_heading level0 col8\" >ShippingTime</th>        <th class=\"col_heading level0 col9\" >PaidCurrency</th>        <th class=\"col_heading level0 col10\" >Price_dollar</th>    </tr></thead><tbody>\n",
       "                <tr>\n",
       "                        <th id=\"T_ddf0b7da_ee73_11ea_ae36_0242ac110004level0_row0\" class=\"row_heading level0 row0\" >0</th>\n",
       "                        <td id=\"T_ddf0b7da_ee73_11ea_ae36_0242ac110004row0_col0\" class=\"data row0 col0\" >10471</td>\n",
       "                        <td id=\"T_ddf0b7da_ee73_11ea_ae36_0242ac110004row0_col1\" class=\"data row0 col1\" >Coats/Jackets</td>\n",
       "                        <td id=\"T_ddf0b7da_ee73_11ea_ae36_0242ac110004row0_col2\" class=\"data row0 col2\" >1 star</td>\n",
       "                        <td id=\"T_ddf0b7da_ee73_11ea_ae36_0242ac110004row0_col3\" class=\"data row0 col3\" >8736</td>\n",
       "                        <td id=\"T_ddf0b7da_ee73_11ea_ae36_0242ac110004row0_col4\" class=\"data row0 col4\" >Female</td>\n",
       "                        <td id=\"T_ddf0b7da_ee73_11ea_ae36_0242ac110004row0_col5\" class=\"data row0 col5\" >Credit Card</td>\n",
       "                        <td id=\"T_ddf0b7da_ee73_11ea_ae36_0242ac110004row0_col6\" class=\"data row0 col6\" >Creditcard</td>\n",
       "                        <td id=\"T_ddf0b7da_ee73_11ea_ae36_0242ac110004row0_col7\" class=\"data row0 col7\" >Economy</td>\n",
       "                        <td id=\"T_ddf0b7da_ee73_11ea_ae36_0242ac110004row0_col8\" class=\"data row0 col8\" >17.000000</td>\n",
       "                        <td id=\"T_ddf0b7da_ee73_11ea_ae36_0242ac110004row0_col9\" class=\"data row0 col9\" >Indian Rupee</td>\n",
       "                        <td id=\"T_ddf0b7da_ee73_11ea_ae36_0242ac110004row0_col10\" class=\"data row0 col10\" >9210.194102</td>\n",
       "            </tr>\n",
       "            <tr>\n",
       "                        <th id=\"T_ddf0b7da_ee73_11ea_ae36_0242ac110004level0_row1\" class=\"row_heading level0 row1\" >1</th>\n",
       "                        <td id=\"T_ddf0b7da_ee73_11ea_ae36_0242ac110004row1_col0\" class=\"data row1 col0\" >10472</td>\n",
       "                        <td id=\"T_ddf0b7da_ee73_11ea_ae36_0242ac110004row1_col1\" class=\"data row1 col1\" >Dresses</td>\n",
       "                        <td id=\"T_ddf0b7da_ee73_11ea_ae36_0242ac110004row1_col2\" class=\"data row1 col2\" >2 star</td>\n",
       "                        <td id=\"T_ddf0b7da_ee73_11ea_ae36_0242ac110004row1_col3\" class=\"data row1 col3\" >8547</td>\n",
       "                        <td id=\"T_ddf0b7da_ee73_11ea_ae36_0242ac110004row1_col4\" class=\"data row1 col4\" >Unspecified</td>\n",
       "                        <td id=\"T_ddf0b7da_ee73_11ea_ae36_0242ac110004row1_col5\" class=\"data row1 col5\" >Ewallet</td>\n",
       "                        <td id=\"T_ddf0b7da_ee73_11ea_ae36_0242ac110004row1_col6\" class=\"data row1 col6\" >Ewallet</td>\n",
       "                        <td id=\"T_ddf0b7da_ee73_11ea_ae36_0242ac110004row1_col7\" class=\"data row1 col7\" >Mail</td>\n",
       "                        <td id=\"T_ddf0b7da_ee73_11ea_ae36_0242ac110004row1_col8\" class=\"data row1 col8\" >12.000000</td>\n",
       "                        <td id=\"T_ddf0b7da_ee73_11ea_ae36_0242ac110004row1_col9\" class=\"data row1 col9\" >Euro</td>\n",
       "                        <td id=\"T_ddf0b7da_ee73_11ea_ae36_0242ac110004row1_col10\" class=\"data row1 col10\" >2743.889157</td>\n",
       "            </tr>\n",
       "            <tr>\n",
       "                        <th id=\"T_ddf0b7da_ee73_11ea_ae36_0242ac110004level0_row2\" class=\"row_heading level0 row2\" >2</th>\n",
       "                        <td id=\"T_ddf0b7da_ee73_11ea_ae36_0242ac110004row2_col0\" class=\"data row2 col0\" >10473</td>\n",
       "                        <td id=\"T_ddf0b7da_ee73_11ea_ae36_0242ac110004row2_col1\" class=\"data row2 col1\" >Coats/Jackets</td>\n",
       "                        <td id=\"T_ddf0b7da_ee73_11ea_ae36_0242ac110004row2_col2\" class=\"data row2 col2\" >2 star</td>\n",
       "                        <td id=\"T_ddf0b7da_ee73_11ea_ae36_0242ac110004row2_col3\" class=\"data row2 col3\" >9833</td>\n",
       "                        <td id=\"T_ddf0b7da_ee73_11ea_ae36_0242ac110004row2_col4\" class=\"data row2 col4\" >Unspecified</td>\n",
       "                        <td id=\"T_ddf0b7da_ee73_11ea_ae36_0242ac110004row2_col5\" class=\"data row2 col5\" >Prepaid Card</td>\n",
       "                        <td id=\"T_ddf0b7da_ee73_11ea_ae36_0242ac110004row2_col6\" class=\"data row2 col6\" >Prepaid Card</td>\n",
       "                        <td id=\"T_ddf0b7da_ee73_11ea_ae36_0242ac110004row2_col7\" class=\"data row2 col7\" >Mail</td>\n",
       "                        <td id=\"T_ddf0b7da_ee73_11ea_ae36_0242ac110004row2_col8\" class=\"data row2 col8\" >10.000000</td>\n",
       "                        <td id=\"T_ddf0b7da_ee73_11ea_ae36_0242ac110004row2_col9\" class=\"data row2 col9\" >Indian Rupee</td>\n",
       "                        <td id=\"T_ddf0b7da_ee73_11ea_ae36_0242ac110004row2_col10\" class=\"data row2 col10\" >8342.300317</td>\n",
       "            </tr>\n",
       "            <tr>\n",
       "                        <th id=\"T_ddf0b7da_ee73_11ea_ae36_0242ac110004level0_row3\" class=\"row_heading level0 row3\" >5</th>\n",
       "                        <td id=\"T_ddf0b7da_ee73_11ea_ae36_0242ac110004row3_col0\" class=\"data row3 col0\" >10476</td>\n",
       "                        <td id=\"T_ddf0b7da_ee73_11ea_ae36_0242ac110004row3_col1\" class=\"data row3 col1\" >Coats/Jackets</td>\n",
       "                        <td id=\"T_ddf0b7da_ee73_11ea_ae36_0242ac110004row3_col2\" class=\"data row3 col2\" >2 star</td>\n",
       "                        <td id=\"T_ddf0b7da_ee73_11ea_ae36_0242ac110004row3_col3\" class=\"data row3 col3\" >5347</td>\n",
       "                        <td id=\"T_ddf0b7da_ee73_11ea_ae36_0242ac110004row3_col4\" class=\"data row3 col4\" >Female</td>\n",
       "                        <td id=\"T_ddf0b7da_ee73_11ea_ae36_0242ac110004row3_col5\" class=\"data row3 col5\" >Direct Deposit</td>\n",
       "                        <td id=\"T_ddf0b7da_ee73_11ea_ae36_0242ac110004row3_col6\" class=\"data row3 col6\" >Direct Deposit</td>\n",
       "                        <td id=\"T_ddf0b7da_ee73_11ea_ae36_0242ac110004row3_col7\" class=\"data row3 col7\" >Mail</td>\n",
       "                        <td id=\"T_ddf0b7da_ee73_11ea_ae36_0242ac110004row3_col8\" class=\"data row3 col8\" >20.000000</td>\n",
       "                        <td id=\"T_ddf0b7da_ee73_11ea_ae36_0242ac110004row3_col9\" class=\"data row3 col9\" ></td>\n",
       "                        <td id=\"T_ddf0b7da_ee73_11ea_ae36_0242ac110004row3_col10\" class=\"data row3 col10\" >0.000000</td>\n",
       "            </tr>\n",
       "            <tr>\n",
       "                        <th id=\"T_ddf0b7da_ee73_11ea_ae36_0242ac110004level0_row4\" class=\"row_heading level0 row4\" >6</th>\n",
       "                        <td id=\"T_ddf0b7da_ee73_11ea_ae36_0242ac110004row4_col0\" class=\"data row4 col0\" >10477</td>\n",
       "                        <td id=\"T_ddf0b7da_ee73_11ea_ae36_0242ac110004row4_col1\" class=\"data row4 col1\" >Coats/Jackets</td>\n",
       "                        <td id=\"T_ddf0b7da_ee73_11ea_ae36_0242ac110004row4_col2\" class=\"data row4 col2\" >5 star</td>\n",
       "                        <td id=\"T_ddf0b7da_ee73_11ea_ae36_0242ac110004row4_col3\" class=\"data row4 col3\" >9406</td>\n",
       "                        <td id=\"T_ddf0b7da_ee73_11ea_ae36_0242ac110004row4_col4\" class=\"data row4 col4\" >Unspecified</td>\n",
       "                        <td id=\"T_ddf0b7da_ee73_11ea_ae36_0242ac110004row4_col5\" class=\"data row4 col5\" >Direct Deposit</td>\n",
       "                        <td id=\"T_ddf0b7da_ee73_11ea_ae36_0242ac110004row4_col6\" class=\"data row4 col6\" >Direct Deposit</td>\n",
       "                        <td id=\"T_ddf0b7da_ee73_11ea_ae36_0242ac110004row4_col7\" class=\"data row4 col7\" >Mail</td>\n",
       "                        <td id=\"T_ddf0b7da_ee73_11ea_ae36_0242ac110004row4_col8\" class=\"data row4 col8\" >14.000000</td>\n",
       "                        <td id=\"T_ddf0b7da_ee73_11ea_ae36_0242ac110004row4_col9\" class=\"data row4 col9\" >British Pound</td>\n",
       "                        <td id=\"T_ddf0b7da_ee73_11ea_ae36_0242ac110004row4_col10\" class=\"data row4 col10\" >8774.342551</td>\n",
       "            </tr>\n",
       "            <tr>\n",
       "                        <th id=\"T_ddf0b7da_ee73_11ea_ae36_0242ac110004level0_row5\" class=\"row_heading level0 row5\" >7</th>\n",
       "                        <td id=\"T_ddf0b7da_ee73_11ea_ae36_0242ac110004row5_col0\" class=\"data row5 col0\" >10478</td>\n",
       "                        <td id=\"T_ddf0b7da_ee73_11ea_ae36_0242ac110004row5_col1\" class=\"data row5 col1\" >Jeans</td>\n",
       "                        <td id=\"T_ddf0b7da_ee73_11ea_ae36_0242ac110004row5_col2\" class=\"data row5 col2\" >1 star</td>\n",
       "                        <td id=\"T_ddf0b7da_ee73_11ea_ae36_0242ac110004row5_col3\" class=\"data row5 col3\" >8554</td>\n",
       "                        <td id=\"T_ddf0b7da_ee73_11ea_ae36_0242ac110004row5_col4\" class=\"data row5 col4\" >Unspecified</td>\n",
       "                        <td id=\"T_ddf0b7da_ee73_11ea_ae36_0242ac110004row5_col5\" class=\"data row5 col5\" >Direct Deposit</td>\n",
       "                        <td id=\"T_ddf0b7da_ee73_11ea_ae36_0242ac110004row5_col6\" class=\"data row5 col6\" >Direct Deposit</td>\n",
       "                        <td id=\"T_ddf0b7da_ee73_11ea_ae36_0242ac110004row5_col7\" class=\"data row5 col7\" >Mail</td>\n",
       "                        <td id=\"T_ddf0b7da_ee73_11ea_ae36_0242ac110004row5_col8\" class=\"data row5 col8\" >18.000000</td>\n",
       "                        <td id=\"T_ddf0b7da_ee73_11ea_ae36_0242ac110004row5_col9\" class=\"data row5 col9\" >American Dollar</td>\n",
       "                        <td id=\"T_ddf0b7da_ee73_11ea_ae36_0242ac110004row5_col10\" class=\"data row5 col10\" >4287.060000</td>\n",
       "            </tr>\n",
       "            <tr>\n",
       "                        <th id=\"T_ddf0b7da_ee73_11ea_ae36_0242ac110004level0_row6\" class=\"row_heading level0 row6\" >8</th>\n",
       "                        <td id=\"T_ddf0b7da_ee73_11ea_ae36_0242ac110004row6_col0\" class=\"data row6 col0\" >10479</td>\n",
       "                        <td id=\"T_ddf0b7da_ee73_11ea_ae36_0242ac110004row6_col1\" class=\"data row6 col1\" >Pants</td>\n",
       "                        <td id=\"T_ddf0b7da_ee73_11ea_ae36_0242ac110004row6_col2\" class=\"data row6 col2\" >4 star</td>\n",
       "                        <td id=\"T_ddf0b7da_ee73_11ea_ae36_0242ac110004row6_col3\" class=\"data row6 col3\" >9630</td>\n",
       "                        <td id=\"T_ddf0b7da_ee73_11ea_ae36_0242ac110004row6_col4\" class=\"data row6 col4\" >Male</td>\n",
       "                        <td id=\"T_ddf0b7da_ee73_11ea_ae36_0242ac110004row6_col5\" class=\"data row6 col5\" >Direct Deposit</td>\n",
       "                        <td id=\"T_ddf0b7da_ee73_11ea_ae36_0242ac110004row6_col6\" class=\"data row6 col6\" >Direct Deposit</td>\n",
       "                        <td id=\"T_ddf0b7da_ee73_11ea_ae36_0242ac110004row6_col7\" class=\"data row6 col7\" >Express</td>\n",
       "                        <td id=\"T_ddf0b7da_ee73_11ea_ae36_0242ac110004row6_col8\" class=\"data row6 col8\" >12.822222</td>\n",
       "                        <td id=\"T_ddf0b7da_ee73_11ea_ae36_0242ac110004row6_col9\" class=\"data row6 col9\" >British Pound</td>\n",
       "                        <td id=\"T_ddf0b7da_ee73_11ea_ae36_0242ac110004row6_col10\" class=\"data row6 col10\" >3995.812866</td>\n",
       "            </tr>\n",
       "            <tr>\n",
       "                        <th id=\"T_ddf0b7da_ee73_11ea_ae36_0242ac110004level0_row7\" class=\"row_heading level0 row7\" >10</th>\n",
       "                        <td id=\"T_ddf0b7da_ee73_11ea_ae36_0242ac110004row7_col0\" class=\"data row7 col0\" >10481</td>\n",
       "                        <td id=\"T_ddf0b7da_ee73_11ea_ae36_0242ac110004row7_col1\" class=\"data row7 col1\" >Dresses</td>\n",
       "                        <td id=\"T_ddf0b7da_ee73_11ea_ae36_0242ac110004row7_col2\" class=\"data row7 col2\" >2 star</td>\n",
       "                        <td id=\"T_ddf0b7da_ee73_11ea_ae36_0242ac110004row7_col3\" class=\"data row7 col3\" >7750</td>\n",
       "                        <td id=\"T_ddf0b7da_ee73_11ea_ae36_0242ac110004row7_col4\" class=\"data row7 col4\" >Female</td>\n",
       "                        <td id=\"T_ddf0b7da_ee73_11ea_ae36_0242ac110004row7_col5\" class=\"data row7 col5\" >Direct Deposit</td>\n",
       "                        <td id=\"T_ddf0b7da_ee73_11ea_ae36_0242ac110004row7_col6\" class=\"data row7 col6\" >nan</td>\n",
       "                        <td id=\"T_ddf0b7da_ee73_11ea_ae36_0242ac110004row7_col7\" class=\"data row7 col7\" >Economy</td>\n",
       "                        <td id=\"T_ddf0b7da_ee73_11ea_ae36_0242ac110004row7_col8\" class=\"data row7 col8\" >17.000000</td>\n",
       "                        <td id=\"T_ddf0b7da_ee73_11ea_ae36_0242ac110004row7_col9\" class=\"data row7 col9\" >Euro</td>\n",
       "                        <td id=\"T_ddf0b7da_ee73_11ea_ae36_0242ac110004row7_col10\" class=\"data row7 col10\" >4387.487685</td>\n",
       "            </tr>\n",
       "            <tr>\n",
       "                        <th id=\"T_ddf0b7da_ee73_11ea_ae36_0242ac110004level0_row8\" class=\"row_heading level0 row8\" >11</th>\n",
       "                        <td id=\"T_ddf0b7da_ee73_11ea_ae36_0242ac110004row8_col0\" class=\"data row8 col0\" >10482</td>\n",
       "                        <td id=\"T_ddf0b7da_ee73_11ea_ae36_0242ac110004row8_col1\" class=\"data row8 col1\" >Pants</td>\n",
       "                        <td id=\"T_ddf0b7da_ee73_11ea_ae36_0242ac110004row8_col2\" class=\"data row8 col2\" >5 star</td>\n",
       "                        <td id=\"T_ddf0b7da_ee73_11ea_ae36_0242ac110004row8_col3\" class=\"data row8 col3\" >7816</td>\n",
       "                        <td id=\"T_ddf0b7da_ee73_11ea_ae36_0242ac110004row8_col4\" class=\"data row8 col4\" >Female</td>\n",
       "                        <td id=\"T_ddf0b7da_ee73_11ea_ae36_0242ac110004row8_col5\" class=\"data row8 col5\" >Mobile Payment</td>\n",
       "                        <td id=\"T_ddf0b7da_ee73_11ea_ae36_0242ac110004row8_col6\" class=\"data row8 col6\" >Mobile Payment</td>\n",
       "                        <td id=\"T_ddf0b7da_ee73_11ea_ae36_0242ac110004row8_col7\" class=\"data row8 col7\" >Mail</td>\n",
       "                        <td id=\"T_ddf0b7da_ee73_11ea_ae36_0242ac110004row8_col8\" class=\"data row8 col8\" >10.000000</td>\n",
       "                        <td id=\"T_ddf0b7da_ee73_11ea_ae36_0242ac110004row8_col9\" class=\"data row8 col9\" >Euro</td>\n",
       "                        <td id=\"T_ddf0b7da_ee73_11ea_ae36_0242ac110004row8_col10\" class=\"data row8 col10\" >7797.497519</td>\n",
       "            </tr>\n",
       "            <tr>\n",
       "                        <th id=\"T_ddf0b7da_ee73_11ea_ae36_0242ac110004level0_row9\" class=\"row_heading level0 row9\" >12</th>\n",
       "                        <td id=\"T_ddf0b7da_ee73_11ea_ae36_0242ac110004row9_col0\" class=\"data row9 col0\" >10483</td>\n",
       "                        <td id=\"T_ddf0b7da_ee73_11ea_ae36_0242ac110004row9_col1\" class=\"data row9 col1\" >Cardigan</td>\n",
       "                        <td id=\"T_ddf0b7da_ee73_11ea_ae36_0242ac110004row9_col2\" class=\"data row9 col2\" >4 star</td>\n",
       "                        <td id=\"T_ddf0b7da_ee73_11ea_ae36_0242ac110004row9_col3\" class=\"data row9 col3\" >7021</td>\n",
       "                        <td id=\"T_ddf0b7da_ee73_11ea_ae36_0242ac110004row9_col4\" class=\"data row9 col4\" >Unspecified</td>\n",
       "                        <td id=\"T_ddf0b7da_ee73_11ea_ae36_0242ac110004row9_col5\" class=\"data row9 col5\" >Cash</td>\n",
       "                        <td id=\"T_ddf0b7da_ee73_11ea_ae36_0242ac110004row9_col6\" class=\"data row9 col6\" >Cash</td>\n",
       "                        <td id=\"T_ddf0b7da_ee73_11ea_ae36_0242ac110004row9_col7\" class=\"data row9 col7\" >Express</td>\n",
       "                        <td id=\"T_ddf0b7da_ee73_11ea_ae36_0242ac110004row9_col8\" class=\"data row9 col8\" >6.000000</td>\n",
       "                        <td id=\"T_ddf0b7da_ee73_11ea_ae36_0242ac110004row9_col9\" class=\"data row9 col9\" >American Dollar</td>\n",
       "                        <td id=\"T_ddf0b7da_ee73_11ea_ae36_0242ac110004row9_col10\" class=\"data row9 col10\" >6756.940000</td>\n",
       "            </tr>\n",
       "    </tbody></table>"
      ],
      "text/plain": [
       "<pandas.io.formats.style.Styler at 0x7f6be463e880>"
      ]
     },
     "execution_count": 152,
     "metadata": {},
     "output_type": "execute_result"
    }
   ],
   "source": [
    "styled_data=data.drop(['Date','Price'],axis=1).head(10).style\n",
    "def price_range(price):\n",
    "    out=[]\n",
    "    for i in price:\n",
    "        if float(i)>5000:\n",
    "            # if price is greater than 5000 then color is light blue\n",
    "            out.append(\"background-color : #e1eff6\")\n",
    "        else:\n",
    "            # if price is less than 5000 then color is light pink\n",
    "            out.append(\"background-color : #eccbd9\")\n",
    "    return out\n",
    "styled_data.apply(price_range,subset=['Price_dollar'])"
   ]
  },
  {
   "cell_type": "markdown",
   "metadata": {},
   "source": [
    "#### Styling whole table using CSS styles"
   ]
  },
  {
   "cell_type": "code",
   "execution_count": 153,
   "metadata": {},
   "outputs": [
    {
     "data": {
      "text/html": [
       "<style  type=\"text/css\" >\n",
       "    #T_ddf471e0_ee73_11ea_ae36_0242ac110004 tr:hover {\n",
       "          background-color: #eccbd9;\n",
       "    }    #T_ddf471e0_ee73_11ea_ae36_0242ac110004 th:hover {\n",
       "          background-color: #eccbd9;\n",
       "    }    #T_ddf471e0_ee73_11ea_ae36_0242ac110004 th {\n",
       "          background-color: #4f6d7a;\n",
       "          font-size: 12px;\n",
       "          text-align: center;\n",
       "          color: #ffffff;\n",
       "          border: 1px solid #dbe9ee;\n",
       "    }    #T_ddf471e0_ee73_11ea_ae36_0242ac110004 tbody {\n",
       "          color: #449dd1;\n",
       "    }    #T_ddf471e0_ee73_11ea_ae36_0242ac110004 tr {\n",
       "          background-color: #e1eff6;\n",
       "          color: #449dd1;\n",
       "          font-family: Helvetica;\n",
       "    }    #T_ddf471e0_ee73_11ea_ae36_0242ac110004 td {\n",
       "          border: 1px solid #166088;\n",
       "          font-size: 10px;\n",
       "    }</style><table id=\"T_ddf471e0_ee73_11ea_ae36_0242ac110004\" ><thead>    <tr>        <th class=\"blank level0\" ></th>        <th class=\"col_heading level0 col0\" >CustomerID</th>        <th class=\"col_heading level0 col1\" >ProductType</th>        <th class=\"col_heading level0 col2\" >Rating</th>        <th class=\"col_heading level0 col3\" >Total_Ratings</th>        <th class=\"col_heading level0 col4\" >Gender</th>        <th class=\"col_heading level0 col5\" >PaymentMode</th>        <th class=\"col_heading level0 col6\" >PaymentMode.1</th>        <th class=\"col_heading level0 col7\" >ShippingMode</th>        <th class=\"col_heading level0 col8\" >ShippingTime</th>        <th class=\"col_heading level0 col9\" >PaidCurrency</th>        <th class=\"col_heading level0 col10\" >Price_dollar</th>    </tr></thead><tbody>\n",
       "                <tr>\n",
       "                        <th id=\"T_ddf471e0_ee73_11ea_ae36_0242ac110004level0_row0\" class=\"row_heading level0 row0\" >0</th>\n",
       "                        <td id=\"T_ddf471e0_ee73_11ea_ae36_0242ac110004row0_col0\" class=\"data row0 col0\" >10471</td>\n",
       "                        <td id=\"T_ddf471e0_ee73_11ea_ae36_0242ac110004row0_col1\" class=\"data row0 col1\" >Coats/Jackets</td>\n",
       "                        <td id=\"T_ddf471e0_ee73_11ea_ae36_0242ac110004row0_col2\" class=\"data row0 col2\" >1 star</td>\n",
       "                        <td id=\"T_ddf471e0_ee73_11ea_ae36_0242ac110004row0_col3\" class=\"data row0 col3\" >8736</td>\n",
       "                        <td id=\"T_ddf471e0_ee73_11ea_ae36_0242ac110004row0_col4\" class=\"data row0 col4\" >Female</td>\n",
       "                        <td id=\"T_ddf471e0_ee73_11ea_ae36_0242ac110004row0_col5\" class=\"data row0 col5\" >Credit Card</td>\n",
       "                        <td id=\"T_ddf471e0_ee73_11ea_ae36_0242ac110004row0_col6\" class=\"data row0 col6\" >Creditcard</td>\n",
       "                        <td id=\"T_ddf471e0_ee73_11ea_ae36_0242ac110004row0_col7\" class=\"data row0 col7\" >Economy</td>\n",
       "                        <td id=\"T_ddf471e0_ee73_11ea_ae36_0242ac110004row0_col8\" class=\"data row0 col8\" >17.000000</td>\n",
       "                        <td id=\"T_ddf471e0_ee73_11ea_ae36_0242ac110004row0_col9\" class=\"data row0 col9\" >Indian Rupee</td>\n",
       "                        <td id=\"T_ddf471e0_ee73_11ea_ae36_0242ac110004row0_col10\" class=\"data row0 col10\" >9210.194102</td>\n",
       "            </tr>\n",
       "            <tr>\n",
       "                        <th id=\"T_ddf471e0_ee73_11ea_ae36_0242ac110004level0_row1\" class=\"row_heading level0 row1\" >1</th>\n",
       "                        <td id=\"T_ddf471e0_ee73_11ea_ae36_0242ac110004row1_col0\" class=\"data row1 col0\" >10472</td>\n",
       "                        <td id=\"T_ddf471e0_ee73_11ea_ae36_0242ac110004row1_col1\" class=\"data row1 col1\" >Dresses</td>\n",
       "                        <td id=\"T_ddf471e0_ee73_11ea_ae36_0242ac110004row1_col2\" class=\"data row1 col2\" >2 star</td>\n",
       "                        <td id=\"T_ddf471e0_ee73_11ea_ae36_0242ac110004row1_col3\" class=\"data row1 col3\" >8547</td>\n",
       "                        <td id=\"T_ddf471e0_ee73_11ea_ae36_0242ac110004row1_col4\" class=\"data row1 col4\" >Unspecified</td>\n",
       "                        <td id=\"T_ddf471e0_ee73_11ea_ae36_0242ac110004row1_col5\" class=\"data row1 col5\" >Ewallet</td>\n",
       "                        <td id=\"T_ddf471e0_ee73_11ea_ae36_0242ac110004row1_col6\" class=\"data row1 col6\" >Ewallet</td>\n",
       "                        <td id=\"T_ddf471e0_ee73_11ea_ae36_0242ac110004row1_col7\" class=\"data row1 col7\" >Mail</td>\n",
       "                        <td id=\"T_ddf471e0_ee73_11ea_ae36_0242ac110004row1_col8\" class=\"data row1 col8\" >12.000000</td>\n",
       "                        <td id=\"T_ddf471e0_ee73_11ea_ae36_0242ac110004row1_col9\" class=\"data row1 col9\" >Euro</td>\n",
       "                        <td id=\"T_ddf471e0_ee73_11ea_ae36_0242ac110004row1_col10\" class=\"data row1 col10\" >2743.889157</td>\n",
       "            </tr>\n",
       "            <tr>\n",
       "                        <th id=\"T_ddf471e0_ee73_11ea_ae36_0242ac110004level0_row2\" class=\"row_heading level0 row2\" >2</th>\n",
       "                        <td id=\"T_ddf471e0_ee73_11ea_ae36_0242ac110004row2_col0\" class=\"data row2 col0\" >10473</td>\n",
       "                        <td id=\"T_ddf471e0_ee73_11ea_ae36_0242ac110004row2_col1\" class=\"data row2 col1\" >Coats/Jackets</td>\n",
       "                        <td id=\"T_ddf471e0_ee73_11ea_ae36_0242ac110004row2_col2\" class=\"data row2 col2\" >2 star</td>\n",
       "                        <td id=\"T_ddf471e0_ee73_11ea_ae36_0242ac110004row2_col3\" class=\"data row2 col3\" >9833</td>\n",
       "                        <td id=\"T_ddf471e0_ee73_11ea_ae36_0242ac110004row2_col4\" class=\"data row2 col4\" >Unspecified</td>\n",
       "                        <td id=\"T_ddf471e0_ee73_11ea_ae36_0242ac110004row2_col5\" class=\"data row2 col5\" >Prepaid Card</td>\n",
       "                        <td id=\"T_ddf471e0_ee73_11ea_ae36_0242ac110004row2_col6\" class=\"data row2 col6\" >Prepaid Card</td>\n",
       "                        <td id=\"T_ddf471e0_ee73_11ea_ae36_0242ac110004row2_col7\" class=\"data row2 col7\" >Mail</td>\n",
       "                        <td id=\"T_ddf471e0_ee73_11ea_ae36_0242ac110004row2_col8\" class=\"data row2 col8\" >10.000000</td>\n",
       "                        <td id=\"T_ddf471e0_ee73_11ea_ae36_0242ac110004row2_col9\" class=\"data row2 col9\" >Indian Rupee</td>\n",
       "                        <td id=\"T_ddf471e0_ee73_11ea_ae36_0242ac110004row2_col10\" class=\"data row2 col10\" >8342.300317</td>\n",
       "            </tr>\n",
       "            <tr>\n",
       "                        <th id=\"T_ddf471e0_ee73_11ea_ae36_0242ac110004level0_row3\" class=\"row_heading level0 row3\" >5</th>\n",
       "                        <td id=\"T_ddf471e0_ee73_11ea_ae36_0242ac110004row3_col0\" class=\"data row3 col0\" >10476</td>\n",
       "                        <td id=\"T_ddf471e0_ee73_11ea_ae36_0242ac110004row3_col1\" class=\"data row3 col1\" >Coats/Jackets</td>\n",
       "                        <td id=\"T_ddf471e0_ee73_11ea_ae36_0242ac110004row3_col2\" class=\"data row3 col2\" >2 star</td>\n",
       "                        <td id=\"T_ddf471e0_ee73_11ea_ae36_0242ac110004row3_col3\" class=\"data row3 col3\" >5347</td>\n",
       "                        <td id=\"T_ddf471e0_ee73_11ea_ae36_0242ac110004row3_col4\" class=\"data row3 col4\" >Female</td>\n",
       "                        <td id=\"T_ddf471e0_ee73_11ea_ae36_0242ac110004row3_col5\" class=\"data row3 col5\" >Direct Deposit</td>\n",
       "                        <td id=\"T_ddf471e0_ee73_11ea_ae36_0242ac110004row3_col6\" class=\"data row3 col6\" >Direct Deposit</td>\n",
       "                        <td id=\"T_ddf471e0_ee73_11ea_ae36_0242ac110004row3_col7\" class=\"data row3 col7\" >Mail</td>\n",
       "                        <td id=\"T_ddf471e0_ee73_11ea_ae36_0242ac110004row3_col8\" class=\"data row3 col8\" >20.000000</td>\n",
       "                        <td id=\"T_ddf471e0_ee73_11ea_ae36_0242ac110004row3_col9\" class=\"data row3 col9\" ></td>\n",
       "                        <td id=\"T_ddf471e0_ee73_11ea_ae36_0242ac110004row3_col10\" class=\"data row3 col10\" >0.000000</td>\n",
       "            </tr>\n",
       "            <tr>\n",
       "                        <th id=\"T_ddf471e0_ee73_11ea_ae36_0242ac110004level0_row4\" class=\"row_heading level0 row4\" >6</th>\n",
       "                        <td id=\"T_ddf471e0_ee73_11ea_ae36_0242ac110004row4_col0\" class=\"data row4 col0\" >10477</td>\n",
       "                        <td id=\"T_ddf471e0_ee73_11ea_ae36_0242ac110004row4_col1\" class=\"data row4 col1\" >Coats/Jackets</td>\n",
       "                        <td id=\"T_ddf471e0_ee73_11ea_ae36_0242ac110004row4_col2\" class=\"data row4 col2\" >5 star</td>\n",
       "                        <td id=\"T_ddf471e0_ee73_11ea_ae36_0242ac110004row4_col3\" class=\"data row4 col3\" >9406</td>\n",
       "                        <td id=\"T_ddf471e0_ee73_11ea_ae36_0242ac110004row4_col4\" class=\"data row4 col4\" >Unspecified</td>\n",
       "                        <td id=\"T_ddf471e0_ee73_11ea_ae36_0242ac110004row4_col5\" class=\"data row4 col5\" >Direct Deposit</td>\n",
       "                        <td id=\"T_ddf471e0_ee73_11ea_ae36_0242ac110004row4_col6\" class=\"data row4 col6\" >Direct Deposit</td>\n",
       "                        <td id=\"T_ddf471e0_ee73_11ea_ae36_0242ac110004row4_col7\" class=\"data row4 col7\" >Mail</td>\n",
       "                        <td id=\"T_ddf471e0_ee73_11ea_ae36_0242ac110004row4_col8\" class=\"data row4 col8\" >14.000000</td>\n",
       "                        <td id=\"T_ddf471e0_ee73_11ea_ae36_0242ac110004row4_col9\" class=\"data row4 col9\" >British Pound</td>\n",
       "                        <td id=\"T_ddf471e0_ee73_11ea_ae36_0242ac110004row4_col10\" class=\"data row4 col10\" >8774.342551</td>\n",
       "            </tr>\n",
       "            <tr>\n",
       "                        <th id=\"T_ddf471e0_ee73_11ea_ae36_0242ac110004level0_row5\" class=\"row_heading level0 row5\" >7</th>\n",
       "                        <td id=\"T_ddf471e0_ee73_11ea_ae36_0242ac110004row5_col0\" class=\"data row5 col0\" >10478</td>\n",
       "                        <td id=\"T_ddf471e0_ee73_11ea_ae36_0242ac110004row5_col1\" class=\"data row5 col1\" >Jeans</td>\n",
       "                        <td id=\"T_ddf471e0_ee73_11ea_ae36_0242ac110004row5_col2\" class=\"data row5 col2\" >1 star</td>\n",
       "                        <td id=\"T_ddf471e0_ee73_11ea_ae36_0242ac110004row5_col3\" class=\"data row5 col3\" >8554</td>\n",
       "                        <td id=\"T_ddf471e0_ee73_11ea_ae36_0242ac110004row5_col4\" class=\"data row5 col4\" >Unspecified</td>\n",
       "                        <td id=\"T_ddf471e0_ee73_11ea_ae36_0242ac110004row5_col5\" class=\"data row5 col5\" >Direct Deposit</td>\n",
       "                        <td id=\"T_ddf471e0_ee73_11ea_ae36_0242ac110004row5_col6\" class=\"data row5 col6\" >Direct Deposit</td>\n",
       "                        <td id=\"T_ddf471e0_ee73_11ea_ae36_0242ac110004row5_col7\" class=\"data row5 col7\" >Mail</td>\n",
       "                        <td id=\"T_ddf471e0_ee73_11ea_ae36_0242ac110004row5_col8\" class=\"data row5 col8\" >18.000000</td>\n",
       "                        <td id=\"T_ddf471e0_ee73_11ea_ae36_0242ac110004row5_col9\" class=\"data row5 col9\" >American Dollar</td>\n",
       "                        <td id=\"T_ddf471e0_ee73_11ea_ae36_0242ac110004row5_col10\" class=\"data row5 col10\" >4287.060000</td>\n",
       "            </tr>\n",
       "            <tr>\n",
       "                        <th id=\"T_ddf471e0_ee73_11ea_ae36_0242ac110004level0_row6\" class=\"row_heading level0 row6\" >8</th>\n",
       "                        <td id=\"T_ddf471e0_ee73_11ea_ae36_0242ac110004row6_col0\" class=\"data row6 col0\" >10479</td>\n",
       "                        <td id=\"T_ddf471e0_ee73_11ea_ae36_0242ac110004row6_col1\" class=\"data row6 col1\" >Pants</td>\n",
       "                        <td id=\"T_ddf471e0_ee73_11ea_ae36_0242ac110004row6_col2\" class=\"data row6 col2\" >4 star</td>\n",
       "                        <td id=\"T_ddf471e0_ee73_11ea_ae36_0242ac110004row6_col3\" class=\"data row6 col3\" >9630</td>\n",
       "                        <td id=\"T_ddf471e0_ee73_11ea_ae36_0242ac110004row6_col4\" class=\"data row6 col4\" >Male</td>\n",
       "                        <td id=\"T_ddf471e0_ee73_11ea_ae36_0242ac110004row6_col5\" class=\"data row6 col5\" >Direct Deposit</td>\n",
       "                        <td id=\"T_ddf471e0_ee73_11ea_ae36_0242ac110004row6_col6\" class=\"data row6 col6\" >Direct Deposit</td>\n",
       "                        <td id=\"T_ddf471e0_ee73_11ea_ae36_0242ac110004row6_col7\" class=\"data row6 col7\" >Express</td>\n",
       "                        <td id=\"T_ddf471e0_ee73_11ea_ae36_0242ac110004row6_col8\" class=\"data row6 col8\" >12.822222</td>\n",
       "                        <td id=\"T_ddf471e0_ee73_11ea_ae36_0242ac110004row6_col9\" class=\"data row6 col9\" >British Pound</td>\n",
       "                        <td id=\"T_ddf471e0_ee73_11ea_ae36_0242ac110004row6_col10\" class=\"data row6 col10\" >3995.812866</td>\n",
       "            </tr>\n",
       "            <tr>\n",
       "                        <th id=\"T_ddf471e0_ee73_11ea_ae36_0242ac110004level0_row7\" class=\"row_heading level0 row7\" >10</th>\n",
       "                        <td id=\"T_ddf471e0_ee73_11ea_ae36_0242ac110004row7_col0\" class=\"data row7 col0\" >10481</td>\n",
       "                        <td id=\"T_ddf471e0_ee73_11ea_ae36_0242ac110004row7_col1\" class=\"data row7 col1\" >Dresses</td>\n",
       "                        <td id=\"T_ddf471e0_ee73_11ea_ae36_0242ac110004row7_col2\" class=\"data row7 col2\" >2 star</td>\n",
       "                        <td id=\"T_ddf471e0_ee73_11ea_ae36_0242ac110004row7_col3\" class=\"data row7 col3\" >7750</td>\n",
       "                        <td id=\"T_ddf471e0_ee73_11ea_ae36_0242ac110004row7_col4\" class=\"data row7 col4\" >Female</td>\n",
       "                        <td id=\"T_ddf471e0_ee73_11ea_ae36_0242ac110004row7_col5\" class=\"data row7 col5\" >Direct Deposit</td>\n",
       "                        <td id=\"T_ddf471e0_ee73_11ea_ae36_0242ac110004row7_col6\" class=\"data row7 col6\" >nan</td>\n",
       "                        <td id=\"T_ddf471e0_ee73_11ea_ae36_0242ac110004row7_col7\" class=\"data row7 col7\" >Economy</td>\n",
       "                        <td id=\"T_ddf471e0_ee73_11ea_ae36_0242ac110004row7_col8\" class=\"data row7 col8\" >17.000000</td>\n",
       "                        <td id=\"T_ddf471e0_ee73_11ea_ae36_0242ac110004row7_col9\" class=\"data row7 col9\" >Euro</td>\n",
       "                        <td id=\"T_ddf471e0_ee73_11ea_ae36_0242ac110004row7_col10\" class=\"data row7 col10\" >4387.487685</td>\n",
       "            </tr>\n",
       "            <tr>\n",
       "                        <th id=\"T_ddf471e0_ee73_11ea_ae36_0242ac110004level0_row8\" class=\"row_heading level0 row8\" >11</th>\n",
       "                        <td id=\"T_ddf471e0_ee73_11ea_ae36_0242ac110004row8_col0\" class=\"data row8 col0\" >10482</td>\n",
       "                        <td id=\"T_ddf471e0_ee73_11ea_ae36_0242ac110004row8_col1\" class=\"data row8 col1\" >Pants</td>\n",
       "                        <td id=\"T_ddf471e0_ee73_11ea_ae36_0242ac110004row8_col2\" class=\"data row8 col2\" >5 star</td>\n",
       "                        <td id=\"T_ddf471e0_ee73_11ea_ae36_0242ac110004row8_col3\" class=\"data row8 col3\" >7816</td>\n",
       "                        <td id=\"T_ddf471e0_ee73_11ea_ae36_0242ac110004row8_col4\" class=\"data row8 col4\" >Female</td>\n",
       "                        <td id=\"T_ddf471e0_ee73_11ea_ae36_0242ac110004row8_col5\" class=\"data row8 col5\" >Mobile Payment</td>\n",
       "                        <td id=\"T_ddf471e0_ee73_11ea_ae36_0242ac110004row8_col6\" class=\"data row8 col6\" >Mobile Payment</td>\n",
       "                        <td id=\"T_ddf471e0_ee73_11ea_ae36_0242ac110004row8_col7\" class=\"data row8 col7\" >Mail</td>\n",
       "                        <td id=\"T_ddf471e0_ee73_11ea_ae36_0242ac110004row8_col8\" class=\"data row8 col8\" >10.000000</td>\n",
       "                        <td id=\"T_ddf471e0_ee73_11ea_ae36_0242ac110004row8_col9\" class=\"data row8 col9\" >Euro</td>\n",
       "                        <td id=\"T_ddf471e0_ee73_11ea_ae36_0242ac110004row8_col10\" class=\"data row8 col10\" >7797.497519</td>\n",
       "            </tr>\n",
       "            <tr>\n",
       "                        <th id=\"T_ddf471e0_ee73_11ea_ae36_0242ac110004level0_row9\" class=\"row_heading level0 row9\" >12</th>\n",
       "                        <td id=\"T_ddf471e0_ee73_11ea_ae36_0242ac110004row9_col0\" class=\"data row9 col0\" >10483</td>\n",
       "                        <td id=\"T_ddf471e0_ee73_11ea_ae36_0242ac110004row9_col1\" class=\"data row9 col1\" >Cardigan</td>\n",
       "                        <td id=\"T_ddf471e0_ee73_11ea_ae36_0242ac110004row9_col2\" class=\"data row9 col2\" >4 star</td>\n",
       "                        <td id=\"T_ddf471e0_ee73_11ea_ae36_0242ac110004row9_col3\" class=\"data row9 col3\" >7021</td>\n",
       "                        <td id=\"T_ddf471e0_ee73_11ea_ae36_0242ac110004row9_col4\" class=\"data row9 col4\" >Unspecified</td>\n",
       "                        <td id=\"T_ddf471e0_ee73_11ea_ae36_0242ac110004row9_col5\" class=\"data row9 col5\" >Cash</td>\n",
       "                        <td id=\"T_ddf471e0_ee73_11ea_ae36_0242ac110004row9_col6\" class=\"data row9 col6\" >Cash</td>\n",
       "                        <td id=\"T_ddf471e0_ee73_11ea_ae36_0242ac110004row9_col7\" class=\"data row9 col7\" >Express</td>\n",
       "                        <td id=\"T_ddf471e0_ee73_11ea_ae36_0242ac110004row9_col8\" class=\"data row9 col8\" >6.000000</td>\n",
       "                        <td id=\"T_ddf471e0_ee73_11ea_ae36_0242ac110004row9_col9\" class=\"data row9 col9\" >American Dollar</td>\n",
       "                        <td id=\"T_ddf471e0_ee73_11ea_ae36_0242ac110004row9_col10\" class=\"data row9 col10\" >6756.940000</td>\n",
       "            </tr>\n",
       "    </tbody></table>"
      ],
      "text/plain": [
       "<pandas.io.formats.style.Styler at 0x7f6be46421f0>"
      ]
     },
     "execution_count": 153,
     "metadata": {},
     "output_type": "execute_result"
    }
   ],
   "source": [
    "styled_data=data.drop(['Date','Price'],axis=1).head(10).style\n",
    "\n",
    "\n",
    "styles = [\n",
    "    dict(selector=\"tr:hover\",props=[(\"background-color\", \"#eccbd9\")]),\n",
    "    dict(selector=\"th:hover\",props=[(\"background-color\", \"#eccbd9\")]),\n",
    "    dict(selector=\"th\", props=[('background-color','#4f6d7a'),\n",
    "                               (\"font-size\", \"12px\"),\n",
    "                               (\"text-align\", \"center\"),\n",
    "                               ('color', '#ffffff'),\n",
    "                              ('border','1px solid #dbe9ee')]),\n",
    "    dict(selector='tbody', props=[('color', '#449dd1'),]),\n",
    "    dict(selector='tr', props=[('background-color','#e1eff6'),\n",
    "                                ('color', '#449dd1'),\n",
    "                                ('font-family','Helvetica')]),\n",
    "    dict(selector='td',props=[('border','1px solid #166088'),\n",
    "                             (\"font-size\", \"10px\")])\n",
    "]\n",
    "\n",
    "styled_data.set_table_styles(styles)"
   ]
  },
  {
   "cell_type": "markdown",
   "metadata": {},
   "source": [
    "#### Magnification"
   ]
  },
  {
   "cell_type": "code",
   "execution_count": 154,
   "metadata": {},
   "outputs": [
    {
     "data": {
      "text/html": [
       "<style  type=\"text/css\" >\n",
       "    #T_ddf8ecfc_ee73_11ea_ae36_0242ac110004 tr:hover {\n",
       "          background-color: #eccbd9;\n",
       "    }    #T_ddf8ecfc_ee73_11ea_ae36_0242ac110004 th:hover {\n",
       "          background-color: #eccbd9;\n",
       "    }    #T_ddf8ecfc_ee73_11ea_ae36_0242ac110004 th {\n",
       "          background-color: #4f6d7a;\n",
       "          font-size: 120%;\n",
       "          text-align: center;\n",
       "          color: #ffffff;\n",
       "          border: 1px solid #dbe9ee;\n",
       "    }    #T_ddf8ecfc_ee73_11ea_ae36_0242ac110004 tbody {\n",
       "          color: #449dd1;\n",
       "    }    #T_ddf8ecfc_ee73_11ea_ae36_0242ac110004 tr {\n",
       "          background-color: #e1eff6;\n",
       "          color: #449dd1;\n",
       "          font-family: Helvetica;\n",
       "    }    #T_ddf8ecfc_ee73_11ea_ae36_0242ac110004 td {\n",
       "          border: 1px solid #166088;\n",
       "    }    #T_ddf8ecfc_ee73_11ea_ae36_0242ac110004 th {\n",
       "          font-size: 7pt;\n",
       "    }    #T_ddf8ecfc_ee73_11ea_ae36_0242ac110004 td {\n",
       "          padding: 4px 4px;\n",
       "    }    #T_ddf8ecfc_ee73_11ea_ae36_0242ac110004 th:hover {\n",
       "          font-size: 13pt;\n",
       "    }    #T_ddf8ecfc_ee73_11ea_ae36_0242ac110004 tr:hover td:hover {\n",
       "          max-width: 200px;\n",
       "          font-size: 14pt;\n",
       "          color: #4f6d7a;\n",
       "    }</style><table id=\"T_ddf8ecfc_ee73_11ea_ae36_0242ac110004\" ><thead>    <tr>        <th class=\"blank level0\" ></th>        <th class=\"col_heading level0 col0\" >CustomerID</th>        <th class=\"col_heading level0 col1\" >ProductType</th>        <th class=\"col_heading level0 col2\" >Rating</th>        <th class=\"col_heading level0 col3\" >Total_Ratings</th>        <th class=\"col_heading level0 col4\" >Gender</th>        <th class=\"col_heading level0 col5\" >PaymentMode</th>        <th class=\"col_heading level0 col6\" >PaymentMode.1</th>        <th class=\"col_heading level0 col7\" >ShippingMode</th>        <th class=\"col_heading level0 col8\" >ShippingTime</th>        <th class=\"col_heading level0 col9\" >PaidCurrency</th>        <th class=\"col_heading level0 col10\" >Price_dollar</th>    </tr></thead><tbody>\n",
       "                <tr>\n",
       "                        <th id=\"T_ddf8ecfc_ee73_11ea_ae36_0242ac110004level0_row0\" class=\"row_heading level0 row0\" >0</th>\n",
       "                        <td id=\"T_ddf8ecfc_ee73_11ea_ae36_0242ac110004row0_col0\" class=\"data row0 col0\" >10471</td>\n",
       "                        <td id=\"T_ddf8ecfc_ee73_11ea_ae36_0242ac110004row0_col1\" class=\"data row0 col1\" >Coats/Jackets</td>\n",
       "                        <td id=\"T_ddf8ecfc_ee73_11ea_ae36_0242ac110004row0_col2\" class=\"data row0 col2\" >1 star</td>\n",
       "                        <td id=\"T_ddf8ecfc_ee73_11ea_ae36_0242ac110004row0_col3\" class=\"data row0 col3\" >8736</td>\n",
       "                        <td id=\"T_ddf8ecfc_ee73_11ea_ae36_0242ac110004row0_col4\" class=\"data row0 col4\" >Female</td>\n",
       "                        <td id=\"T_ddf8ecfc_ee73_11ea_ae36_0242ac110004row0_col5\" class=\"data row0 col5\" >Credit Card</td>\n",
       "                        <td id=\"T_ddf8ecfc_ee73_11ea_ae36_0242ac110004row0_col6\" class=\"data row0 col6\" >Creditcard</td>\n",
       "                        <td id=\"T_ddf8ecfc_ee73_11ea_ae36_0242ac110004row0_col7\" class=\"data row0 col7\" >Economy</td>\n",
       "                        <td id=\"T_ddf8ecfc_ee73_11ea_ae36_0242ac110004row0_col8\" class=\"data row0 col8\" >17.000000</td>\n",
       "                        <td id=\"T_ddf8ecfc_ee73_11ea_ae36_0242ac110004row0_col9\" class=\"data row0 col9\" >Indian Rupee</td>\n",
       "                        <td id=\"T_ddf8ecfc_ee73_11ea_ae36_0242ac110004row0_col10\" class=\"data row0 col10\" >9210.194102</td>\n",
       "            </tr>\n",
       "            <tr>\n",
       "                        <th id=\"T_ddf8ecfc_ee73_11ea_ae36_0242ac110004level0_row1\" class=\"row_heading level0 row1\" >1</th>\n",
       "                        <td id=\"T_ddf8ecfc_ee73_11ea_ae36_0242ac110004row1_col0\" class=\"data row1 col0\" >10472</td>\n",
       "                        <td id=\"T_ddf8ecfc_ee73_11ea_ae36_0242ac110004row1_col1\" class=\"data row1 col1\" >Dresses</td>\n",
       "                        <td id=\"T_ddf8ecfc_ee73_11ea_ae36_0242ac110004row1_col2\" class=\"data row1 col2\" >2 star</td>\n",
       "                        <td id=\"T_ddf8ecfc_ee73_11ea_ae36_0242ac110004row1_col3\" class=\"data row1 col3\" >8547</td>\n",
       "                        <td id=\"T_ddf8ecfc_ee73_11ea_ae36_0242ac110004row1_col4\" class=\"data row1 col4\" >Unspecified</td>\n",
       "                        <td id=\"T_ddf8ecfc_ee73_11ea_ae36_0242ac110004row1_col5\" class=\"data row1 col5\" >Ewallet</td>\n",
       "                        <td id=\"T_ddf8ecfc_ee73_11ea_ae36_0242ac110004row1_col6\" class=\"data row1 col6\" >Ewallet</td>\n",
       "                        <td id=\"T_ddf8ecfc_ee73_11ea_ae36_0242ac110004row1_col7\" class=\"data row1 col7\" >Mail</td>\n",
       "                        <td id=\"T_ddf8ecfc_ee73_11ea_ae36_0242ac110004row1_col8\" class=\"data row1 col8\" >12.000000</td>\n",
       "                        <td id=\"T_ddf8ecfc_ee73_11ea_ae36_0242ac110004row1_col9\" class=\"data row1 col9\" >Euro</td>\n",
       "                        <td id=\"T_ddf8ecfc_ee73_11ea_ae36_0242ac110004row1_col10\" class=\"data row1 col10\" >2743.889157</td>\n",
       "            </tr>\n",
       "            <tr>\n",
       "                        <th id=\"T_ddf8ecfc_ee73_11ea_ae36_0242ac110004level0_row2\" class=\"row_heading level0 row2\" >2</th>\n",
       "                        <td id=\"T_ddf8ecfc_ee73_11ea_ae36_0242ac110004row2_col0\" class=\"data row2 col0\" >10473</td>\n",
       "                        <td id=\"T_ddf8ecfc_ee73_11ea_ae36_0242ac110004row2_col1\" class=\"data row2 col1\" >Coats/Jackets</td>\n",
       "                        <td id=\"T_ddf8ecfc_ee73_11ea_ae36_0242ac110004row2_col2\" class=\"data row2 col2\" >2 star</td>\n",
       "                        <td id=\"T_ddf8ecfc_ee73_11ea_ae36_0242ac110004row2_col3\" class=\"data row2 col3\" >9833</td>\n",
       "                        <td id=\"T_ddf8ecfc_ee73_11ea_ae36_0242ac110004row2_col4\" class=\"data row2 col4\" >Unspecified</td>\n",
       "                        <td id=\"T_ddf8ecfc_ee73_11ea_ae36_0242ac110004row2_col5\" class=\"data row2 col5\" >Prepaid Card</td>\n",
       "                        <td id=\"T_ddf8ecfc_ee73_11ea_ae36_0242ac110004row2_col6\" class=\"data row2 col6\" >Prepaid Card</td>\n",
       "                        <td id=\"T_ddf8ecfc_ee73_11ea_ae36_0242ac110004row2_col7\" class=\"data row2 col7\" >Mail</td>\n",
       "                        <td id=\"T_ddf8ecfc_ee73_11ea_ae36_0242ac110004row2_col8\" class=\"data row2 col8\" >10.000000</td>\n",
       "                        <td id=\"T_ddf8ecfc_ee73_11ea_ae36_0242ac110004row2_col9\" class=\"data row2 col9\" >Indian Rupee</td>\n",
       "                        <td id=\"T_ddf8ecfc_ee73_11ea_ae36_0242ac110004row2_col10\" class=\"data row2 col10\" >8342.300317</td>\n",
       "            </tr>\n",
       "            <tr>\n",
       "                        <th id=\"T_ddf8ecfc_ee73_11ea_ae36_0242ac110004level0_row3\" class=\"row_heading level0 row3\" >5</th>\n",
       "                        <td id=\"T_ddf8ecfc_ee73_11ea_ae36_0242ac110004row3_col0\" class=\"data row3 col0\" >10476</td>\n",
       "                        <td id=\"T_ddf8ecfc_ee73_11ea_ae36_0242ac110004row3_col1\" class=\"data row3 col1\" >Coats/Jackets</td>\n",
       "                        <td id=\"T_ddf8ecfc_ee73_11ea_ae36_0242ac110004row3_col2\" class=\"data row3 col2\" >2 star</td>\n",
       "                        <td id=\"T_ddf8ecfc_ee73_11ea_ae36_0242ac110004row3_col3\" class=\"data row3 col3\" >5347</td>\n",
       "                        <td id=\"T_ddf8ecfc_ee73_11ea_ae36_0242ac110004row3_col4\" class=\"data row3 col4\" >Female</td>\n",
       "                        <td id=\"T_ddf8ecfc_ee73_11ea_ae36_0242ac110004row3_col5\" class=\"data row3 col5\" >Direct Deposit</td>\n",
       "                        <td id=\"T_ddf8ecfc_ee73_11ea_ae36_0242ac110004row3_col6\" class=\"data row3 col6\" >Direct Deposit</td>\n",
       "                        <td id=\"T_ddf8ecfc_ee73_11ea_ae36_0242ac110004row3_col7\" class=\"data row3 col7\" >Mail</td>\n",
       "                        <td id=\"T_ddf8ecfc_ee73_11ea_ae36_0242ac110004row3_col8\" class=\"data row3 col8\" >20.000000</td>\n",
       "                        <td id=\"T_ddf8ecfc_ee73_11ea_ae36_0242ac110004row3_col9\" class=\"data row3 col9\" ></td>\n",
       "                        <td id=\"T_ddf8ecfc_ee73_11ea_ae36_0242ac110004row3_col10\" class=\"data row3 col10\" >0.000000</td>\n",
       "            </tr>\n",
       "            <tr>\n",
       "                        <th id=\"T_ddf8ecfc_ee73_11ea_ae36_0242ac110004level0_row4\" class=\"row_heading level0 row4\" >6</th>\n",
       "                        <td id=\"T_ddf8ecfc_ee73_11ea_ae36_0242ac110004row4_col0\" class=\"data row4 col0\" >10477</td>\n",
       "                        <td id=\"T_ddf8ecfc_ee73_11ea_ae36_0242ac110004row4_col1\" class=\"data row4 col1\" >Coats/Jackets</td>\n",
       "                        <td id=\"T_ddf8ecfc_ee73_11ea_ae36_0242ac110004row4_col2\" class=\"data row4 col2\" >5 star</td>\n",
       "                        <td id=\"T_ddf8ecfc_ee73_11ea_ae36_0242ac110004row4_col3\" class=\"data row4 col3\" >9406</td>\n",
       "                        <td id=\"T_ddf8ecfc_ee73_11ea_ae36_0242ac110004row4_col4\" class=\"data row4 col4\" >Unspecified</td>\n",
       "                        <td id=\"T_ddf8ecfc_ee73_11ea_ae36_0242ac110004row4_col5\" class=\"data row4 col5\" >Direct Deposit</td>\n",
       "                        <td id=\"T_ddf8ecfc_ee73_11ea_ae36_0242ac110004row4_col6\" class=\"data row4 col6\" >Direct Deposit</td>\n",
       "                        <td id=\"T_ddf8ecfc_ee73_11ea_ae36_0242ac110004row4_col7\" class=\"data row4 col7\" >Mail</td>\n",
       "                        <td id=\"T_ddf8ecfc_ee73_11ea_ae36_0242ac110004row4_col8\" class=\"data row4 col8\" >14.000000</td>\n",
       "                        <td id=\"T_ddf8ecfc_ee73_11ea_ae36_0242ac110004row4_col9\" class=\"data row4 col9\" >British Pound</td>\n",
       "                        <td id=\"T_ddf8ecfc_ee73_11ea_ae36_0242ac110004row4_col10\" class=\"data row4 col10\" >8774.342551</td>\n",
       "            </tr>\n",
       "            <tr>\n",
       "                        <th id=\"T_ddf8ecfc_ee73_11ea_ae36_0242ac110004level0_row5\" class=\"row_heading level0 row5\" >7</th>\n",
       "                        <td id=\"T_ddf8ecfc_ee73_11ea_ae36_0242ac110004row5_col0\" class=\"data row5 col0\" >10478</td>\n",
       "                        <td id=\"T_ddf8ecfc_ee73_11ea_ae36_0242ac110004row5_col1\" class=\"data row5 col1\" >Jeans</td>\n",
       "                        <td id=\"T_ddf8ecfc_ee73_11ea_ae36_0242ac110004row5_col2\" class=\"data row5 col2\" >1 star</td>\n",
       "                        <td id=\"T_ddf8ecfc_ee73_11ea_ae36_0242ac110004row5_col3\" class=\"data row5 col3\" >8554</td>\n",
       "                        <td id=\"T_ddf8ecfc_ee73_11ea_ae36_0242ac110004row5_col4\" class=\"data row5 col4\" >Unspecified</td>\n",
       "                        <td id=\"T_ddf8ecfc_ee73_11ea_ae36_0242ac110004row5_col5\" class=\"data row5 col5\" >Direct Deposit</td>\n",
       "                        <td id=\"T_ddf8ecfc_ee73_11ea_ae36_0242ac110004row5_col6\" class=\"data row5 col6\" >Direct Deposit</td>\n",
       "                        <td id=\"T_ddf8ecfc_ee73_11ea_ae36_0242ac110004row5_col7\" class=\"data row5 col7\" >Mail</td>\n",
       "                        <td id=\"T_ddf8ecfc_ee73_11ea_ae36_0242ac110004row5_col8\" class=\"data row5 col8\" >18.000000</td>\n",
       "                        <td id=\"T_ddf8ecfc_ee73_11ea_ae36_0242ac110004row5_col9\" class=\"data row5 col9\" >American Dollar</td>\n",
       "                        <td id=\"T_ddf8ecfc_ee73_11ea_ae36_0242ac110004row5_col10\" class=\"data row5 col10\" >4287.060000</td>\n",
       "            </tr>\n",
       "            <tr>\n",
       "                        <th id=\"T_ddf8ecfc_ee73_11ea_ae36_0242ac110004level0_row6\" class=\"row_heading level0 row6\" >8</th>\n",
       "                        <td id=\"T_ddf8ecfc_ee73_11ea_ae36_0242ac110004row6_col0\" class=\"data row6 col0\" >10479</td>\n",
       "                        <td id=\"T_ddf8ecfc_ee73_11ea_ae36_0242ac110004row6_col1\" class=\"data row6 col1\" >Pants</td>\n",
       "                        <td id=\"T_ddf8ecfc_ee73_11ea_ae36_0242ac110004row6_col2\" class=\"data row6 col2\" >4 star</td>\n",
       "                        <td id=\"T_ddf8ecfc_ee73_11ea_ae36_0242ac110004row6_col3\" class=\"data row6 col3\" >9630</td>\n",
       "                        <td id=\"T_ddf8ecfc_ee73_11ea_ae36_0242ac110004row6_col4\" class=\"data row6 col4\" >Male</td>\n",
       "                        <td id=\"T_ddf8ecfc_ee73_11ea_ae36_0242ac110004row6_col5\" class=\"data row6 col5\" >Direct Deposit</td>\n",
       "                        <td id=\"T_ddf8ecfc_ee73_11ea_ae36_0242ac110004row6_col6\" class=\"data row6 col6\" >Direct Deposit</td>\n",
       "                        <td id=\"T_ddf8ecfc_ee73_11ea_ae36_0242ac110004row6_col7\" class=\"data row6 col7\" >Express</td>\n",
       "                        <td id=\"T_ddf8ecfc_ee73_11ea_ae36_0242ac110004row6_col8\" class=\"data row6 col8\" >12.822222</td>\n",
       "                        <td id=\"T_ddf8ecfc_ee73_11ea_ae36_0242ac110004row6_col9\" class=\"data row6 col9\" >British Pound</td>\n",
       "                        <td id=\"T_ddf8ecfc_ee73_11ea_ae36_0242ac110004row6_col10\" class=\"data row6 col10\" >3995.812866</td>\n",
       "            </tr>\n",
       "            <tr>\n",
       "                        <th id=\"T_ddf8ecfc_ee73_11ea_ae36_0242ac110004level0_row7\" class=\"row_heading level0 row7\" >10</th>\n",
       "                        <td id=\"T_ddf8ecfc_ee73_11ea_ae36_0242ac110004row7_col0\" class=\"data row7 col0\" >10481</td>\n",
       "                        <td id=\"T_ddf8ecfc_ee73_11ea_ae36_0242ac110004row7_col1\" class=\"data row7 col1\" >Dresses</td>\n",
       "                        <td id=\"T_ddf8ecfc_ee73_11ea_ae36_0242ac110004row7_col2\" class=\"data row7 col2\" >2 star</td>\n",
       "                        <td id=\"T_ddf8ecfc_ee73_11ea_ae36_0242ac110004row7_col3\" class=\"data row7 col3\" >7750</td>\n",
       "                        <td id=\"T_ddf8ecfc_ee73_11ea_ae36_0242ac110004row7_col4\" class=\"data row7 col4\" >Female</td>\n",
       "                        <td id=\"T_ddf8ecfc_ee73_11ea_ae36_0242ac110004row7_col5\" class=\"data row7 col5\" >Direct Deposit</td>\n",
       "                        <td id=\"T_ddf8ecfc_ee73_11ea_ae36_0242ac110004row7_col6\" class=\"data row7 col6\" >nan</td>\n",
       "                        <td id=\"T_ddf8ecfc_ee73_11ea_ae36_0242ac110004row7_col7\" class=\"data row7 col7\" >Economy</td>\n",
       "                        <td id=\"T_ddf8ecfc_ee73_11ea_ae36_0242ac110004row7_col8\" class=\"data row7 col8\" >17.000000</td>\n",
       "                        <td id=\"T_ddf8ecfc_ee73_11ea_ae36_0242ac110004row7_col9\" class=\"data row7 col9\" >Euro</td>\n",
       "                        <td id=\"T_ddf8ecfc_ee73_11ea_ae36_0242ac110004row7_col10\" class=\"data row7 col10\" >4387.487685</td>\n",
       "            </tr>\n",
       "            <tr>\n",
       "                        <th id=\"T_ddf8ecfc_ee73_11ea_ae36_0242ac110004level0_row8\" class=\"row_heading level0 row8\" >11</th>\n",
       "                        <td id=\"T_ddf8ecfc_ee73_11ea_ae36_0242ac110004row8_col0\" class=\"data row8 col0\" >10482</td>\n",
       "                        <td id=\"T_ddf8ecfc_ee73_11ea_ae36_0242ac110004row8_col1\" class=\"data row8 col1\" >Pants</td>\n",
       "                        <td id=\"T_ddf8ecfc_ee73_11ea_ae36_0242ac110004row8_col2\" class=\"data row8 col2\" >5 star</td>\n",
       "                        <td id=\"T_ddf8ecfc_ee73_11ea_ae36_0242ac110004row8_col3\" class=\"data row8 col3\" >7816</td>\n",
       "                        <td id=\"T_ddf8ecfc_ee73_11ea_ae36_0242ac110004row8_col4\" class=\"data row8 col4\" >Female</td>\n",
       "                        <td id=\"T_ddf8ecfc_ee73_11ea_ae36_0242ac110004row8_col5\" class=\"data row8 col5\" >Mobile Payment</td>\n",
       "                        <td id=\"T_ddf8ecfc_ee73_11ea_ae36_0242ac110004row8_col6\" class=\"data row8 col6\" >Mobile Payment</td>\n",
       "                        <td id=\"T_ddf8ecfc_ee73_11ea_ae36_0242ac110004row8_col7\" class=\"data row8 col7\" >Mail</td>\n",
       "                        <td id=\"T_ddf8ecfc_ee73_11ea_ae36_0242ac110004row8_col8\" class=\"data row8 col8\" >10.000000</td>\n",
       "                        <td id=\"T_ddf8ecfc_ee73_11ea_ae36_0242ac110004row8_col9\" class=\"data row8 col9\" >Euro</td>\n",
       "                        <td id=\"T_ddf8ecfc_ee73_11ea_ae36_0242ac110004row8_col10\" class=\"data row8 col10\" >7797.497519</td>\n",
       "            </tr>\n",
       "            <tr>\n",
       "                        <th id=\"T_ddf8ecfc_ee73_11ea_ae36_0242ac110004level0_row9\" class=\"row_heading level0 row9\" >12</th>\n",
       "                        <td id=\"T_ddf8ecfc_ee73_11ea_ae36_0242ac110004row9_col0\" class=\"data row9 col0\" >10483</td>\n",
       "                        <td id=\"T_ddf8ecfc_ee73_11ea_ae36_0242ac110004row9_col1\" class=\"data row9 col1\" >Cardigan</td>\n",
       "                        <td id=\"T_ddf8ecfc_ee73_11ea_ae36_0242ac110004row9_col2\" class=\"data row9 col2\" >4 star</td>\n",
       "                        <td id=\"T_ddf8ecfc_ee73_11ea_ae36_0242ac110004row9_col3\" class=\"data row9 col3\" >7021</td>\n",
       "                        <td id=\"T_ddf8ecfc_ee73_11ea_ae36_0242ac110004row9_col4\" class=\"data row9 col4\" >Unspecified</td>\n",
       "                        <td id=\"T_ddf8ecfc_ee73_11ea_ae36_0242ac110004row9_col5\" class=\"data row9 col5\" >Cash</td>\n",
       "                        <td id=\"T_ddf8ecfc_ee73_11ea_ae36_0242ac110004row9_col6\" class=\"data row9 col6\" >Cash</td>\n",
       "                        <td id=\"T_ddf8ecfc_ee73_11ea_ae36_0242ac110004row9_col7\" class=\"data row9 col7\" >Express</td>\n",
       "                        <td id=\"T_ddf8ecfc_ee73_11ea_ae36_0242ac110004row9_col8\" class=\"data row9 col8\" >6.000000</td>\n",
       "                        <td id=\"T_ddf8ecfc_ee73_11ea_ae36_0242ac110004row9_col9\" class=\"data row9 col9\" >American Dollar</td>\n",
       "                        <td id=\"T_ddf8ecfc_ee73_11ea_ae36_0242ac110004row9_col10\" class=\"data row9 col10\" >6756.940000</td>\n",
       "            </tr>\n",
       "    </tbody></table>"
      ],
      "text/plain": [
       "<pandas.io.formats.style.Styler at 0x7f6be46a98b0>"
      ]
     },
     "execution_count": 154,
     "metadata": {},
     "output_type": "execute_result"
    }
   ],
   "source": [
    "styled_data=data.drop(['Date','Price'],axis=1).head(10).style\n",
    "\n",
    "def magnify():\n",
    "    return [dict(selector=\"th\",\n",
    "                 props=[(\"font-size\", \"7pt\")]),\n",
    "            dict(selector=\"td\",\n",
    "                 props=[('padding', \"4px 4px\"),]),\n",
    "            dict(selector=\"th:hover\",\n",
    "                 props=[(\"font-size\", \"13pt\")]),\n",
    "            dict(selector=\"tr:hover td:hover\",\n",
    "                 props=[('max-width', '200px'),\n",
    "                        ('font-size', '14pt'),\n",
    "                       ('color', '#4f6d7a')])]\n",
    "\n",
    "\n",
    "\n",
    "\n",
    "styles = [\n",
    "    dict(selector=\"tr:hover\",props=[(\"background-color\", \"#eccbd9\")]),\n",
    "    dict(selector=\"th:hover\",props=[(\"background-color\", \"#eccbd9\")]),\n",
    "    dict(selector=\"th\", props=[('background-color','#4f6d7a'),\n",
    "                               (\"font-size\", \"120%\"),\n",
    "                               (\"text-align\", \"center\"),\n",
    "                               ('color', '#ffffff'),\n",
    "                              ('border','1px solid #dbe9ee')]),\n",
    "    dict(selector='tbody', props=[('color', '#449dd1'),]),\n",
    "    dict(selector='tr', props=[('background-color','#e1eff6'),\n",
    "                                ('color', '#449dd1'),\n",
    "                                ('font-family','Helvetica')]),\n",
    "    dict(selector='td',props=[('border','1px solid #166088'),])]\n",
    "\n",
    "styles.extend(magnify())\n",
    "styled_data.set_table_styles(styles)"
   ]
  }
 ],
 "metadata": {
  "kernelspec": {
   "display_name": "Python 3",
   "language": "python",
   "name": "python3"
  },
  "language_info": {
   "codemirror_mode": {
    "name": "ipython",
    "version": 3
   },
   "file_extension": ".py",
   "mimetype": "text/x-python",
   "name": "python",
   "nbconvert_exporter": "python",
   "pygments_lexer": "ipython3",
   "version": "3.8.1"
  }
 },
 "nbformat": 4,
 "nbformat_minor": 4
}
