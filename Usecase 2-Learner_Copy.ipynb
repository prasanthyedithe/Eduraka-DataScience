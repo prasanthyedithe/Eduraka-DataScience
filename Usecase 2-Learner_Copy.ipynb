{
 "cells": [
  {
   "cell_type": "markdown",
   "metadata": {},
   "source": [
    "# Raven Healthcare"
   ]
  },
  {
   "cell_type": "markdown",
   "metadata": {},
   "source": [
    "### Problem Statement\n",
    "\n",
    "The raw data has been provided to the team of Data Analysts of Raven Healthcare for preprocessing."
   ]
  },
  {
   "cell_type": "markdown",
   "metadata": {},
   "source": [
    "# COVID-19 Data"
   ]
  },
  {
   "cell_type": "markdown",
   "metadata": {},
   "source": [
    "### Data Dictionary"
   ]
  },
  {
   "cell_type": "markdown",
   "metadata": {},
   "source": [
    "- __agebracket__:This provides the age of the case. This is applicable only for rows that represent individual records.\n",
    "- __backupnotes__:This was used during initial days to record additional information. The usage of this has been discontinued.\n",
    "- __contractedfromwhichpatientsuspected__: This field gives the patient id from whom the current patient is believed to have contracted the virus. This is based on state bulletins. As of July 10th, this field is used only for Karnataka records.\n",
    "- __currentstatus__:This can have: Hospitalized, Recovered, Deceased or Migrated_Others as values. These represent the status of the case. Migrated_Others is used as a place holder for those cases that are marked by states as having migrated to other states or have died due to non covid reasons.\n",
    "- __dateannounced__: This field gives the date on which the case(s) was reported by the state/central bulletin\n",
    "- __detectedcity__: This field gives the city where the case(s) were reported.\n",
    "- __detecteddistrict__: This field gives the district where the case(s) were reported.\n",
    "- __detectedstate__: This field gives the state where the case(s) were reported.\n",
    "- __estimatedonsetdate__: This field is not used.gender This provides the gender of the case. This is applicable only for rows that represent individual records.\n",
    "- __nationality__: This provides the nationality of the case. This is applicable only for rows that represent individual records.\n",
    "- __notes__: This provides the any notes regarding the case(s) that are reported.\n",
    "- __numcases__: This field can any integer value. This field denotes the following:\n",
    "    - If the value is == 1 : The row indicates an individual record (age and gender info are subject to state bulletin releases).\n",
    "    - If the value != 1 (greater than or less than 1) : The row indicates a district level record.\n",
    "    - If the value > 0 and (detecteddistrict == '' or detecteddistrict == 'Unknown') : The row added without district details as state bulletin did not have district details at the point of data entry.\n",
    "    - If the value < 0 and (detecteddistrict == '' or detecteddistrict == 'Unknown') : The row added to adjust a previously added bulk entry as stated above\n",
    "    - If the value < 0 and (detecteddistrict != '' and detecteddistrict != 'Unknown') : The row added due to state bulletins providing a reduced count for that district/day/category combination.\n",
    "    - If the value == 0 : Ingore the record. This would've been an entry made and ignored later due to clarifications from state bulletins.\n",
    "- __patientnumber__:This field used to hold a global patient number for all patients being reported. This has been discontinued with the shift to district level entries.\n",
    "- __source1__:Source for the current row.\n",
    "- __source2__:Additional source for the current row.\n",
    "- __source3__:Additional source for the current row.\n",
    "- __statecode__:A two letter code to represent the state/UT.\n",
    "- __statepatientnumber__:A field to represent the state patient number if the state bulletin provided a state patient number.\n",
    "- __statuschangedate__:A field to represent the change of status of patients from Hospitalized -> Recovered or Hospitalized -> Deceased. This field has been discontiuned with district level records."
   ]
  },
  {
   "cell_type": "markdown",
   "metadata": {},
   "source": [
    "The data is collected from data.gov.in and is available in different files. The first task is to merge all the data into a single file. "
   ]
  },
  {
   "cell_type": "markdown",
   "metadata": {},
   "source": [
    "### Importing Libraries"
   ]
  },
  {
   "cell_type": "code",
   "execution_count": 2,
   "metadata": {},
   "outputs": [],
   "source": [
    "import os\n",
    "import os.path\n",
    "import sys\n",
    "import pandas as pd\n",
    "import numpy as np"
   ]
  },
  {
   "cell_type": "markdown",
   "metadata": {},
   "source": [
    "## Data Acquisition"
   ]
  },
  {
   "cell_type": "markdown",
   "metadata": {},
   "source": [
    "### Fetching Data"
   ]
  },
  {
   "cell_type": "markdown",
   "metadata": {},
   "source": [
    "We have to acquire the latest data possible. So, we will be using BeautifulSoup for this:"
   ]
  },
  {
   "cell_type": "code",
   "execution_count": 2,
   "metadata": {},
   "outputs": [],
   "source": [
    "# Please wait while the library is installed\n",
    "!pip install tqdm --quiet --disable-pip-version-check"
   ]
  },
  {
   "cell_type": "code",
   "execution_count": 3,
   "metadata": {},
   "outputs": [],
   "source": [
    "import re\n",
    "import requests as rq\n",
    "from bs4 import BeautifulSoup\n",
    "from tqdm import tqdm"
   ]
  },
  {
   "cell_type": "code",
   "execution_count": 4,
   "metadata": {},
   "outputs": [],
   "source": [
    "# Sending request to the website\n",
    "res=rq.get('https://api.covid19india.org/documentation/csv/')"
   ]
  },
  {
   "cell_type": "code",
   "execution_count": 5,
   "metadata": {},
   "outputs": [],
   "source": [
    "# Creating the soup object\n",
    "soup=BeautifulSoup(res.content) "
   ]
  },
  {
   "cell_type": "code",
   "execution_count": 6,
   "metadata": {
    "scrolled": false
   },
   "outputs": [],
   "source": [
    "# finding all the hyperlinks in the page\n",
    "links=soup.find_all('a')"
   ]
  },
  {
   "cell_type": "code",
   "execution_count": 7,
   "metadata": {},
   "outputs": [],
   "source": [
    "# Filtering the hyperlinks with only raw_data\n",
    "final=[]\n",
    "for i in links:\n",
    "    temp=re.search('raw_data[\\d*]+.\\w+',i.text)\n",
    "    if temp!=None:\n",
    "        final.append(i)"
   ]
  },
  {
   "cell_type": "code",
   "execution_count": 8,
   "metadata": {},
   "outputs": [],
   "source": [
    "# Check if raw_data folder exists or not. If not create a new folder\n",
    "current_directory=os.getcwd() # Current working directory\n",
    "if os.path.exists(current_directory+'/raw_data')==False:\n",
    "    os.mkdir(current_directory+'/raw_data')"
   ]
  },
  {
   "cell_type": "code",
   "execution_count": 9,
   "metadata": {},
   "outputs": [],
   "source": [
    "file_path=current_directory+'\\\\raw_data\\\\'"
   ]
  },
  {
   "cell_type": "code",
   "execution_count": 10,
   "metadata": {
    "scrolled": true
   },
   "outputs": [
    {
     "name": "stderr",
     "output_type": "stream",
     "text": [
      "200 | raw_data1.csv: 2.88MB [00:00, 48.9MB/s]                                                                          \n",
      "200 | raw_data2.csv: 1.58MB [00:00, 7.47MB/s]                                                                          \n",
      "200 | raw_data3.csv: 1.56MB [00:00, 13.7MB/s]                                                                          \n",
      "200 | raw_data4.csv: 2.86MB [00:00, 23.5MB/s]                                                                          \n",
      "200 | raw_data5.csv: 3.09MB [00:00, 20.5MB/s]                                                                          \n",
      "200 | raw_data6.csv: 3.33MB [00:00, 13.3MB/s]                                                                          \n",
      "200 | raw_data7.csv: 3.09MB [00:00, 32.2MB/s]                                                                          \n",
      "200 | raw_data8.csv: 3.26MB [00:00, 32.0MB/s]                                                                          \n",
      "200 | raw_data9.csv: 3.92MB [00:00, 36.7MB/s]                                                                          \n",
      "200 | raw_data10.csv: 3.36MB [00:00, 23.9MB/s]                                                                         \n",
      "200 | raw_data11.csv: 4.12MB [00:00, 27.5MB/s]                                                                         \n",
      "200 | raw_data12.csv: 2.96MB [00:00, 22.3MB/s]                                                                         \n",
      "200 | raw_data13.csv: 3.22MB [00:00, 16.4MB/s]                                                                         \n",
      "200 | raw_data14.csv: 3.60MB [00:00, 27.5MB/s]                                                                         \n",
      "200 | raw_data15.csv: 3.40MB [00:00, 27.7MB/s]                                                                         \n",
      "200 | raw_data16.csv: 1.65MB [00:00, 8.19MB/s]                                                                         \n"
     ]
    }
   ],
   "source": [
    "#### Fetching the raw data files (This take a while if you don't have any files downloaded already)\n",
    "for i in final:\n",
    "    res = rq.get(i.text, stream=True)\n",
    "    res.raise_for_status()\n",
    "    filename=i.text.split('latest/')[1]\n",
    "    file_existence = os.path.isfile(file_path+'/'+filename)\n",
    "\n",
    "    if file_existence!=True: # file does not exists\n",
    "        with open(file_path+filename, 'wb+') as fd:\n",
    "            with tqdm(\n",
    "                unit='B', unit_scale=True,\n",
    "                desc=str(res.status_code)+' | '+filename, total=int(res.headers.get('content-length', 0))\n",
    "            ) as pbar:\n",
    "                for chunk in res.iter_content(chunk_size=4096):\n",
    "                    fd.write(chunk)\n",
    "                    pbar.update(len(chunk))\n",
    "    else:\n",
    "        sys.stderr.write('File already exists: '+filename+'\\n')"
   ]
  },
  {
   "cell_type": "markdown",
   "metadata": {},
   "source": [
    "### Merging Files"
   ]
  },
  {
   "cell_type": "markdown",
   "metadata": {},
   "source": [
    "Before we merge all the files we have to see the data is consistent or not."
   ]
  },
  {
   "cell_type": "code",
   "execution_count": 11,
   "metadata": {},
   "outputs": [],
   "source": []
  },
  {
   "cell_type": "code",
   "execution_count": 12,
   "metadata": {},
   "outputs": [
    {
     "data": {
      "text/html": [
       "<div>\n",
       "<style scoped>\n",
       "    .dataframe tbody tr th:only-of-type {\n",
       "        vertical-align: middle;\n",
       "    }\n",
       "\n",
       "    .dataframe tbody tr th {\n",
       "        vertical-align: top;\n",
       "    }\n",
       "\n",
       "    .dataframe thead th {\n",
       "        text-align: right;\n",
       "    }\n",
       "</style>\n",
       "<table border=\"1\" class=\"dataframe\">\n",
       "  <thead>\n",
       "    <tr style=\"text-align: right;\">\n",
       "      <th></th>\n",
       "      <th>file_name</th>\n",
       "      <th>num_cols</th>\n",
       "      <th>col_names</th>\n",
       "    </tr>\n",
       "  </thead>\n",
       "  <tbody>\n",
       "    <tr>\n",
       "      <th>0</th>\n",
       "      <td>raw_data1.csv</td>\n",
       "      <td>21</td>\n",
       "      <td>['Patient Number', 'State Patient Number', 'Da...</td>\n",
       "    </tr>\n",
       "    <tr>\n",
       "      <th>1</th>\n",
       "      <td>raw_data10.csv</td>\n",
       "      <td>20</td>\n",
       "      <td>['Entry_ID', 'State Patient Number', 'Date Ann...</td>\n",
       "    </tr>\n",
       "    <tr>\n",
       "      <th>2</th>\n",
       "      <td>raw_data11.csv</td>\n",
       "      <td>20</td>\n",
       "      <td>['Entry_ID', 'State Patient Number', 'Date Ann...</td>\n",
       "    </tr>\n",
       "    <tr>\n",
       "      <th>3</th>\n",
       "      <td>raw_data12.csv</td>\n",
       "      <td>20</td>\n",
       "      <td>['Entry_ID', 'State Patient Number', 'Date Ann...</td>\n",
       "    </tr>\n",
       "    <tr>\n",
       "      <th>4</th>\n",
       "      <td>raw_data13.csv</td>\n",
       "      <td>20</td>\n",
       "      <td>['Entry_ID', 'State Patient Number', 'Date Ann...</td>\n",
       "    </tr>\n",
       "    <tr>\n",
       "      <th>5</th>\n",
       "      <td>raw_data14.csv</td>\n",
       "      <td>20</td>\n",
       "      <td>['Entry_ID', 'State Patient Number', 'Date Ann...</td>\n",
       "    </tr>\n",
       "    <tr>\n",
       "      <th>6</th>\n",
       "      <td>raw_data15.csv</td>\n",
       "      <td>20</td>\n",
       "      <td>['Entry_ID', 'State Patient Number', 'Date Ann...</td>\n",
       "    </tr>\n",
       "    <tr>\n",
       "      <th>7</th>\n",
       "      <td>raw_data16.csv</td>\n",
       "      <td>20</td>\n",
       "      <td>['Entry_ID', 'State Patient Number', 'Date Ann...</td>\n",
       "    </tr>\n",
       "    <tr>\n",
       "      <th>8</th>\n",
       "      <td>raw_data2.csv</td>\n",
       "      <td>21</td>\n",
       "      <td>['Patient Number', 'State Patient Number', 'Da...</td>\n",
       "    </tr>\n",
       "    <tr>\n",
       "      <th>9</th>\n",
       "      <td>raw_data3.csv</td>\n",
       "      <td>20</td>\n",
       "      <td>['Entry_ID', 'State Patient Number', 'Date Ann...</td>\n",
       "    </tr>\n",
       "    <tr>\n",
       "      <th>10</th>\n",
       "      <td>raw_data4.csv</td>\n",
       "      <td>20</td>\n",
       "      <td>['Entry_ID', 'State Patient Number', 'Date Ann...</td>\n",
       "    </tr>\n",
       "    <tr>\n",
       "      <th>11</th>\n",
       "      <td>raw_data5.csv</td>\n",
       "      <td>20</td>\n",
       "      <td>['Entry_ID', 'State Patient Number', 'Date Ann...</td>\n",
       "    </tr>\n",
       "    <tr>\n",
       "      <th>12</th>\n",
       "      <td>raw_data6.csv</td>\n",
       "      <td>20</td>\n",
       "      <td>['Entry_ID', 'State Patient Number', 'Date Ann...</td>\n",
       "    </tr>\n",
       "    <tr>\n",
       "      <th>13</th>\n",
       "      <td>raw_data7.csv</td>\n",
       "      <td>20</td>\n",
       "      <td>['Entry_ID', 'State Patient Number', 'Date Ann...</td>\n",
       "    </tr>\n",
       "    <tr>\n",
       "      <th>14</th>\n",
       "      <td>raw_data8.csv</td>\n",
       "      <td>20</td>\n",
       "      <td>['Entry_ID', 'State Patient Number', 'Date Ann...</td>\n",
       "    </tr>\n",
       "    <tr>\n",
       "      <th>15</th>\n",
       "      <td>raw_data9.csv</td>\n",
       "      <td>20</td>\n",
       "      <td>['Entry_ID', 'State Patient Number', 'Date Ann...</td>\n",
       "    </tr>\n",
       "  </tbody>\n",
       "</table>\n",
       "</div>"
      ],
      "text/plain": [
       "         file_name  num_cols  \\\n",
       "0    raw_data1.csv        21   \n",
       "1   raw_data10.csv        20   \n",
       "2   raw_data11.csv        20   \n",
       "3   raw_data12.csv        20   \n",
       "4   raw_data13.csv        20   \n",
       "5   raw_data14.csv        20   \n",
       "6   raw_data15.csv        20   \n",
       "7   raw_data16.csv        20   \n",
       "8    raw_data2.csv        21   \n",
       "9    raw_data3.csv        20   \n",
       "10   raw_data4.csv        20   \n",
       "11   raw_data5.csv        20   \n",
       "12   raw_data6.csv        20   \n",
       "13   raw_data7.csv        20   \n",
       "14   raw_data8.csv        20   \n",
       "15   raw_data9.csv        20   \n",
       "\n",
       "                                            col_names  \n",
       "0   ['Patient Number', 'State Patient Number', 'Da...  \n",
       "1   ['Entry_ID', 'State Patient Number', 'Date Ann...  \n",
       "2   ['Entry_ID', 'State Patient Number', 'Date Ann...  \n",
       "3   ['Entry_ID', 'State Patient Number', 'Date Ann...  \n",
       "4   ['Entry_ID', 'State Patient Number', 'Date Ann...  \n",
       "5   ['Entry_ID', 'State Patient Number', 'Date Ann...  \n",
       "6   ['Entry_ID', 'State Patient Number', 'Date Ann...  \n",
       "7   ['Entry_ID', 'State Patient Number', 'Date Ann...  \n",
       "8   ['Patient Number', 'State Patient Number', 'Da...  \n",
       "9   ['Entry_ID', 'State Patient Number', 'Date Ann...  \n",
       "10  ['Entry_ID', 'State Patient Number', 'Date Ann...  \n",
       "11  ['Entry_ID', 'State Patient Number', 'Date Ann...  \n",
       "12  ['Entry_ID', 'State Patient Number', 'Date Ann...  \n",
       "13  ['Entry_ID', 'State Patient Number', 'Date Ann...  \n",
       "14  ['Entry_ID', 'State Patient Number', 'Date Ann...  \n",
       "15  ['Entry_ID', 'State Patient Number', 'Date Ann...  "
      ]
     },
     "execution_count": 12,
     "metadata": {},
     "output_type": "execute_result"
    }
   ],
   "source": []
  },
  {
   "cell_type": "markdown",
   "metadata": {},
   "source": [
    "The data collected seems to have some irregularities. The number of features(columns) recorded are not similar. "
   ]
  },
  {
   "cell_type": "markdown",
   "metadata": {},
   "source": [
    "#### Consistency Check"
   ]
  },
  {
   "cell_type": "code",
   "execution_count": 15,
   "metadata": {},
   "outputs": [],
   "source": [
    "# Read the first 2 files "
   ]
  },
  {
   "cell_type": "code",
   "execution_count": 16,
   "metadata": {},
   "outputs": [],
   "source": [
    "# Get the list of columns for each "
   ]
  },
  {
   "cell_type": "markdown",
   "metadata": {},
   "source": [
    "#### Finding the Difference in Features "
   ]
  },
  {
   "cell_type": "code",
   "execution_count": 17,
   "metadata": {},
   "outputs": [
    {
     "data": {
      "text/plain": [
       "{'Backup Notes', 'Estimated Onset Date'}"
      ]
     },
     "execution_count": 17,
     "metadata": {},
     "output_type": "execute_result"
    }
   ],
   "source": [
    "# Using sets check the different columns from file 1 and 2"
   ]
  },
  {
   "cell_type": "code",
   "execution_count": 18,
   "metadata": {},
   "outputs": [
    {
     "data": {
      "text/plain": [
       "{'Entry_ID'}"
      ]
     },
     "execution_count": 18,
     "metadata": {},
     "output_type": "execute_result"
    }
   ],
   "source": [
    "# Using set check the difference between file 2 and 1"
   ]
  },
  {
   "cell_type": "code",
   "execution_count": 19,
   "metadata": {},
   "outputs": [
    {
     "data": {
      "text/plain": [
       "{'Backup Notes', 'Entry_ID', 'Estimated Onset Date'}"
      ]
     },
     "execution_count": 19,
     "metadata": {},
     "output_type": "execute_result"
    }
   ],
   "source": [
    "# Find the diffferent columns from file 1 and 2"
   ]
  },
  {
   "cell_type": "markdown",
   "metadata": {},
   "source": [
    "##### Data has 3 columns that are not properly available.\n",
    "\n",
    "- Dropping  ```{'Backup Notes', 'Estimated Onset Date'}```\n",
    "- We have to create ```Entry_ID``` for first two datasets"
   ]
  },
  {
   "cell_type": "code",
   "execution_count": 20,
   "metadata": {},
   "outputs": [],
   "source": [
    "# Append the index of file 1 to file 2 in a sequence"
   ]
  },
  {
   "cell_type": "code",
   "execution_count": 21,
   "metadata": {},
   "outputs": [],
   "source": [
    "# Drop ['Backup Notes','Estimated Onset Date'] columns from both the files"
   ]
  },
  {
   "cell_type": "code",
   "execution_count": 22,
   "metadata": {},
   "outputs": [],
   "source": [
    "# Save the files with index = False"
   ]
  },
  {
   "cell_type": "markdown",
   "metadata": {},
   "source": [
    "#### Merging Files"
   ]
  },
  {
   "cell_type": "code",
   "execution_count": 23,
   "metadata": {},
   "outputs": [
    {
     "name": "stdout",
     "output_type": "stream",
     "text": [
      ">>>>Done: raw_data1.csv shape:(17364, 20)\n",
      ">>>>Done: raw_data10.csv shape:(23110, 20)\n",
      ">>>>Done: raw_data11.csv shape:(29045, 20)\n",
      ">>>>Done: raw_data12.csv shape:(22334, 20)\n",
      ">>>>Done: raw_data13.csv shape:(24247, 20)\n",
      ">>>>Done: raw_data14.csv shape:(27582, 20)\n",
      ">>>>Done: raw_data15.csv shape:(27346, 20)\n",
      ">>>>Done: raw_data16.csv shape:(12853, 20)\n",
      ">>>>Done: raw_data2.csv shape:(10819, 20)\n",
      ">>>>Done: raw_data3.csv shape:(10020, 20)\n",
      ">>>>Done: raw_data4.csv shape:(18220, 20)\n",
      ">>>>Done: raw_data5.csv shape:(20438, 20)\n",
      ">>>>Done: raw_data6.csv shape:(23423, 20)\n",
      ">>>>Done: raw_data7.csv shape:(22770, 20)\n",
      ">>>>Done: raw_data8.csv shape:(22795, 20)\n",
      ">>>>Done: raw_data9.csv shape:(26895, 20)\n"
     ]
    }
   ],
   "source": [
    "# Create a function/loop to merge all the files into a single file without saving indices."
   ]
  },
  {
   "cell_type": "code",
   "execution_count": 24,
   "metadata": {},
   "outputs": [
    {
     "name": "stdout",
     "output_type": "stream",
     "text": [
      "Total number of records:  339261\n"
     ]
    }
   ],
   "source": [
    "# Print total number of records"
   ]
  },
  {
   "cell_type": "markdown",
   "metadata": {},
   "source": [
    "## Processing the Data"
   ]
  },
  {
   "cell_type": "code",
   "execution_count": 3,
   "metadata": {},
   "outputs": [
    {
     "name": "stderr",
     "output_type": "stream",
     "text": [
      "C:\\Users\\samee\\AppData\\Roaming\\Python\\Python38\\site-packages\\IPython\\core\\interactiveshell.py:3145: DtypeWarning: Columns (3,11,12,13,14,17) have mixed types.Specify dtype option on import or set low_memory=False.\n",
      "  has_raised = await self.run_ast_nodes(code_ast.body, cell_name,\n"
     ]
    }
   ],
   "source": [
    "# Read the file with all the data"
   ]
  },
  {
   "cell_type": "code",
   "execution_count": 4,
   "metadata": {},
   "outputs": [
    {
     "data": {
      "text/html": [
       "<div>\n",
       "<style scoped>\n",
       "    .dataframe tbody tr th:only-of-type {\n",
       "        vertical-align: middle;\n",
       "    }\n",
       "\n",
       "    .dataframe tbody tr th {\n",
       "        vertical-align: top;\n",
       "    }\n",
       "\n",
       "    .dataframe thead th {\n",
       "        text-align: right;\n",
       "    }\n",
       "</style>\n",
       "<table border=\"1\" class=\"dataframe\">\n",
       "  <thead>\n",
       "    <tr style=\"text-align: right;\">\n",
       "      <th></th>\n",
       "      <th>Patient Number</th>\n",
       "      <th>State Patient Number</th>\n",
       "      <th>Date Announced</th>\n",
       "      <th>Age Bracket</th>\n",
       "      <th>Gender</th>\n",
       "      <th>Detected City</th>\n",
       "      <th>Detected District</th>\n",
       "      <th>Detected State</th>\n",
       "      <th>State code</th>\n",
       "      <th>Current Status</th>\n",
       "      <th>Notes</th>\n",
       "      <th>Contracted from which Patient (Suspected)</th>\n",
       "      <th>Nationality</th>\n",
       "      <th>Type of transmission</th>\n",
       "      <th>Status Change Date</th>\n",
       "      <th>Source_1</th>\n",
       "      <th>Source_2</th>\n",
       "      <th>Source_3</th>\n",
       "      <th>Num Cases</th>\n",
       "      <th>Entry_ID</th>\n",
       "    </tr>\n",
       "  </thead>\n",
       "  <tbody>\n",
       "    <tr>\n",
       "      <th>0</th>\n",
       "      <td>1.0</td>\n",
       "      <td>KL-TS-P1</td>\n",
       "      <td>30/01/2020</td>\n",
       "      <td>20</td>\n",
       "      <td>F</td>\n",
       "      <td>Thrissur</td>\n",
       "      <td>Thrissur</td>\n",
       "      <td>Kerala</td>\n",
       "      <td>KL</td>\n",
       "      <td>Recovered</td>\n",
       "      <td>Travelled from Wuhan</td>\n",
       "      <td>NaN</td>\n",
       "      <td>India</td>\n",
       "      <td>Imported</td>\n",
       "      <td>14/02/2020</td>\n",
       "      <td>https://twitter.com/vijayanpinarayi/status/122...</td>\n",
       "      <td>https://weather.com/en-IN/india/news/news/2020...</td>\n",
       "      <td>NaN</td>\n",
       "      <td>1.0</td>\n",
       "      <td>0.0</td>\n",
       "    </tr>\n",
       "    <tr>\n",
       "      <th>1</th>\n",
       "      <td>2.0</td>\n",
       "      <td>KL-AL-P1</td>\n",
       "      <td>02/02/2020</td>\n",
       "      <td>NaN</td>\n",
       "      <td>NaN</td>\n",
       "      <td>Alappuzha</td>\n",
       "      <td>Alappuzha</td>\n",
       "      <td>Kerala</td>\n",
       "      <td>KL</td>\n",
       "      <td>Recovered</td>\n",
       "      <td>Travelled from Wuhan</td>\n",
       "      <td>NaN</td>\n",
       "      <td>India</td>\n",
       "      <td>Imported</td>\n",
       "      <td>14/02/2020</td>\n",
       "      <td>https://www.indiatoday.in/india/story/kerala-r...</td>\n",
       "      <td>https://weather.com/en-IN/india/news/news/2020...</td>\n",
       "      <td>NaN</td>\n",
       "      <td>1.0</td>\n",
       "      <td>1.0</td>\n",
       "    </tr>\n",
       "    <tr>\n",
       "      <th>2</th>\n",
       "      <td>3.0</td>\n",
       "      <td>KL-KS-P1</td>\n",
       "      <td>03/02/2020</td>\n",
       "      <td>NaN</td>\n",
       "      <td>NaN</td>\n",
       "      <td>Kasaragod</td>\n",
       "      <td>Kasaragod</td>\n",
       "      <td>Kerala</td>\n",
       "      <td>KL</td>\n",
       "      <td>Recovered</td>\n",
       "      <td>Travelled from Wuhan</td>\n",
       "      <td>NaN</td>\n",
       "      <td>India</td>\n",
       "      <td>Imported</td>\n",
       "      <td>14/02/2020</td>\n",
       "      <td>https://www.indiatoday.in/india/story/kerala-n...</td>\n",
       "      <td>https://twitter.com/ANI/status/122422148580539...</td>\n",
       "      <td>https://weather.com/en-IN/india/news/news/2020...</td>\n",
       "      <td>1.0</td>\n",
       "      <td>2.0</td>\n",
       "    </tr>\n",
       "    <tr>\n",
       "      <th>3</th>\n",
       "      <td>4.0</td>\n",
       "      <td>DL-P1</td>\n",
       "      <td>02/03/2020</td>\n",
       "      <td>45</td>\n",
       "      <td>M</td>\n",
       "      <td>East Delhi (Mayur Vihar)</td>\n",
       "      <td>East Delhi</td>\n",
       "      <td>Delhi</td>\n",
       "      <td>DL</td>\n",
       "      <td>Recovered</td>\n",
       "      <td>Travelled from Austria, Italy</td>\n",
       "      <td>NaN</td>\n",
       "      <td>India</td>\n",
       "      <td>Imported</td>\n",
       "      <td>15/03/2020</td>\n",
       "      <td>https://www.indiatoday.in/india/story/not-a-ja...</td>\n",
       "      <td>https://economictimes.indiatimes.com/news/poli...</td>\n",
       "      <td>NaN</td>\n",
       "      <td>1.0</td>\n",
       "      <td>3.0</td>\n",
       "    </tr>\n",
       "    <tr>\n",
       "      <th>4</th>\n",
       "      <td>5.0</td>\n",
       "      <td>TS-P1</td>\n",
       "      <td>02/03/2020</td>\n",
       "      <td>24</td>\n",
       "      <td>M</td>\n",
       "      <td>Hyderabad</td>\n",
       "      <td>Hyderabad</td>\n",
       "      <td>Telangana</td>\n",
       "      <td>TG</td>\n",
       "      <td>Recovered</td>\n",
       "      <td>Travelled from Dubai to Bangalore on 20th Feb,...</td>\n",
       "      <td>NaN</td>\n",
       "      <td>India</td>\n",
       "      <td>Imported</td>\n",
       "      <td>02/03/2020</td>\n",
       "      <td>https://www.deccanherald.com/national/south/qu...</td>\n",
       "      <td>https://www.indiatoday.in/india/story/coronavi...</td>\n",
       "      <td>https://www.thehindu.com/news/national/coronav...</td>\n",
       "      <td>1.0</td>\n",
       "      <td>4.0</td>\n",
       "    </tr>\n",
       "  </tbody>\n",
       "</table>\n",
       "</div>"
      ],
      "text/plain": [
       "   Patient Number State Patient Number Date Announced Age Bracket Gender  \\\n",
       "0             1.0             KL-TS-P1     30/01/2020          20      F   \n",
       "1             2.0             KL-AL-P1     02/02/2020         NaN    NaN   \n",
       "2             3.0             KL-KS-P1     03/02/2020         NaN    NaN   \n",
       "3             4.0                DL-P1     02/03/2020          45      M   \n",
       "4             5.0                TS-P1     02/03/2020          24      M   \n",
       "\n",
       "              Detected City Detected District Detected State State code  \\\n",
       "0                  Thrissur          Thrissur         Kerala         KL   \n",
       "1                 Alappuzha         Alappuzha         Kerala         KL   \n",
       "2                 Kasaragod         Kasaragod         Kerala         KL   \n",
       "3  East Delhi (Mayur Vihar)        East Delhi          Delhi         DL   \n",
       "4                 Hyderabad         Hyderabad      Telangana         TG   \n",
       "\n",
       "  Current Status                                              Notes  \\\n",
       "0      Recovered                               Travelled from Wuhan   \n",
       "1      Recovered                               Travelled from Wuhan   \n",
       "2      Recovered                               Travelled from Wuhan   \n",
       "3      Recovered                      Travelled from Austria, Italy   \n",
       "4      Recovered  Travelled from Dubai to Bangalore on 20th Feb,...   \n",
       "\n",
       "  Contracted from which Patient (Suspected) Nationality Type of transmission  \\\n",
       "0                                       NaN       India             Imported   \n",
       "1                                       NaN       India             Imported   \n",
       "2                                       NaN       India             Imported   \n",
       "3                                       NaN       India             Imported   \n",
       "4                                       NaN       India             Imported   \n",
       "\n",
       "  Status Change Date                                           Source_1  \\\n",
       "0         14/02/2020  https://twitter.com/vijayanpinarayi/status/122...   \n",
       "1         14/02/2020  https://www.indiatoday.in/india/story/kerala-r...   \n",
       "2         14/02/2020  https://www.indiatoday.in/india/story/kerala-n...   \n",
       "3         15/03/2020  https://www.indiatoday.in/india/story/not-a-ja...   \n",
       "4         02/03/2020  https://www.deccanherald.com/national/south/qu...   \n",
       "\n",
       "                                            Source_2  \\\n",
       "0  https://weather.com/en-IN/india/news/news/2020...   \n",
       "1  https://weather.com/en-IN/india/news/news/2020...   \n",
       "2  https://twitter.com/ANI/status/122422148580539...   \n",
       "3  https://economictimes.indiatimes.com/news/poli...   \n",
       "4  https://www.indiatoday.in/india/story/coronavi...   \n",
       "\n",
       "                                            Source_3  Num Cases  Entry_ID  \n",
       "0                                                NaN        1.0       0.0  \n",
       "1                                                NaN        1.0       1.0  \n",
       "2  https://weather.com/en-IN/india/news/news/2020...        1.0       2.0  \n",
       "3                                                NaN        1.0       3.0  \n",
       "4  https://www.thehindu.com/news/national/coronav...        1.0       4.0  "
      ]
     },
     "execution_count": 4,
     "metadata": {},
     "output_type": "execute_result"
    }
   ],
   "source": [
    "# Keep the original data as copy and print first 5 columns"
   ]
  },
  {
   "cell_type": "code",
   "execution_count": 5,
   "metadata": {},
   "outputs": [
    {
     "name": "stdout",
     "output_type": "stream",
     "text": [
      "<class 'pandas.core.frame.DataFrame'>\n",
      "RangeIndex: 339261 entries, 0 to 339260\n",
      "Data columns (total 20 columns):\n",
      " #   Column                                     Non-Null Count   Dtype  \n",
      "---  ------                                     --------------   -----  \n",
      " 0   Patient Number                             99793 non-null   float64\n",
      " 1   State Patient Number                       114173 non-null  object \n",
      " 2   Date Announced                             339257 non-null  object \n",
      " 3   Age Bracket                                114676 non-null  object \n",
      " 4   Gender                                     117200 non-null  object \n",
      " 5   Detected City                              14110 non-null   object \n",
      " 6   Detected District                          328782 non-null  object \n",
      " 7   Detected State                             339235 non-null  object \n",
      " 8   State code                                 339232 non-null  object \n",
      " 9   Current Status                             339244 non-null  object \n",
      " 10  Notes                                      114888 non-null  object \n",
      " 11  Contracted from which Patient (Suspected)  1938 non-null    object \n",
      " 12  Nationality                                1554 non-null    object \n",
      " 13  Type of transmission                       2990 non-null    object \n",
      " 14  Status Change Date                         27780 non-null   object \n",
      " 15  Source_1                                   335434 non-null  object \n",
      " 16  Source_2                                   7104 non-null    object \n",
      " 17  Source_3                                   710 non-null     object \n",
      " 18  Num Cases                                  339240 non-null  float64\n",
      " 19  Entry_ID                                   339257 non-null  float64\n",
      "dtypes: float64(3), object(17)\n",
      "memory usage: 51.8+ MB\n"
     ]
    }
   ],
   "source": [
    "# Checking the datatypes of the data"
   ]
  },
  {
   "cell_type": "markdown",
   "metadata": {},
   "source": [
    "#### Datatype conversion"
   ]
  },
  {
   "cell_type": "code",
   "execution_count": 6,
   "metadata": {},
   "outputs": [],
   "source": [
    "# Convert datatype for each column \n",
    "'''\n",
    "Data Announced : DateTime\n",
    "Status Change Date : DatetTime\n",
    "Age Bracket, Detected District : Category\n",
    "Gender, Detected Cit/State, State Code, Source 1/2/3, Contracted from which Patient (Suspected), Type of transmission,\n",
    "Notes, Current Status, State Patient Number : string\n",
    "'''\n"
   ]
  },
  {
   "cell_type": "code",
   "execution_count": 7,
   "metadata": {},
   "outputs": [
    {
     "name": "stdout",
     "output_type": "stream",
     "text": [
      "<class 'pandas.core.frame.DataFrame'>\n",
      "RangeIndex: 339261 entries, 0 to 339260\n",
      "Data columns (total 20 columns):\n",
      " #   Column                                     Non-Null Count   Dtype         \n",
      "---  ------                                     --------------   -----         \n",
      " 0   Patient Number                             99793 non-null   float64       \n",
      " 1   State Patient Number                       114173 non-null  string        \n",
      " 2   Date Announced                             339257 non-null  datetime64[ns]\n",
      " 3   Age Bracket                                114676 non-null  category      \n",
      " 4   Gender                                     117200 non-null  string        \n",
      " 5   Detected City                              14110 non-null   string        \n",
      " 6   Detected District                          328782 non-null  category      \n",
      " 7   Detected State                             339235 non-null  string        \n",
      " 8   State code                                 339232 non-null  string        \n",
      " 9   Current Status                             339244 non-null  string        \n",
      " 10  Notes                                      114888 non-null  string        \n",
      " 11  Contracted from which Patient (Suspected)  1938 non-null    string        \n",
      " 12  Nationality                                1554 non-null    string        \n",
      " 13  Type of transmission                       2990 non-null    string        \n",
      " 14  Status Change Date                         27780 non-null   datetime64[ns]\n",
      " 15  Source_1                                   335434 non-null  string        \n",
      " 16  Source_2                                   7104 non-null    string        \n",
      " 17  Source_3                                   710 non-null     string        \n",
      " 18  Num Cases                                  339240 non-null  float64       \n",
      " 19  Entry_ID                                   339257 non-null  float64       \n",
      "dtypes: category(2), datetime64[ns](2), float64(3), string(13)\n",
      "memory usage: 47.9 MB\n"
     ]
    }
   ],
   "source": [
    "# Verify the datatypes"
   ]
  },
  {
   "cell_type": "markdown",
   "metadata": {},
   "source": [
    "### Handling Missing Data "
   ]
  },
  {
   "cell_type": "code",
   "execution_count": 8,
   "metadata": {},
   "outputs": [],
   "source": [
    "def check_miss(data):\n",
    "    '''\n",
    "    data: requires a DataFrame object. \n",
    "    ---\n",
    "    returns: A DataFrame with details about missing values\n",
    "    '''\n",
    "    cnull=[sum(data[y].isnull()) for y in data.columns]\n",
    "    miss=pd.DataFrame({'Col_name':data.columns,'Null Values':\n",
    "                        [any(data[x].isnull()) for x in data.columns],\n",
    "                    'Count_Nulls':cnull,\n",
    "                    'Percentage_Nulls':list((np.array(cnull)*100)/data.shape[0]),\n",
    "                    'MValues':cnull\n",
    "                      })\n",
    "    return miss.sort_values(by='MValues',ascending=False)"
   ]
  },
  {
   "cell_type": "code",
   "execution_count": 9,
   "metadata": {},
   "outputs": [
    {
     "data": {
      "text/html": [
       "<div>\n",
       "<style scoped>\n",
       "    .dataframe tbody tr th:only-of-type {\n",
       "        vertical-align: middle;\n",
       "    }\n",
       "\n",
       "    .dataframe tbody tr th {\n",
       "        vertical-align: top;\n",
       "    }\n",
       "\n",
       "    .dataframe thead th {\n",
       "        text-align: right;\n",
       "    }\n",
       "</style>\n",
       "<table border=\"1\" class=\"dataframe\">\n",
       "  <thead>\n",
       "    <tr style=\"text-align: right;\">\n",
       "      <th></th>\n",
       "      <th>Col_name</th>\n",
       "      <th>Null Values</th>\n",
       "      <th>Count_Nulls</th>\n",
       "      <th>Percentage_Nulls</th>\n",
       "      <th>MValues</th>\n",
       "    </tr>\n",
       "  </thead>\n",
       "  <tbody>\n",
       "    <tr>\n",
       "      <th>17</th>\n",
       "      <td>Source_3</td>\n",
       "      <td>True</td>\n",
       "      <td>338551</td>\n",
       "      <td>99.790722</td>\n",
       "      <td>338551</td>\n",
       "    </tr>\n",
       "    <tr>\n",
       "      <th>12</th>\n",
       "      <td>Nationality</td>\n",
       "      <td>True</td>\n",
       "      <td>337707</td>\n",
       "      <td>99.541946</td>\n",
       "      <td>337707</td>\n",
       "    </tr>\n",
       "    <tr>\n",
       "      <th>11</th>\n",
       "      <td>Contracted from which Patient (Suspected)</td>\n",
       "      <td>True</td>\n",
       "      <td>337323</td>\n",
       "      <td>99.428758</td>\n",
       "      <td>337323</td>\n",
       "    </tr>\n",
       "    <tr>\n",
       "      <th>13</th>\n",
       "      <td>Type of transmission</td>\n",
       "      <td>True</td>\n",
       "      <td>336271</td>\n",
       "      <td>99.118673</td>\n",
       "      <td>336271</td>\n",
       "    </tr>\n",
       "    <tr>\n",
       "      <th>16</th>\n",
       "      <td>Source_2</td>\n",
       "      <td>True</td>\n",
       "      <td>332157</td>\n",
       "      <td>97.906037</td>\n",
       "      <td>332157</td>\n",
       "    </tr>\n",
       "    <tr>\n",
       "      <th>5</th>\n",
       "      <td>Detected City</td>\n",
       "      <td>True</td>\n",
       "      <td>325151</td>\n",
       "      <td>95.840960</td>\n",
       "      <td>325151</td>\n",
       "    </tr>\n",
       "    <tr>\n",
       "      <th>14</th>\n",
       "      <td>Status Change Date</td>\n",
       "      <td>True</td>\n",
       "      <td>311481</td>\n",
       "      <td>91.811614</td>\n",
       "      <td>311481</td>\n",
       "    </tr>\n",
       "    <tr>\n",
       "      <th>0</th>\n",
       "      <td>Patient Number</td>\n",
       "      <td>True</td>\n",
       "      <td>239468</td>\n",
       "      <td>70.585184</td>\n",
       "      <td>239468</td>\n",
       "    </tr>\n",
       "    <tr>\n",
       "      <th>1</th>\n",
       "      <td>State Patient Number</td>\n",
       "      <td>True</td>\n",
       "      <td>225088</td>\n",
       "      <td>66.346559</td>\n",
       "      <td>225088</td>\n",
       "    </tr>\n",
       "    <tr>\n",
       "      <th>3</th>\n",
       "      <td>Age Bracket</td>\n",
       "      <td>True</td>\n",
       "      <td>224585</td>\n",
       "      <td>66.198296</td>\n",
       "      <td>224585</td>\n",
       "    </tr>\n",
       "    <tr>\n",
       "      <th>10</th>\n",
       "      <td>Notes</td>\n",
       "      <td>True</td>\n",
       "      <td>224373</td>\n",
       "      <td>66.135807</td>\n",
       "      <td>224373</td>\n",
       "    </tr>\n",
       "    <tr>\n",
       "      <th>4</th>\n",
       "      <td>Gender</td>\n",
       "      <td>True</td>\n",
       "      <td>222061</td>\n",
       "      <td>65.454326</td>\n",
       "      <td>222061</td>\n",
       "    </tr>\n",
       "    <tr>\n",
       "      <th>6</th>\n",
       "      <td>Detected District</td>\n",
       "      <td>True</td>\n",
       "      <td>10479</td>\n",
       "      <td>3.088772</td>\n",
       "      <td>10479</td>\n",
       "    </tr>\n",
       "    <tr>\n",
       "      <th>15</th>\n",
       "      <td>Source_1</td>\n",
       "      <td>True</td>\n",
       "      <td>3827</td>\n",
       "      <td>1.128040</td>\n",
       "      <td>3827</td>\n",
       "    </tr>\n",
       "    <tr>\n",
       "      <th>8</th>\n",
       "      <td>State code</td>\n",
       "      <td>True</td>\n",
       "      <td>29</td>\n",
       "      <td>0.008548</td>\n",
       "      <td>29</td>\n",
       "    </tr>\n",
       "    <tr>\n",
       "      <th>7</th>\n",
       "      <td>Detected State</td>\n",
       "      <td>True</td>\n",
       "      <td>26</td>\n",
       "      <td>0.007664</td>\n",
       "      <td>26</td>\n",
       "    </tr>\n",
       "    <tr>\n",
       "      <th>18</th>\n",
       "      <td>Num Cases</td>\n",
       "      <td>True</td>\n",
       "      <td>21</td>\n",
       "      <td>0.006190</td>\n",
       "      <td>21</td>\n",
       "    </tr>\n",
       "    <tr>\n",
       "      <th>9</th>\n",
       "      <td>Current Status</td>\n",
       "      <td>True</td>\n",
       "      <td>17</td>\n",
       "      <td>0.005011</td>\n",
       "      <td>17</td>\n",
       "    </tr>\n",
       "    <tr>\n",
       "      <th>2</th>\n",
       "      <td>Date Announced</td>\n",
       "      <td>True</td>\n",
       "      <td>4</td>\n",
       "      <td>0.001179</td>\n",
       "      <td>4</td>\n",
       "    </tr>\n",
       "    <tr>\n",
       "      <th>19</th>\n",
       "      <td>Entry_ID</td>\n",
       "      <td>True</td>\n",
       "      <td>4</td>\n",
       "      <td>0.001179</td>\n",
       "      <td>4</td>\n",
       "    </tr>\n",
       "  </tbody>\n",
       "</table>\n",
       "</div>"
      ],
      "text/plain": [
       "                                     Col_name  Null Values  Count_Nulls  \\\n",
       "17                                   Source_3         True       338551   \n",
       "12                                Nationality         True       337707   \n",
       "11  Contracted from which Patient (Suspected)         True       337323   \n",
       "13                       Type of transmission         True       336271   \n",
       "16                                   Source_2         True       332157   \n",
       "5                               Detected City         True       325151   \n",
       "14                         Status Change Date         True       311481   \n",
       "0                              Patient Number         True       239468   \n",
       "1                        State Patient Number         True       225088   \n",
       "3                                 Age Bracket         True       224585   \n",
       "10                                      Notes         True       224373   \n",
       "4                                      Gender         True       222061   \n",
       "6                           Detected District         True        10479   \n",
       "15                                   Source_1         True         3827   \n",
       "8                                  State code         True           29   \n",
       "7                              Detected State         True           26   \n",
       "18                                  Num Cases         True           21   \n",
       "9                              Current Status         True           17   \n",
       "2                              Date Announced         True            4   \n",
       "19                                   Entry_ID         True            4   \n",
       "\n",
       "    Percentage_Nulls  MValues  \n",
       "17         99.790722   338551  \n",
       "12         99.541946   337707  \n",
       "11         99.428758   337323  \n",
       "13         99.118673   336271  \n",
       "16         97.906037   332157  \n",
       "5          95.840960   325151  \n",
       "14         91.811614   311481  \n",
       "0          70.585184   239468  \n",
       "1          66.346559   225088  \n",
       "3          66.198296   224585  \n",
       "10         66.135807   224373  \n",
       "4          65.454326   222061  \n",
       "6           3.088772    10479  \n",
       "15          1.128040     3827  \n",
       "8           0.008548       29  \n",
       "7           0.007664       26  \n",
       "18          0.006190       21  \n",
       "9           0.005011       17  \n",
       "2           0.001179        4  \n",
       "19          0.001179        4  "
      ]
     },
     "execution_count": 9,
     "metadata": {},
     "output_type": "execute_result"
    }
   ],
   "source": [
    "# Find the missing values percentage in data for each column"
   ]
  },
  {
   "cell_type": "code",
   "execution_count": 10,
   "metadata": {},
   "outputs": [],
   "source": [
    "# Let's drop Source_3, Source_2, Nationality, Contracted from which Patient (Suspected)\t\n",
    "# As they have alot of missing data"
   ]
  },
  {
   "cell_type": "markdown",
   "metadata": {},
   "source": [
    "## Individual Records"
   ]
  },
  {
   "cell_type": "markdown",
   "metadata": {},
   "source": [
    "### Cleaning"
   ]
  },
  {
   "cell_type": "markdown",
   "metadata": {},
   "source": [
    "According to data dictionary, we know that the data has bulk entries as well as individual entries:"
   ]
  },
  {
   "cell_type": "markdown",
   "metadata": {},
   "source": [
    "- If the value is == 1 : The row indicates an individual record (age and gender info are subject to state bulletin releases).\n"
   ]
  },
  {
   "cell_type": "code",
   "execution_count": 13,
   "metadata": {},
   "outputs": [
    {
     "name": "stdout",
     "output_type": "stream",
     "text": [
      "Number of invalid records: 0\n",
      "Original Shape:  (338477, 15)\n",
      "Updated Shape:  (338477, 15)\n"
     ]
    }
   ],
   "source": [
    "# According to the dataset information if the number of cases has a value of 0 then we ingore that record.\n",
    "# Print the number of invalid records\n",
    "# Let's drop this data\n",
    "# Print the original shape of data\n",
    "# Drop these invalid records\n",
    "# Print the updated shape of data"
   ]
  },
  {
   "cell_type": "code",
   "execution_count": 14,
   "metadata": {},
   "outputs": [],
   "source": [
    "# find the records with only 1 case i.e. Num Cases = 1"
   ]
  },
  {
   "cell_type": "code",
   "execution_count": 15,
   "metadata": {},
   "outputs": [
    {
     "name": "stdout",
     "output_type": "stream",
     "text": [
      "Number of individual records:  199355\n"
     ]
    }
   ],
   "source": [
    "# Print number of individual records"
   ]
  },
  {
   "cell_type": "code",
   "execution_count": 16,
   "metadata": {},
   "outputs": [],
   "source": [
    "def findUniqueWithSet(data,lenset):\n",
    "    \"\"\"\n",
    "    data: dataframe\n",
    "    lenset: threshold for number of unique items\n",
    "    \"\"\"\n",
    "    unq=0\n",
    "    unq_data={'Col_Name':[],'Unique_Counts':[],'U_Set':[]}\n",
    "    for i in data.columns:\n",
    "        ul=len(data[i].unique())\n",
    "        unq_data['Col_Name'].append(i)\n",
    "        unq_data['Unique_Counts'].append(ul)\n",
    "        if ul>=lenset:\n",
    "            unq_data['U_Set'].append('')\n",
    "        else:\n",
    "            unq_data['U_Set'].append(data[i].unique())\n",
    "    return pd.DataFrame(unq_data).sort_values(by='Unique_Counts',ascending=False)"
   ]
  },
  {
   "cell_type": "code",
   "execution_count": 17,
   "metadata": {},
   "outputs": [],
   "source": [
    "# Fnd the unique with set for first 10 columns"
   ]
  },
  {
   "cell_type": "code",
   "execution_count": 18,
   "metadata": {
    "scrolled": false
   },
   "outputs": [
    {
     "data": {
      "text/html": [
       "<div>\n",
       "<style scoped>\n",
       "    .dataframe tbody tr th:only-of-type {\n",
       "        vertical-align: middle;\n",
       "    }\n",
       "\n",
       "    .dataframe tbody tr th {\n",
       "        vertical-align: top;\n",
       "    }\n",
       "\n",
       "    .dataframe thead th {\n",
       "        text-align: right;\n",
       "    }\n",
       "</style>\n",
       "<table border=\"1\" class=\"dataframe\">\n",
       "  <thead>\n",
       "    <tr style=\"text-align: right;\">\n",
       "      <th></th>\n",
       "      <th>Col_Name</th>\n",
       "      <th>Unique_Counts</th>\n",
       "      <th>U_Set</th>\n",
       "    </tr>\n",
       "  </thead>\n",
       "  <tbody>\n",
       "    <tr>\n",
       "      <th>14</th>\n",
       "      <td>Entry_ID</td>\n",
       "      <td>177243</td>\n",
       "      <td></td>\n",
       "    </tr>\n",
       "    <tr>\n",
       "      <th>1</th>\n",
       "      <td>State Patient Number</td>\n",
       "      <td>85673</td>\n",
       "      <td></td>\n",
       "    </tr>\n",
       "    <tr>\n",
       "      <th>0</th>\n",
       "      <td>Patient Number</td>\n",
       "      <td>78751</td>\n",
       "      <td></td>\n",
       "    </tr>\n",
       "    <tr>\n",
       "      <th>10</th>\n",
       "      <td>Notes</td>\n",
       "      <td>11742</td>\n",
       "      <td></td>\n",
       "    </tr>\n",
       "    <tr>\n",
       "      <th>12</th>\n",
       "      <td>Source_1</td>\n",
       "      <td>6809</td>\n",
       "      <td></td>\n",
       "    </tr>\n",
       "    <tr>\n",
       "      <th>5</th>\n",
       "      <td>Detected City</td>\n",
       "      <td>2570</td>\n",
       "      <td></td>\n",
       "    </tr>\n",
       "    <tr>\n",
       "      <th>6</th>\n",
       "      <td>Detected District</td>\n",
       "      <td>782</td>\n",
       "      <td></td>\n",
       "    </tr>\n",
       "    <tr>\n",
       "      <th>3</th>\n",
       "      <td>Age Bracket</td>\n",
       "      <td>353</td>\n",
       "      <td></td>\n",
       "    </tr>\n",
       "    <tr>\n",
       "      <th>2</th>\n",
       "      <td>Date Announced</td>\n",
       "      <td>216</td>\n",
       "      <td></td>\n",
       "    </tr>\n",
       "    <tr>\n",
       "      <th>11</th>\n",
       "      <td>Status Change Date</td>\n",
       "      <td>56</td>\n",
       "      <td></td>\n",
       "    </tr>\n",
       "    <tr>\n",
       "      <th>7</th>\n",
       "      <td>Detected State</td>\n",
       "      <td>36</td>\n",
       "      <td></td>\n",
       "    </tr>\n",
       "    <tr>\n",
       "      <th>8</th>\n",
       "      <td>State code</td>\n",
       "      <td>36</td>\n",
       "      <td></td>\n",
       "    </tr>\n",
       "    <tr>\n",
       "      <th>4</th>\n",
       "      <td>Gender</td>\n",
       "      <td>7</td>\n",
       "      <td>[F, &lt;NA&gt;, M, Non-Binary, M,, Femal e, M ]</td>\n",
       "    </tr>\n",
       "    <tr>\n",
       "      <th>9</th>\n",
       "      <td>Current Status</td>\n",
       "      <td>7</td>\n",
       "      <td>[Recovered, Hospitalized, Deceased, Migrated, ...</td>\n",
       "    </tr>\n",
       "    <tr>\n",
       "      <th>13</th>\n",
       "      <td>Num Cases</td>\n",
       "      <td>1</td>\n",
       "      <td>[1.0]</td>\n",
       "    </tr>\n",
       "  </tbody>\n",
       "</table>\n",
       "</div>"
      ],
      "text/plain": [
       "                Col_Name  Unique_Counts  \\\n",
       "14              Entry_ID         177243   \n",
       "1   State Patient Number          85673   \n",
       "0         Patient Number          78751   \n",
       "10                 Notes          11742   \n",
       "12              Source_1           6809   \n",
       "5          Detected City           2570   \n",
       "6      Detected District            782   \n",
       "3            Age Bracket            353   \n",
       "2         Date Announced            216   \n",
       "11    Status Change Date             56   \n",
       "7         Detected State             36   \n",
       "8             State code             36   \n",
       "4                 Gender              7   \n",
       "9         Current Status              7   \n",
       "13             Num Cases              1   \n",
       "\n",
       "                                                U_Set  \n",
       "14                                                     \n",
       "1                                                      \n",
       "0                                                      \n",
       "10                                                     \n",
       "12                                                     \n",
       "5                                                      \n",
       "6                                                      \n",
       "3                                                      \n",
       "2                                                      \n",
       "11                                                     \n",
       "7                                                      \n",
       "8                                                      \n",
       "4           [F, <NA>, M, Non-Binary, M,, Femal e, M ]  \n",
       "9   [Recovered, Hospitalized, Deceased, Migrated, ...  \n",
       "13                                              [1.0]  "
      ]
     },
     "execution_count": 18,
     "metadata": {},
     "output_type": "execute_result"
    }
   ],
   "source": []
  },
  {
   "cell_type": "code",
   "execution_count": 19,
   "metadata": {},
   "outputs": [
    {
     "name": "stdout",
     "output_type": "stream",
     "text": [
      "<StringArray>\n",
      "['F', <NA>, 'M', 'Non-Binary', 'M,', 'Femal e', 'M ']\n",
      "Length: 7, dtype: string\n"
     ]
    }
   ],
   "source": [
    "# Print the uniqueset of Gender"
   ]
  },
  {
   "cell_type": "code",
   "execution_count": 20,
   "metadata": {
    "scrolled": true
   },
   "outputs": [
    {
     "name": "stdout",
     "output_type": "stream",
     "text": [
      "<StringArray>\n",
      "[     'Recovered',   'Hospitalized',       'Deceased',       'Migrated',\n",
      " 'Migrated_Other',             <NA>, 'Migrated_other']\n",
      "Length: 7, dtype: string\n"
     ]
    }
   ],
   "source": [
    "# Print the unique set of Current Status"
   ]
  },
  {
   "cell_type": "markdown",
   "metadata": {},
   "source": [
    "As we can see, we have to clean the __Gender__ and __Current Status__ Column"
   ]
  },
  {
   "cell_type": "code",
   "execution_count": 21,
   "metadata": {},
   "outputs": [],
   "source": [
    "def clean_gender(i):\n",
    "    if pd.isna(i)==True:\n",
    "        return i\n",
    "    elif i=='F':\n",
    "        return 'Female'\n",
    "    elif i=='M':\n",
    "        return 'Male'\n",
    "    elif i=='Femal e':\n",
    "        return 'Female'\n",
    "    elif i.strip()=='M':\n",
    "        return 'Male'\n",
    "    elif i=='M,':\n",
    "        return 'Male'\n",
    "    else:\n",
    "        return i\n",
    "def clean_status(i):\n",
    "    if pd.isna(i):\n",
    "        return i\n",
    "    elif i.lower()=='migrated_other':\n",
    "        return 'Migrated'\n",
    "    else:\n",
    "        return i"
   ]
  },
  {
   "cell_type": "code",
   "execution_count": 22,
   "metadata": {},
   "outputs": [],
   "source": [
    "# Apply the cleaning functions to the Gender and Current Status columns\n",
    "pd.options.mode.chained_assignment=None # Suppress warning"
   ]
  },
  {
   "cell_type": "code",
   "execution_count": 23,
   "metadata": {},
   "outputs": [
    {
     "data": {
      "text/html": [
       "<div>\n",
       "<style scoped>\n",
       "    .dataframe tbody tr th:only-of-type {\n",
       "        vertical-align: middle;\n",
       "    }\n",
       "\n",
       "    .dataframe tbody tr th {\n",
       "        vertical-align: top;\n",
       "    }\n",
       "\n",
       "    .dataframe thead th {\n",
       "        text-align: right;\n",
       "    }\n",
       "</style>\n",
       "<table border=\"1\" class=\"dataframe\">\n",
       "  <thead>\n",
       "    <tr style=\"text-align: right;\">\n",
       "      <th></th>\n",
       "      <th>Col_Name</th>\n",
       "      <th>Unique_Counts</th>\n",
       "      <th>U_Set</th>\n",
       "    </tr>\n",
       "  </thead>\n",
       "  <tbody>\n",
       "    <tr>\n",
       "      <th>14</th>\n",
       "      <td>Entry_ID</td>\n",
       "      <td>177243</td>\n",
       "      <td></td>\n",
       "    </tr>\n",
       "    <tr>\n",
       "      <th>1</th>\n",
       "      <td>State Patient Number</td>\n",
       "      <td>85673</td>\n",
       "      <td></td>\n",
       "    </tr>\n",
       "    <tr>\n",
       "      <th>0</th>\n",
       "      <td>Patient Number</td>\n",
       "      <td>78751</td>\n",
       "      <td></td>\n",
       "    </tr>\n",
       "    <tr>\n",
       "      <th>10</th>\n",
       "      <td>Notes</td>\n",
       "      <td>11742</td>\n",
       "      <td></td>\n",
       "    </tr>\n",
       "    <tr>\n",
       "      <th>12</th>\n",
       "      <td>Source_1</td>\n",
       "      <td>6809</td>\n",
       "      <td></td>\n",
       "    </tr>\n",
       "    <tr>\n",
       "      <th>5</th>\n",
       "      <td>Detected City</td>\n",
       "      <td>2570</td>\n",
       "      <td></td>\n",
       "    </tr>\n",
       "    <tr>\n",
       "      <th>6</th>\n",
       "      <td>Detected District</td>\n",
       "      <td>782</td>\n",
       "      <td></td>\n",
       "    </tr>\n",
       "    <tr>\n",
       "      <th>3</th>\n",
       "      <td>Age Bracket</td>\n",
       "      <td>353</td>\n",
       "      <td></td>\n",
       "    </tr>\n",
       "    <tr>\n",
       "      <th>2</th>\n",
       "      <td>Date Announced</td>\n",
       "      <td>216</td>\n",
       "      <td></td>\n",
       "    </tr>\n",
       "    <tr>\n",
       "      <th>11</th>\n",
       "      <td>Status Change Date</td>\n",
       "      <td>56</td>\n",
       "      <td></td>\n",
       "    </tr>\n",
       "    <tr>\n",
       "      <th>7</th>\n",
       "      <td>Detected State</td>\n",
       "      <td>36</td>\n",
       "      <td></td>\n",
       "    </tr>\n",
       "    <tr>\n",
       "      <th>8</th>\n",
       "      <td>State code</td>\n",
       "      <td>36</td>\n",
       "      <td></td>\n",
       "    </tr>\n",
       "    <tr>\n",
       "      <th>9</th>\n",
       "      <td>Current Status</td>\n",
       "      <td>5</td>\n",
       "      <td>[Recovered, Hospitalized, Deceased, Migrated, ...</td>\n",
       "    </tr>\n",
       "    <tr>\n",
       "      <th>4</th>\n",
       "      <td>Gender</td>\n",
       "      <td>4</td>\n",
       "      <td>[Female, &lt;NA&gt;, Male, Non-Binary]</td>\n",
       "    </tr>\n",
       "    <tr>\n",
       "      <th>13</th>\n",
       "      <td>Num Cases</td>\n",
       "      <td>1</td>\n",
       "      <td>[1.0]</td>\n",
       "    </tr>\n",
       "  </tbody>\n",
       "</table>\n",
       "</div>"
      ],
      "text/plain": [
       "                Col_Name  Unique_Counts  \\\n",
       "14              Entry_ID         177243   \n",
       "1   State Patient Number          85673   \n",
       "0         Patient Number          78751   \n",
       "10                 Notes          11742   \n",
       "12              Source_1           6809   \n",
       "5          Detected City           2570   \n",
       "6      Detected District            782   \n",
       "3            Age Bracket            353   \n",
       "2         Date Announced            216   \n",
       "11    Status Change Date             56   \n",
       "7         Detected State             36   \n",
       "8             State code             36   \n",
       "9         Current Status              5   \n",
       "4                 Gender              4   \n",
       "13             Num Cases              1   \n",
       "\n",
       "                                                U_Set  \n",
       "14                                                     \n",
       "1                                                      \n",
       "0                                                      \n",
       "10                                                     \n",
       "12                                                     \n",
       "5                                                      \n",
       "6                                                      \n",
       "3                                                      \n",
       "2                                                      \n",
       "11                                                     \n",
       "7                                                      \n",
       "8                                                      \n",
       "9   [Recovered, Hospitalized, Deceased, Migrated, ...  \n",
       "4                    [Female, <NA>, Male, Non-Binary]  \n",
       "13                                              [1.0]  "
      ]
     },
     "execution_count": 23,
     "metadata": {},
     "output_type": "execute_result"
    }
   ],
   "source": [
    "# Reverify using the unique set of first 10 columns"
   ]
  },
  {
   "cell_type": "code",
   "execution_count": 24,
   "metadata": {},
   "outputs": [
    {
     "name": "stdout",
     "output_type": "stream",
     "text": [
      "['Recovered' 'Hospitalized' 'Deceased' 'Migrated' <NA>]\n"
     ]
    }
   ],
   "source": [
    "# Print the unique set of Current Status"
   ]
  },
  {
   "cell_type": "code",
   "execution_count": 25,
   "metadata": {},
   "outputs": [
    {
     "name": "stdout",
     "output_type": "stream",
     "text": [
      "['Female' <NA> 'Male' 'Non-Binary']\n"
     ]
    }
   ],
   "source": [
    "# Print the unique set of Gender"
   ]
  },
  {
   "cell_type": "markdown",
   "metadata": {},
   "source": [
    "### Manipulation"
   ]
  },
  {
   "cell_type": "markdown",
   "metadata": {},
   "source": [
    "After cleaning we can now manipulate the data to get some insights:"
   ]
  },
  {
   "cell_type": "code",
   "execution_count": 26,
   "metadata": {},
   "outputs": [
    {
     "data": {
      "text/html": [
       "<div>\n",
       "<style scoped>\n",
       "    .dataframe tbody tr th:only-of-type {\n",
       "        vertical-align: middle;\n",
       "    }\n",
       "\n",
       "    .dataframe tbody tr th {\n",
       "        vertical-align: top;\n",
       "    }\n",
       "\n",
       "    .dataframe thead th {\n",
       "        text-align: right;\n",
       "    }\n",
       "</style>\n",
       "<table border=\"1\" class=\"dataframe\">\n",
       "  <thead>\n",
       "    <tr style=\"text-align: right;\">\n",
       "      <th></th>\n",
       "      <th>Date Announced</th>\n",
       "      <th>Age Bracket</th>\n",
       "      <th>Gender</th>\n",
       "      <th>Detected City</th>\n",
       "      <th>Detected District</th>\n",
       "      <th>State code</th>\n",
       "      <th>Current Status</th>\n",
       "      <th>Status Change Date</th>\n",
       "      <th>Source_1</th>\n",
       "      <th>Num Cases</th>\n",
       "    </tr>\n",
       "  </thead>\n",
       "  <tbody>\n",
       "    <tr>\n",
       "      <th>0</th>\n",
       "      <td>2020-01-30</td>\n",
       "      <td>20</td>\n",
       "      <td>Female</td>\n",
       "      <td>Thrissur</td>\n",
       "      <td>Thrissur</td>\n",
       "      <td>KL</td>\n",
       "      <td>Recovered</td>\n",
       "      <td>2020-02-14</td>\n",
       "      <td>https://twitter.com/vijayanpinarayi/status/122...</td>\n",
       "      <td>1.0</td>\n",
       "    </tr>\n",
       "    <tr>\n",
       "      <th>1</th>\n",
       "      <td>2020-02-02</td>\n",
       "      <td>NaN</td>\n",
       "      <td>&lt;NA&gt;</td>\n",
       "      <td>Alappuzha</td>\n",
       "      <td>Alappuzha</td>\n",
       "      <td>KL</td>\n",
       "      <td>Recovered</td>\n",
       "      <td>2020-02-14</td>\n",
       "      <td>https://www.indiatoday.in/india/story/kerala-r...</td>\n",
       "      <td>1.0</td>\n",
       "    </tr>\n",
       "    <tr>\n",
       "      <th>2</th>\n",
       "      <td>2020-02-03</td>\n",
       "      <td>NaN</td>\n",
       "      <td>&lt;NA&gt;</td>\n",
       "      <td>Kasaragod</td>\n",
       "      <td>Kasaragod</td>\n",
       "      <td>KL</td>\n",
       "      <td>Recovered</td>\n",
       "      <td>2020-02-14</td>\n",
       "      <td>https://www.indiatoday.in/india/story/kerala-n...</td>\n",
       "      <td>1.0</td>\n",
       "    </tr>\n",
       "    <tr>\n",
       "      <th>3</th>\n",
       "      <td>2020-03-02</td>\n",
       "      <td>45</td>\n",
       "      <td>Male</td>\n",
       "      <td>East Delhi (Mayur Vihar)</td>\n",
       "      <td>East Delhi</td>\n",
       "      <td>DL</td>\n",
       "      <td>Recovered</td>\n",
       "      <td>2020-03-15</td>\n",
       "      <td>https://www.indiatoday.in/india/story/not-a-ja...</td>\n",
       "      <td>1.0</td>\n",
       "    </tr>\n",
       "    <tr>\n",
       "      <th>4</th>\n",
       "      <td>2020-03-02</td>\n",
       "      <td>24</td>\n",
       "      <td>Male</td>\n",
       "      <td>Hyderabad</td>\n",
       "      <td>Hyderabad</td>\n",
       "      <td>TG</td>\n",
       "      <td>Recovered</td>\n",
       "      <td>2020-03-02</td>\n",
       "      <td>https://www.deccanherald.com/national/south/qu...</td>\n",
       "      <td>1.0</td>\n",
       "    </tr>\n",
       "  </tbody>\n",
       "</table>\n",
       "</div>"
      ],
      "text/plain": [
       "  Date Announced Age Bracket  Gender             Detected City  \\\n",
       "0     2020-01-30          20  Female                  Thrissur   \n",
       "1     2020-02-02         NaN    <NA>                 Alappuzha   \n",
       "2     2020-02-03         NaN    <NA>                 Kasaragod   \n",
       "3     2020-03-02          45    Male  East Delhi (Mayur Vihar)   \n",
       "4     2020-03-02          24    Male                 Hyderabad   \n",
       "\n",
       "  Detected District State code Current Status Status Change Date  \\\n",
       "0          Thrissur         KL      Recovered         2020-02-14   \n",
       "1         Alappuzha         KL      Recovered         2020-02-14   \n",
       "2         Kasaragod         KL      Recovered         2020-02-14   \n",
       "3        East Delhi         DL      Recovered         2020-03-15   \n",
       "4         Hyderabad         TG      Recovered         2020-03-02   \n",
       "\n",
       "                                            Source_1  Num Cases  \n",
       "0  https://twitter.com/vijayanpinarayi/status/122...        1.0  \n",
       "1  https://www.indiatoday.in/india/story/kerala-r...        1.0  \n",
       "2  https://www.indiatoday.in/india/story/kerala-n...        1.0  \n",
       "3  https://www.indiatoday.in/india/story/not-a-ja...        1.0  \n",
       "4  https://www.deccanherald.com/national/south/qu...        1.0  "
      ]
     },
     "execution_count": 26,
     "metadata": {},
     "output_type": "execute_result"
    }
   ],
   "source": [
    "# Print first 5 rows of cleaned data with columns : ['Patient Number','State Patient Number',\n",
    "#                                                     'Entry_ID','Detected State','Notes']"
   ]
  },
  {
   "cell_type": "markdown",
   "metadata": {},
   "source": [
    "#### Average Age of the Patient"
   ]
  },
  {
   "cell_type": "code",
   "execution_count": 47,
   "metadata": {},
   "outputs": [
    {
     "ename": "ValueError",
     "evalue": "could not convert string to float: '28-35'",
     "output_type": "error",
     "traceback": [
      "\u001b[1;31m---------------------------------------------------------------------------\u001b[0m",
      "\u001b[1;31mValueError\u001b[0m                                Traceback (most recent call last)",
      "\u001b[1;32m<ipython-input-47-0000c80ed358>\u001b[0m in \u001b[0;36m<module>\u001b[1;34m\u001b[0m\n\u001b[0;32m      1\u001b[0m \u001b[1;33m\u001b[0m\u001b[0m\n\u001b[1;32m----> 2\u001b[1;33m \u001b[0mindividual_data\u001b[0m\u001b[1;33m[\u001b[0m\u001b[1;34m'Age Bracket'\u001b[0m\u001b[1;33m]\u001b[0m\u001b[1;33m=\u001b[0m\u001b[0mindividual_data\u001b[0m\u001b[1;33m[\u001b[0m\u001b[1;34m'Age Bracket'\u001b[0m\u001b[1;33m]\u001b[0m\u001b[1;33m.\u001b[0m\u001b[0mastype\u001b[0m\u001b[1;33m(\u001b[0m\u001b[0mnp\u001b[0m\u001b[1;33m.\u001b[0m\u001b[0mfloat\u001b[0m\u001b[1;33m)\u001b[0m\u001b[1;33m\u001b[0m\u001b[1;33m\u001b[0m\u001b[0m\n\u001b[0m",
      "\u001b[1;32m~\\Anaconda3\\lib\\site-packages\\pandas\\core\\generic.py\u001b[0m in \u001b[0;36mastype\u001b[1;34m(self, dtype, copy, errors)\u001b[0m\n\u001b[0;32m   5696\u001b[0m         \u001b[1;32melse\u001b[0m\u001b[1;33m:\u001b[0m\u001b[1;33m\u001b[0m\u001b[1;33m\u001b[0m\u001b[0m\n\u001b[0;32m   5697\u001b[0m             \u001b[1;31m# else, only a single dtype is given\u001b[0m\u001b[1;33m\u001b[0m\u001b[1;33m\u001b[0m\u001b[1;33m\u001b[0m\u001b[0m\n\u001b[1;32m-> 5698\u001b[1;33m             \u001b[0mnew_data\u001b[0m \u001b[1;33m=\u001b[0m \u001b[0mself\u001b[0m\u001b[1;33m.\u001b[0m\u001b[0m_data\u001b[0m\u001b[1;33m.\u001b[0m\u001b[0mastype\u001b[0m\u001b[1;33m(\u001b[0m\u001b[0mdtype\u001b[0m\u001b[1;33m=\u001b[0m\u001b[0mdtype\u001b[0m\u001b[1;33m,\u001b[0m \u001b[0mcopy\u001b[0m\u001b[1;33m=\u001b[0m\u001b[0mcopy\u001b[0m\u001b[1;33m,\u001b[0m \u001b[0merrors\u001b[0m\u001b[1;33m=\u001b[0m\u001b[0merrors\u001b[0m\u001b[1;33m)\u001b[0m\u001b[1;33m\u001b[0m\u001b[1;33m\u001b[0m\u001b[0m\n\u001b[0m\u001b[0;32m   5699\u001b[0m             \u001b[1;32mreturn\u001b[0m \u001b[0mself\u001b[0m\u001b[1;33m.\u001b[0m\u001b[0m_constructor\u001b[0m\u001b[1;33m(\u001b[0m\u001b[0mnew_data\u001b[0m\u001b[1;33m)\u001b[0m\u001b[1;33m.\u001b[0m\u001b[0m__finalize__\u001b[0m\u001b[1;33m(\u001b[0m\u001b[0mself\u001b[0m\u001b[1;33m)\u001b[0m\u001b[1;33m\u001b[0m\u001b[1;33m\u001b[0m\u001b[0m\n\u001b[0;32m   5700\u001b[0m \u001b[1;33m\u001b[0m\u001b[0m\n",
      "\u001b[1;32m~\\Anaconda3\\lib\\site-packages\\pandas\\core\\internals\\managers.py\u001b[0m in \u001b[0;36mastype\u001b[1;34m(self, dtype, copy, errors)\u001b[0m\n\u001b[0;32m    580\u001b[0m \u001b[1;33m\u001b[0m\u001b[0m\n\u001b[0;32m    581\u001b[0m     \u001b[1;32mdef\u001b[0m \u001b[0mastype\u001b[0m\u001b[1;33m(\u001b[0m\u001b[0mself\u001b[0m\u001b[1;33m,\u001b[0m \u001b[0mdtype\u001b[0m\u001b[1;33m,\u001b[0m \u001b[0mcopy\u001b[0m\u001b[1;33m:\u001b[0m \u001b[0mbool\u001b[0m \u001b[1;33m=\u001b[0m \u001b[1;32mFalse\u001b[0m\u001b[1;33m,\u001b[0m \u001b[0merrors\u001b[0m\u001b[1;33m:\u001b[0m \u001b[0mstr\u001b[0m \u001b[1;33m=\u001b[0m \u001b[1;34m\"raise\"\u001b[0m\u001b[1;33m)\u001b[0m\u001b[1;33m:\u001b[0m\u001b[1;33m\u001b[0m\u001b[1;33m\u001b[0m\u001b[0m\n\u001b[1;32m--> 582\u001b[1;33m         \u001b[1;32mreturn\u001b[0m \u001b[0mself\u001b[0m\u001b[1;33m.\u001b[0m\u001b[0mapply\u001b[0m\u001b[1;33m(\u001b[0m\u001b[1;34m\"astype\"\u001b[0m\u001b[1;33m,\u001b[0m \u001b[0mdtype\u001b[0m\u001b[1;33m=\u001b[0m\u001b[0mdtype\u001b[0m\u001b[1;33m,\u001b[0m \u001b[0mcopy\u001b[0m\u001b[1;33m=\u001b[0m\u001b[0mcopy\u001b[0m\u001b[1;33m,\u001b[0m \u001b[0merrors\u001b[0m\u001b[1;33m=\u001b[0m\u001b[0merrors\u001b[0m\u001b[1;33m)\u001b[0m\u001b[1;33m\u001b[0m\u001b[1;33m\u001b[0m\u001b[0m\n\u001b[0m\u001b[0;32m    583\u001b[0m \u001b[1;33m\u001b[0m\u001b[0m\n\u001b[0;32m    584\u001b[0m     \u001b[1;32mdef\u001b[0m \u001b[0mconvert\u001b[0m\u001b[1;33m(\u001b[0m\u001b[0mself\u001b[0m\u001b[1;33m,\u001b[0m \u001b[1;33m**\u001b[0m\u001b[0mkwargs\u001b[0m\u001b[1;33m)\u001b[0m\u001b[1;33m:\u001b[0m\u001b[1;33m\u001b[0m\u001b[1;33m\u001b[0m\u001b[0m\n",
      "\u001b[1;32m~\\Anaconda3\\lib\\site-packages\\pandas\\core\\internals\\managers.py\u001b[0m in \u001b[0;36mapply\u001b[1;34m(self, f, filter, **kwargs)\u001b[0m\n\u001b[0;32m    440\u001b[0m                 \u001b[0mapplied\u001b[0m \u001b[1;33m=\u001b[0m \u001b[0mb\u001b[0m\u001b[1;33m.\u001b[0m\u001b[0mapply\u001b[0m\u001b[1;33m(\u001b[0m\u001b[0mf\u001b[0m\u001b[1;33m,\u001b[0m \u001b[1;33m**\u001b[0m\u001b[0mkwargs\u001b[0m\u001b[1;33m)\u001b[0m\u001b[1;33m\u001b[0m\u001b[1;33m\u001b[0m\u001b[0m\n\u001b[0;32m    441\u001b[0m             \u001b[1;32melse\u001b[0m\u001b[1;33m:\u001b[0m\u001b[1;33m\u001b[0m\u001b[1;33m\u001b[0m\u001b[0m\n\u001b[1;32m--> 442\u001b[1;33m                 \u001b[0mapplied\u001b[0m \u001b[1;33m=\u001b[0m \u001b[0mgetattr\u001b[0m\u001b[1;33m(\u001b[0m\u001b[0mb\u001b[0m\u001b[1;33m,\u001b[0m \u001b[0mf\u001b[0m\u001b[1;33m)\u001b[0m\u001b[1;33m(\u001b[0m\u001b[1;33m**\u001b[0m\u001b[0mkwargs\u001b[0m\u001b[1;33m)\u001b[0m\u001b[1;33m\u001b[0m\u001b[1;33m\u001b[0m\u001b[0m\n\u001b[0m\u001b[0;32m    443\u001b[0m             \u001b[0mresult_blocks\u001b[0m \u001b[1;33m=\u001b[0m \u001b[0m_extend_blocks\u001b[0m\u001b[1;33m(\u001b[0m\u001b[0mapplied\u001b[0m\u001b[1;33m,\u001b[0m \u001b[0mresult_blocks\u001b[0m\u001b[1;33m)\u001b[0m\u001b[1;33m\u001b[0m\u001b[1;33m\u001b[0m\u001b[0m\n\u001b[0;32m    444\u001b[0m \u001b[1;33m\u001b[0m\u001b[0m\n",
      "\u001b[1;32m~\\Anaconda3\\lib\\site-packages\\pandas\\core\\internals\\blocks.py\u001b[0m in \u001b[0;36mastype\u001b[1;34m(self, dtype, copy, errors)\u001b[0m\n\u001b[0;32m    605\u001b[0m         \u001b[1;32mif\u001b[0m \u001b[0mself\u001b[0m\u001b[1;33m.\u001b[0m\u001b[0mis_extension\u001b[0m\u001b[1;33m:\u001b[0m\u001b[1;33m\u001b[0m\u001b[1;33m\u001b[0m\u001b[0m\n\u001b[0;32m    606\u001b[0m             \u001b[1;31m# TODO: Should we try/except this astype?\u001b[0m\u001b[1;33m\u001b[0m\u001b[1;33m\u001b[0m\u001b[1;33m\u001b[0m\u001b[0m\n\u001b[1;32m--> 607\u001b[1;33m             \u001b[0mvalues\u001b[0m \u001b[1;33m=\u001b[0m \u001b[0mself\u001b[0m\u001b[1;33m.\u001b[0m\u001b[0mvalues\u001b[0m\u001b[1;33m.\u001b[0m\u001b[0mastype\u001b[0m\u001b[1;33m(\u001b[0m\u001b[0mdtype\u001b[0m\u001b[1;33m)\u001b[0m\u001b[1;33m\u001b[0m\u001b[1;33m\u001b[0m\u001b[0m\n\u001b[0m\u001b[0;32m    608\u001b[0m         \u001b[1;32melse\u001b[0m\u001b[1;33m:\u001b[0m\u001b[1;33m\u001b[0m\u001b[1;33m\u001b[0m\u001b[0m\n\u001b[0;32m    609\u001b[0m             \u001b[1;32mif\u001b[0m \u001b[0missubclass\u001b[0m\u001b[1;33m(\u001b[0m\u001b[0mdtype\u001b[0m\u001b[1;33m.\u001b[0m\u001b[0mtype\u001b[0m\u001b[1;33m,\u001b[0m \u001b[0mstr\u001b[0m\u001b[1;33m)\u001b[0m\u001b[1;33m:\u001b[0m\u001b[1;33m\u001b[0m\u001b[1;33m\u001b[0m\u001b[0m\n",
      "\u001b[1;32m~\\Anaconda3\\lib\\site-packages\\pandas\\core\\arrays\\categorical.py\u001b[0m in \u001b[0;36mastype\u001b[1;34m(self, dtype, copy)\u001b[0m\n\u001b[0;32m    500\u001b[0m         \u001b[1;32mif\u001b[0m \u001b[0mis_integer_dtype\u001b[0m\u001b[1;33m(\u001b[0m\u001b[0mdtype\u001b[0m\u001b[1;33m)\u001b[0m \u001b[1;32mand\u001b[0m \u001b[0mself\u001b[0m\u001b[1;33m.\u001b[0m\u001b[0misna\u001b[0m\u001b[1;33m(\u001b[0m\u001b[1;33m)\u001b[0m\u001b[1;33m.\u001b[0m\u001b[0many\u001b[0m\u001b[1;33m(\u001b[0m\u001b[1;33m)\u001b[0m\u001b[1;33m:\u001b[0m\u001b[1;33m\u001b[0m\u001b[1;33m\u001b[0m\u001b[0m\n\u001b[0;32m    501\u001b[0m             \u001b[1;32mraise\u001b[0m \u001b[0mValueError\u001b[0m\u001b[1;33m(\u001b[0m\u001b[1;34m\"Cannot convert float NaN to integer\"\u001b[0m\u001b[1;33m)\u001b[0m\u001b[1;33m\u001b[0m\u001b[1;33m\u001b[0m\u001b[0m\n\u001b[1;32m--> 502\u001b[1;33m         \u001b[1;32mreturn\u001b[0m \u001b[0mnp\u001b[0m\u001b[1;33m.\u001b[0m\u001b[0marray\u001b[0m\u001b[1;33m(\u001b[0m\u001b[0mself\u001b[0m\u001b[1;33m,\u001b[0m \u001b[0mdtype\u001b[0m\u001b[1;33m=\u001b[0m\u001b[0mdtype\u001b[0m\u001b[1;33m,\u001b[0m \u001b[0mcopy\u001b[0m\u001b[1;33m=\u001b[0m\u001b[0mcopy\u001b[0m\u001b[1;33m)\u001b[0m\u001b[1;33m\u001b[0m\u001b[1;33m\u001b[0m\u001b[0m\n\u001b[0m\u001b[0;32m    503\u001b[0m \u001b[1;33m\u001b[0m\u001b[0m\n\u001b[0;32m    504\u001b[0m     \u001b[1;33m@\u001b[0m\u001b[0mcache_readonly\u001b[0m\u001b[1;33m\u001b[0m\u001b[1;33m\u001b[0m\u001b[0m\n",
      "\u001b[1;32m~\\Anaconda3\\lib\\site-packages\\pandas\\core\\arrays\\categorical.py\u001b[0m in \u001b[0;36m__array__\u001b[1;34m(self, dtype)\u001b[0m\n\u001b[0;32m   1284\u001b[0m         \u001b[0mret\u001b[0m \u001b[1;33m=\u001b[0m \u001b[0mtake_1d\u001b[0m\u001b[1;33m(\u001b[0m\u001b[0mself\u001b[0m\u001b[1;33m.\u001b[0m\u001b[0mcategories\u001b[0m\u001b[1;33m.\u001b[0m\u001b[0mvalues\u001b[0m\u001b[1;33m,\u001b[0m \u001b[0mself\u001b[0m\u001b[1;33m.\u001b[0m\u001b[0m_codes\u001b[0m\u001b[1;33m)\u001b[0m\u001b[1;33m\u001b[0m\u001b[1;33m\u001b[0m\u001b[0m\n\u001b[0;32m   1285\u001b[0m         \u001b[1;32mif\u001b[0m \u001b[0mdtype\u001b[0m \u001b[1;32mand\u001b[0m \u001b[1;32mnot\u001b[0m \u001b[0mis_dtype_equal\u001b[0m\u001b[1;33m(\u001b[0m\u001b[0mdtype\u001b[0m\u001b[1;33m,\u001b[0m \u001b[0mself\u001b[0m\u001b[1;33m.\u001b[0m\u001b[0mcategories\u001b[0m\u001b[1;33m.\u001b[0m\u001b[0mdtype\u001b[0m\u001b[1;33m)\u001b[0m\u001b[1;33m:\u001b[0m\u001b[1;33m\u001b[0m\u001b[1;33m\u001b[0m\u001b[0m\n\u001b[1;32m-> 1286\u001b[1;33m             \u001b[1;32mreturn\u001b[0m \u001b[0mnp\u001b[0m\u001b[1;33m.\u001b[0m\u001b[0masarray\u001b[0m\u001b[1;33m(\u001b[0m\u001b[0mret\u001b[0m\u001b[1;33m,\u001b[0m \u001b[0mdtype\u001b[0m\u001b[1;33m)\u001b[0m\u001b[1;33m\u001b[0m\u001b[1;33m\u001b[0m\u001b[0m\n\u001b[0m\u001b[0;32m   1287\u001b[0m         \u001b[1;32mif\u001b[0m \u001b[0mis_extension_array_dtype\u001b[0m\u001b[1;33m(\u001b[0m\u001b[0mret\u001b[0m\u001b[1;33m)\u001b[0m\u001b[1;33m:\u001b[0m\u001b[1;33m\u001b[0m\u001b[1;33m\u001b[0m\u001b[0m\n\u001b[0;32m   1288\u001b[0m             \u001b[1;31m# When we're a Categorical[ExtensionArray], like Interval,\u001b[0m\u001b[1;33m\u001b[0m\u001b[1;33m\u001b[0m\u001b[1;33m\u001b[0m\u001b[0m\n",
      "\u001b[1;32m~\\Anaconda3\\lib\\site-packages\\numpy\\core\\_asarray.py\u001b[0m in \u001b[0;36masarray\u001b[1;34m(a, dtype, order)\u001b[0m\n\u001b[0;32m     81\u001b[0m \u001b[1;33m\u001b[0m\u001b[0m\n\u001b[0;32m     82\u001b[0m     \"\"\"\n\u001b[1;32m---> 83\u001b[1;33m     \u001b[1;32mreturn\u001b[0m \u001b[0marray\u001b[0m\u001b[1;33m(\u001b[0m\u001b[0ma\u001b[0m\u001b[1;33m,\u001b[0m \u001b[0mdtype\u001b[0m\u001b[1;33m,\u001b[0m \u001b[0mcopy\u001b[0m\u001b[1;33m=\u001b[0m\u001b[1;32mFalse\u001b[0m\u001b[1;33m,\u001b[0m \u001b[0morder\u001b[0m\u001b[1;33m=\u001b[0m\u001b[0morder\u001b[0m\u001b[1;33m)\u001b[0m\u001b[1;33m\u001b[0m\u001b[1;33m\u001b[0m\u001b[0m\n\u001b[0m\u001b[0;32m     84\u001b[0m \u001b[1;33m\u001b[0m\u001b[0m\n\u001b[0;32m     85\u001b[0m \u001b[1;33m\u001b[0m\u001b[0m\n",
      "\u001b[1;31mValueError\u001b[0m: could not convert string to float: '28-35'"
     ]
    }
   ],
   "source": [
    "# Try to convert the Age Bracket to float"
   ]
  },
  {
   "cell_type": "markdown",
   "metadata": {},
   "source": [
    "We cannot directly find the average age of the person."
   ]
  },
  {
   "cell_type": "code",
   "execution_count": 27,
   "metadata": {
    "scrolled": false
   },
   "outputs": [
    {
     "name": "stdout",
     "output_type": "stream",
     "text": [
      "nan | 1.0 | 2.0 | 3.0 | 4.0 | 5.0 | 22 | 32 | 6.0 | 7.0 | 10.0 | 9.0 | 12.0 | 13.0 | 14.0 | 11.0 | 16.0 | 17.0 | 18.0 | 19.0 | 20.0 | 88 | 22.0 | 79.0 | 23.0 | 25.0 | 26.0 | 21.0 | 24.0 | 29.0 | 30.0 | 31.0 | 32.0 | 33.0 | 27.0 | 60.0 | 35.0 | 37.0 | 34.0 | 36.0 | 38.0 | 62.0 | 42.0 | 43.0 | 44.0 | 45.0 | 39.0 | 40.0 | 48.0 | 41.0 | 50.0 | 46.0 | 52.0 | 47.0 | 54.0 | 49.0 | 56.0 | 57.0 | 58.0 | 51.0 | 60.0 | 53.0 | 55.0 | 63.0 | 64.0 | 65.0 | 31 | 67.0 | 68.0 | 61.0 | 70.0 | 6 | 72.0 | 73.0 | 71.0 | 75.0 | 76.0 | 77.0 | 69.0 | 79.0 | 80.0 | 74.0 | 78.0 | 83.0 | 84.0 | 85.0 | 81.0 | 82.0 | 88.0 | 89.0 | 90.0 | 91.0 | 92.0 | 93.0 | 94.0 | 95.0 | 87.0 | 97.0 | 98.0 | 99.0 | 96.0 | 101.0 | 100.0 | 28.0 | 63.0 | 78 | 47 | 1.5 | 0.0 | 0.5 | 0.25 | 45 | 10 | 80 | 8.0 | 0.1 | 9.5 | 40.0 | 36 | 58.0 | 0.67 | 68 | 99.0 | 2.5 | 9 Months | 20.0 | 94.0 | 59.0 | 62.0 | 87.0 | 59 | 99 | 66.0 | 78.0 | 15.0 | 0.3 | 59.0 | 34 | 67 | 3.5 | 35 | 5 Months | 86.0 | 51.0 | 102 | 85.0 | 50.0 | 9 | 43 | 0.01 | 41 | 90.0 | 61 | 89 | 8 | 73 | 74.0 | 54.0 | 6.0 | 2.0 | 81.0 | 95.0 | 96 | 0.0 | 74 | 88.0 | 44.0 | 37.0 | 4.0 | 29.6 | 0.2 | 92 | 0.6 | 66 | 29 | 1.5 Months | 29.0 | 65 | 0.04 | 67.0 | 0.3 | 49.0 | 12 | 1 DAY | 86.0 | 77 | 22.0 | 49 | 1 | 5 months | 0.6 | 7 | 56 | 5.0 | 52.0 | 82 | 24.0 | 51 | 7.0 | 0.1 | 50 | 15 | 11.0 | 3 | 13.0 | 52 | 41.0 | 2.5 | 19 | 58 | 2 | 27.0 | 12.0 | 2.4 | 69.0 | 95 | 27 | 28 | 64.0 | 25.0 | 4.5 | 34.0 | 44 | 82.0 | 18.0 | 11 | 65.0 | 92.0 | 16 DAYS | 81 | 84 | 91.0 | 94 | 13 | 0.7 | 98 | 1.6 | 26 | 46 | 30 | 1.5 | 36.0 | 93.0 | 40 | 46.0 | 80.0 | 0.4 | 0.9 | 25 | 38.0 | 26.0 | 89.0 | 8.0 | 28.0 | 53 | 45.0 | 105 | 54 | 1.9 | 93 | 42.0 | 33.0 | 76.0 | 87 | 4 Months | 48 | 9 Month | 84.0 | 42 | 43.0 | 83.0 | 0 | 1.0 | 66.0 | 30.0 | 57 | 72.0 | 17 | 20 | 75.0 | 91 | 55.0 | 0.7 | 63 | 56.0 | 75 | 39 | 62 | 0.9 | 60 | 8 month | 14.0 | 23.0 | 31.0 | 71.0 | 24 | 0.2 | 6 Months | 0.01 | 79 | 57.0 | 77.0 | 64 | 71 | 85 | 55 | 35.0 | 68.0 | 18-28 | 19.0 | 10.0 | 33 | 47.0 | 5 | 15.0 | 83 | 14 | 23 | 32.0 | 28-35 | 86 | 54.9 | 90 | 48.0 | 53.0 | 73.0 | 21 | 70.0 | 37 | 2 Months | 69 | 72 | 96.0 | 61.0 | 0.33 | 21.0 | 0.5 | 39.0 | 70 | 0.67 | 76 | 3.0 | 38 | 9.0 | 100 | 0.8 | 16 | 4 | 97 | 16.0 | 17.0 | 0.05 | 18\n"
     ]
    }
   ],
   "source": [
    "# find the all unique value in Age Bracket and print them separated by pipe)(|)"
   ]
  },
  {
   "cell_type": "markdown",
   "metadata": {},
   "source": [
    "Age of the patient in brackets, days, months, and years. we have to:\n",
    "- Convert days into years\n",
    "- Convert months into years\n",
    "- Find average of bracket"
   ]
  },
  {
   "cell_type": "code",
   "execution_count": 28,
   "metadata": {},
   "outputs": [],
   "source": [
    "# Changing age function\n",
    "def change_age(i):\n",
    "    if pd.isna(i)==True:\n",
    "        return i\n",
    "    elif type(i)==float:\n",
    "        return i\n",
    "    elif len(i.split(' '))==2:\n",
    "        if i.lower().split(' ')[1]=='month' or i.lower().split(' ')[1]=='months':\n",
    "            return float(i.split()[0])/12\n",
    "        elif i.lower().split(' ')[1]=='day' or i.lower().split(' ')[1]=='days':\n",
    "            return float(i.split()[0])/365.2425 # 1 year is equal to 365.2425 days\n",
    "    elif len(i.split('-'))==2:\n",
    "        return (float(i.split('-')[0])+float(i.split('-')[1]))/2\n",
    "    elif i=='s':\n",
    "        return 0\n",
    "    else:\n",
    "        return float(i)"
   ]
  },
  {
   "cell_type": "code",
   "execution_count": 29,
   "metadata": {},
   "outputs": [],
   "source": [
    "# Apply the functions over the Age Bracket"
   ]
  },
  {
   "cell_type": "code",
   "execution_count": 30,
   "metadata": {},
   "outputs": [],
   "source": [
    "# Find the average age"
   ]
  },
  {
   "cell_type": "code",
   "execution_count": 31,
   "metadata": {},
   "outputs": [
    {
     "name": "stdout",
     "output_type": "stream",
     "text": [
      "Average age of the patient: 39.48339563633978\n"
     ]
    }
   ],
   "source": [
    "# Print the average age of the patient"
   ]
  },
  {
   "cell_type": "code",
   "execution_count": 32,
   "metadata": {},
   "outputs": [],
   "source": [
    "# Individual Gender counts"
   ]
  },
  {
   "cell_type": "code",
   "execution_count": 33,
   "metadata": {},
   "outputs": [
    {
     "data": {
      "text/plain": [
       "<matplotlib.axes._subplots.AxesSubplot at 0x1c353ca0dc0>"
      ]
     },
     "execution_count": 33,
     "metadata": {},
     "output_type": "execute_result"
    },
    {
     "data": {
      "image/png": "[encoded data removed]",
      "text/plain": [
       "<Figure size 432x288 with 1 Axes>"
      ]
     },
     "metadata": {
      "needs_background": "light"
     },
     "output_type": "display_data"
    }
   ],
   "source": [
    "# Plot a bar plot for gender counts"
   ]
  },
  {
   "cell_type": "code",
   "execution_count": 34,
   "metadata": {},
   "outputs": [
    {
     "data": {
      "text/plain": [
       "array([<matplotlib.axes._subplots.AxesSubplot object at 0x000001C354C641C0>],\n",
       "      dtype=object)"
      ]
     },
     "execution_count": 34,
     "metadata": {},
     "output_type": "execute_result"
    },
    {
     "data": {
      "image/png": "[encoded data removed]",
      "text/plain": [
       "<Figure size 432x288 with 1 Axes>"
      ]
     },
     "metadata": {},
     "output_type": "display_data"
    }
   ],
   "source": [
    "# Individual Current Status\n",
    "# Plot a pie chart for the current status"
   ]
  },
  {
   "cell_type": "code",
   "execution_count": 35,
   "metadata": {},
   "outputs": [
    {
     "data": {
      "text/plain": [
       "<matplotlib.axes._subplots.AxesSubplot at 0x1c34a981f70>"
      ]
     },
     "execution_count": 35,
     "metadata": {},
     "output_type": "execute_result"
    },
    {
     "data": {
      "image/png": "[encoded data removed]",
      "text/plain": [
       "<Figure size 432x288 with 1 Axes>"
      ]
     },
     "metadata": {
      "needs_background": "light"
     },
     "output_type": "display_data"
    }
   ],
   "source": [
    "# Group the data by state and find the individual counts for each state\n",
    "# Plot a bar chart for cases for each state"
   ]
  },
  {
   "cell_type": "code",
   "execution_count": 36,
   "metadata": {},
   "outputs": [
    {
     "data": {
      "text/html": [
       "<div>\n",
       "<style scoped>\n",
       "    .dataframe tbody tr th:only-of-type {\n",
       "        vertical-align: middle;\n",
       "    }\n",
       "\n",
       "    .dataframe tbody tr th {\n",
       "        vertical-align: top;\n",
       "    }\n",
       "\n",
       "    .dataframe thead th {\n",
       "        text-align: right;\n",
       "    }\n",
       "</style>\n",
       "<table border=\"1\" class=\"dataframe\">\n",
       "  <thead>\n",
       "    <tr style=\"text-align: right;\">\n",
       "      <th></th>\n",
       "      <th>Num Cases</th>\n",
       "    </tr>\n",
       "    <tr>\n",
       "      <th>Detected State</th>\n",
       "      <th></th>\n",
       "    </tr>\n",
       "  </thead>\n",
       "  <tbody>\n",
       "    <tr>\n",
       "      <th>Karnataka</th>\n",
       "      <td>104551.0</td>\n",
       "    </tr>\n",
       "    <tr>\n",
       "      <th>Tamil Nadu</th>\n",
       "      <td>23933.0</td>\n",
       "    </tr>\n",
       "    <tr>\n",
       "      <th>Bihar</th>\n",
       "      <td>11010.0</td>\n",
       "    </tr>\n",
       "    <tr>\n",
       "      <th>Maharashtra</th>\n",
       "      <td>9298.0</td>\n",
       "    </tr>\n",
       "    <tr>\n",
       "      <th>Chandigarh</th>\n",
       "      <td>8244.0</td>\n",
       "    </tr>\n",
       "  </tbody>\n",
       "</table>\n",
       "</div>"
      ],
      "text/plain": [
       "                Num Cases\n",
       "Detected State           \n",
       "Karnataka        104551.0\n",
       "Tamil Nadu        23933.0\n",
       "Bihar             11010.0\n",
       "Maharashtra        9298.0\n",
       "Chandigarh         8244.0"
      ]
     },
     "execution_count": 36,
     "metadata": {},
     "output_type": "execute_result"
    }
   ],
   "source": [
    "# Top 5 states reporting individual records"
   ]
  },
  {
   "cell_type": "markdown",
   "metadata": {},
   "source": [
    "## Complete Data"
   ]
  },
  {
   "cell_type": "markdown",
   "metadata": {},
   "source": [
    "We just worked on individual data but this does not provide us the clear picture lets work on complete data."
   ]
  },
  {
   "cell_type": "markdown",
   "metadata": {},
   "source": [
    "### Extact Count per Date"
   ]
  },
  {
   "cell_type": "code",
   "execution_count": 37,
   "metadata": {},
   "outputs": [],
   "source": [
    "import datetime"
   ]
  },
  {
   "cell_type": "code",
   "execution_count": 38,
   "metadata": {},
   "outputs": [],
   "source": [
    "# Group the data by date announced"
   ]
  },
  {
   "cell_type": "code",
   "execution_count": 39,
   "metadata": {},
   "outputs": [],
   "source": [
    "# Let's check for a date e.g. 2020-09-20 0:00:00"
   ]
  },
  {
   "cell_type": "markdown",
   "metadata": {},
   "source": [
    "Based on data dictionary:"
   ]
  },
  {
   "cell_type": "markdown",
   "metadata": {},
   "source": [
    "- If the value is == 1 : The row indicates an individual record (age and gender info are subject to state bulletin releases).\n",
    "- If the value != 1 (greater than or less than 1) : The row indicates a district level record.\n",
    "- If the value > 0 and (detecteddistrict == '' or detecteddistrict == 'Unknown') : The row added without district details as state bulletin did not have district details at the point of data entry.\n",
    "- If the value < 0 and (detecteddistrict == '' or detecteddistrict == 'Unknown') : The row added to adjust a previously added bulk entry as stated above\n",
    "- If the value < 0 and (detecteddistrict != '' and detecteddistrict != 'Unknown') : The row added due to state bulletins providing a reduced count for that district/day/category combination.\n",
    "- If the value == 0 : Ingore the record. This would've been an entry made and ignored later due to clarifications from state bulletins."
   ]
  },
  {
   "cell_type": "code",
   "execution_count": 40,
   "metadata": {},
   "outputs": [],
   "source": [
    "# We created a test count function that would give us clear idea about the data\n",
    "def getCounts_test(data):\n",
    "    ind_count=len(data[data['Num Cases']==1])\n",
    "    dist_lvl_cnt=data[(data['Num Cases']>0) & ((data['Detected District'].isna()) |\n",
    "    (data['Detected District']=='Unassigned') | (data['Detected District']=='Unknown')\n",
    "                                              )]['Num Cases'].sum()\n",
    "    neg_cnt=data[(data['Num Cases']<0) & ((data['Detected District'].isna()) |\n",
    "    (data['Detected District']=='Unassigned') | (data['Detected District']=='Unknown')\n",
    "    )]['Num Cases'].sum()\n",
    "    empty=len(data[data['Num Cases']==0])\n",
    "    return ind_count,dist_lvl_cnt,neg_cnt,empty"
   ]
  },
  {
   "cell_type": "code",
   "execution_count": 41,
   "metadata": {},
   "outputs": [
    {
     "data": {
      "text/plain": [
       "(180, 13444.0, 0.0, 0)"
      ]
     },
     "execution_count": 41,
     "metadata": {},
     "output_type": "execute_result"
    }
   ],
   "source": [
    "# Find the gcounts for the group"
   ]
  },
  {
   "cell_type": "code",
   "execution_count": 42,
   "metadata": {
    "scrolled": false
   },
   "outputs": [
    {
     "data": {
      "text/plain": [
       "181480.0"
      ]
     },
     "execution_count": 42,
     "metadata": {},
     "output_type": "execute_result"
    }
   ],
   "source": [
    "# Find the total number of cases for that day"
   ]
  },
  {
   "cell_type": "code",
   "execution_count": 43,
   "metadata": {},
   "outputs": [
    {
     "data": {
      "text/html": [
       "<div>\n",
       "<style scoped>\n",
       "    .dataframe tbody tr th:only-of-type {\n",
       "        vertical-align: middle;\n",
       "    }\n",
       "\n",
       "    .dataframe tbody tr th {\n",
       "        vertical-align: top;\n",
       "    }\n",
       "\n",
       "    .dataframe thead th {\n",
       "        text-align: right;\n",
       "    }\n",
       "</style>\n",
       "<table border=\"1\" class=\"dataframe\">\n",
       "  <thead>\n",
       "    <tr style=\"text-align: right;\">\n",
       "      <th></th>\n",
       "      <th>Patient Number</th>\n",
       "      <th>State Patient Number</th>\n",
       "      <th>Date Announced</th>\n",
       "      <th>Age Bracket</th>\n",
       "      <th>Gender</th>\n",
       "      <th>Detected City</th>\n",
       "      <th>Detected District</th>\n",
       "      <th>Detected State</th>\n",
       "      <th>State code</th>\n",
       "      <th>Current Status</th>\n",
       "      <th>Notes</th>\n",
       "      <th>Status Change Date</th>\n",
       "      <th>Source_1</th>\n",
       "      <th>Num Cases</th>\n",
       "      <th>Entry_ID</th>\n",
       "    </tr>\n",
       "  </thead>\n",
       "  <tbody>\n",
       "  </tbody>\n",
       "</table>\n",
       "</div>"
      ],
      "text/plain": [
       "Empty DataFrame\n",
       "Columns: [Patient Number, State Patient Number, Date Announced, Age Bracket, Gender, Detected City, Detected District, Detected State, State code, Current Status, Notes, Status Change Date, Source_1, Num Cases, Entry_ID]\n",
       "Index: []"
      ]
     },
     "execution_count": 43,
     "metadata": {},
     "output_type": "execute_result"
    }
   ],
   "source": [
    "jh[(jh['Num Cases']<0) & ((jh['Detected District'].isna()) | \n",
    "    (jh['Detected District']=='Unassigned') | (jh['Detected District']=='Unknown'))]"
   ]
  },
  {
   "cell_type": "code",
   "execution_count": 44,
   "metadata": {},
   "outputs": [],
   "source": [
    "# Calculate the counts for that day for different statuses Deceased, Hospitalized, Migrated_Other, Recovered"
   ]
  },
  {
   "cell_type": "code",
   "execution_count": 45,
   "metadata": {},
   "outputs": [
    {
     "data": {
      "text/html": [
       "<div>\n",
       "<style scoped>\n",
       "    .dataframe tbody tr th:only-of-type {\n",
       "        vertical-align: middle;\n",
       "    }\n",
       "\n",
       "    .dataframe tbody tr th {\n",
       "        vertical-align: top;\n",
       "    }\n",
       "\n",
       "    .dataframe thead th {\n",
       "        text-align: right;\n",
       "    }\n",
       "</style>\n",
       "<table border=\"1\" class=\"dataframe\">\n",
       "  <thead>\n",
       "    <tr style=\"text-align: right;\">\n",
       "      <th></th>\n",
       "      <th>Num Cases</th>\n",
       "    </tr>\n",
       "    <tr>\n",
       "      <th>Current Status</th>\n",
       "      <th></th>\n",
       "    </tr>\n",
       "  </thead>\n",
       "  <tbody>\n",
       "    <tr>\n",
       "      <th>Deceased</th>\n",
       "      <td>1135.0</td>\n",
       "    </tr>\n",
       "    <tr>\n",
       "      <th>Hospitalized</th>\n",
       "      <td>87395.0</td>\n",
       "    </tr>\n",
       "    <tr>\n",
       "      <th>Migrated_Other</th>\n",
       "      <td>24.0</td>\n",
       "    </tr>\n",
       "    <tr>\n",
       "      <th>Recovered</th>\n",
       "      <td>92926.0</td>\n",
       "    </tr>\n",
       "  </tbody>\n",
       "</table>\n",
       "</div>"
      ],
      "text/plain": [
       "                Num Cases\n",
       "Current Status           \n",
       "Deceased           1135.0\n",
       "Hospitalized      87395.0\n",
       "Migrated_Other       24.0\n",
       "Recovered         92926.0"
      ]
     },
     "execution_count": 45,
     "metadata": {},
     "output_type": "execute_result"
    }
   ],
   "source": []
  },
  {
   "cell_type": "code",
   "execution_count": 46,
   "metadata": {},
   "outputs": [
    {
     "data": {
      "text/plain": [
       "1135.0"
      ]
     },
     "execution_count": 46,
     "metadata": {},
     "output_type": "execute_result"
    }
   ],
   "source": [
    "# Print the deceased numbers"
   ]
  },
  {
   "cell_type": "markdown",
   "metadata": {},
   "source": [
    "Thus, we have single day count."
   ]
  },
  {
   "cell_type": "markdown",
   "metadata": {},
   "source": [
    "### Per Day Count"
   ]
  },
  {
   "cell_type": "code",
   "execution_count": 47,
   "metadata": {},
   "outputs": [],
   "source": [
    "# Create  a dataframe which has details: Date\tDeceased\tMigrated_Other\tHospitalized\tRecovered for each day"
   ]
  },
  {
   "cell_type": "code",
   "execution_count": 48,
   "metadata": {},
   "outputs": [
    {
     "data": {
      "text/html": [
       "<div>\n",
       "<style scoped>\n",
       "    .dataframe tbody tr th:only-of-type {\n",
       "        vertical-align: middle;\n",
       "    }\n",
       "\n",
       "    .dataframe tbody tr th {\n",
       "        vertical-align: top;\n",
       "    }\n",
       "\n",
       "    .dataframe thead th {\n",
       "        text-align: right;\n",
       "    }\n",
       "</style>\n",
       "<table border=\"1\" class=\"dataframe\">\n",
       "  <thead>\n",
       "    <tr style=\"text-align: right;\">\n",
       "      <th></th>\n",
       "      <th>Date</th>\n",
       "      <th>Deceased</th>\n",
       "      <th>Migrated_Other</th>\n",
       "      <th>Hospitalized</th>\n",
       "      <th>Recovered</th>\n",
       "    </tr>\n",
       "  </thead>\n",
       "  <tbody>\n",
       "    <tr>\n",
       "      <th>206</th>\n",
       "      <td>21/09/2020</td>\n",
       "      <td>1056.0</td>\n",
       "      <td>15.0</td>\n",
       "      <td>74493.0</td>\n",
       "      <td>102075.0</td>\n",
       "    </tr>\n",
       "    <tr>\n",
       "      <th>207</th>\n",
       "      <td>22/09/2020</td>\n",
       "      <td>1085.0</td>\n",
       "      <td>10.0</td>\n",
       "      <td>83362.0</td>\n",
       "      <td>89657.0</td>\n",
       "    </tr>\n",
       "    <tr>\n",
       "      <th>208</th>\n",
       "      <td>23/09/2020</td>\n",
       "      <td>1123.0</td>\n",
       "      <td>11.0</td>\n",
       "      <td>86703.0</td>\n",
       "      <td>87459.0</td>\n",
       "    </tr>\n",
       "    <tr>\n",
       "      <th>209</th>\n",
       "      <td>24/09/2020</td>\n",
       "      <td>1144.0</td>\n",
       "      <td>5.0</td>\n",
       "      <td>85921.0</td>\n",
       "      <td>81142.0</td>\n",
       "    </tr>\n",
       "    <tr>\n",
       "      <th>210</th>\n",
       "      <td>25/09/2020</td>\n",
       "      <td>1093.0</td>\n",
       "      <td>9.0</td>\n",
       "      <td>85717.0</td>\n",
       "      <td>93327.0</td>\n",
       "    </tr>\n",
       "    <tr>\n",
       "      <th>211</th>\n",
       "      <td>26/09/2020</td>\n",
       "      <td>1124.0</td>\n",
       "      <td>15.0</td>\n",
       "      <td>88759.0</td>\n",
       "      <td>92359.0</td>\n",
       "    </tr>\n",
       "    <tr>\n",
       "      <th>212</th>\n",
       "      <td>27/09/2020</td>\n",
       "      <td>1040.0</td>\n",
       "      <td>10.0</td>\n",
       "      <td>82770.0</td>\n",
       "      <td>74691.0</td>\n",
       "    </tr>\n",
       "    <tr>\n",
       "      <th>213</th>\n",
       "      <td>28/09/2020</td>\n",
       "      <td>775.0</td>\n",
       "      <td>6.0</td>\n",
       "      <td>69668.0</td>\n",
       "      <td>85194.0</td>\n",
       "    </tr>\n",
       "    <tr>\n",
       "      <th>214</th>\n",
       "      <td>29/09/2020</td>\n",
       "      <td>1178.0</td>\n",
       "      <td>20.0</td>\n",
       "      <td>80500.0</td>\n",
       "      <td>86150.0</td>\n",
       "    </tr>\n",
       "    <tr>\n",
       "      <th>215</th>\n",
       "      <td>30/09/2020</td>\n",
       "      <td>95.0</td>\n",
       "      <td>0.0</td>\n",
       "      <td>10181.0</td>\n",
       "      <td>8194.0</td>\n",
       "    </tr>\n",
       "  </tbody>\n",
       "</table>\n",
       "</div>"
      ],
      "text/plain": [
       "           Date  Deceased  Migrated_Other  Hospitalized  Recovered\n",
       "206  21/09/2020    1056.0            15.0       74493.0   102075.0\n",
       "207  22/09/2020    1085.0            10.0       83362.0    89657.0\n",
       "208  23/09/2020    1123.0            11.0       86703.0    87459.0\n",
       "209  24/09/2020    1144.0             5.0       85921.0    81142.0\n",
       "210  25/09/2020    1093.0             9.0       85717.0    93327.0\n",
       "211  26/09/2020    1124.0            15.0       88759.0    92359.0\n",
       "212  27/09/2020    1040.0            10.0       82770.0    74691.0\n",
       "213  28/09/2020     775.0             6.0       69668.0    85194.0\n",
       "214  29/09/2020    1178.0            20.0       80500.0    86150.0\n",
       "215  30/09/2020      95.0             0.0       10181.0     8194.0"
      ]
     },
     "execution_count": 48,
     "metadata": {},
     "output_type": "execute_result"
    }
   ],
   "source": [
    "# Let's check the data for last 10 days"
   ]
  },
  {
   "cell_type": "code",
   "execution_count": 49,
   "metadata": {},
   "outputs": [],
   "source": [
    "# Read the original data\n",
    "orig=pd.read_csv('https://api.covid19india.org/csv/latest/case_time_series.csv')"
   ]
  },
  {
   "cell_type": "code",
   "execution_count": 138,
   "metadata": {},
   "outputs": [
    {
     "data": {
      "text/html": [
       "<div>\n",
       "<style scoped>\n",
       "    .dataframe tbody tr th:only-of-type {\n",
       "        vertical-align: middle;\n",
       "    }\n",
       "\n",
       "    .dataframe tbody tr th {\n",
       "        vertical-align: top;\n",
       "    }\n",
       "\n",
       "    .dataframe thead th {\n",
       "        text-align: right;\n",
       "    }\n",
       "</style>\n",
       "<table border=\"1\" class=\"dataframe\">\n",
       "  <thead>\n",
       "    <tr style=\"text-align: right;\">\n",
       "      <th></th>\n",
       "      <th>Date</th>\n",
       "      <th>Deceased</th>\n",
       "      <th>Migrated_Other</th>\n",
       "      <th>Hospitalized</th>\n",
       "      <th>Recovered</th>\n",
       "    </tr>\n",
       "  </thead>\n",
       "  <tbody>\n",
       "    <tr>\n",
       "      <th>74</th>\n",
       "      <td>12/05/2020</td>\n",
       "      <td>120.0</td>\n",
       "      <td>0.0</td>\n",
       "      <td>3562.0</td>\n",
       "      <td>1905.0</td>\n",
       "    </tr>\n",
       "    <tr>\n",
       "      <th>105</th>\n",
       "      <td>12/06/2020</td>\n",
       "      <td>388.0</td>\n",
       "      <td>0.0</td>\n",
       "      <td>11306.0</td>\n",
       "      <td>7263.0</td>\n",
       "    </tr>\n",
       "    <tr>\n",
       "      <th>135</th>\n",
       "      <td>12/07/2020</td>\n",
       "      <td>497.0</td>\n",
       "      <td>0.0</td>\n",
       "      <td>29106.0</td>\n",
       "      <td>18198.0</td>\n",
       "    </tr>\n",
       "    <tr>\n",
       "      <th>166</th>\n",
       "      <td>12/08/2020</td>\n",
       "      <td>950.0</td>\n",
       "      <td>3.0</td>\n",
       "      <td>67066.0</td>\n",
       "      <td>57759.0</td>\n",
       "    </tr>\n",
       "    <tr>\n",
       "      <th>197</th>\n",
       "      <td>12/09/2020</td>\n",
       "      <td>1111.0</td>\n",
       "      <td>20.0</td>\n",
       "      <td>94414.0</td>\n",
       "      <td>77862.0</td>\n",
       "    </tr>\n",
       "  </tbody>\n",
       "</table>\n",
       "</div>"
      ],
      "text/plain": [
       "           Date  Deceased  Migrated_Other  Hospitalized  Recovered\n",
       "74   12/05/2020     120.0             0.0        3562.0     1905.0\n",
       "105  12/06/2020     388.0             0.0       11306.0     7263.0\n",
       "135  12/07/2020     497.0             0.0       29106.0    18198.0\n",
       "166  12/08/2020     950.0             3.0       67066.0    57759.0\n",
       "197  12/09/2020    1111.0            20.0       94414.0    77862.0"
      ]
     },
     "execution_count": 138,
     "metadata": {},
     "output_type": "execute_result"
    }
   ],
   "source": [
    "# Get the latest 5 details"
   ]
  },
  {
   "cell_type": "code",
   "execution_count": 51,
   "metadata": {
    "scrolled": true
   },
   "outputs": [
    {
     "data": {
      "text/html": [
       "<div>\n",
       "<style scoped>\n",
       "    .dataframe tbody tr th:only-of-type {\n",
       "        vertical-align: middle;\n",
       "    }\n",
       "\n",
       "    .dataframe tbody tr th {\n",
       "        vertical-align: top;\n",
       "    }\n",
       "\n",
       "    .dataframe thead th {\n",
       "        text-align: right;\n",
       "    }\n",
       "</style>\n",
       "<table border=\"1\" class=\"dataframe\">\n",
       "  <thead>\n",
       "    <tr style=\"text-align: right;\">\n",
       "      <th></th>\n",
       "      <th>Date</th>\n",
       "      <th>Date_YMD</th>\n",
       "      <th>Daily Confirmed</th>\n",
       "      <th>Total Confirmed</th>\n",
       "      <th>Daily Recovered</th>\n",
       "      <th>Total Recovered</th>\n",
       "      <th>Daily Deceased</th>\n",
       "      <th>Total Deceased</th>\n",
       "    </tr>\n",
       "  </thead>\n",
       "  <tbody>\n",
       "    <tr>\n",
       "      <th>315</th>\n",
       "      <td>10 December</td>\n",
       "      <td>2020-12-10</td>\n",
       "      <td>29411</td>\n",
       "      <td>9796989</td>\n",
       "      <td>37707</td>\n",
       "      <td>9290133</td>\n",
       "      <td>411</td>\n",
       "      <td>141631</td>\n",
       "    </tr>\n",
       "    <tr>\n",
       "      <th>316</th>\n",
       "      <td>11 December</td>\n",
       "      <td>2020-12-11</td>\n",
       "      <td>29961</td>\n",
       "      <td>9826950</td>\n",
       "      <td>33492</td>\n",
       "      <td>9323625</td>\n",
       "      <td>442</td>\n",
       "      <td>142073</td>\n",
       "    </tr>\n",
       "    <tr>\n",
       "      <th>317</th>\n",
       "      <td>12 December</td>\n",
       "      <td>2020-12-12</td>\n",
       "      <td>30354</td>\n",
       "      <td>9857304</td>\n",
       "      <td>33087</td>\n",
       "      <td>9356712</td>\n",
       "      <td>391</td>\n",
       "      <td>142464</td>\n",
       "    </tr>\n",
       "    <tr>\n",
       "      <th>318</th>\n",
       "      <td>13 December</td>\n",
       "      <td>2020-12-13</td>\n",
       "      <td>27336</td>\n",
       "      <td>9884640</td>\n",
       "      <td>30640</td>\n",
       "      <td>9387352</td>\n",
       "      <td>338</td>\n",
       "      <td>142802</td>\n",
       "    </tr>\n",
       "    <tr>\n",
       "      <th>319</th>\n",
       "      <td>14 December</td>\n",
       "      <td>2020-12-14</td>\n",
       "      <td>21941</td>\n",
       "      <td>9906581</td>\n",
       "      <td>34421</td>\n",
       "      <td>9421773</td>\n",
       "      <td>354</td>\n",
       "      <td>143156</td>\n",
       "    </tr>\n",
       "  </tbody>\n",
       "</table>\n",
       "</div>"
      ],
      "text/plain": [
       "             Date    Date_YMD  Daily Confirmed  Total Confirmed  \\\n",
       "315  10 December   2020-12-10            29411          9796989   \n",
       "316  11 December   2020-12-11            29961          9826950   \n",
       "317  12 December   2020-12-12            30354          9857304   \n",
       "318  13 December   2020-12-13            27336          9884640   \n",
       "319  14 December   2020-12-14            21941          9906581   \n",
       "\n",
       "     Daily Recovered  Total Recovered  Daily Deceased  Total Deceased  \n",
       "315            37707          9290133             411          141631  \n",
       "316            33492          9323625             442          142073  \n",
       "317            33087          9356712             391          142464  \n",
       "318            30640          9387352             338          142802  \n",
       "319            34421          9421773             354          143156  "
      ]
     },
     "execution_count": 51,
     "metadata": {},
     "output_type": "execute_result"
    }
   ],
   "source": [
    "#  Compare with the out"
   ]
  },
  {
   "cell_type": "code",
   "execution_count": 53,
   "metadata": {},
   "outputs": [
    {
     "name": "stdout",
     "output_type": "stream",
     "text": [
      "Deceased:  96693.0\n",
      "Migrated_Other:  880.0\n",
      "Hospitalized:  6223292.0\n",
      "Recovered:  5178418.0\n"
     ]
    }
   ],
   "source": [
    "# Checking total counts:"
   ]
  },
  {
   "cell_type": "code",
   "execution_count": 92,
   "metadata": {},
   "outputs": [],
   "source": [
    "# Resample the data by week"
   ]
  },
  {
   "cell_type": "code",
   "execution_count": 94,
   "metadata": {},
   "outputs": [
    {
     "data": {
      "text/html": [
       "<div>\n",
       "<style scoped>\n",
       "    .dataframe tbody tr th:only-of-type {\n",
       "        vertical-align: middle;\n",
       "    }\n",
       "\n",
       "    .dataframe tbody tr th {\n",
       "        vertical-align: top;\n",
       "    }\n",
       "\n",
       "    .dataframe thead th {\n",
       "        text-align: right;\n",
       "    }\n",
       "</style>\n",
       "<table border=\"1\" class=\"dataframe\">\n",
       "  <thead>\n",
       "    <tr style=\"text-align: right;\">\n",
       "      <th></th>\n",
       "      <th>Deceased</th>\n",
       "      <th>Migrated_Other</th>\n",
       "      <th>Hospitalized</th>\n",
       "      <th>Recovered</th>\n",
       "    </tr>\n",
       "    <tr>\n",
       "      <th>Date</th>\n",
       "      <th></th>\n",
       "      <th></th>\n",
       "      <th></th>\n",
       "      <th></th>\n",
       "    </tr>\n",
       "  </thead>\n",
       "  <tbody>\n",
       "    <tr>\n",
       "      <th>2020-02-02</th>\n",
       "      <td>0.0</td>\n",
       "      <td>0.0</td>\n",
       "      <td>0.0</td>\n",
       "      <td>2.0</td>\n",
       "    </tr>\n",
       "    <tr>\n",
       "      <th>2020-02-09</th>\n",
       "      <td>0.0</td>\n",
       "      <td>0.0</td>\n",
       "      <td>0.0</td>\n",
       "      <td>1.0</td>\n",
       "    </tr>\n",
       "    <tr>\n",
       "      <th>2020-02-16</th>\n",
       "      <td>0.0</td>\n",
       "      <td>0.0</td>\n",
       "      <td>0.0</td>\n",
       "      <td>0.0</td>\n",
       "    </tr>\n",
       "    <tr>\n",
       "      <th>2020-02-23</th>\n",
       "      <td>0.0</td>\n",
       "      <td>0.0</td>\n",
       "      <td>0.0</td>\n",
       "      <td>0.0</td>\n",
       "    </tr>\n",
       "    <tr>\n",
       "      <th>2020-03-01</th>\n",
       "      <td>0.0</td>\n",
       "      <td>0.0</td>\n",
       "      <td>0.0</td>\n",
       "      <td>0.0</td>\n",
       "    </tr>\n",
       "    <tr>\n",
       "      <th>2020-03-08</th>\n",
       "      <td>0.0</td>\n",
       "      <td>0.0</td>\n",
       "      <td>8.0</td>\n",
       "      <td>28.0</td>\n",
       "    </tr>\n",
       "    <tr>\n",
       "      <th>2020-03-15</th>\n",
       "      <td>3.0</td>\n",
       "      <td>3.0</td>\n",
       "      <td>45.0</td>\n",
       "      <td>25.0</td>\n",
       "    </tr>\n",
       "    <tr>\n",
       "      <th>2020-03-22</th>\n",
       "      <td>6.0</td>\n",
       "      <td>0.0</td>\n",
       "      <td>247.0</td>\n",
       "      <td>37.0</td>\n",
       "    </tr>\n",
       "    <tr>\n",
       "      <th>2020-03-29</th>\n",
       "      <td>12.0</td>\n",
       "      <td>0.0</td>\n",
       "      <td>647.0</td>\n",
       "      <td>77.0</td>\n",
       "    </tr>\n",
       "    <tr>\n",
       "      <th>2020-04-05</th>\n",
       "      <td>13.0</td>\n",
       "      <td>0.0</td>\n",
       "      <td>3130.0</td>\n",
       "      <td>11.0</td>\n",
       "    </tr>\n",
       "    <tr>\n",
       "      <th>2020-04-12</th>\n",
       "      <td>7.0</td>\n",
       "      <td>0.0</td>\n",
       "      <td>4911.0</td>\n",
       "      <td>1.0</td>\n",
       "    </tr>\n",
       "    <tr>\n",
       "      <th>2020-04-19</th>\n",
       "      <td>4.0</td>\n",
       "      <td>0.0</td>\n",
       "      <td>8090.0</td>\n",
       "      <td>0.0</td>\n",
       "    </tr>\n",
       "    <tr>\n",
       "      <th>2020-04-26</th>\n",
       "      <td>0.0</td>\n",
       "      <td>0.0</td>\n",
       "      <td>10585.0</td>\n",
       "      <td>0.0</td>\n",
       "    </tr>\n",
       "    <tr>\n",
       "      <th>2020-05-03</th>\n",
       "      <td>582.0</td>\n",
       "      <td>1.0</td>\n",
       "      <td>14889.0</td>\n",
       "      <td>5275.0</td>\n",
       "    </tr>\n",
       "    <tr>\n",
       "      <th>2020-05-10</th>\n",
       "      <td>751.0</td>\n",
       "      <td>0.0</td>\n",
       "      <td>24398.0</td>\n",
       "      <td>9208.0</td>\n",
       "    </tr>\n",
       "    <tr>\n",
       "      <th>2020-05-17</th>\n",
       "      <td>811.0</td>\n",
       "      <td>0.0</td>\n",
       "      <td>28522.0</td>\n",
       "      <td>15825.0</td>\n",
       "    </tr>\n",
       "    <tr>\n",
       "      <th>2020-05-24</th>\n",
       "      <td>999.0</td>\n",
       "      <td>5.0</td>\n",
       "      <td>42837.0</td>\n",
       "      <td>20899.0</td>\n",
       "    </tr>\n",
       "    <tr>\n",
       "      <th>2020-05-31</th>\n",
       "      <td>1381.0</td>\n",
       "      <td>4.0</td>\n",
       "      <td>52112.0</td>\n",
       "      <td>34168.0</td>\n",
       "    </tr>\n",
       "    <tr>\n",
       "      <th>2020-06-07</th>\n",
       "      <td>1800.0</td>\n",
       "      <td>3.0</td>\n",
       "      <td>66833.0</td>\n",
       "      <td>31986.0</td>\n",
       "    </tr>\n",
       "    <tr>\n",
       "      <th>2020-06-14</th>\n",
       "      <td>2316.0</td>\n",
       "      <td>25.0</td>\n",
       "      <td>75557.0</td>\n",
       "      <td>45836.0</td>\n",
       "    </tr>\n",
       "    <tr>\n",
       "      <th>2020-06-21</th>\n",
       "      <td>4182.0</td>\n",
       "      <td>10.0</td>\n",
       "      <td>93863.0</td>\n",
       "      <td>67574.0</td>\n",
       "    </tr>\n",
       "    <tr>\n",
       "      <th>2020-06-28</th>\n",
       "      <td>2784.0</td>\n",
       "      <td>5.0</td>\n",
       "      <td>122296.0</td>\n",
       "      <td>84519.0</td>\n",
       "    </tr>\n",
       "    <tr>\n",
       "      <th>2020-07-05</th>\n",
       "      <td>3215.0</td>\n",
       "      <td>26.0</td>\n",
       "      <td>148649.0</td>\n",
       "      <td>103117.0</td>\n",
       "    </tr>\n",
       "    <tr>\n",
       "      <th>2020-07-12</th>\n",
       "      <td>3481.0</td>\n",
       "      <td>287.0</td>\n",
       "      <td>181608.0</td>\n",
       "      <td>129535.0</td>\n",
       "    </tr>\n",
       "    <tr>\n",
       "      <th>2020-07-19</th>\n",
       "      <td>4311.0</td>\n",
       "      <td>22.0</td>\n",
       "      <td>238640.0</td>\n",
       "      <td>145970.0</td>\n",
       "    </tr>\n",
       "    <tr>\n",
       "      <th>2020-07-26</th>\n",
       "      <td>5322.0</td>\n",
       "      <td>14.0</td>\n",
       "      <td>317912.0</td>\n",
       "      <td>218244.0</td>\n",
       "    </tr>\n",
       "    <tr>\n",
       "      <th>2020-08-02</th>\n",
       "      <td>5354.0</td>\n",
       "      <td>25.0</td>\n",
       "      <td>368837.0</td>\n",
       "      <td>268625.0</td>\n",
       "    </tr>\n",
       "    <tr>\n",
       "      <th>2020-08-09</th>\n",
       "      <td>6297.0</td>\n",
       "      <td>31.0</td>\n",
       "      <td>409295.0</td>\n",
       "      <td>347010.0</td>\n",
       "    </tr>\n",
       "    <tr>\n",
       "      <th>2020-08-16</th>\n",
       "      <td>6571.0</td>\n",
       "      <td>50.0</td>\n",
       "      <td>433167.0</td>\n",
       "      <td>383798.0</td>\n",
       "    </tr>\n",
       "    <tr>\n",
       "      <th>2020-08-23</th>\n",
       "      <td>6656.0</td>\n",
       "      <td>41.0</td>\n",
       "      <td>457881.0</td>\n",
       "      <td>418720.0</td>\n",
       "    </tr>\n",
       "    <tr>\n",
       "      <th>2020-08-30</th>\n",
       "      <td>6925.0</td>\n",
       "      <td>31.0</td>\n",
       "      <td>513988.0</td>\n",
       "      <td>436146.0</td>\n",
       "    </tr>\n",
       "    <tr>\n",
       "      <th>2020-09-06</th>\n",
       "      <td>7067.0</td>\n",
       "      <td>37.0</td>\n",
       "      <td>583396.0</td>\n",
       "      <td>474367.0</td>\n",
       "    </tr>\n",
       "    <tr>\n",
       "      <th>2020-09-13</th>\n",
       "      <td>8070.0</td>\n",
       "      <td>48.0</td>\n",
       "      <td>642457.0</td>\n",
       "      <td>529756.0</td>\n",
       "    </tr>\n",
       "    <tr>\n",
       "      <th>2020-09-20</th>\n",
       "      <td>8155.0</td>\n",
       "      <td>111.0</td>\n",
       "      <td>640599.0</td>\n",
       "      <td>615604.0</td>\n",
       "    </tr>\n",
       "    <tr>\n",
       "      <th>2020-09-27</th>\n",
       "      <td>7665.0</td>\n",
       "      <td>75.0</td>\n",
       "      <td>587725.0</td>\n",
       "      <td>620710.0</td>\n",
       "    </tr>\n",
       "    <tr>\n",
       "      <th>2020-10-04</th>\n",
       "      <td>2048.0</td>\n",
       "      <td>26.0</td>\n",
       "      <td>160349.0</td>\n",
       "      <td>179538.0</td>\n",
       "    </tr>\n",
       "  </tbody>\n",
       "</table>\n",
       "</div>"
      ],
      "text/plain": [
       "            Deceased  Migrated_Other  Hospitalized  Recovered\n",
       "Date                                                         \n",
       "2020-02-02       0.0             0.0           0.0        2.0\n",
       "2020-02-09       0.0             0.0           0.0        1.0\n",
       "2020-02-16       0.0             0.0           0.0        0.0\n",
       "2020-02-23       0.0             0.0           0.0        0.0\n",
       "2020-03-01       0.0             0.0           0.0        0.0\n",
       "2020-03-08       0.0             0.0           8.0       28.0\n",
       "2020-03-15       3.0             3.0          45.0       25.0\n",
       "2020-03-22       6.0             0.0         247.0       37.0\n",
       "2020-03-29      12.0             0.0         647.0       77.0\n",
       "2020-04-05      13.0             0.0        3130.0       11.0\n",
       "2020-04-12       7.0             0.0        4911.0        1.0\n",
       "2020-04-19       4.0             0.0        8090.0        0.0\n",
       "2020-04-26       0.0             0.0       10585.0        0.0\n",
       "2020-05-03     582.0             1.0       14889.0     5275.0\n",
       "2020-05-10     751.0             0.0       24398.0     9208.0\n",
       "2020-05-17     811.0             0.0       28522.0    15825.0\n",
       "2020-05-24     999.0             5.0       42837.0    20899.0\n",
       "2020-05-31    1381.0             4.0       52112.0    34168.0\n",
       "2020-06-07    1800.0             3.0       66833.0    31986.0\n",
       "2020-06-14    2316.0            25.0       75557.0    45836.0\n",
       "2020-06-21    4182.0            10.0       93863.0    67574.0\n",
       "2020-06-28    2784.0             5.0      122296.0    84519.0\n",
       "2020-07-05    3215.0            26.0      148649.0   103117.0\n",
       "2020-07-12    3481.0           287.0      181608.0   129535.0\n",
       "2020-07-19    4311.0            22.0      238640.0   145970.0\n",
       "2020-07-26    5322.0            14.0      317912.0   218244.0\n",
       "2020-08-02    5354.0            25.0      368837.0   268625.0\n",
       "2020-08-09    6297.0            31.0      409295.0   347010.0\n",
       "2020-08-16    6571.0            50.0      433167.0   383798.0\n",
       "2020-08-23    6656.0            41.0      457881.0   418720.0\n",
       "2020-08-30    6925.0            31.0      513988.0   436146.0\n",
       "2020-09-06    7067.0            37.0      583396.0   474367.0\n",
       "2020-09-13    8070.0            48.0      642457.0   529756.0\n",
       "2020-09-20    8155.0           111.0      640599.0   615604.0\n",
       "2020-09-27    7665.0            75.0      587725.0   620710.0\n",
       "2020-10-04    2048.0            26.0      160349.0   179538.0"
      ]
     },
     "execution_count": 94,
     "metadata": {},
     "output_type": "execute_result"
    }
   ],
   "source": [
    "# Weekly counts of data"
   ]
  },
  {
   "cell_type": "code",
   "execution_count": 262,
   "metadata": {},
   "outputs": [
    {
     "data": {
      "text/plain": [
       "array([<matplotlib.axes._subplots.AxesSubplot object at 0x000001C322830070>,\n",
       "       <matplotlib.axes._subplots.AxesSubplot object at 0x000001C32287D130>,\n",
       "       <matplotlib.axes._subplots.AxesSubplot object at 0x000001C32289A370>,\n",
       "       <matplotlib.axes._subplots.AxesSubplot object at 0x000001C3228C0E20>],\n",
       "      dtype=object)"
      ]
     },
     "execution_count": 262,
     "metadata": {},
     "output_type": "execute_result"
    },
    {
     "data": {
      "image/png": "[encoded data removed]",
      "text/plain": [
       "<Figure size 720x1008 with 4 Axes>"
      ]
     },
     "metadata": {
      "needs_background": "light"
     },
     "output_type": "display_data"
    }
   ],
   "source": [
    "# Plot weekly rise"
   ]
  },
  {
   "cell_type": "code",
   "execution_count": 95,
   "metadata": {},
   "outputs": [],
   "source": [
    "# Get Monthly Rise"
   ]
  },
  {
   "cell_type": "code",
   "execution_count": 256,
   "metadata": {
    "scrolled": false
   },
   "outputs": [
    {
     "data": {
      "text/plain": [
       "array([<matplotlib.axes._subplots.AxesSubplot object at 0x000001C360334190>,\n",
       "       <matplotlib.axes._subplots.AxesSubplot object at 0x000001C36030EFD0>,\n",
       "       <matplotlib.axes._subplots.AxesSubplot object at 0x000001C35F978BB0>,\n",
       "       <matplotlib.axes._subplots.AxesSubplot object at 0x000001C361C475E0>],\n",
       "      dtype=object)"
      ]
     },
     "execution_count": 256,
     "metadata": {},
     "output_type": "execute_result"
    },
    {
     "data": {
      "image/png": "[encoded data removed]",
      "text/plain": [
       "<Figure size 720x864 with 4 Axes>"
      ]
     },
     "metadata": {
      "needs_background": "light"
     },
     "output_type": "display_data"
    }
   ],
   "source": [
    "# Plot the monthly data"
   ]
  },
  {
   "cell_type": "markdown",
   "metadata": {},
   "source": [
    "### Uses of this data:"
   ]
  },
  {
   "cell_type": "markdown",
   "metadata": {},
   "source": [
    "- Data can be used for daily, weekly and monthly forecasting of data.\n",
    "- Data can be used for visualization as well statewise and districtwise rise daily.\n",
    "- Forecasting can be done at country level and state level as well."
   ]
  }
 ],
 "metadata": {
  "kernelspec": {
   "display_name": "Python 3",
   "language": "python",
   "name": "python3"
  },
  "language_info": {
   "codemirror_mode": {
    "name": "ipython",
    "version": 3
   },
   "file_extension": ".py",
   "mimetype": "text/x-python",
   "name": "python",
   "nbconvert_exporter": "python",
   "pygments_lexer": "ipython3",
   "version": "3.8.5"
  },
  "toc": {
   "base_numbering": 1,
   "nav_menu": {},
   "number_sections": false,
   "sideBar": true,
   "skip_h1_title": false,
   "title_cell": "Table of Contents",
   "title_sidebar": "Contents",
   "toc_cell": false,
   "toc_position": {
    "height": "calc(100% - 180px)",
    "left": "10px",
    "top": "150px",
    "width": "273.188px"
   },
   "toc_section_display": true,
   "toc_window_display": true
  }
 },
 "nbformat": 4,
 "nbformat_minor": 2
}
