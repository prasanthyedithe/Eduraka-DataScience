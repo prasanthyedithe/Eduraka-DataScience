{
  "nbformat": 4,
  "nbformat_minor": 0,
  "metadata": {
    "colab": {
      "provenance": []
    },
    "kernelspec": {
      "name": "python3",
      "display_name": "Python 3"
    },
    "language_info": {
      "name": "python"
    }
  },
  "cells": [
    {
      "cell_type": "code",
      "execution_count": 1,
      "metadata": {
        "colab": {
          "base_uri": "https://localhost:8080/"
        },
        "id": "D7T2z-0RKzsa",
        "outputId": "05e4e7ca-8baa-4629-ae7e-652d831d16c3"
      },
      "outputs": [
        {
          "output_type": "stream",
          "name": "stdout",
          "text": [
            "welcome\n"
          ]
        }
      ],
      "source": [
        "print(\"welcome\")"
      ]
    },
    {
      "cell_type": "code",
      "source": [
        "x = 10\n",
        "print(x)"
      ],
      "metadata": {
        "colab": {
          "base_uri": "https://localhost:8080/"
        },
        "id": "HhNEdRKkMXHq",
        "outputId": "cedf7af9-c2f9-44d7-a42d-fe118315cfb5"
      },
      "execution_count": 2,
      "outputs": [
        {
          "output_type": "stream",
          "name": "stdout",
          "text": [
            "10\n"
          ]
        }
      ]
    },
    {
      "cell_type": "code",
      "source": [
        "x = 99\n",
        "print(x)"
      ],
      "metadata": {
        "colab": {
          "base_uri": "https://localhost:8080/"
        },
        "id": "M9IGkI7ZMpZb",
        "outputId": "9ecedfaf-36f6-444f-bb16-ec5266b01098"
      },
      "execution_count": 3,
      "outputs": [
        {
          "output_type": "stream",
          "name": "stdout",
          "text": [
            "99\n"
          ]
        }
      ]
    },
    {
      "cell_type": "markdown",
      "source": [
        "# Rules in creating\n",
        "- Variable name should start with either letter or an underscore\n",
        "- Variable name can be alpha numeric\n",
        "- No special characters allowed in variable name except the underscore\n",
        "- variable name cannot be a keyword"
      ],
      "metadata": {
        "id": "RIABiaduM4X-"
      }
    },
    {
      "cell_type": "code",
      "source": [
        "_x = 100\n",
        "print(_x)"
      ],
      "metadata": {
        "colab": {
          "base_uri": "https://localhost:8080/"
        },
        "id": "OS-v6iwyMxoh",
        "outputId": "cd38660e-52e4-4ef8-e66b-8a3374048bb6"
      },
      "execution_count": 4,
      "outputs": [
        {
          "output_type": "stream",
          "name": "stdout",
          "text": [
            "100\n"
          ]
        }
      ]
    },
    {
      "cell_type": "code",
      "source": [
        "z1234 = 100\n",
        "print(z1234)"
      ],
      "metadata": {
        "colab": {
          "base_uri": "https://localhost:8080/"
        },
        "id": "vFguEQuzNWZ9",
        "outputId": "06b5fa50-1d95-4884-86ef-404afd5ef3a8"
      },
      "execution_count": 5,
      "outputs": [
        {
          "output_type": "stream",
          "name": "stdout",
          "text": [
            "100\n"
          ]
        }
      ]
    },
    {
      "cell_type": "code",
      "source": [
        "z123&z = 200\n",
        "print(z123&z)"
      ],
      "metadata": {
        "colab": {
          "base_uri": "https://localhost:8080/",
          "height": 131
        },
        "id": "Sc1qsfn3Ngya",
        "outputId": "8b122131-b630-443f-a3b4-807d49407629"
      },
      "execution_count": 6,
      "outputs": [
        {
          "output_type": "error",
          "ename": "SyntaxError",
          "evalue": "ignored",
          "traceback": [
            "\u001b[0;36m  File \u001b[0;32m\"<ipython-input-6-6dfa4f944f68>\"\u001b[0;36m, line \u001b[0;32m1\u001b[0m\n\u001b[0;31m    z123&z = 200\u001b[0m\n\u001b[0m    ^\u001b[0m\n\u001b[0;31mSyntaxError\u001b[0m\u001b[0;31m:\u001b[0m cannot assign to operator\n"
          ]
        }
      ]
    },
    {
      "cell_type": "markdown",
      "source": [
        "##  keyword\n",
        "Keyword is a special word/name which has a pre-defined meaning"
      ],
      "metadata": {
        "id": "B0NffXrnNvqH"
      }
    },
    {
      "cell_type": "code",
      "source": [
        "import keyword\n",
        "print(keyword.kwlist)      "
      ],
      "metadata": {
        "colab": {
          "base_uri": "https://localhost:8080/"
        },
        "id": "4bdgtk36Nmsu",
        "outputId": "549d33db-87f8-40db-936c-103049d0a348"
      },
      "execution_count": 8,
      "outputs": [
        {
          "output_type": "stream",
          "name": "stdout",
          "text": [
            "['False', 'None', 'True', 'and', 'as', 'assert', 'async', 'await', 'break', 'class', 'continue', 'def', 'del', 'elif', 'else', 'except', 'finally', 'for', 'from', 'global', 'if', 'import', 'in', 'is', 'lambda', 'nonlocal', 'not', 'or', 'pass', 'raise', 'return', 'try', 'while', 'with', 'yield']\n"
          ]
        }
      ]
    },
    {
      "cell_type": "code",
      "source": [
        "True = 100"
      ],
      "metadata": {
        "colab": {
          "base_uri": "https://localhost:8080/",
          "height": 131
        },
        "id": "tyU-EcEiODuR",
        "outputId": "a26787a0-5ad9-4c97-adc0-594145f7ee70"
      },
      "execution_count": 9,
      "outputs": [
        {
          "output_type": "error",
          "ename": "SyntaxError",
          "evalue": "ignored",
          "traceback": [
            "\u001b[0;36m  File \u001b[0;32m\"<ipython-input-9-9efed9116db8>\"\u001b[0;36m, line \u001b[0;32m1\u001b[0m\n\u001b[0;31m    True = 100\u001b[0m\n\u001b[0m    ^\u001b[0m\n\u001b[0;31mSyntaxError\u001b[0m\u001b[0;31m:\u001b[0m cannot assign to True\n"
          ]
        }
      ]
    },
    {
      "cell_type": "markdown",
      "source": [
        "## Inclass Activity"
      ],
      "metadata": {
        "id": "BNPF6NglOsNG"
      }
    },
    {
      "cell_type": "code",
      "source": [
        "xyz # valid\n",
        "_123 #valid\n",
        "xy_z # valid\n",
        "ty*1 #invalid\n",
        "awe123 # valid\n",
        "123y # invalid\n",
        "None # invalid\n",
        "sam23 # valid\n",
        "await # invalid\n",
        "(xy #invalid"
      ],
      "metadata": {
        "id": "HTXDI9EJOTSB"
      },
      "execution_count": null,
      "outputs": []
    },
    {
      "cell_type": "code",
      "source": [
        "(xy = 100"
      ],
      "metadata": {
        "colab": {
          "base_uri": "https://localhost:8080/",
          "height": 131
        },
        "id": "CnJa6sarRd4e",
        "outputId": "f0feb670-c635-4bbc-845b-d1e604b93856"
      },
      "execution_count": 10,
      "outputs": [
        {
          "output_type": "error",
          "ename": "SyntaxError",
          "evalue": "ignored",
          "traceback": [
            "\u001b[0;36m  File \u001b[0;32m\"<ipython-input-10-27bc6257cce2>\"\u001b[0;36m, line \u001b[0;32m1\u001b[0m\n\u001b[0;31m    (xy = 100\u001b[0m\n\u001b[0m        ^\u001b[0m\n\u001b[0;31mSyntaxError\u001b[0m\u001b[0;31m:\u001b[0m invalid syntax\n"
          ]
        }
      ]
    },
    {
      "cell_type": "code",
      "source": [
        "none \n",
        "True # keyword\n",
        "true # not a keyword"
      ],
      "metadata": {
        "colab": {
          "base_uri": "https://localhost:8080/",
          "height": 200
        },
        "id": "dVfOzAa-RrbW",
        "outputId": "2a2176a7-84a3-4d2a-a37b-2c7d4612ef31"
      },
      "execution_count": 14,
      "outputs": [
        {
          "output_type": "error",
          "ename": "NameError",
          "evalue": "ignored",
          "traceback": [
            "\u001b[0;31m---------------------------------------------------------------------------\u001b[0m",
            "\u001b[0;31mNameError\u001b[0m                                 Traceback (most recent call last)",
            "\u001b[0;32m<ipython-input-14-6baf23493f0a>\u001b[0m in \u001b[0;36m<module>\u001b[0;34m\u001b[0m\n\u001b[1;32m      1\u001b[0m \u001b[0mnone\u001b[0m \u001b[0;34m=\u001b[0m \u001b[0;36m100\u001b[0m\u001b[0;34m\u001b[0m\u001b[0;34m\u001b[0m\u001b[0m\n\u001b[1;32m      2\u001b[0m \u001b[0;32mTrue\u001b[0m \u001b[0;31m# keyword\u001b[0m\u001b[0;34m\u001b[0m\u001b[0;34m\u001b[0m\u001b[0m\n\u001b[0;32m----> 3\u001b[0;31m \u001b[0mtrue\u001b[0m \u001b[0;31m# not a keyword\u001b[0m\u001b[0;34m\u001b[0m\u001b[0;34m\u001b[0m\u001b[0m\n\u001b[0m",
            "\u001b[0;31mNameError\u001b[0m: name 'true' is not defined"
          ]
        }
      ]
    },
    {
      "cell_type": "markdown",
      "source": [
        "# Data Types in Python"
      ],
      "metadata": {
        "id": "rwCvkKidTPeY"
      }
    },
    {
      "cell_type": "markdown",
      "source": [
        "## Immutable Data Types"
      ],
      "metadata": {
        "id": "8ZiXoBUeTRFG"
      }
    },
    {
      "cell_type": "markdown",
      "source": [
        "### Numbers"
      ],
      "metadata": {
        "id": "q3Vuf_kBTThO"
      }
    },
    {
      "cell_type": "code",
      "source": [
        "x = 10\n",
        "y = 10.45\n",
        "z = 20 + 4j"
      ],
      "metadata": {
        "id": "WYJ30k3JR-xb"
      },
      "execution_count": 15,
      "outputs": []
    },
    {
      "cell_type": "code",
      "source": [
        "print(type(x)) # integers"
      ],
      "metadata": {
        "colab": {
          "base_uri": "https://localhost:8080/"
        },
        "id": "U63dm3EuTZjt",
        "outputId": "509c2b76-9a0d-4044-848a-71eae8f9b684"
      },
      "execution_count": 16,
      "outputs": [
        {
          "output_type": "stream",
          "name": "stdout",
          "text": [
            "<class 'int'>\n"
          ]
        }
      ]
    },
    {
      "cell_type": "code",
      "source": [
        "print(type(y))  # float"
      ],
      "metadata": {
        "colab": {
          "base_uri": "https://localhost:8080/"
        },
        "id": "Li7-GgTmTc4_",
        "outputId": "10fb13ab-7484-4a26-b094-48f9c6d1cc5d"
      },
      "execution_count": 17,
      "outputs": [
        {
          "output_type": "stream",
          "name": "stdout",
          "text": [
            "<class 'float'>\n"
          ]
        }
      ]
    },
    {
      "cell_type": "code",
      "source": [
        "print(type(z))  # complex"
      ],
      "metadata": {
        "colab": {
          "base_uri": "https://localhost:8080/"
        },
        "id": "ZNWiNZ-hTh9D",
        "outputId": "5e8b41c5-d858-43d0-8171-96cca336084a"
      },
      "execution_count": 18,
      "outputs": [
        {
          "output_type": "stream",
          "name": "stdout",
          "text": [
            "<class 'complex'>\n"
          ]
        }
      ]
    },
    {
      "cell_type": "code",
      "source": [
        "print(type(x), type(y), type(z)) # printing multiple items"
      ],
      "metadata": {
        "colab": {
          "base_uri": "https://localhost:8080/"
        },
        "id": "H6DQhqD1TmSy",
        "outputId": "6b8ec46f-6705-40da-b1a0-8f7898493dda"
      },
      "execution_count": 19,
      "outputs": [
        {
          "output_type": "stream",
          "name": "stdout",
          "text": [
            "<class 'int'> <class 'float'> <class 'complex'>\n"
          ]
        }
      ]
    },
    {
      "cell_type": "markdown",
      "source": [
        "### Strings"
      ],
      "metadata": {
        "id": "EheVKcCjUgKE"
      }
    },
    {
      "cell_type": "code",
      "source": [
        "a = 'hello'\n",
        "b = \"welcome\"\n",
        "print(a,b)"
      ],
      "metadata": {
        "colab": {
          "base_uri": "https://localhost:8080/"
        },
        "id": "hx7n_at4T3bU",
        "outputId": "0c29008f-1793-4547-8db2-4247c8eee0fa"
      },
      "execution_count": 20,
      "outputs": [
        {
          "output_type": "stream",
          "name": "stdout",
          "text": [
            "hello welcome\n"
          ]
        }
      ]
    },
    {
      "cell_type": "code",
      "source": [
        "print(type(a))"
      ],
      "metadata": {
        "colab": {
          "base_uri": "https://localhost:8080/"
        },
        "id": "MNEHAvnzUlwH",
        "outputId": "05216f53-d8a9-4500-eb43-4d539c98c838"
      },
      "execution_count": 21,
      "outputs": [
        {
          "output_type": "stream",
          "name": "stdout",
          "text": [
            "<class 'str'>\n"
          ]
        }
      ]
    },
    {
      "cell_type": "code",
      "source": [
        "print(type(b))"
      ],
      "metadata": {
        "colab": {
          "base_uri": "https://localhost:8080/"
        },
        "id": "zIUDg4yiUoiK",
        "outputId": "54990a38-2fa7-4d37-de1d-49f9fcfee00a"
      },
      "execution_count": 22,
      "outputs": [
        {
          "output_type": "stream",
          "name": "stdout",
          "text": [
            "<class 'str'>\n"
          ]
        }
      ]
    },
    {
      "cell_type": "code",
      "source": [
        "x = 'hello welcome\n",
        "to data science'\n",
        "\n",
        "print(x)"
      ],
      "metadata": {
        "colab": {
          "base_uri": "https://localhost:8080/",
          "height": 131
        },
        "id": "uqh_8J_VUrPT",
        "outputId": "fad4e831-632d-468f-ff3a-4accc372d018"
      },
      "execution_count": 23,
      "outputs": [
        {
          "output_type": "error",
          "ename": "SyntaxError",
          "evalue": "ignored",
          "traceback": [
            "\u001b[0;36m  File \u001b[0;32m\"<ipython-input-23-41c3b038ddd8>\"\u001b[0;36m, line \u001b[0;32m1\u001b[0m\n\u001b[0;31m    x = 'hello welcome\u001b[0m\n\u001b[0m                      ^\u001b[0m\n\u001b[0;31mSyntaxError\u001b[0m\u001b[0;31m:\u001b[0m EOL while scanning string literal\n"
          ]
        }
      ]
    },
    {
      "cell_type": "code",
      "source": [
        "x = \"hello welcome\n",
        "to data science\"\n",
        "\n",
        "print(x)"
      ],
      "metadata": {
        "colab": {
          "base_uri": "https://localhost:8080/",
          "height": 131
        },
        "id": "bo1bFcHRU0EE",
        "outputId": "d67572b8-1294-4e96-94d2-79c44746e26d"
      },
      "execution_count": 24,
      "outputs": [
        {
          "output_type": "error",
          "ename": "SyntaxError",
          "evalue": "ignored",
          "traceback": [
            "\u001b[0;36m  File \u001b[0;32m\"<ipython-input-24-0f13c2f064ef>\"\u001b[0;36m, line \u001b[0;32m1\u001b[0m\n\u001b[0;31m    x = \"hello welcome\u001b[0m\n\u001b[0m                      ^\u001b[0m\n\u001b[0;31mSyntaxError\u001b[0m\u001b[0;31m:\u001b[0m EOL while scanning string literal\n"
          ]
        }
      ]
    },
    {
      "cell_type": "code",
      "source": [
        "# multi-line\n",
        "x = \"hello welcome \\\n",
        "to data science\"\n",
        "\n",
        "print(x) # returned as a single line"
      ],
      "metadata": {
        "colab": {
          "base_uri": "https://localhost:8080/"
        },
        "id": "wPKbcc1XU7yS",
        "outputId": "2df72eba-c0e4-43f2-dd3a-888b4e36bbf3"
      },
      "execution_count": 25,
      "outputs": [
        {
          "output_type": "stream",
          "name": "stdout",
          "text": [
            "hello welcome to data science\n"
          ]
        }
      ]
    },
    {
      "cell_type": "code",
      "source": [
        "x = \"\"\" hello \n",
        "welcome to \n",
        "data science\n",
        "program \"\"\"\n",
        "print(x) # return in multiple lines"
      ],
      "metadata": {
        "colab": {
          "base_uri": "https://localhost:8080/"
        },
        "id": "NGBVKevvVER3",
        "outputId": "bc161833-1f0f-4979-99bc-e5399ee0a88d"
      },
      "execution_count": 27,
      "outputs": [
        {
          "output_type": "stream",
          "name": "stdout",
          "text": [
            " hello \n",
            "welcome to \n",
            "data science\n",
            "program \n"
          ]
        }
      ]
    },
    {
      "cell_type": "code",
      "source": [
        "y = '''hello \n",
        "welcome to \n",
        "data science\n",
        "program '''\n",
        "print(y)"
      ],
      "metadata": {
        "colab": {
          "base_uri": "https://localhost:8080/"
        },
        "id": "rTP9oZLgVNSC",
        "outputId": "008c2974-54b4-4da3-a056-4ddf626189e8"
      },
      "execution_count": 28,
      "outputs": [
        {
          "output_type": "stream",
          "name": "stdout",
          "text": [
            "hello \n",
            "welcome to \n",
            "data science\n",
            "program \n"
          ]
        }
      ]
    },
    {
      "cell_type": "code",
      "source": [
        "print(type(x), type(y))"
      ],
      "metadata": {
        "colab": {
          "base_uri": "https://localhost:8080/"
        },
        "id": "oBdF9_uNVe74",
        "outputId": "8afdddeb-96e6-42df-ba00-2d4c8fc7a537"
      },
      "execution_count": 29,
      "outputs": [
        {
          "output_type": "stream",
          "name": "stdout",
          "text": [
            "<class 'str'> <class 'str'>\n"
          ]
        }
      ]
    },
    {
      "cell_type": "markdown",
      "source": [
        "### Tuples"
      ],
      "metadata": {
        "id": "JAXVZ9TdWJWh"
      }
    },
    {
      "cell_type": "code",
      "source": [
        "tup = (100, 20.56, \"hello\", \"\"\"Class\"\"\", 5+4j)\n",
        "print(tup)"
      ],
      "metadata": {
        "colab": {
          "base_uri": "https://localhost:8080/"
        },
        "id": "qUnQKh2cVpPC",
        "outputId": "27e80e65-188e-4c11-918e-7a85475c1ca0"
      },
      "execution_count": 30,
      "outputs": [
        {
          "output_type": "stream",
          "name": "stdout",
          "text": [
            "(100, 20.56, 'hello', 'Class', (5+4j))\n"
          ]
        }
      ]
    },
    {
      "cell_type": "code",
      "source": [
        "print(type(tup))"
      ],
      "metadata": {
        "colab": {
          "base_uri": "https://localhost:8080/"
        },
        "id": "lXHrpyB5WRZj",
        "outputId": "68e50a8c-2051-4228-85d6-ace186744438"
      },
      "execution_count": 31,
      "outputs": [
        {
          "output_type": "stream",
          "name": "stdout",
          "text": [
            "<class 'tuple'>\n"
          ]
        }
      ]
    },
    {
      "cell_type": "markdown",
      "source": [
        "## Mutable Data Types"
      ],
      "metadata": {
        "id": "hi1pF4jyZwMb"
      }
    },
    {
      "cell_type": "markdown",
      "source": [
        "### Lists"
      ],
      "metadata": {
        "id": "6Ce0Ez_wZyxT"
      }
    },
    {
      "cell_type": "code",
      "source": [
        "l1 = [10,20,30,'data science'] #mutable\n",
        "print(l1)"
      ],
      "metadata": {
        "colab": {
          "base_uri": "https://localhost:8080/"
        },
        "id": "czYQhQxgWT2W",
        "outputId": "0d5d750a-a7d0-4716-a81a-81b5d3f5baf9"
      },
      "execution_count": 33,
      "outputs": [
        {
          "output_type": "stream",
          "name": "stdout",
          "text": [
            "[10, 20, 30, 'data science']\n"
          ]
        }
      ]
    },
    {
      "cell_type": "code",
      "source": [
        "print(type(l1))"
      ],
      "metadata": {
        "colab": {
          "base_uri": "https://localhost:8080/"
        },
        "id": "6kU60SQVaqdd",
        "outputId": "51b17850-3623-490b-b945-f9faeed68327"
      },
      "execution_count": 34,
      "outputs": [
        {
          "output_type": "stream",
          "name": "stdout",
          "text": [
            "<class 'list'>\n"
          ]
        }
      ]
    },
    {
      "cell_type": "code",
      "source": [
        "l1[2] = 100\n",
        "print(l1) # mutable"
      ],
      "metadata": {
        "colab": {
          "base_uri": "https://localhost:8080/"
        },
        "id": "FUSBFOh7cFOo",
        "outputId": "deffdbf1-d796-4f8d-c80c-dba08c760921"
      },
      "execution_count": 36,
      "outputs": [
        {
          "output_type": "stream",
          "name": "stdout",
          "text": [
            "[10, 20, 100, 'data science']\n"
          ]
        }
      ]
    },
    {
      "cell_type": "code",
      "source": [
        "t1 = (10,20,30,'data science')\n",
        "print(type(t1)) # immutable"
      ],
      "metadata": {
        "colab": {
          "base_uri": "https://localhost:8080/"
        },
        "id": "dd1g8P9ZavtA",
        "outputId": "b9e74f4d-d0ae-439f-8f0f-607551b895c5"
      },
      "execution_count": 35,
      "outputs": [
        {
          "output_type": "stream",
          "name": "stdout",
          "text": [
            "<class 'tuple'>\n"
          ]
        }
      ]
    },
    {
      "cell_type": "code",
      "source": [
        "t1[2] = 100\n",
        "print(t1)"
      ],
      "metadata": {
        "colab": {
          "base_uri": "https://localhost:8080/",
          "height": 183
        },
        "id": "ipyxKrAZcKlm",
        "outputId": "7691c45d-dcfc-4f7a-ffe6-bfe28528344e"
      },
      "execution_count": 37,
      "outputs": [
        {
          "output_type": "error",
          "ename": "TypeError",
          "evalue": "ignored",
          "traceback": [
            "\u001b[0;31m---------------------------------------------------------------------------\u001b[0m",
            "\u001b[0;31mTypeError\u001b[0m                                 Traceback (most recent call last)",
            "\u001b[0;32m<ipython-input-37-318b13911ebf>\u001b[0m in \u001b[0;36m<module>\u001b[0;34m\u001b[0m\n\u001b[0;32m----> 1\u001b[0;31m \u001b[0mt1\u001b[0m\u001b[0;34m[\u001b[0m\u001b[0;36m2\u001b[0m\u001b[0;34m]\u001b[0m \u001b[0;34m=\u001b[0m \u001b[0;36m100\u001b[0m\u001b[0;34m\u001b[0m\u001b[0;34m\u001b[0m\u001b[0m\n\u001b[0m\u001b[1;32m      2\u001b[0m \u001b[0mprint\u001b[0m\u001b[0;34m(\u001b[0m\u001b[0mt1\u001b[0m\u001b[0;34m)\u001b[0m\u001b[0;34m\u001b[0m\u001b[0;34m\u001b[0m\u001b[0m\n",
            "\u001b[0;31mTypeError\u001b[0m: 'tuple' object does not support item assignment"
          ]
        }
      ]
    },
    {
      "cell_type": "markdown",
      "source": [
        "### Dictionary"
      ],
      "metadata": {
        "id": "Hhfaoc4vbukc"
      }
    },
    {
      "cell_type": "code",
      "source": [
        "A = {\"Car\": \"Harrier\", \"Model\":2022, \"Variant\": \"Diesel\"} # key:value\n",
        "print(A) #keys should be unique"
      ],
      "metadata": {
        "colab": {
          "base_uri": "https://localhost:8080/"
        },
        "id": "6zFH5BZFbjWE",
        "outputId": "6a893749-2092-4c28-b1ba-855ea6989d59"
      },
      "execution_count": 38,
      "outputs": [
        {
          "output_type": "stream",
          "name": "stdout",
          "text": [
            "{'Car': 'Harrier', 'Model': 2022, 'Variant': 'Diesel'}\n"
          ]
        }
      ]
    },
    {
      "cell_type": "code",
      "source": [
        "print(type(A))"
      ],
      "metadata": {
        "colab": {
          "base_uri": "https://localhost:8080/"
        },
        "id": "DKt6Biwscf8v",
        "outputId": "441fcb3b-0ccf-4bbd-a219-4ecbc0b95b34"
      },
      "execution_count": 39,
      "outputs": [
        {
          "output_type": "stream",
          "name": "stdout",
          "text": [
            "<class 'dict'>\n"
          ]
        }
      ]
    },
    {
      "cell_type": "code",
      "source": [
        "A = {\"Car\": \"Harrier\", \"Model\":2022, \"Variant\": \"Diesel\", \"Car\":\"XUV\"} # key:value\n",
        "print(A) #keys should be unique"
      ],
      "metadata": {
        "colab": {
          "base_uri": "https://localhost:8080/"
        },
        "id": "wTkScAYCciRx",
        "outputId": "91dee0dd-e8e9-49db-fa18-44d0fdeb266d"
      },
      "execution_count": 40,
      "outputs": [
        {
          "output_type": "stream",
          "name": "stdout",
          "text": [
            "{'Car': 'XUV', 'Model': 2022, 'Variant': 'Diesel'}\n"
          ]
        }
      ]
    },
    {
      "cell_type": "code",
      "source": [
        "A = {100: \"Harrier\", 10.25:2022, \"Variant\": \"Diesel\", \"Car\":\"XUV\"} # key:value\n",
        "print(A) #keys should be unique"
      ],
      "metadata": {
        "colab": {
          "base_uri": "https://localhost:8080/"
        },
        "id": "bKleFDV8c14W",
        "outputId": "7877a382-33a5-467b-ab06-f5f72e4b6281"
      },
      "execution_count": 41,
      "outputs": [
        {
          "output_type": "stream",
          "name": "stdout",
          "text": [
            "{100: 'Harrier', 10.25: 2022, 'Variant': 'Diesel', 'Car': 'XUV'}\n"
          ]
        }
      ]
    },
    {
      "cell_type": "markdown",
      "source": [
        "### Sets in Python"
      ],
      "metadata": {
        "id": "GbZo7qYjdEu6"
      }
    },
    {
      "cell_type": "markdown",
      "source": [
        "![image.png](data:image/png;base64,iVBORw0KGgoAAAANSUhEUgAABPcAAABhCAYAAAC6akSPAAAEDmlDQ1BrQ0dDb2xvclNwYWNlR2VuZXJpY1JHQgAAOI2NVV1oHFUUPpu5syskzoPUpqaSDv41lLRsUtGE2uj+ZbNt3CyTbLRBkMns3Z1pJjPj/KRpKT4UQRDBqOCT4P9bwSchaqvtiy2itFCiBIMo+ND6R6HSFwnruTOzu5O4a73L3PnmnO9+595z7t4LkLgsW5beJQIsGq4t5dPis8fmxMQ6dMF90A190C0rjpUqlSYBG+PCv9rt7yDG3tf2t/f/Z+uuUEcBiN2F2Kw4yiLiZQD+FcWyXYAEQfvICddi+AnEO2ycIOISw7UAVxieD/Cyz5mRMohfRSwoqoz+xNuIB+cj9loEB3Pw2448NaitKSLLRck2q5pOI9O9g/t/tkXda8Tbg0+PszB9FN8DuPaXKnKW4YcQn1Xk3HSIry5ps8UQ/2W5aQnxIwBdu7yFcgrxPsRjVXu8HOh0qao30cArp9SZZxDfg3h1wTzKxu5E/LUxX5wKdX5SnAzmDx4A4OIqLbB69yMesE1pKojLjVdoNsfyiPi45hZmAn3uLWdpOtfQOaVmikEs7ovj8hFWpz7EV6mel0L9Xy23FMYlPYZenAx0yDB1/PX6dledmQjikjkXCxqMJS9WtfFCyH9XtSekEF+2dH+P4tzITduTygGfv58a5VCTH5PtXD7EFZiNyUDBhHnsFTBgE0SQIA9pfFtgo6cKGuhooeilaKH41eDs38Ip+f4At1Rq/sjr6NEwQqb/I/DQqsLvaFUjvAx+eWirddAJZnAj1DFJL0mSg/gcIpPkMBkhoyCSJ8lTZIxk0TpKDjXHliJzZPO50dR5ASNSnzeLvIvod0HG/mdkmOC0z8VKnzcQ2M/Yz2vKldduXjp9bleLu0ZWn7vWc+l0JGcaai10yNrUnXLP/8Jf59ewX+c3Wgz+B34Df+vbVrc16zTMVgp9um9bxEfzPU5kPqUtVWxhs6OiWTVW+gIfywB9uXi7CGcGW/zk98k/kmvJ95IfJn/j3uQ+4c5zn3Kfcd+AyF3gLnJfcl9xH3OfR2rUee80a+6vo7EK5mmXUdyfQlrYLTwoZIU9wsPCZEtP6BWGhAlhL3p2N6sTjRdduwbHsG9kq32sgBepc+xurLPW4T9URpYGJ3ym4+8zA05u44QjST8ZIoVtu3qE7fWmdn5LPdqvgcZz8Ww8BWJ8X3w0PhQ/wnCDGd+LvlHs8dRy6bLLDuKMaZ20tZrqisPJ5ONiCq8yKhYM5cCgKOu66Lsc0aYOtZdo5QCwezI4wm9J/v0X23mlZXOfBjj8Jzv3WrY5D+CsA9D7aMs2gGfjve8ArD6mePZSeCfEYt8CONWDw8FXTxrPqx/r9Vt4biXeANh8vV7/+/16ffMD1N8AuKD/A/8leAvFY9bLAAAAbGVYSWZNTQAqAAAACAAEARoABQAAAAEAAAA+ARsABQAAAAEAAABGASgAAwAAAAEAAgAAh2kABAAAAAEAAABOAAAAAAAD9TsAAA4VAAANpAAAADEAAqACAAQAAAABAAAE96ADAAQAAAABAAAAYQAAAADZ5NcaAAAACXBIWXMAAAsRAAAK9gFvmVCNAABAAElEQVR4Ae2dCdx11fTHT3kl098cGctYSDKUJiGzopIiySsqjZpJGqVQpkgRDVJKxooiQyFRocyZ5zEZKjP93+9hXb+73n3mfe9zn+dd6/N5nnPuOfvs4bf3Xnvttddee7kbb7zx+mtv+HNx+1veoggKBAKBQCAQCAQCgUAgEAgEAoFAIBAIBAKBQCAQCAQCgfmDwHJLlHs3zp/sRk4DgUAgEAgEAoFAIBAIBAKBQCAQCAQCgUAgEAgEAoFAwBBY3m7iGggEAoFAIBAIBAKBQCAQCAQCgUAgEAgEAoFAIBAIBALzC4FQ7s2v+orcBgKBQCAQCAQCgUAgEAgEAoFAIBAIBAKBQCAQCAQCIwRCuTeCIm4CgUAgEAgEAoFAIBAIBAKBQCAQCAQCgUAgEAgEAoH5hUAo9+ZXfUVuA4FAIBAIBAKBQCAQCAQCgUAgEAgEAoFAIBAIBAKBEQKh3BtBETeBQCAQCAQCgUAgEAgEAoFAIBAIBAKBQCAQCAQCgcD8QiCUe/OrviK3gUAgEAgEAoFAIBAIBAKBQCAQCAQCgUAgEAgEAoHACIFQ7o2giJtAIBAIBAKBQCAQCAQCgUAgEAgEAoFAIBAIBAKBQGB+IRDKvflVX5HbQCAQCAQCgUAgEAgEAoFAIBAIBAKBQCAQCAQCgUBghEAo90ZQxE0gEAgEAoFAIBAIBAKBQCAQCAQCgUAgEAgEAoFAIDC/EAjl3vyqr8htIBAIBAKBQCAQCAQCgUAgEAgEAoFAIBAIBAKBQCAwQiCUeyMo4iYQCAQCgUAgEAgEAoFAIBAIBAKBQCAQCAQCgUAgEJhfCIRyb37VV+Q2EAgEAoFAIBAIBAKBQCAQCAQCgUAgEAgEAoFAIBAYIRDKvREUcRMIBAKBQCAQCAQCgUAgEAgEAoFAIBAIBAKBQCAQCMwvBEK5N7/qK3IbCAQCgUAgEAgEAoFAIBAIBAKBQCAQCAQCgUAgEAiMEAjl3giKuAkEAoFAIBAIBAKBQCAQCAQCgUAgEAgEAoFAIBAIBOYXAqHcm1/1FbkNBAKBQCAQCAQCgUAgEAgEAoFAIBAIBAKBQCAQCARGCIRybwRF3AQCgUAgEAgEAgsLgX/84x/Fb37zm4JrUCAQCAQCgUAgEAgEAoFAIBAILEwEFi3MYkWpAoFlG4E///nPxc4771xcd911xc1udrPiqKOOKlZZZZVlEpSFhMWNN95YbL311sVf/vKX4iY3uUlx+OGHFw95yEPG6vWQQw4pvvzlL5fPCLvtttuOvY8fCx+Bf/3rX8WJJ55YXHzxxcX1118/KvDKK69cHHHEEcVKK600ehY3gUAgMByBNrx5eCoRQyAQCAQCgUAgEAi85z3vKT7wgQ8UyLvrrbdese+++3YC5Tvf+U6x//77l9+vuOKKxWmnnVZwXQg0WLnHxPnyyy8vJ5uLFi0q7n//+xf3vOc9FwI2EykDjfEzn/lMaUXBxPsJT3jCRNKJSJdtBP72t78V1157bQmCWe4sq8q9hYYFij2IAe2aa64p7/UfVlpGv/zlL+12Xl9/8pOflMqqn/70p8Wd73zn4tBDDy1ufvObz+syTTLzu+++ewFWnmgP3/rWt1op977whS8UZ511VvH73/++eMQjHlHstttuPrr4PSUEUBx985vfLP7617+2ShHF/5prrlkst9xyrcJHoDwINPHmPKlELJNAIMaYcVSD/4/jkfsXioUf//jHpRx361vfunjUox5VLtjmTmchxBd9cyHUYv4y0H9MJvr+97/fOYE//OEPZf/jQ+L5+9//Hso9Q/GNb3xjcemll9rPkjmdccYZxS1ucYvRs7j5DwIIfmBjxMQplHuGRlwDgUAgEEgj8NGPfrS48sory5e/+93vSsvE9ddfPx14GX/K4pFX7KEQRdmPov/f//53K4ROPfXU4mc/+1kZ9mMf+1ix/fbbx7jeCrn8gd7ylrcUH//4xztFfNhhhxUPe9jDOn0TgQOBZRWBGGPGaz74/zgeOX/96le/KvbZZ5+xKJ/+9KcXO+yww9iz+PEfBKJvRksIBLohMMhyD4uYyy67bCxFrEk+/elPF0972tPGns/XH1gtYPaJheJd7nKX4lnPelbvonifR//85z97xxUfBgKBQCAwnxFgnMAaafnlly+e8pSn1G4bN4sYKy8rbEFpBM4999zRi5ve9KbFm9/85uJud7tbgfXXt7/97WLVVVcdva+78ZinxiusAC+66KJy9fPhD394se6669ZFGe96ImBK1i6f63bsLt9F2EBgviDQZQxpKpPnd8v6GOPxSPH/JkzjfRqB888/f6kXn/rUpxaUci/65lJVPO8e5NR/zLvCz/MMD1Luffaznx2ZNCoOrPIvFOUevqs+9KEPjYq35ZZb9t7q8n//93/Fgx70oOIb3/hGGd+jH/3oUbxxEwgEAoHAsoTAKaecMto6zvbBF7/4xZXF32CDDQqEXwg++tCHPrQy7LL+Qrdlo2xDsQeB8eqrr94ano033rh473vfW4bH3Qa4ezrvvPNKNxM8Z1wL5Z5HaDK/qY86Yltul7quiyveBQKzikCXMaSpDDHGjCPUhv+PfxG/2iJgsoyGZzHmq1/96lI+lDXMfLqPvjmfaiud15z6j3QK8XRSCAxS7qHES9EPf/jD4re//W1xpzvdKfV6mX726le/urQC5JADBPCgQCAQCAQCgXoEHvnIR5YW1FgTpJRM9V8vW2//+Mc/jgp8r3vda3Tf9eZ5z3tesc022xRY6Iebja7oTS48Owhe97rXTS6BiDkQWAYRiDFmvNKD/4/jkesXvvbw9ZUitp/6A9JS4Za1Z9E3l7Uaj/IORWD5vhHAnNjiY+Qt9aoUfxZ+Wb4yUQrF3rLcAqLsgUAg0BUBtpiGYq8ZNVxjGOGoewgxToVibwiC8W0gEAjMFwRijBmvqeD/43jk+IUCzwhfuPe73/3sZ8EhJjp+j17ETRF9MxpBINAegd6WexwfbMQpP7al6iMf+Uj5mMMi2KJzn/vcx4L1uv76178ufQZdddVVye9ve9vbFgcffPAYg9SAHPbx+te/fnSiir7jfo011ihe/vKXF7e61a1Gr/70pz8Vz33uc0e/9Qanp0qU/cADD9RHtfe77LLLyNn54x73uGKvvfZaKjzM/+STT67MM4dw7LHHHkt91/QALE4//fTyhKaqsPe9732LPffcs6iy+ND8gxuD09FHHz1yvK7x3uEOdyiwVMTSoA9RB9QFtNlmmxUvfOELk9GgaGaV0YiTNPH/pDSJfLP97cgjjyzqTunBofl+++031r7q8oVp/rHHHqtBytN7zj777LFn55xzTnl66NjD//7YaKONxvBIhdFnnET1yle+ssDJb4qoRzBdZZVVUq8Lj23bMgxN1zKTEwuLs+qK5RjO7Tm0IEXwkRe96EUFW1pSRF5POumkSgEOAYb+N40t+7nwx3QfHlDl42vttdcu+dVtbnObkhfji8UT44aNHfbune985+hU1yuuuKLggACjM888s7jlLW9pP8eubG0hP1Wr4wTGdyo8I3WaKL7plM/jc/Xzn/98cdxxx5Wnwo8ltuQHfRxeiDX2EBrCT7QPah7e+ta3FvwZcSjG5ptvbj9rryeccMKoTuABbLOBqD/GVE/4hdt0003HHpMv/Ckq4b+W+qFOU9TUBzRfT3rSk4ptt922eO1rX1t87WtfWyo68v2qV71q5HOQA61oO55I8xWveEXtARSTGpd9XnL+ZgcFdW60ySabFDvttJP9XOpKH37Oc54zek5YvjGib7z73e8ebde253plrCbNVN/SfrzyyisXxxxzTNl3OPVOie+vvvrq4pJLLhk9RqasUzTTzs2XFfVJv+1KfeTFrmkQfijv1f4O77njHe9YvOY1rymQlz1hCXTQQQeVcgR9j777xS9+0Qcrd9ogr6200kpLvdMHQzDKwVvJf58xRMuQute2yfvUGMOJivBBP1ZZfCjDmAs9+clPtkeN16OOOqocXwiIjIWP1CpizLJxLdWXPW/cbrvtije84Q1JXksfYe7iZWVLW+NS/m/v7YrfXORD76OP93e/+91LvgrvRPaBUvnOiUGZyJJ/Q8cZiyfnFeXdJz/5yVGUjE0swG299dblMxR7jEPgMZSGjFd9sVtofVPrgPkR9fWjH/1IH4/u73GPe5TzeVXWKk9pGu+8XDaEz5KpH/zgBwWH4iCfVxH6k1133bU8qdnCDNV/DJURLB/4+2NsS/kbvvnNb17yHAub68phc8iIuKNJKdmxIIVnqnEWY+a05ZQ25e1lucdJfL/85S9H8duJr35Ag7kMIRjM3nvvXVQp9oibgc4EOk2LBsZJvihf7KhkfW/3TAg4oYiOYMQ2pLbU1eku+TJKOajFv9/xxx9fm+cLL7wwOZBavKkrwghYeCHah/3e975XvOQlLyl0a5eG0fzToAmb6nx8w6mWCKFVSiONt+k+hZV9o3niWapTapgc+Ua5gxBXp9gjLzBWJiooHFKk+frc5z63lGLPf0N4lH8nnniifzX6ffHFFxf77rvv6HfdDX0HRXFdHVGPu++++5hQonF2LQPf5ko3JxZaptQ9gzqKuyrFHt8wOYbv+DA8Z1Cg3lLt09Lj0B0UHwwYbU81tW+7XHPgT3rwqkMOOaRSsUcYDl2yk+HqeDFhlfQAIo9FCkPaIYpTcLYJkMan9yjL4U0oP5qISQ5KiNTkhW/p4/BB7QdNcfr3Q/mJYuXj1t833HCD/qy91/Lofd86JDEO4GCRpkqxRxjrA1WTXM3Lz3/+82LHHXdMKvaIC96Fspzx7IADDkgq9ixN2vGXvvQlfi5FkxqXl0oo8wOUPiuuuOIoVs+XRi/+e8PhKEp3vetdRz/pUyxGmh/G0Qt3A1b0B+Q3T9qPkZ1YJE7JJCgG8U+slPJTpe817ygVuhBtqq+82CUdwubgvdoHkBuQk1OKPdJD9qBt8x5ZN6XYIxy8kIleFe+cBEZ9eOsQ/kM5q0jbJmFSYwxKlyrFnn3zvve9ryqJ5HOty1SayY+WPPT5JZzG9Ytf/KJU5FfxWvgsSrkqnqBx6b3m5xOf+ETx0pe+tHJsZG5Am1L5tynfQzEgfznGGS1nrnv6vhE8CuMIFix0K+7Xv/71WnnKvq+7DhmvhmC30PqmYcxiAvO9KsUe4dCLYMhx7bXX2mdjfbRpvLOP6GtDxyIWjxiD6xR7pAevR2Gpcs8Q/UcOGYF8oYdgYbFKt4AsDt/xB7ry7RBiEew973lPkvcT7+WXX17OrbWdT1NO6VK2RV0CW9gLLrjAbktTWbSZEKtOrPAgUEMcuLHbbrslV3DLAA3/0Dqb5RZBH/vYxxZYJSH4ffe73y3Y+ls1OePEQF0hwaLmqU99amnhR+dDAcKKE8TEmxUHLHIgfAViOUPa11xzzVgD847cvVVCGUHPf0y8sFYxQquOzyNWBMAU6xH++hB4GaF1xqrSnKSjqEVgAQeIwfXtb397yajsm9QVDI2IEwuWRYsWlR3OBmgECDpLykLRvp32dWi+YfAoYJRYlcEKlPYP1gzQxgBgRAiFWDyoxl+/516FLFYmmFiRllpAEAblrhJWllhckqYJ+FUCun5H3GrVwzsU9A9+8IPLQQmluvYhJtvrrLNOpRUi37cpQ650c2JB3psIP1fKj9giyqo3E2gGU4Roa/dYnaj1HVYVKuDSDtZcc82SHxEnAhW4GKGAZqUbK5jclAt/BAe/gEPbga/AyyivLQJZu3ziE584mgiwsGJ4YUWggyT8mj7VhRBoP/jBD459stpqqxX80YeoE/4sTQQHeL5aBI59/N8fH//4x0eP6ZeMd/QvrU+UTLRHxqeuRH0M5SdYGpqgc+WVV46ywGEa5vuWU4lxGj+U4POPeMQjChZcWBTTPqHjI+mZbECajAWHH374aJzhGe/5Y6xDoHv/+98/qh9wX3/99Wut6eB5SqSPMgshzOoZPox1nxITK1bYEWo1/8gc3pJlkuOy5mkS97R7+JC1YcqKz6eqAzmU39PW11prrVG2sADSxSzkEhZ2aWO0f/qfTWzwu8wKOIshVWRyor1nHKOu4BW0HayfkUOMKINaEdpzrrQDVb7DZ7rQEHmxSzq5eK+mqWMufJQxGqsHO7iNsMi6vi7g1YxhKPu0r2DxqNaeltYkMLJ2SRpteeskxxAra+oKf9XJMjIX1jbwLto/ymd1VZSKY5rPvCUzfZ6+6nkeC2Iqq7TNI23sTW9601jw29/+9qUcjGLR5hy0Ldr9tGgS40yOvLPYoYYq7Nwyok2rPIHStK/sN2S8GordQuybjJm0c+OR1BnyAwrZFVZYoZQpkd8hwjD20Q88NY13Fj4HnyUPSvB68otVNuWBV2mfZG7HbkHkhSH6j1wyAoZIOp4j0yHbIXN+5StfGdUF7TUnKSakRz0zjiqeyKnIibYDYppySpey9lLu6QoqSiJVPugJS1QOAwkTgT6kzG7DDTcsVyctHiYYmDIz4NppgPaOdE877TT7Wb5n2476a0LRhyINgRRi9Zi42EIGoYGHEHbRohsxOdHy2vMcV1M2WlwoE3SLBBNHhGcGCAShLsT2aOoC4XiLLbYolbL6PdvUEP5MKaRCjIZL3VPnrM4hWEIoOrCWsI6HMg0lr71PxTEXz/rm2yvEnvnMZxaLFy8eKwIMFOs5U26gOMVa6NnPfvZYuNQPtnpj0QBerHKa0pWwKEqVwJWtaUZMvl72speNFIv2PHXVcpAWfQSB1QhlOv2O1V2IgYt+tfPOO5e/6/7VlSFXujmxqCsL72jDyvgRlI844oixfoh1EEIAigW2oBoxmVaFC5MBLPM830JRhiWcEVvoUbaq5Y29G3LNgT+ri7YYQl5QVsIzUcYoMfFU/slYYOPB85///JEyAKHQXDvo923vUQqgTDAiP/QD2qESdcFz403wuTplh34Lj1PrdMqmSjkUU32Ue1ofpNeHn7Ad1rbE2pW4mCBonnk2lLA2wBIIovymXEAQYnt/FcH/lJdhMWxW/3yDLEE7wErYBDssXbVPVMUN36I/2lZtxlJWdj3B5+h7ptxiwsUKt1kuI8QxUde+Oclx2eevzW8mCSxGVhHCubqpYAFSlSgsilr5NQ7GLARXIyb8JusweVGZgHeMb/aeb5CpsI60ST0nKSNXKC+0uPVKX8V6wJT75APlPgo+5DxLl7phMdeU1RqHX/DSibOGS93nkBdT8aaeaV/PPebi9xorVnCDsLBUOdjyQ9umDzAOQYxryGs2eWXx3iv3Jo1RF946qTHE8Km6WjvkPYu4yOeGNRNn+hn9J2WxWhXnNJ6jhGeybPVN/ui7WBpB8BPmWmo91iZf3r0BC0fKc+nHWNGr3NQm3qFhJjnODMkblsXWx4jn8Y9//Ci69dZbr5Sh7D38uq9yb8h4NRS7hdg30RNYvVBh1It3EUUbR/5gYcr62ahy3U3VeEewXHwWWYwxFJmKrfk+TyxKoMtgrgLBA8i7udDqo//IJSOw2KRGW8ib7NAylxzUBeOoyjRlITL9AzfqUl3KeVkf5Tv6EuqSfE1DTulavM7bclkhVQFdFQskjnCupFZ++rzNvWq6sY5JEco4FcQJg1m8WU3xm8mcKvZ4Bi1eopChIo0m1Vgs/qarWbdYOAQIT6wIoHTpSkz4EPRQiCJUesJfFEo/I+o4ZT5v7+3K5AzBUOO85z3vOTYw0RnxJzVL1DfftH9bpaE8DMq0I0+0N5QadH6jpu1MhGPShZ8BwxPh0douaTPxNGIC4/sfDIl0m5S/CABaDgYAVexZGlixwLiMbCJvv1PXujLkSjcnFqky+Gc6SaJOvWKP8Exi8f+Jgk/9Z3jlBAoRz7P4nsmxCnTwMN3GQZihlAt/rLJ1AMZyzCv2yCtKACxWVcE3tAyp7+lbyvNRFHrFHt/RNqkjJVbhmohtb15JRtm0z5iCqCkufT9pfqJpzeU9ylTlf/AUVexZ3hDk1MoO68omXFddddVSWWGKPeJ64AMfOFqos7jhqfQ9VWwhmKkijLB+MjrJcdny1uUKlmwTqvoDZ52M0EbVkoC+myLd1sp73ZWgbiCQmRjzVbFHeGQIFKVG5IEto03EJMMUe4RlvDOliT+ozSvxCM9Cg+5owCLaJgK8b6JpyYu5eG+qPIwd8DzDjTAoVlW+5RmTNxTDOtlbZcmOG1WGMsFUXsp3k8RoUryVfOcklWG1jWoa9LWuSjL9Pvc9ij2UkFrf9A1cUih5nqfvUvds3dNDE1G4qx92vgEj3FnoJDkVV85nkxxnhuZT55dgcrvb3W4UJWOTWrmjeG0a90Yfu5u+49UsY+eKuNTPSfVN5sFqzISs4RV7ZAYeyhiJ5VpTe68b73LxWfKA8QMLqNr3FTgW15V0bqnP297nkhG80QYym47nzL9YAPayQdt81oVjvERx6OsQWV/lVcZHnQv7vExCTqnLd+pdZ+WeTjZRIPiBDOEcrbERW9W67OG277iaFpl70m07ACFEGTHY0vFSRCNRxQWm5HNJKMWUdJVXn0/qXuuNNNiSXEdMoKoO9kDppaSKAH0+F/dD8m0rHZZvtk1XEQxJcWDwNMvI1DcM8DjT9ZMmC6vbbHimTv8tDFcUR00OeXXLBv2gKi7iU2skBjudOPJeqakMudLNiYXmv+peBabHPOYxtcrTe9/73iPlLBNPtYbB1Fv5mk/P14NZwfhwfX/nwt/7yVJlps8b/cDzNh9m6G+1qmBc8otMGj91oAIPlsZ1xME+VQsqqkBkUkx9d6FJ8pMu+Zh0WDBWvrHVVltVJkn/Uqryu0IYrFqxOE4dZmJW+BYXViReaOMdq9tKfqzybXfa47Lmre29H0OwUjeinaJU9qSTGBYWFSuVvVAkwedTxNZaVSSadVAqLM/gd16G1LBMeHWhihVzT2zTUWVUXd/33/J7WvJiLt7ry4BiNGVNTxtQbBnnmXzqRMniUsUCz3SyzO9JYTRJ3kq+c5LKx1iRpg71yJne0LjgjSj2tP9YnGzToz0YeZ5nz6uu8GTl5ywye57Dt/BlJue5dx9U5WtS40xVem2fg6+6NFB+bHF4vuVdnli4pmvf8WpWsWsqL+8n1Te9nMuuiiqi/etibypc03g3KT6byotixnvP81Pf1D3LJSOoPA6fUiW4ps9iFu9zEjtPqtLzi/s6r5uGnNK1nIu6fAAz5wQXI7bspQgmhR8HiG9YKVYT5NQ3qWcI57bXGeENbS1MkYmBOnr239pWSJ4jyKpC0odVhV7XAc7HNfQ3PoAQmlECQaz0sAWX0+uY8OhgPDQtvmciylZClHhY6XllXpPlXpU1JXH7d+aLh3dzTT5vmh//zudbVzdQEFSdKmxxYs2klhIIRapYsHBcmWRWMRbeq4IJgU0nX7xX0gmWPrd7P+nSVVgLY1evYKLPsCKcoqYy5Eo3JxapcugzP+ipHyoNl7r337ICVEesgKP8s1Vb5U9137V9lwt/HYDJc127bZu3IeG0PVA/asGSipexxVbSUbjDC1OTE75V1wg+Ls8vrrvuupGlrQ+b+j1JfpJKb66eaXshD0x0/LOqvMEzbSu3D4Oiomri6LdvVtUjYy5jq01WqUOlaY/LmnbqnryqhZwPgwWxb/9MvtlyZUTbV8GYPqCTT5XX2F5nMgnfU291MhUyl5HKYvZMr3VKXsLRJ1Gs20QXGY1JxCqyYKsKP+oyZUGsafp7zeMk5cVcvNfnP7XDw8Jomwcbb8ln4Twf0905hJkURpo/y4tdfZ668laLJ9eVhRz16YoFJHITlsbal3KlNzQeeGNKsWfxwidMvrWrvWu66rhF2Kq5IO9od/BoVcDzfBLkx5Rc48zQvHpLntRiIWOc4oTy2G+Pb5OPvuPVrGLXpsyT6pseE78I0iZvGqZpvJsUn7U84I+RMTR1EKjJPxa2yzWXjMD4q7KGGsek8tPk8iP1Td2zuvGIHR/wMsufzu2mIafU5Tv1rpNyDyfvVjAi81sCLQEYlyn3eMYAqMKihWu6YhXFdgsVivCBxx8acpRefnWeOHU7L4NQ25X2aQw+dWVmIGa7CytdRkxa2dJ23HHHldv22viwsW9TV/zuUR/4AFMhPBV2yDPf6ZoUhUPSyvltU75V2dJGoYElqxJtua8gqAqMJuWdppm6V+EMpt62jxCXn/ym4q96livdnFhU5dWeK//hmVcaWLjU1X/r20PqG+rWlHu5Fxxy4a9CSJt+kCpnrme0X52MtsHY1yELG/5Zm/zZlnkL25XPzSU/sTxP4+qt73QLR1P6fflN3cTWp4nQViXcTmNc9vmp+007TU0O676hT7AgY/yIRVpVaHsrJJXt7BuL/wtf+ELBXxtqqrsqhbrGzZYXU+7xHMWiWarR3zQvLC51XQSdlryYi/cqNk33VYpv/13K8lXDTAsjTXMob9W4ctyz44Ot6qrYZgcBfiYZs7fccstSRu/a/nLkrU8cKP9MqdfV4lzlL9JuM+b2yWPXb+ZinGmTR12AWH311ZNKdnghCxN2qBELLrjOIXwX6jtezSp2bco+qb6pmNCvU1bPbfJnYZrGu9x8FstDDsvEj531dctLzmsuGcHzlTplW878t43r1re+9QhHbww1aTmlbR4tXCflnrfuqXOebQlw5QQpGFWVxZKG1XtWn/FfdcIJJ4ysLOw9JpGkzxYrBlfrdGim+1Lddrm+cXb9DsseVmJR8GlHR6n64Q9/uBRy99lnn86r0+SD7UtqRdY1b13CNzGxLnFNM2xTvjkhzIiO3kScpqQ0RIGszLmt0K5p672WQ5+3uU/5i2vzHWFypZsTi6a8+wHHK4DrvtfVHcL5CUvqW7W66aosSsWnz3Lhr7ypyhpE053kvR9k2ygbFWPy1hfnJn7RVG6tj2nzk6a85Xzv66hL3E1bXbrE1TfsJMflvnnq+h07KnAODjEOsZXdTgbWLblYxamie0jd4aJgKLHNjDHHlGP4ujHlHm5fdMGZLcNdaJryovb1Lnkk7JAxt2taPvw0MdK0h/JWjSvXPb7q2K1BP9J2hzzCyc5Y9nEAmd8amSv9nPEMwVfHf/I0KwrNIbxqUuMMJ8rrIi0HeHk/r1avzJOV8FnfVbnH933Gq1nETrFoup9E31T5nQXASVJuPssiRBejjSFlG9J2VEbQfkJ+1I/ykPzl+lZ5pp9DTFJO6ZP/1so9Gp6eXktinhHVZYBtIE0mqanv6VBsx8X0/QMf+EBpdaYWZ1igveY1rykOO+yw8nPfGNDoe8eRqXSotEkx91R6dc/woXLKKaeUK9IIC7oPH4GCk86w5qvblunj52RLVewxGGMGjiCPMhElFFYk6vTcxzGXv/tOvnPnmQm4WQk1WSWQtg+z8sor986SKlGGDARkAAWICWis9NmJuE2ZY5LRRbnl48uVbk4sfB79b19eJmltJ1vewhLz9SZSBXAbhU9TfPo+J/7WD9jaP5fkF43aTKK9H1hfT9Mqz1zyk2mVkXT8Fjt8gnrhKJUf2usQnpmKs++zSYzLffPS5zsOTTDlHt+zVQzlHv1F/eWo1R7hfN1xKJf6KiZMirAG6yKjpOKwZ+TJdoPAd+x0T93uxsKJHsxh39Zdpykv5uK9deWZxLtpYjSJ/OeOEwsNFOVMns8999yRlT3pMDnF2OAd73hH7ZbYqjx1taCrimfSz71cwrwkl/JjCAaeV83COKOWntQLFuJt587M2XDB0Gas9HXedbyaRex8mZp+5+6buhivcnlTPvq8z8lnWQDzij22lbJrjHo2Y6hcB935ttNXRtB5HRj6+XMfXHN+ows62jYsjUnJKRZ/l2tr5Z6ZCneJXMNiltxHuWdxIBhxSs0LXvCC0nqNwdO20bACzTY2s7xjomaWPQxCKPjmI+FHgD9WrOmEWEAacaIMhy+0IRRjahaOMo+jpX3jxAR8lpR7ixb9r3l2USCodr0NPl3CsP3AtiSacqzuewtrYYas6CoDbSscWLr+is9KcwiKondafSRXujmx8Nj4316RhyVf263V3jcofVmdnPu0+K2rYD7tVPguz3Lhj7m8bR1uo0zrkseuYVEiqK8ay1ddPLodFuV2rolJXZqpd3PJT1L5mdQz3w+wDJuVrVxdy5xrXO6a7tDwpvyyw4guu+yy0mJVZQPS0JNT+e15EPLVtMYL0oc4qc6Ue/xmFwmTVz2QxuebcG1oWvJiLt7bpky5w0wLo9z5nlR8jBc4x+eP+QcHlZhMxgIelrAoGtqQjj22YNbmu0nKuU3pe96NnDtEts2FwayNMygqL7744iY4K9+jTIBPM+b0pbbj1axh17e8OfumP3SCPu4Xk/vmM/VdLj6LIZQR8zt27aHc8/TmN795pEfx77r8ziUjmA7H0m4jy1vYSV/RN6lxRmrL8CTllK7lW77tB+Z8nPBMhs4555xy1YqVq6o/HHsawfz9vmx71+XKCsYmm2xSvPzlLx/7DFNnIwUdhdWQlSCL066T1t5bOnql49A59RADXWnXsKl7lIKmCOX9brvttpRiL/XdXD9T5WOdIk1PoSPPOevbY6ADIB2d9lVH2m8IN8QKRbdK0Q7r0vaY+DwqM0agnBYTzZVuTiw8Nv63r7PPfe5zPkjlby0vgXT7W+oj+JhNEnjvhYvUN12eaX6G1LsOwiyk2Ja5LnnRsCkHv/q+6V6VvX6rnv8WgRkfJEZ+omLPp3GdS36Su3y6qunj1rGLd3q6sQ87X37Tl4aMy3NRTrXKs4mj+ttj4cFW9S1/TGZ02x27JaZNrOivueaao2TxGQgfVrnGn2Y3CtxwM0l5UZPOxXs1zmndTwujIeUZOob0TRsrVnxiax/Rw2ma4mVCb4SlSpX8ioymlixV4SyuSV61PZBOnUzEYqjmO5WvXBjM2jjDOKc7zXbYYYfK+bLNo9mJpuQt//Rdl/um8WqS2M3XvqlyLljr7rcu2LcNq/2qr+4CvqD6AcbFlGKvbZ40XJX+I5eM4BWnnLlQRYz9bHnPSf7wSI2bMyeU/LyQd5OUUzTtNvetlHsMKnok9AYbbFB5sqAmihZTSZ0i6/M+92usscbYZzqwakNGATPE6tCbn3v/W2OZmOAPVum0XF2S8nn+85//nPy8boBOfjDhhzphR0GpWnNLGiFfDyCx55O6+m0/Z5xxRmVSWMapAo7JyZDVVp3ckCg+GFPENm5OcqujBzzgAWOv3/Wud439ntSPXOnmxKKprFiGqaIZ5ZH64tDvEeTe9ra3jSxK4EuqPKId68Cr33LPdnylro7z9dvUfS78PS+q6wdm2eDzo0oEz6N82Kbf6pcGpcV5551X+cmHPvShMX9JfS1+KhPo8GIu+UmHbFYG1W0UZi2fCoySWsfoM888s3ISm/p+Vp+1GZdRfDNBQ6E8lxNyMER203o466yzxhZdVfmnmOsiA2Pu0P6qcbe9Z1HXiD6OP2YjJq6qPLPnba7Ky4bKi3Xp5eK9dWlM6t20MOqa/5xjSNe0NTzygSqoush5ulDJhFUPiLE0MI7YY489xpTZ9m4urrgwUj7CInZqcYcdN/vuu29jvnNhkHucGcq78Zmn9JjHPEZ/Ju+xilZ5E/mpas6WjKDmYd14lRu7hdA31R8csL7vfe+rHMPpo8ccc0zl3KCmWkavcvBZFOm66FWlkMMiVMOleFYX/UcOGYE8qJKZ+RK4ekKOwpVU6p0P2+U35zikFp5Jj7pXqnJNMik5RdNuc99Kueetj9qefLvRRhuN5eGiiy4a+133g5UvTobFV1xKqfP+979/7HP1l8cpumrmTRz+MBD7mIaP0pFKTQmsqknnGywWjfhWV2Xsed8rfgNf/OIXl2bYPg6seVSLja+8tuT93rBCpMS2XXxTaNn0/Vzdq+UneXjVq15VmK8sm8AfeeSRU80ejmp1NQcrBvLlfQLCIPbff/+xvJkT8LGHHX7gH0lXNlhJwCejEpPIl770pWNMW9/bPXGtuuqq9rNckWL1WZm9vYSxMRDg61Etnux9l2uudHNi0Sb/8BSlvfbaq/jJT36ij0qhfMcddywVS4oTrgSU9t577zE/mryjPR9yyCGFWlyyncILFxpPn/tc+DMGqGIHHx8oNVV5gWCPOwHKhcWi55U6GWKroCpM1XqxTTlxUK2TDbbwpfgZSiVVZCNEP+MZz2iTxETCzCU/yVEg5YW0YdqBEZahxhcR9NnCZoQikElfVT0z/jNuU19zTUPGZba8Mqbj/+aII44oTj311DktDnLR2muvPcqDuWbgAe84rTFF8DUleJjultB3bNM//fTTy/FCnw+9X2eddcrt9xaPKhOqlJIWtu6aU16sSycX761LY1LvpoVR1/znHEOa0gYDXOH4cZ/v8AGpzuC9zF0X92qrrTb2Gr5nOykYT7/0pS+Vftf8+Dn20ZR/wM91qyg7a5DFVX5kYRveV8XjNcu5MMg5zgzl3fAndRuA4kaVdlp+f49coNRl7tx3vMqJHXlfCH2ThflHPvKRo6owuUWVrbT5s88+uzzkiS3YQ6zJcvBZ2pgeuIhMZvNmKwg6AHQeSiq72/Mu+o9cMsLmm29uyZfXl73sZYW65aIOmH9NYgcBdcl8hXm0yRfIsChtf/jDH47yhVumKjcEk5JTRom3vPmfU7OaD9TyjQldW38rMAtOs7VKQNg3R8g1yZWvGChRnqGU48/ARLP79a9/fcySkFUftY4hj89+9rOL0047rYyLCmPAxE8dCg0aLHlhm7BWGBNWjYePWQ1m0miDFg6csYxiazKCMRXZ1vddmZmaf6wSoYmm06HEYYsM/vHwwYViz/JAFBtuuGFNTOOv0ISrTyq04fg/ZHAGY+pnlgQHy/1mm21W+gC0coM7zI8VAgQse27hp3XdaaedRge4kCYrrVtssUWZLw5fwDLLK6Q33njj3pYFWq5NN9101K55jhIDqymU2xzb3kaQsvhYCYZJGrHKyOCEQok2A3ND4X311VePGB1OX2nzQyhXujmxaCoPpzDCP6xeue66665l/8QfKH1X+5ApNYiXCTN4mlsCcEUByyCMkp64eKftGZ7DFo5JUA78yR+HHHGSuRHWcvBqBj2EH7+q5oUHBHo7pImyMxGgHfMd7Ri/qp4fW1r+Sh085SlPGbPYO/HEE0tLSJto0S/hd0oIJH2cVWscQ+/nkp8Mzbu3RsKKmgUHcIYfsaBhJ5g+97nPLeAx1k9QDi1evLgckzmBEh+rTBIZnxifIZSHjOVzSUPGZXinEnENJSb+jI1NtN9++yWVdSjCsL7ztO66644pyPU9sggyGLIXBM/aZ599yjGPumPco8+ilNVFUnidLrRqnF3vkf2Y9PrFZuJhfO1LOeXFpjzk4L1NaUzi/TQx6pL/nGNIXbq0Y3jSVVddVY77tHmUNchDzCF4bsTYiCK3LREP8dnuKPoWYyFyLgtexi/bxjetcFtuuWWhW9XY0fDMZz6zPESHPJu80yY/OTHINc4M5d0oVVSm68KjvCwDz7NxtAnPIeNVLuzI40Lom5QDX/+qpEVu2WabbUoXS8gs4A1/MBqyBTkXnwV707uQNw64WGuttcqDFHmuCxGW79S1i/4jl4zAThpOHjdZHWUecw3mUPBb5MNJE4uxGCvAg5FjtR+T9nbbbVeZhUnJKZUJVrxoVO4hrAGuURelEt+wNdcaGb+Z/NEImkgtAgiLUGmCpX7LQMqKuCcGHhqwmkUzcajz3ZZaVUEwRYnAVi4jFdCpyFyE0tEmxAjKagWhaTBIeKtIfe/vySPKBDtRmPcMvuprh2dMpFEk+obMu7kglMOcdKyOtGFUqpAlXwyEWJbV1W3O/HPKMBNyPdQFzEw482mh+GMSm4OwZuUwAFW4wwR934D5YC0FY6oiFCn4Xzz++ONHdU67wIrKnK77b9Vy0L9r+ztXujmxaMo7CiDMwPlD+DZK8RR4kt/qSd/DwhN+akQ8ptyyZ1xR6JOOXzXTMEPuc+GPsMkqpU626Z9aRssnbhToz0pMBLDANn7Dt7qNXcO2ud9+++1LvqZ9gzhTwgB8fc899yyVBW3inmSYueQnQ8vFQt8qSxTUKE6N1BpMx0e2t9MPsAA2mYK6J7x+Y/FwRdidaxoyLnvFsSr9u5TLx2N9pi6OKgGe7SQsTnqlQZP1G5bo1B2LbEaML1VjDHxQD8Wyb4ZckcWU3xCX38bWJ/5c8mJT2rl4b1M6k3g/LYy65D33GFKVNuMFf4wnELJelbzH6aZtF6UsPRZBDjzwwNFYmJInMUxgXpRSzFs807zSlimrbo8n396il/6JzO75jc9rLgxyjTOe53bl3f6gojZbcg0TFkhpQ7ZQgkzFnLCN/D1kvMqFHeVYKH0TBReLMrqziXaeGvfQIWDQNIRy8Fks61FKGr8ivyjfleBnbLs1WUzf2T1huug/csgIyA3IGVjsmYKP/PjFAnghVn7MX3MQPvRQHposmuLBpINRh7oBSqU9KTkllVbVs8ZtuWYebhF0dVqM1YqaiOrWK4szdWXCwLadOj8q+I9Bu6pOyS0uGDOV4B1e23u70pAYfFjl9v6PLMziJYoZ3Udtz7l633/6LnWvWNCQlCgvPrboUCnCzJnBlL+uxAQShUFK6CA9lLB0ElWqwug91eXfhwVbI19We950pfNyeEpqkodWHYFol112GWtjXolAGrnzTXtAu8+Ko5bTysMz2jDbndmWqZNcC9M1X4QnHpQSWDCmBnqslJhAo/hiAmeUwoR3TOhOPvnkckCqaneEY9UE5UnKiqYLtsQF5Ug3Nxb/yVn1f7aJYw2G5WJVna+33nqlNZs/TRfrYk7UYwUqtYhAqtTnE5/4xDIN2k4bStVrm/rIhf/uu+9e9k/dgqH5ptz0z9T2efKOpRfKTE9gpHH6cqaUBrRf+sbBBx+c5HOkQZ9A+GLc8FtffB7st0/bnnP17+r6kH7n73PxE+LVtunz59Ot+608W3mJ/wZLc9/eCUM+zGrSvkEoYlGEkyTr4qTuwYS69NQ2Xz7+1HhmcWuf8WPNkHGZLbBWH1yxjutDXRbzLH6sWVME30T4VKKfNi26Eh/O3pnopMYeiw8s4YP0bT/u+faY6scWT+oKX/QyITxzKOWUFy0vvqz2PAfv1faq/cHSsKu+02/svV193/C/CTdNjEjP45firYRpO4YQZx359HzbZC6R4nMWJ8ou5L0+fnKZe6A8SDlphxdiUYUSTfu01q3lQZ95/mdh7Krv9d7et4mL3U7I4DpvsO9pbygYmKin2pOFs2suDIgvxzgzlHdjKGHE/Mu3L3tXdYVPKJnhhz5L3Q8Zr4gvB3bEs1D6JmVhfnzssccWVXI5/Ye5KvMDle99nXueQtyecvBZ+AQn4abGdOQQ+hoysG6tT/EA8ra4g/4jh4xAmsiN5B+eavITzyHwpT6Yf2PxbNSGx1hYu+qYyO4DfNWzq9GnSXh4HLysjQ5sUnKK5bvNdbklW6VubArIigEaYLS8CkbTd/aeb4kDYqBKAWdhU1csXLAQwZfLCiusUAp3CHipwT71Pc8oJqsgWBiwgkRFItCiIPICaFUc7FsnH6yIMwGg4WlHrvpOn7P6g7UPnVwHag1DXlnpQhF6ww03lPlEuVIVXr9tc0/+0YKzj51tVaoctbpiYPeMibjb5N/yAF7UHZ2uK04Wh17JL1Y41BdKVWVGlm+e+ckZcUw632BK26DMYJpSompZ7L5LvuwbvYIvVnaUG0y0b7HywKpMF/zpp9bX6O/0VxhoXV8bWgbK0yddxYH73Fj4+P1v27LMcxg/A5Li78Prb9orfZzVP/u27eDEahZlpX8ObeuWpxz40/ZZYUYIZfLP6jM8tg2BJZYQtFlWntka7vky26Lg3W3HIfgofA6eD1Yo4tvyoSaMtUzwaLYhUxfKkzRM1/u+/IR0cvJd2gVttc24TZuEd3DlMCSU4XV8g7yCG/WONTJ1xLgMv9GJJeE8tc0X8dNuqJvUeGbxGq9EviAPKeo7LvMd5WPijuA+K2TYUEf0V9/fmvIJZvQv6o9viYMyNvX5rv3Y54NdCGY9CL/F31FTO/NxNP2mzvrIi134huWhD+/tMua27SvwVuqmSvaz/Np1Ghh14a1txhDLe9W1TduEH3Kqou1yYS7CXxPPqkrTP6cNYf3GfIfJucr9YM5z+ps+1zja1jdxUYa6uUjbuEiffCOLwv+Rf1ESGU/BJy5xQVj8N/mfHopBmZD86zvOgFFf3m1zEuOvkp3Wt2AJFlWyXl1E5D3HPLIvdpq3hdI3KRO4MuaBLfIe8+cq/2uEb8NTCFdFpNdnLLL4SB83Vhhqoe9ALrN+SdzwE8bRKrnH4kGu7Kr/6CsjWJpcySPzCmQNDLH83Jo+Qt7ayKgar93b9xgZmHxG32UXEXI46TGn7ypjTENOsTKkrq2Ue6kP41kgEAgEAoFAIBAIBAKBQCAwDQRYrMJVhxEWggcccID9jGsgEAjMIAJdlXszWITIUiAQCAQCrRCYBTlldpaRW0EWgQKBQCAQCAQCgUAgEAgEljUEPvzhD48VGX+7QYFAIBAIBAKBQCAQCMwCArMgp4RybxZaQuQhEAgEAoFAIBAIBAKBQCCJANtz9DANtkQNdV6eTCgeBgKBQCAQCAQCgUAg0BGBWZFTQrnXseIieCAQCAQCgUAgEAgEAoHA9BC4/PLLS/9FlmKfgwvs27gGAoFAIBAIBAKBQCCQE4FZkVNCuZezViOuQCAQCAQCgUAgEAgEAoGsCFxyySVj8XHiclAgEAjMLwTMmf/8ynXkNhAIBAKBZgRmRU6JAzWa6ypCBAKBQCAQCAQCgUAgEAjMEQKc+PfFL36xPP2dk8kf9KAHzVFOItlAIBDogsCXv/zl8sRLTpxcd911lzrxsktcETYQCAQCgVlFYFbklFDuzWoLiXwFAoFAIBAIBAKBQCAQCAQCgUAgEAgEAoFAIBAIBAINCMS23AaA4nUgEAgEAoFAIBAIBAKBQCAQCAQCgUAgEAgEAoFAIDCrCIRyb1ZrJvIVCAQCgUAgEAgEAoFAIBAIBAKBQCAQCAQCgUAgEAg0IBDKvQaA4nUgEAgEAoFAIBAIBAKBQCAQCAQCgUAgEAgEAoFAIDCrCIRyb1ZrJvIVCAQCgUAgEAgEAoFAIBAIBAKBQCAQCAQCgUAgEAg0IBDKvQaA4nUgEAgEAoFAIBAIBAKBQCAQCAQCgUAgEAgEAoFAIDCrCIRyb1ZrJvIVCAQCgUAgEAgEAoFAIBAIBAKBQCAQCAQCgUAgEAg0IBDKvQaA4nUgEAgEAoFAIBAIBAKBQCAQCAQCgUAgEAgEAoFAIDCrCIRyb1ZrJvIVCAQCgUAgEAgEAoFAIBAIBAKBQCAQCAQCgUAgEAg0IBDKvQaA4nUgEAgEAoFAIBAIBAKBQCAQCAQCgUAgEAgEAoFAIDCrCIRyb1ZrJvIVCAQCgUAgEAgEAoFAIBAIBAKBQCAQCAQCgUAgEAg0ILCo4X28DgQCgUBgQSBwwQUXFL/73e+KO9/5zsXjH//4BVGmKMTkEbj++uuL888/v/jHP/5RPOQhDyke/OAHTz7RSCEQCAQCgYEI/Otf/yq+//3vF9ddd11x97vfvRz7iPLGG28svvWtbxV//vOfi7ve9a7l38Ck4vNAIBAIBAKBQCAQmAEE5kS5953vfKfYf//9CwSPFVdcsTjttNPK6wzgEVloQOCQQw4pvvzlL5ehtt5662Lbbbcd++KDH/xgcdJJJ5XPVlttteLoo48ee5/7B0Iq+fjLX/5S3OQmNykOP/zwcgKeO52Ib34jQJs97rjjykLQTial3Jt2+5/ftTI/cn/11VcX73rXu8rMUr9nnXVWsfzyYfTetvZQIOy8886lguFmN7tZcdRRRxWrrLJK288j3H8RmAXe0jT+R2XNDgLwrLPPPnuUIWRt+/3JT36yeNOb3jR6d/Ob37w48sgji/ve976jZ3ETCEwbga9+9avFEUccUfzzn/8s7nCHOxQnnnhipyzEfKATXBE4EAgEFigCc6Lc+8Mf/lAq9sD0r3/9a/H3v/995pR7X/jCF8pJ3O9///viEY94RLHbbrst0CbQrVi/+c1vRh/88pe/HN3bza9+9Su7LTTs6OEEblDsQSiLr7nmmgmkkD/K97znPcVnPvOZ0hoI5eQTnvCE/IlEjCMEUMgY0Z8nRXPR/idVloj3Pwg89KEPLccnxir+Lr300mL99dfvDc98GFt+8pOflBOrn/70p6W1z6GHHlqgAOhDf/vb34prr722/BTrR8aFUO51R3IWeIuO6anxv3up4otJIIDyzhR5Fj/ykZHJTPqbBXe+YfErKBCYCwR+/etflwv1pA2/Q1m33HLLdcqKte35NB/oVMAIHAgEAoFAAwJhflAB0Kmnnlp873vfK7fxfexjHyu3L1QEjceBQCcEED7OOOOM4mc/+1mBMKOKp04RReBWCPz85z8vvvnNb47CbrHFFqP7uAkEmhBgsvu4xz1uFOy8884b3fe5mQ9jy0c/+tHiyiuvLMc/+o5Za/cpb3wTCAQC00XgwgsvHCWIUn6rrbYq9txzz9GzjTbaqNh+++2LRz/60aNnKN4vu+yy0e+4CQQCgUAgEAgEAoH5h8CcWO7NB5hs9cfyipl40HQQwFryAx/4QKlQvctd7lI861nPmk7CU0oFIVqpqm3hE+eiiy4qLRIf/vCHF+uuu65+FvctEVALhjvd6U7FAx/4wJZfRrBZR2BavGLzzTcvUHhBX//61wusz29729v2gmc+jC0+j1jXBwUCgcD8QADXN0Y77rjjUm4o/u///q+Ap0E//vGPyz/ur7rqqpAzAGKBEpZw7BrB9/Atb3nL0qUN16BAIBAIBAKBhYNAWO5V1OXGG288enP/+9+/QBgKmg4CWIl86EMfKj7+8Y+Xvq4QSBYS0ZYe9KAHjYqkq+ejh0tusBBCoYDlqPn80vdx34wAbeeSSy4ZBXzSk540uo+b+Y/AtHgFiwy6ldQUfX0QnA9jywYbbDAqGvyKrclBgUAgMD8Q0AVElTVSuX/AAx4weox/zKCFi8Cf/vSnUrmHbI0PT93RsHBLHSULBAKBQGDZQiAs9yrq+3nPe16xzTbbFPgLusUtblERKh4HAv0QePWrX11aJuJgPnzc9MOwzVdf+9rXSj9pFna99daz27gGAp0QeNSjHlX86Ec/Kr9B4c740Ifmw9jyyEc+srSexoIvFrb61HJ8EwjMDQLqW48c3OY2t6nNyK1udavR+1DujaCIm0AgEAgEAoFAYF4iEJZ7NdWG0iUUezUAxatBCNC2QrE3CMLGj9nWbMQk5h73uIf9jGsg0AkB3RbPARFDrB7mw9hy05veNBR7nVpIBA4E5h4BFqSVmmSMRYv+t8bPgUFBgUAgEAgEAoFAIDB/EfjfqN5QBlYDcbCNuf+qq65anqDHJwgDbHvDbwdb4NgC8JCHPCSbUgzfRmy94mS2P/7xj8Xyyy9f3POe9yzYKnvf+963Idf/e02+OSDj+9//foGD/Vvf+tbFve9972KttdYqsJ7yxArmN77xjdLf2b3uda9i5ZVXHgvy73//u/jKV75SnvRLfu52t7uV73mOrzRzQL7aaqsVq6++eqGro2MRuR/XX399gb8U8MQvBgqgu9/97gW+wpQQyCh/15OkiIM648j5H/7whwU+q8gz5bvPfe5T1l+TMKj5yHlPmcH9F7/4xVi03/72t8d+g3UbaxKsbC6//PLSPxbthbq4853vPBZX0w/aCunTdlgBJx62sQz1U8JBGuBPe8YHnLUP6oK06G+0fSMEdtqVEXVEfVXVFfVKvq+++uqyX5Jv/nw7svjsSj+jHmhf9A2Ln5PLOOWT97QV+jj9xxN4wQ9ouyjSaPuEa9NOyTP5tXZJHd/vfvcrHvawhxUoGvrQF7/43IHATAAAMoBJREFUxdFnxNOWaIfUA5iTL/oa+FGmNmVpmw71/IMf/KAsNyeT0rYpM+nVlbmK/8Dn8JsEr4avwTvYYunjIt3Pfe5zZRmtDVJXbfqVla0vRvA4eCvjBW3f0sRKjLzzd/vb377kRWDh8076Q3lFn7ZGO8Y5vfmj+8QnPtHLf2PT2EL5GAPoQ/j1o16MOMX2S1/6UnkqOO2xLU8Da/gBPJE4qHO2GtMnbOyyNLjSvvAteMMNNxR3uMMdyrav7/097Yk88w2KT/JM3MbXfPim35Piuz5dTn/97ne/W/ZB/AqutNJK5Rbk1CIAfYtxk3Dw0Tr5A1kFvMFd5SVLP9V/CfvZz3625AXgSfwcfJBq/xYPV8YJsCdO6jKVdw3PWEI9UR6/3VzDdbkHwyuuuKLklaS/5pprlnJaXRypsea3v/1tQb+iDd3udrcrsLTW7fDEl0t+AW94LnmnX6ywwgrl2MZp6m38afblf4YJ5WCBgP4IFiuuuGKJGek3WdtZHG2u9PU6yjme1aWj78Cd8RU+Dj+Fxzz4wQ9uzU/78gfGc/qL9l/aAXIi7YBtq/BV5JsmWcnKU9Uen/70p4/kJwur12m2f/gc4wn8XIlD3ZRHM+7Wych9cdc06TfUA20f7HH5wHjRxOc0jq738EbqGD4JBtQx8i08xpPyefphGx/N8NPrrruunBesscYavWTEofyIMiI7U0b6FWVDZmEcSZVTy10lk/GcQ3aQy2kbxIX/b0+EYyGd9kRa6AGYJ9XVaar9E+805hpVfXau58Ae1/gdCPRFoLVyD0XWYYcdVqZDB3/9619f+m5473vfWyoiLAP4SoNg2AcffHBt57ZvUtdLL720OP3000smlXrPM/LBCWAo3+oI3xKcUIjA7AnlBYPw4sWLywmPvcfH2Uc+8pHyJ4LHKaecYq/KK8o7wwNlxwknnFCm8eEPfziZznOe85zabVzkDUe373vf+5LfjyX+3x8veclLlnKUnApnz1AigIMpHu25XhFqd91114ItaNMkhKrddtstmeT+++8/9py8HXjggWPP9AeCw+GHH14w4Hhiwvnyl788qdDVsLQ/2jiDQIoYwIlHBaNUuKpntB0EXIiTOPfaa6/y/uKLLy7TLX/IPyY9HodddtmleMpTniKhinKi8MpXvrIcIMde/PcHbfnQQw9dasJkYfnW8kX57njHOxavec1rylN9LYxdEYAPOuigclKCwAZeqkyzcAjJbENm4pwiMKZ/WX/zYeijL37xi4snP/nJ/lXtb4Q42pVRk+8hwlGOo48+upyo2nd6RViB51T5SdSwdfcIcu9+97sL+GcVbbbZZuWJhqnJl+c/xx9/fHHiiScmMXzzm99c7LPPPsX6669fJoWSlroyJRUPOcAG2nbbbUsn2+WPin9DMaLcVtf4QNxuu+2KN7zhDUnMwZu+rgLlEF4xtK0x5rDVG4LP9KGmsYW2QX0ZUTef//zni+OOO26szux9E09j4vHGN74x2YeJA4H2Va961diChbYvwpx55plj73lmdM4555Rtz35ztROFUU6xDbktTZrvWj6YQFBmlDopQkEFT0a5bPSpT32qeMtb3mI/i3PPPXd072/e9ra3lYo6nhPXW9/61rEgii/ywzHHHFOOJ0zKlJgw2sEH+lzvkT3Uryinr9ftOHjnO99ZnH/++WUU9C/r+xpn23sUU6997WuTchrKKvpulb9GP9YwXh977LFjSSO72YFIOeUX8IfPp2QEMrD22msXe+yxR1LJNpT/ET8+O08++eRK+eIJT3hCmT5hFxKxqMl4xAJOipA/mTdov9NwQ/gDfFVlKPov8gq8UduB+VNFbjnqqKMqlV1N7ZF+VSdLT7P9U26Ue55OOumksUfIs8xDPA3B3eJijkOfU17FO+vfO+20U6NcbnF1uSLvvOlNbxqrY5M/WNw48sgjxxS5KKmUDyHjwg+qiDZ0xBFHjF7TnhhTu9AQfoQykvIxd6giFLaveMUrKuV+L5MhB8LXTdbReJlDMHaykESfOuOMM0r5QMNwz9hCmsgnKfLtfxpzjaY+Sz7nag6cwiieBQJ9Eahf0pNYWRUwYuWXwYJBIKUwIxyWI0xQEIS6EowXhusFXR8PK38ouFglTxETOSbiDGBV+eQ5AqQK7cQF0zLSe3vm8aCsDOZV6YCVT8Pi4soAglBe9b2GtfuqU1btvV4RwsGKQaSOWNWEcWMdMk3yW0nq0q47uZFJJW1ThTWNi/KDQ6pOCcdzBmfaX5Vij3AMejvssENp8cHvrqTpaz3WpenTYFBXYsLGhISJaxUh4O2+++7FJz/5yWQQzReWXXvvvXelUgArlkMOOaR8DxYpxR6JoJhEyFVLRE0cAdqELX1u9/QJlN5dyStfsKCpI8K/8IUvTCqZ7DswR0BlgtKXwAHFQZ1ij7hZKKGtpnhoiv9UYUieUa5iLXfaaaeV/VsVe1oOhLxT3EKGvs+BkbYxrHQR6rH6SRF5Rxn9mc98ZvR6CK8Y2ta0DbHyrGUZZbDhRr/R+6rPUN6g/Kmqszqexhh5wAEHVPZh0sSa3fN7bV+ESY1L5J1JEErlKmLCse+++1a9Hj0nrmnwXRL89Kc/XS4WVCn2CMMCx3777VdakPEb8pj852n6v4ZN1bG+ZzxjzErJOynFvk/RL1qghKwjJq9GWPb2JZTGjDepfBMnYxlyjZ/MW3qKC2ONTqgtjF1zyi8shDBuVckIpIm1iirYLR85+B98nTzUjfUXXnhhZX+3vFRdvXWWWd9XhdfnWif6PMc94xjyRJVijzQYG03xrGlOgj+g5EYpU9UOkFuQlWh7ntq0xyZZWrGedPv3sqIvj/1WWZRnuXBnQY65WBUvIC0WROrGEsJ0JRalmM9U1TGyMjwMi0Qjb6l3wQUX2KvkFf+7RvS1rjx1CD9iDEP2rlPskTeU6rRlM76x/NpV2yJYcMJ2SrFHeOYQ1CXzbmQLME4RbQ4+62ULC6tpTmOu0abPkremfmv5j2sgMMsItLbc00KYZY89w4oJ6zkEHyYKRpgIY6WA1U0XwjzeCGaJryPMqNm+xYSKSawxayYdb3/720tB3L6xK5Z/mh9WElhFIK8wOwQ4mzBhytyX2ELCnxGrJGwxIE7FikHguc997lIm0qwUKiNlJX+rrbYqzaDZ2uOtI7EaApeqFRHLh16pCyXyh+UV1lQMvEwIdLKD8oKV5TaTC4237z2rpJSLvFxzzTWlebfF5Vf+vbWaheOqbYctdDiGh1mjiDJi8EJZgFWJJ1ZzVfHFSuZTn/rUciWZOmYQNV9btEEsoOqUtj7+pt/UKdtyELJYZQIPI8WBrTaUzYi689YhWLpRz0wkEai1XNTvOuusU2t5qAoV+g7h2c6IksgILF70ohfZz/JKmvRVlH2mFGAig/J7++23HwtLH1SFM5ZRWKqwekY90S7pA30IfqSkihl9zj2CiLf2BF/+yAtKkve///2j8nDaHJZwXfqgpYmVmvIlLHuw1GAllDIjgBk/od+yMuoxtri4ev5DOYmTbSjG3wj3spe9jMuIqCMs4iib8inS33rrrcstqKPAS24mgZHyPdKCz4MDAqG2fRZozFqyL6/I0da0DdG2UWysssoqZH1iRFsz6srTUAoaMWY861nPKhivaRcswLEFsk7JYN+mrvAHlBBKjK30YRQ/jLEQ/LeJpsV3aVNYORhfIl9MxhgL2ZbJ9iPjG4Sh/7EdaZLkLWrAkDoBv6YtleSL05eRgYxoL5tsson9HLtSL8oTnvjEJ4697/LDeBTfME7SP5nwwc81DRZD2AJXZ02oYw1t/K53vWspj5j8kUt+IW9mmWVlZbyC76AUQ05AxoSs/Vq4HPyPNFAqGTG2cDAP/Jp2gIUuf0NI+xt9vqkN0e6NUgtJ9m7olV0jytMf+9jHljIYdYzchnyMQi1Fk+APquhgzKGNsq2QMcn4A+2YBSEUMEpd2mMbWXrS7Z9dALRt5Ep4gBFWWLQ9I3UBwbNcuDN+6/yCdolLCdJXOUX5huVpyNX6MnHAV3EXQD7M5RLPkeNRAJr8TFtgTKAtQPAMFhRT7pvgCSq/Ig+mwpURJf4N5UcsCilm8GHKSFnJP3WtfBrewzyiTmbR9kGWCY8VNvVk/YLxCes+JTDD4tbLbvR73Xmh39i9tv9JzTW69Fny1abfWv7jGgjMGgK9lHtWCIQwVr4QjIwwgYZRGiFosrIAM29LmDTDIBBQt9hii6W29jJBYbJrQowyV0sDHxM6eMP0mOjAuI1gVFjUYTGHD76hBAPE4ku3FLAarRMgrAS9gkNXKjETR5AwvEzZo6vICCGPf/zjO2UXxgsGKErZBodQqYRCBeUGDBxC0ES4JT/TIiwlIJRQWHEYkS8T8u1Z0xVLMd3GyeDBJMMIRY1X7jFIYtlkRFvBNN18gvEcRR8DpLUtJvcoDerM9i2+NlcUw6x2QeTXBj3qDzP2KjLBhPcMjuSbSbYRgvSGG25YWkHxjLZPWXfeeWcLUnl92tOeVq7k2SQBZbPiZB+CFxZi1rYQoljhM4GAFVDf9rXvIui97nWvG01GmHCjyEX51GfSoRYl8Cr6ZxWxNcQWDAjDai4KNyP6DRNhVj9NmGKV2Qv9Fr7qiuJAy8yEGMsmbd+0MVZETVGNNSo8r8kPE2WEx+EDFII/kl/jk5on6p10jGgv+PuCqC+UPptuuqm9Lq+TxIgJBrzT2g71DS6mdIQfMTmhTUB9eIXi3retqXKPfCAw1gnKhMlFXXkaEw+UxUa4PdBxA2X94sWLS9+LLCh0Jb99i/jZZm2EAhuFcpPycJp8F95t/Ih8MunFWlcJvoVcw/hn7VHfT+qeMR/ZySzxUIQwZjcRSjPkBGvftEmUJCjBPakswjtcQgwlxllcRBgPo93BP21yDN4syMLDmgiXG0xYGcNYlDKenEN+wVJEF+LAGz5i7gosb4y5Kn/Y8xz8zxYGLU7GO3VXgUzCZJzFOPh5H1JLmTa+gVW+YWF1UqQLrMgiWPEZ0X5ZUEKWUhmd95PmD56v0u/hZca3aMfIICpPtWmPNn52kaUn1f7pe/yhfFelDGXXRWKrj5y4w8fUWph+R//ScRN5g0WXSRDpIQexCGLEjgHqGF4FIWewmG5+pJE7zYoQ/oVspGOnxYMiXscTnXNYmKprDn5ksihpMG6wy0HlXNJAtsMyzgiZFVc7TUR7Zxw0HgLveulLX7rUZ/Bq5H7TAyC7sePEdhAxHiGH+H69VERLHkxyrtGmz871HDiFSTwLBPogsHyfj/gGwQMfQNahLR4GJxXwYZ5NJsP2rV0ZFFEeMNjDODyxMoLSzwgBULe58NybCjNZ9swFps9Ah8CPQDmEYKgIaqrYIz7Mm0nHyCar9purPsM3n4bnPRirDwdv7UKYJuJ7JmMI3VUTluc///lj0ejEcOzFjP9AaPSDLEoUFc5s4NGisPXTBDqeMzFVwdfCLl4yIdZJl1rWWJhpXhl0zdqEdFHealktL6yeIUQbmeLQfqeuKICwvDXFHmEQErX8PEMJjBWjti2EN508IogovnyHEt4IrDUde05ZTKljz9pc8VdllKpHeweP0i2yYKSKPQuH4lUFY4T+VDuy8KmrCYy8A0OUnzYptvDwN4QjI4RHFc7suV7hPwjMptjjHXUBD/WEQK+KPd7Dp5RQcChNEiMUe/BObTsoLFAYKPk86bs29znamrfiMuVDm/SHhOnD0/xEXZUIlhfaGpOeOqsqC6tXVvd1fKCf67hPWMYc2mSTkmJafJe60i2rKGq9Yo98w7fop1jY6rjLu0kSEwtT7JFOFT9M5YFJkZJX4vGOiZ5ahWHh0bXeNQ3u2WEAP1EehsyGtZNSlcsADYOcg59Xk/kYC4xv55BfmKCrZRi+lr1ij/wgK+CeQBV8ufiftwZkkcETPIbFuD6E8ga/z0YsBDcRFlRGLAS1kQssfJcrSi4j/GuliEVSL6dPkj+gDPGyIuO8LqaTTxblldq0Rw2vvFKf6/2k27+m1eY+F+7eXREuSeCxSijO/M4CfT/kHh+OqtgjLiyDkb2UbMGeZ16Rp1tv9RuUkkbIYFWKUguj1yH8CAUa9WOE7ATPVcUe7+DLKOQUb+YLTbIUYyMKO1PsERfblb0RA7waIwTVAzCmeD+7TekR/6TnGm367EKZA4Nn0LKNQG/lHivMqZVh4PSDpVmg5IQaLbySn8ioCS75rFMOMOlpOk1I00rdw1h1Ym1hYLYqPPl8sk1DV37YkpsinSClLHFS33R95jHVyXDXuOYqPNueqwRjFM9GKJqY7CjpqjoKJR0QNRzKV1WS+dN9New07lXZS96YtFSRWisy2dW2579hopmy7ENg0P5EmkyEUxNFL+z4NqVtjj6LP6xcpMo97T8+fnxxKA5MWKvoMY95zNgrs04Ze1jzQ4UchBmbyPpP2FahiiRdAPBh+Q3/QWD1xGmTSrQNz595j3CoVrq+niaFEfwRxV6qftgupwsdOjHXMrW9z9HWvFJbt5m1zUfXcH15GpNUJbZu9rGA1TjsXrfm86yK5zBR94oei8Ou0+K7aslL2s985jMtC0td4XGpBZKlAmZ6AH7KU7tGC5/VPqSTTouLQ9F0cWXIllziZLLnJ3GWFvxE5R4UO368tbBc4YM4X1clob5vc6/9m/Ceh/n6rzuohLFM5blc/E/jJI9qcc/vvsT4hUUOu2RswQHeyZbfJkLO0ck5k3UWw+v8ozXFmXqv4wu7VXQsTIW3Z5PiD2BTtV0QJYaOzTqfsHx1ufq26L+dRvv3aTb9zoU7rg6MKCdWmylC0a6Lp6kwXZ8xdqqsrt9vsMEGY/IFlntG9H/9DtcwKM6V4KUqe1OuLvxrCD/CkpQFByPGsrq0n/GMZ1jQ8sr3VYRMhrVfanuxV+5xYFJqAYydLkpNsts05hqan6r7pjGk6rt4HgjMGgKL+mbITxw0HoRimLgxH6/Q0rBt7xEMYa7EhZWej9Nb7qlFzRChuW3+UlYR9q2uzvrJICsjCGGmXGCFz/u9IB5d8VUfGZZG3yvKRRhv6pAKy1PfuOfiu7p68KvFKH/MMoC8qn8OlH+6XdqXRRV6TQOX/zb3b6/4qVplJF2vaKccVe1J263Ps+JMX/dKDwvvMbeJh71H4aqr4lj/kX+EPJQ7Q4i2bZRSPNo7Jm5KbCf0z/S93qPca7ulkb5vPJE4SKOujemWC22bmr7da33YM65+0aJqQYawKBONbyp2vPN45MKIelGlBGkpsRXZfMbYVd93uc/R1mjrSp6f67tc91V1S/y+fylPw/KJSbv5k2Uywco0Sg2USVV9tk2+dTyi/lICvsWjSmp7pldt25Pku74N+4UHzdO07+sWFNrkhYkdi1rmT44xCeUJihsjVfjRjlNWaxa2zdW3Pf8NfFH9pZKnqrbMZNDzKh9f6ncX+UXrHz7YJT39lnz05X/s7FDZGKt/tuCyY4OFI13MSJW36hmKCat7whAPFkupBZ9UHGy/w4WMWYhjmUtfHNpGNC0UA6YkQzFiWyVp+3X5nBR/qJvDwDtRTpvyBl/DbaiqPTbJ0tNo/23yr2Fy4a7yMdbCqd0Zlm7TWGHh2l6r+A3fkw/mWuZjTi1LeY81tLk64DdW37ogQF/RevW7IfimjpSndOVHflEZa+M6QvGo25799/otMpm3ALT3Xn6swhcep/NaXWi3uPQ6jbmGpqf3VX2WMFq/+k3cBwKzjkBv5V5TwfBhZ5Mxr4hr+tbe4zuEiT6Ov3Wia++rruqrhTBNQmhVPLmeqz8/r4QkDVY0zWwf56NY26gyAp9bOkDWTaSa8swEjy0yHHZg9dP0zUJ5r4o8yuTrQgd36qPtqrpaQ8wFVtZ2SJvBqG2+Cd806BImRVWDvw+bWv3TMFh/4N9ElVxYBWE5gKC35ZZblub6fSY9qrBetKia1XlBR7fOal5T913w80pY/JPy14a6pKPxMelXIUvf+Xt1rO7fTQsjny580PhUneWP/y71O1dbUzzrJiqpPOR+1sTTcDeB9a0pleFVuGfgjwkllg1YiXYlVe4NnZBNi+9qG6YOdYztWv7c4eusLtqmxWRUFTzwVLO8ZqxTXkPd9+GpbfNCOC931Sn32sY7RH5RZUUXxR5507bD775jBIpwtgOq/1/6EluAcXODggC3F03+VcmDkm6f4zlyADKeWh9peH8PH1MLK97nbh9YyrEtXMdB/Cvzh0EACk5vGUQ+psUfSEtJ24hflLRwQ9qjxdHlOs30cuFu4zfl9MqhLmWfRFgdu3wds/iDnGvyPYp4Ve7pYgnxdLX0HsKPVDEILtpWUzghh6vcosYJqfBVz+oWYv03KPhyKMdyzTUsf9PsQ5ZmXAOBaSPQe1tuU0ZVWO0zAcIsGH8Yl156aSfFHvlSRRi//QSIZ7NEurWFLbdYV6Cgwe8LPmg4It6I7S5+q529a7oi7ONElqsOuE3fLZT32iZ9mbylkn9f91u3m9SFm9S7tqvKqfS9f5tUmEk/w7cafv0QBpRoo2wlZKuRF2Y0XNW9CiJ1iwN9Fx9It4tANyQdc/RcVdZJPx+S9y4Y+XLU9Vkfts3voW0NBaMKrLknwG3KoGGa8ME65R3veEe5hVK/456xlfHglFNO8a8af+v40Vb4TkU6Tb6rW+M8r0nlbb49Y8un8nP1nXbFFVeMFLyUq6uVSR8svNznf3eNc6j8osqKrlarOfkfVjb4s/LWKijg8Zf3ghe8oPOWWCzfON1RLe1Q9GobqMMbv9MmN8PTdtppp/KAo7pvur6j/rEeSm0HZ5sgB4YddNBBY64DpskffHmUt6b4/ND26NNr+j3N9HLhznhpC0uUb5YWVMhPXR3zTl38oOC3nQ24t1DXFN5HH3E3US5+xFim5ahKV/lvLvccVWnN6vNp9qFZxSDytWwgUG3OMrD8ytC7Ktc40cxObiQbDKxs8WCLCQIRFiasPKgTfM2uX/XUiYiGm5V7r7hgpQgmlCKEnyZrqNR3CHneoostW2x9ZIXdBl11Ip2KZ6E+8yvfWPl456qpsjOoDlFepOLs+oxVOxMUUGihFG9DTAR9X2nz3STCYHWC0E+7P/fcc0dCFGkx6cCSDyWFKuya8mFtmnB1yj1vYYKPMBWEqtIB9yofmalvfDocdtHGsoL+PsRaN5WXrs983ieFUdd89Qk/pK15obirkqBPfod+g1UBp+OxlRAn3Cj1VEHJyeGEqfKbl0pfyz1kIjhNvqtyiFljpMrW9hkT1zaTqrbx5QjHoSYnnXRSGRWWKHbCtB6wAQ56cEeOdFNxqOU07xX/VPi6ZznkF9qsWed4/1l1afMuN/8Df5TqWFPilkL9myE7o/xDFuvC95GPOZQAB/oWHwq+pi17tGM9FIwT7TfZZJMmSHq9RxHBdlzcbnDQAjtzdGxmlw686rDDDivjnyZ/8AXS9uut2tu0x5yydJv0yH+uNHPhDn9k/mbjTd8dCL5ucv3WeaqvY9JAVtC5GPco3/0hkSmFdVMeh/AjjDyMKEObsUjL2kVutXTm+3XafWi+4xX5n98ITES5BxNRX0R1vi08fGwfUXNnlHn4AvGCIaeDVin3sCRAiDBmZiuSPq1Z+M1k8YwzzhhlBYWLbrO0Fyg32WJT5ePAwlVdEaSMGGyxjFQnyvaO1V8biO3ZsnJlgmuKYLZSo+CbD8SqvTnIpW7nS749tvRZFAz84euEQzrs8Bj4CT5PELbakgqoXimjcXh/P2wd6cKzNK66e7WqIRztbb7U1bQwqsMv57u+bc2UA5YXdblgz2b1iqKAiT9lOGWJYkF9c7JNt4tyT5Ud1kf7lntafNc7yybfOklqyr+f/PF903aopjhzv+eUb1PuETd1jCLp8ssvHyWlJ5iPHk7gxssxQyzcc8gvyE5medPV2n1S/A8/oPyBFYoZ9VFIn+SQka7EGGnKPfO3WRcHsrTKfP7U67pv+76j37zwhS8sFSUoIFm4szww9lNP1l6mxR98WXTbpLeybNMec8rSbdIj/znTzIU7Y6SNEerOweM9F7/r6pj84LICRZiFu+iii8o2q3NUlOp95MUh/MiPZVgW12159vzOH+wzF9hPO8256EPTLmOkFwgYAr235Xr/HBYhV7W647cN0tw3EcKNDfKEZduQV+w1xcF7HYwRFljZmEUyh73kjYMNTjjhhOK0004rOI2YVVisGDmi/ZBDDumt2KPsONc24rTMlGLP3s/aNYeVRZsyqeIUgXeW2owpqlPlUKURE3ebwKTCzpdnWLThgwhlpRGWR11IJ+51lhr+QBF1otwlvaaw5EfLg5XCfKFpYTQUjz68oktb8woLbWND8z6t77EYYFzVrZnwjToFuM+bTiTAHH5ZRTrGpcJMi+96OcTLKam86TOVKXhetWgIr9bxVuOY9D11i9N6I6w0veP31GnZFr7LlR0H3m+tfm+HM/CMBVflfRqu6T6X/KL1zyKe78t1+Zg0/2MMZ8FV0+nbhlA2GNXJDRZGfeChyOizM8Ti6nrFQh4rQdzPKKlSclL8QdPQtLlHGaL4ax5ytUefZtXvSaanVpM+fS3zEHlYF0A4vELndz7NunHEh23zu05mRCa0A16IS8urceMT2gi+gS94bTt9rPaIbwg/8osNanlredWrWh/yXOcMGm6h3k+yDy1UzKJc8xuB3so9lE+pSTCdSDXkwFN13HwKOr+yUzXhUMExFY/6qGLigtVPFZ1zzjnF2WefXfV6os/VsSlCFivsKDM54Rf/Kawc9RWKLeOYwuuAWjUBvuyyy8bCzdWWI28N49uElSv3VRWeWIrh6HkuiYmakVkU2m+9PuABD9Cfxbve9a6x3/P1B/2A1WOjru1ReQDtv0rpySqo9rEzzzxzYopdXXFl4j2ttm0Y9r1OE6MueczFK9q2NZwxK3H65XylIVszVYFE+fEVliIsiDgBu46mxXeVH5Aftigjr6QIS41jjjmmUD99qtDkG7V8tDhQpnCISRfFkX2b66pbKsmPnpLIpC7XxA7lx4EHHjgmM1gZWLhQ5ecQC+Vc8ou2M/KpOyYs33ZFtsVy3Gga/I/xzefR0u9y9a42mhR8ustGZQ6fJjIIbR5LO+9Kxoft+nuNNdYY+0THY8Ukp1zGwXKnn376WLr246yzzrLb8qpzmLbtUWXurrKLJt42vTbyu6/fOvkjF+46zoBJ1VyM7enqPkAx6HvP3K6qn8P/lbSO9TnW0ErMfZU23nhj/dn6XvHlo6p88s7zI/8tfbJqrowCFwMRI1zb+P5m7xbqNWcfAiPGdxSmHFpUJUMsVCyjXPMDgd7KPZg01mQ0cBMeeIavEJ0AwUR0NbIJFu9jBP9bSqwU4+8Jpl1HnAKohLk6e+6VEE732muv8uSz3IOKplN3jxJP6fDDDy+22GKL8uQwfL7tuOOOpY+SI444otxKpauJ+l3dPRNXdXoODn/729/GPgFnHBorzRXT8itoWtcoJutWGzX/Xe85rY3tekZYTaYmcLwnHwyoYFYnIFlcfa66skcf0/aLwtqsJhBKVl111VESWKRg9abCpb2kThEC6acMTHNNYM7Wo9RkAX9ROkH0vKEp76uvvvpYkKpVXHzz6ZZEJjH77rvvaCvJWCRLfhAPbQMlYFeiPyvtvffeY6vA+g7rASYf1NVc0zQx6lLWLrwiR1uz7e/kEV7h0++S90mHRaBnHOTqeQF8QMdWJn3qo7Ipb/ActVq85JJLSt9h+h2yAduAfdoahvtp8V22TnECopH1c50UkVcW+nCBgV+lH/zgBxa8tLTQ8YHFH3ipEXLPPvvsM3KRYM+nfV1nnXXGxnuTz8hH7i2XWOKww0D5N/wROUZpu+2205+d7nPJLzi9V+UG4ymHlamcgzUP22ORbVFCmKyRi//hS47Do7TdGBhsXeQ0WSO1wLNnba7aRtuEV1mwzqctMijj3vHHH1+e+NsmbgtDm+AUYL5XZaK9x++nkvoxniR/YAynPGrZf9555xUo/oyQndUdSNv2aN9z1Tamz9vct02vjfyO0lTbB/Me48/Ik1o3uXDfbLPNxoqJbKoWerQ/5mfqTmDsg4E/2N5OHdvWYKK74IILxhRe1LFa6GmS8Aydpyk/5XmXcVPjHcKPGHvVYpB622OPPcbKSFrMTXbdddcRH+PZ4sWLx9oAzxY65exDbMmGh+PDHp546qmnLnT4onzzEIHBPvdo4AhIrGxympANFIaFngRrz+quKAJhtGZdxjbdrbbaqvRLwjNWhE3gqosHnwIIuabAIF9HH310yeTZesABBGoNZYqSujgn8Q6FBSvtCBRG5BXljRJKPcqCEMQ2soMPPnjM2kjDpu5XW221EjveMTjhzH+ttdYqfQb5VfbU99N8hmUBQoi1JQQQLEAQPJlcU699fNE0lYFB/NnPfna5LZqwpI8winCA8oyJPPWChaWa8zNI9/G50ZQfb5FH+2V1k35AX2MCalvrGNhRVBshvDA5xVqFPkWdM9Cznd6EE3zSgeVcEfkAz6uuuqoUQLBSZUWSfIEvz41oD1UrqxbGX3WCwLvvfve7Y6cJaniUIGBmvIVtFwhB1Dv5WrRoUckz4EfWN1G+0l66EMIgh9gwKYYQylAIwD9JB6sLhFAmQ6o0BisVyrukmSvstDDqkt+2vCJXW9N+P+t+a+ARtC9OwsSal3GDsQ9lFo78dSLXhw9suummI15JnTE5w/qAfkfaOpmqq9Np8l38fKn/Ofr5NttsU+JCH2dF3vgjeVan+vAg+K1ZKTI+MKEGU8LZoUZ1ZZ3GO6yEOEQhtVWrr5VJXb7hiUwgbduyxwHZo+vCjE8vh/xC/XGQA65PjJC7WMCjL9MvzLeWvVelTA7+R/siDdoNE3TGA3DDZxaKPZN5SH/DDTe0bEztWmdhpv25q7zMIh1yC1jzxxgI5qTHWKgGAd7n7aT5A4u0/DEGUw829zDQN99886Vk7Rzt0eJvc82ZHkpjZCGItojinbLzjC3ZyLtQLtyRjVXmoY1j3cyuDLaXqkxaJjyBf1rH8CeT8ywpFJB18hVzNBabPQ1ZLBnKjzD+YIHJeAbyIvNt8GZMom5VhiTvvKtSYvqyLbTfufqQd0k2l1b6C62Oojz5EOit3GMiagMyzMXuNWsveclLCm89o+9T9wz2rPbbaVmEgRF/+tOfHgsOk2IgNsY29vK/PziVC0au1hZMzG1g02+86bW+m/S9H2hQblIuBKhU+TDR5kQx76ekLp9YCDGxsYkL8V5xxRVjnzC4sc1NlZ5jAab0g3wwcVRTcmWgdQLo0CxuueWWpbUYih4j2pCfsNg7rqwKTYLYyoQgptaa2pYVBybU+NFihdLaDO3qG9/4RvmXyp9a3qTeT/oZ9cyftUl4SIqPkA94CX2+C7GiysTJ6o7JEwq7FCHUwnOwkrP2D47grZjrtwi/fQjBlnTM6TlxoAzhL0UIgSge5pqmiVHbsrblFTnaGpNb9U/VdWxrW6Zc4XT7JX3MFrp8/CipUc50JSxxcCuh7guYGJvi2uJj8ogVVFX7Jty0+C6YsBCils3081Te4OsPfehDrRjllTLjEsR4Cg+9QohFKCyB/da+sYgm/IPx0yv3GE9yjlVMbNWyXTGx4iEn5liIyyW/oJzFGlOxoW+wmOKJXSdqlZOD/7FAaO0FfqLW+Jo+StiNNtpIH83re92FQEHgEZ5P8JyxDmsYT5PgD6YAsbRSPADrKCzYPLVpj3oghf++6+826THGtZHfUXBjmWrEIo/JIrRxpVy4wwP222+/sfETOctkLdIk/xgtHHTQQZqFQfdYXKoVZqqO6Wss8NQRi19qdEJY8ovrpCE0hB/By+krbBO2BWfygkLPK/V4zkICc0adN/B8WaFcfQg/oUpdFzr027gPBCaFwHgr7ZAKTIWVTAZjTwyaOAfGoilFKjDx3k9cORn20EMPTU7mYago4lBiqMDgByXixQoGfz9Y/lVtN8BSCOaIJZuSnrSZ+rapDBqXKgEYIJRYUdLJEQMv24LwW4hyi61T+H5BwNBv8ddlShGNr+oep7aYvsPgPVGH+MXAApOT24xS5dY8KEb2jT5LfW/hmq6Llyhh1HeQhq/zF+HrRb/z72hLnmDcTHS9c2sfDsyYLCGwqE8RH67qdxOO9h0r/Kx6eiJ9bw3BZOvkk08uJ6SpslkcWPJtv/32SauztvnSetZvLA27+n7pf4Nzqnz2PUpLtuE/9rGPtUedrip8Mamq8rtHpChrOLUPgbCu7SK00zYRRD0pLlVx0BdRzqNkqFOwgut6661XWhx7gcy3Zc9DNV/aFjR/GoZ7fVeV92lhZHnTfOi9vefallcMbWt+ganvqaNtcNby+bque6d1jYIJy9IqhQ5hGRvxyabfEb9PM9W+aJN77rlnOTal2jH8CYU5CjGtOx836U2L75IW8sOxxx5bLpzw2xN5xVrnxBNPXAo7ZAp2K2AF6Yn+ikLmlFNOGfOdluKPHoMUvj7+Lu2GRSFV7hKXbuPycbf9rfybSTEyBWl5osy8p215H3AWVnHRstl7veaSX2izLPoyyVV/rpoWlmO77LJLceSRR+rj8n4o/8PdA2OZ72+WEHliIYu/vuTHCrU+TcWpk9OUPM83KMDxW2XkZQ97XnWljVB23yY1/AYbbFDKoP6wAMJMgj/AG1E6pfgj/IydEbQVjyf5adMeh8rSpGPUJr028jvxwbvg26k26H1j5sKd/g0vQJ7Rfk9+yAeLKMzpuFa1QcJ2IeJh+yRuA1J1zLMddtihxCJVx5oWOHgZdN111x2c16H8CNkZy3wstT2uln8WxXEHwzy3is/qcx2rLQ67+nc6HlgYu2p+dA6ceq/p23u76juN097b1efF/87Vh9Zee+1RvdPGaAdBgcCsIbDckm0HaY/SLqf4CFGfDqcv8QUFc0TBhP8EzO5R6rGVsA1zZqUByyJWmuo6LPFiLYFPDOLWgZ+0Wf2k83th2WW//MkKFdtwEFKw6EFxUPcdcZMGAleqTG3LQOL4z/rnP/+5VFxMTG3Fm0FXLRZ9GfBrpP63uO+jWCLf+MhB0YE5Pk7hbXCjOZBXypsSyhEEyS+TEZhlippwS31T9Qx/HKy00w4YIKgzP1BjLULdUpepQUTjvuGGG8rtN4TzA5WGs3vwYBUM6znaK5gg/IObYWZhu1zb4KjxUT5w4HrHO96xrLOUcKbfUA98Q33Sz2jHWFLUfdclX23rGdxoc3X9lH6GRa1Z4zIJ4E8Hdi1b23ssMhBkjRDoWZRoQ2zTwpIQ6yTaFnUPfk15aouL5YGJEzyOtGhTTCzgpd6Bv4W3a1v+Y3wSYcf3HYuLq/V97unbbdr3pDEiT7SJOn5DfqE2vIJwfdsaEz34AAT/sO1L5YOO/5raSG6eBg+D58M/aAPwL4R+Ji1V1LZ92ffEjaUwfJUFGB0zaeNYaTS1QYtrUnzX4rcr6dDv2G5NvpEv2m63hlfyHbii7PDfIbOgWMkhP1h+m9qNhePKDgizyKEuWDSs4/36bdW91SP8UPkgCyf0DcrL9qc2VtZdxhrNzxD5RePhHp7BGEH+4bvUYRPf1Tj68j/aHW2HA1uQSUiTRbcqmUrTbHOP5aYR2+XryoRSyNzCsBUYy3JPLDK//e1vHz1GTk0puEcBam5MlkEuWWGFFcpxnrG+S9vswx/4Rn3r4sbEFmiQPWycR6aumxf4olW1R9IbKkv7tPhdlR7vmtIkjBH9D7kDazawR7Zp6rd9cLf09Ep/Yzs//c0rim3sQ2ZtI6NrvNybvMk4pwoeq2PiRInZNFfw8eKfkXmvUd/5l32fug7lR/AS+BlzNFzKgG/dGK95aDu2wPNog+BX109srKCP951LWv7a5s3qvm6uQZxD+xD9AH6BnN4WXytLXAOBaSAwWLk3jUwu1DRgECpssK2yzocDvoLUUTUWBAiEQYFAIFCNAMo8JhQQg7FOUqq/ijeBwP8QYJKmhwJgBYWyLygQmEUEUKTik8kIi5kDDjjAfsZ1gSOADzEm1xAWO6kdGwYBWzRx9QI9+clPXmqLPnIqO0psDMUijVOS5xt5eVuVe/OtLJHf6SMAP7VtxCgOVdE3/dxEioFAIBAIVCNQvWxf/U28yYiAWjdwAAKraSliRUKVEqy0hWIvhVQ8CwTGEVCFedPW3PEv41cg8B8ELrroojEo9PTEsRfxIxCYAQTs0A/LyrLqRN3Kv6xd1VKGtoBFUIqw7NeDq1LbZvFPaIo9dtmoJXwqzngWCCw0BDhMwxR7lM0sPhdaOaM8gUAgsDAQmHsv7QsDx16lYNvbKkt8kZgz56997WvFi170otK3AybymI+zJY3tGxy/zXYyoy222MJu4xoIBAI1CNBX8GFplgz0JSwRggKBtgioX1T8tHIKdVAgMIsIYKGkB0YgR/iDQWYx35GnfAhgXYc/ZwiXOhyMgCuaU5b4g7Rn6manfLjknz/Eg7bECdhGnOyu27HteVwDgYWMwDnnnDNWvFgsGYMjfgQCgcCMIRDKvTmuEE7wYSXUFHf4lnvve99bmyt8nYRyohaieBkIjBDANwgrrRdeeGH5DAvZ6D8jeOKmAQG25Oopzk0n6zVEF68DgYkigPsOfAoZeUfw9jyuCxcBlHmcDo+vKiP8cRmlDpZ6xjOesZTPPxaezWIJp/16SITFFddAYCEjQL/Rk+bxV6u+3xdy2aNsgUAgMD8RCOXeHNcbDk85RQpnrRyYYdZFqWzhL4wDAUJYT6ETzwKBagQ4DftTn/pU2b9SE5vqL+PNso4AjriNEOwf/vCH28+4BgIzhwByhFJsIVc0lo17DtDgJOPzzz+/PLiAbbl6EionPl555ZXl4WJsxWXBWE+WN5Q4wIzTOHEDk+uwD4t7rq9tDoya6zxG+nOPwBVXXDGWCXXzMvYifgQCgUAgMCMItD5QgxOM2M7GSTmY92+88cYzUoSFkw0w/t73vleevsfKO1siVlpppfI0sbvc5S61J10uHBSiJIHAZBDAOpZ+xQlfeoraZFKLWBcSArQbTjvHl1VMChdSzS68snB6L5Ym8DhOouT0z6BAIBAoCqz2OTmcrerMYepO+wy8AgEQYOxn7mvzsXXXXTdOSI2mEQgEAjONQGvl3kyXIjIXCAQCgUAgEAgEAoFAIBAIBAKBQCAQCAQCgUAgEAgsgwjEabnLYKVHkQOBQCAQCAQCgUAgEAgEAoFAIBAIBAKBQCAQCAQWBgKh3FsY9RilCAQCgUAgEAgEAoFAIBAIBAKBQCAQCAQCgUAgEFgGEfh/PmAAlPf/qRcAAAAASUVORK5CYII=)"
      ],
      "metadata": {
        "id": "uNhjilwndWAg"
      }
    },
    {
      "cell_type": "code",
      "source": [
        "#comparision\n",
        "s1 = {10,90,20,30,\"hello\",100,20,90,10} # set\n",
        "l1 = [10,90,20,30,\"hello\",100,20,90,10] # list\n",
        "t1 = (10,90,20,30,\"hello\",100,20,90,10) # tuple\n",
        "print(s1)\n",
        "print(l1)\n",
        "print(t1)"
      ],
      "metadata": {
        "colab": {
          "base_uri": "https://localhost:8080/"
        },
        "id": "kjIGFkZXc59b",
        "outputId": "6d095218-db50-4697-9da3-959a70f08862"
      },
      "execution_count": 45,
      "outputs": [
        {
          "output_type": "stream",
          "name": "stdout",
          "text": [
            "{100, 10, 20, 90, 30, 'hello'}\n",
            "[10, 90, 20, 30, 'hello', 100, 20, 90, 10]\n",
            "(10, 90, 20, 30, 'hello', 100, 20, 90, 10)\n"
          ]
        }
      ]
    },
    {
      "cell_type": "code",
      "source": [
        "print(type(s1))"
      ],
      "metadata": {
        "colab": {
          "base_uri": "https://localhost:8080/"
        },
        "id": "Ix10KM1ndqMY",
        "outputId": "a31b9604-ee92-4a45-c3bd-39a0984990de"
      },
      "execution_count": 43,
      "outputs": [
        {
          "output_type": "stream",
          "name": "stdout",
          "text": [
            "<class 'set'>\n"
          ]
        }
      ]
    },
    {
      "cell_type": "markdown",
      "source": [
        "# Operators in Python\n",
        "\n",
        "![image.png](data:image/png;base64,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)"
      ],
      "metadata": {
        "id": "MBFYhbG2eskd"
      }
    },
    {
      "cell_type": "markdown",
      "source": [
        "## Arithmetic"
      ],
      "metadata": {
        "id": "WiJiG3s8euxA"
      }
    },
    {
      "cell_type": "code",
      "source": [
        "x = 100\n",
        "y = 25\n",
        "add = x+y\n",
        "print(add)"
      ],
      "metadata": {
        "colab": {
          "base_uri": "https://localhost:8080/"
        },
        "id": "dmhVVm3od_ye",
        "outputId": "222139d9-ccb4-480f-92ad-dcbc926966c9"
      },
      "execution_count": 47,
      "outputs": [
        {
          "output_type": "stream",
          "name": "stdout",
          "text": [
            "125\n"
          ]
        }
      ]
    },
    {
      "cell_type": "code",
      "source": [
        "x - y"
      ],
      "metadata": {
        "colab": {
          "base_uri": "https://localhost:8080/"
        },
        "id": "IPemDLlceywj",
        "outputId": "ace94173-c335-420b-cc74-16df67f3fe19"
      },
      "execution_count": 48,
      "outputs": [
        {
          "output_type": "execute_result",
          "data": {
            "text/plain": [
              "75"
            ]
          },
          "metadata": {},
          "execution_count": 48
        }
      ]
    },
    {
      "cell_type": "code",
      "source": [
        "x"
      ],
      "metadata": {
        "colab": {
          "base_uri": "https://localhost:8080/"
        },
        "id": "aCqFGm4ifDsO",
        "outputId": "68b24ebb-a38e-4181-88e3-48c1fc0b07a2"
      },
      "execution_count": 49,
      "outputs": [
        {
          "output_type": "execute_result",
          "data": {
            "text/plain": [
              "100"
            ]
          },
          "metadata": {},
          "execution_count": 49
        }
      ]
    },
    {
      "cell_type": "code",
      "source": [
        "x*y"
      ],
      "metadata": {
        "colab": {
          "base_uri": "https://localhost:8080/"
        },
        "id": "s8pxNxa2fIo_",
        "outputId": "5d9125ac-c87a-4cce-9add-a3a93dbbeebe"
      },
      "execution_count": 50,
      "outputs": [
        {
          "output_type": "execute_result",
          "data": {
            "text/plain": [
              "2500"
            ]
          },
          "metadata": {},
          "execution_count": 50
        }
      ]
    },
    {
      "cell_type": "code",
      "source": [
        "x/y"
      ],
      "metadata": {
        "colab": {
          "base_uri": "https://localhost:8080/"
        },
        "id": "0oONyPz9fMsP",
        "outputId": "c68e7456-4948-49f3-8ab3-4846bc1c90df"
      },
      "execution_count": 51,
      "outputs": [
        {
          "output_type": "execute_result",
          "data": {
            "text/plain": [
              "4.0"
            ]
          },
          "metadata": {},
          "execution_count": 51
        }
      ]
    },
    {
      "cell_type": "code",
      "source": [
        "#modules - return the remainder\n",
        "10%3"
      ],
      "metadata": {
        "colab": {
          "base_uri": "https://localhost:8080/"
        },
        "id": "MbV-ZN7MfN9m",
        "outputId": "0dce2efb-5a67-45bf-908d-d425079cad30"
      },
      "execution_count": 52,
      "outputs": [
        {
          "output_type": "execute_result",
          "data": {
            "text/plain": [
              "1"
            ]
          },
          "metadata": {},
          "execution_count": 52
        }
      ]
    },
    {
      "cell_type": "code",
      "source": [
        "10//3 #floor division"
      ],
      "metadata": {
        "colab": {
          "base_uri": "https://localhost:8080/"
        },
        "id": "ZIxuhsl4fdgu",
        "outputId": "3e6c70d1-c394-404e-e68d-adcbec05ac34"
      },
      "execution_count": 53,
      "outputs": [
        {
          "output_type": "execute_result",
          "data": {
            "text/plain": [
              "3"
            ]
          },
          "metadata": {},
          "execution_count": 53
        }
      ]
    },
    {
      "cell_type": "code",
      "source": [
        "103 % 4"
      ],
      "metadata": {
        "colab": {
          "base_uri": "https://localhost:8080/"
        },
        "id": "mgvXxcPvfh4X",
        "outputId": "6283aa5d-013c-439c-bdf1-94cac7c611f0"
      },
      "execution_count": 55,
      "outputs": [
        {
          "output_type": "execute_result",
          "data": {
            "text/plain": [
              "3"
            ]
          },
          "metadata": {},
          "execution_count": 55
        }
      ]
    },
    {
      "cell_type": "code",
      "source": [
        "103 // 4"
      ],
      "metadata": {
        "colab": {
          "base_uri": "https://localhost:8080/"
        },
        "id": "Cpo6KTJQfmwU",
        "outputId": "4ee4d9f0-664f-4d58-fe76-32840ec82308"
      },
      "execution_count": 56,
      "outputs": [
        {
          "output_type": "execute_result",
          "data": {
            "text/plain": [
              "25"
            ]
          },
          "metadata": {},
          "execution_count": 56
        }
      ]
    },
    {
      "cell_type": "code",
      "source": [
        "y = 4\n",
        "y**2"
      ],
      "metadata": {
        "colab": {
          "base_uri": "https://localhost:8080/"
        },
        "id": "Ow-Wj_thfqIc",
        "outputId": "61d66a74-e971-4ab4-ca24-a8fb82e13ef2"
      },
      "execution_count": 57,
      "outputs": [
        {
          "output_type": "execute_result",
          "data": {
            "text/plain": [
              "16"
            ]
          },
          "metadata": {},
          "execution_count": 57
        }
      ]
    },
    {
      "cell_type": "markdown",
      "source": [
        "## Assignment Operators"
      ],
      "metadata": {
        "id": "jjxCFPqTgMRG"
      }
    },
    {
      "cell_type": "code",
      "source": [
        "a = 100\n",
        "b = 50\n",
        "c = a"
      ],
      "metadata": {
        "id": "X7y2L6alfyJp"
      },
      "execution_count": 59,
      "outputs": []
    },
    {
      "cell_type": "code",
      "source": [
        "c"
      ],
      "metadata": {
        "colab": {
          "base_uri": "https://localhost:8080/"
        },
        "id": "6YiVFunsgXZo",
        "outputId": "b4e4380d-9331-4462-bc99-6b400bf29a59"
      },
      "execution_count": 60,
      "outputs": [
        {
          "output_type": "execute_result",
          "data": {
            "text/plain": [
              "100"
            ]
          },
          "metadata": {},
          "execution_count": 60
        }
      ]
    },
    {
      "cell_type": "code",
      "source": [
        "a += 10 # a = a+10\n",
        "a"
      ],
      "metadata": {
        "colab": {
          "base_uri": "https://localhost:8080/"
        },
        "id": "dTGc6pzBgZD8",
        "outputId": "245dd8d6-a8b8-4cad-e900-e8c09dabafb1"
      },
      "execution_count": 61,
      "outputs": [
        {
          "output_type": "execute_result",
          "data": {
            "text/plain": [
              "110"
            ]
          },
          "metadata": {},
          "execution_count": 61
        }
      ]
    },
    {
      "cell_type": "code",
      "source": [
        "a*=2 \n",
        "a"
      ],
      "metadata": {
        "colab": {
          "base_uri": "https://localhost:8080/"
        },
        "id": "cr6ubSY1gjZI",
        "outputId": "864025b8-23a0-44a7-c20d-7be366e7dd96"
      },
      "execution_count": 62,
      "outputs": [
        {
          "output_type": "execute_result",
          "data": {
            "text/plain": [
              "220"
            ]
          },
          "metadata": {},
          "execution_count": 62
        }
      ]
    },
    {
      "cell_type": "code",
      "source": [
        "a/=4\n",
        "a"
      ],
      "metadata": {
        "colab": {
          "base_uri": "https://localhost:8080/"
        },
        "id": "b_A9BSnKgpnw",
        "outputId": "ba4f73cb-cff7-42e1-cb45-02b57fd52adc"
      },
      "execution_count": 63,
      "outputs": [
        {
          "output_type": "execute_result",
          "data": {
            "text/plain": [
              "55.0"
            ]
          },
          "metadata": {},
          "execution_count": 63
        }
      ]
    },
    {
      "cell_type": "markdown",
      "source": [
        "## Comparision Operators\n",
        "\n",
        "![image.png](data:image/png;base64,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)"
      ],
      "metadata": {
        "id": "TJvy9SMYhBX1"
      }
    },
    {
      "cell_type": "code",
      "source": [
        "a = 10\n",
        "b = 25\n",
        "c = 50"
      ],
      "metadata": {
        "id": "q2vQdQmmguyP"
      },
      "execution_count": 64,
      "outputs": []
    },
    {
      "cell_type": "code",
      "source": [
        "a > b"
      ],
      "metadata": {
        "colab": {
          "base_uri": "https://localhost:8080/"
        },
        "id": "olPuSBglhKCc",
        "outputId": "7a356825-733d-416d-fa4b-4f9b8426cfbf"
      },
      "execution_count": 65,
      "outputs": [
        {
          "output_type": "execute_result",
          "data": {
            "text/plain": [
              "False"
            ]
          },
          "metadata": {},
          "execution_count": 65
        }
      ]
    },
    {
      "cell_type": "code",
      "source": [
        "a < b"
      ],
      "metadata": {
        "colab": {
          "base_uri": "https://localhost:8080/"
        },
        "id": "n7MJetchhK0A",
        "outputId": "7714aec4-3342-40b5-d1d8-52babad52472"
      },
      "execution_count": 66,
      "outputs": [
        {
          "output_type": "execute_result",
          "data": {
            "text/plain": [
              "True"
            ]
          },
          "metadata": {},
          "execution_count": 66
        }
      ]
    },
    {
      "cell_type": "code",
      "source": [
        "a == b"
      ],
      "metadata": {
        "colab": {
          "base_uri": "https://localhost:8080/"
        },
        "id": "-UsYYg7chLqP",
        "outputId": "5dac2304-bdc0-4426-ad8a-8fb830a1d71f"
      },
      "execution_count": 67,
      "outputs": [
        {
          "output_type": "execute_result",
          "data": {
            "text/plain": [
              "False"
            ]
          },
          "metadata": {},
          "execution_count": 67
        }
      ]
    },
    {
      "cell_type": "code",
      "source": [
        "a != b"
      ],
      "metadata": {
        "colab": {
          "base_uri": "https://localhost:8080/"
        },
        "id": "2PqB38ahhPng",
        "outputId": "c0b9758f-5a32-411a-b6ab-b4f6dcc5ea7b"
      },
      "execution_count": 68,
      "outputs": [
        {
          "output_type": "execute_result",
          "data": {
            "text/plain": [
              "True"
            ]
          },
          "metadata": {},
          "execution_count": 68
        }
      ]
    },
    {
      "cell_type": "code",
      "source": [
        "b > 25"
      ],
      "metadata": {
        "colab": {
          "base_uri": "https://localhost:8080/"
        },
        "id": "mJ4GN_xfhUDL",
        "outputId": "9c612ccf-6277-4cdb-f6cb-6a01a65fa757"
      },
      "execution_count": 69,
      "outputs": [
        {
          "output_type": "execute_result",
          "data": {
            "text/plain": [
              "False"
            ]
          },
          "metadata": {},
          "execution_count": 69
        }
      ]
    },
    {
      "cell_type": "code",
      "source": [
        "b < 25"
      ],
      "metadata": {
        "colab": {
          "base_uri": "https://localhost:8080/"
        },
        "id": "7SvWx-s6hX1t",
        "outputId": "9c695826-4162-4334-ae30-961896120f0e"
      },
      "execution_count": 70,
      "outputs": [
        {
          "output_type": "execute_result",
          "data": {
            "text/plain": [
              "False"
            ]
          },
          "metadata": {},
          "execution_count": 70
        }
      ]
    },
    {
      "cell_type": "code",
      "source": [
        "b == 25"
      ],
      "metadata": {
        "colab": {
          "base_uri": "https://localhost:8080/"
        },
        "id": "DExf7Mj6hZZJ",
        "outputId": "f409ead3-c232-4212-c987-0a556e16fdcb"
      },
      "execution_count": 71,
      "outputs": [
        {
          "output_type": "execute_result",
          "data": {
            "text/plain": [
              "True"
            ]
          },
          "metadata": {},
          "execution_count": 71
        }
      ]
    },
    {
      "cell_type": "code",
      "source": [
        "b >= 25 "
      ],
      "metadata": {
        "colab": {
          "base_uri": "https://localhost:8080/"
        },
        "id": "SY513CxThceb",
        "outputId": "bfe6b4d4-2a04-4969-f152-065fe0c7e339"
      },
      "execution_count": 72,
      "outputs": [
        {
          "output_type": "execute_result",
          "data": {
            "text/plain": [
              "True"
            ]
          },
          "metadata": {},
          "execution_count": 72
        }
      ]
    },
    {
      "cell_type": "code",
      "source": [
        "b <= 50"
      ],
      "metadata": {
        "colab": {
          "base_uri": "https://localhost:8080/"
        },
        "id": "LQ6dpO9shiDf",
        "outputId": "e52b46f4-56a3-4da0-daea-7b2e70c5b8c8"
      },
      "execution_count": 73,
      "outputs": [
        {
          "output_type": "execute_result",
          "data": {
            "text/plain": [
              "True"
            ]
          },
          "metadata": {},
          "execution_count": 73
        }
      ]
    },
    {
      "cell_type": "markdown",
      "source": [
        "## Logical Operator"
      ],
      "metadata": {
        "id": "0ebPTotuh95R"
      }
    },
    {
      "cell_type": "code",
      "source": [
        "x = True\n",
        "y = False\n",
        "z = True\n",
        "a = False"
      ],
      "metadata": {
        "id": "nb2rh55Jhj63"
      },
      "execution_count": 74,
      "outputs": []
    },
    {
      "cell_type": "code",
      "source": [
        "print(type(True)) # equivalent"
      ],
      "metadata": {
        "colab": {
          "base_uri": "https://localhost:8080/"
        },
        "id": "2vUNX941iCXu",
        "outputId": "dc097ed7-9736-4fef-b059-d14c6e8b704e"
      },
      "execution_count": 76,
      "outputs": [
        {
          "output_type": "stream",
          "name": "stdout",
          "text": [
            "<class 'bool'>\n"
          ]
        }
      ]
    },
    {
      "cell_type": "code",
      "source": [
        "type(True) # equivalent "
      ],
      "metadata": {
        "colab": {
          "base_uri": "https://localhost:8080/"
        },
        "id": "SrQq1SEkiGAe",
        "outputId": "c3405a16-0022-449a-b3d0-b77681cfb384"
      },
      "execution_count": 77,
      "outputs": [
        {
          "output_type": "execute_result",
          "data": {
            "text/plain": [
              "bool"
            ]
          },
          "metadata": {},
          "execution_count": 77
        }
      ]
    },
    {
      "cell_type": "code",
      "source": [
        "# and\n",
        "x and y"
      ],
      "metadata": {
        "colab": {
          "base_uri": "https://localhost:8080/"
        },
        "id": "v2KhKprriLQD",
        "outputId": "ef9e16d7-a265-46c7-c535-fdcd2b535941"
      },
      "execution_count": 78,
      "outputs": [
        {
          "output_type": "execute_result",
          "data": {
            "text/plain": [
              "False"
            ]
          },
          "metadata": {},
          "execution_count": 78
        }
      ]
    },
    {
      "cell_type": "code",
      "source": [
        "x and z"
      ],
      "metadata": {
        "colab": {
          "base_uri": "https://localhost:8080/"
        },
        "id": "6aXUACkViaTy",
        "outputId": "0361ffad-bcf0-4119-fc64-3a208793381c"
      },
      "execution_count": 79,
      "outputs": [
        {
          "output_type": "execute_result",
          "data": {
            "text/plain": [
              "True"
            ]
          },
          "metadata": {},
          "execution_count": 79
        }
      ]
    },
    {
      "cell_type": "code",
      "source": [
        "y and a"
      ],
      "metadata": {
        "colab": {
          "base_uri": "https://localhost:8080/"
        },
        "id": "fO91LlnaidCI",
        "outputId": "3adc67b5-3214-47b6-d6e1-502b2d4da029"
      },
      "execution_count": 80,
      "outputs": [
        {
          "output_type": "execute_result",
          "data": {
            "text/plain": [
              "False"
            ]
          },
          "metadata": {},
          "execution_count": 80
        }
      ]
    },
    {
      "cell_type": "code",
      "source": [
        "# or operator\n",
        "x or y"
      ],
      "metadata": {
        "colab": {
          "base_uri": "https://localhost:8080/"
        },
        "id": "zLhqRfd3iemu",
        "outputId": "611a8283-efd5-40ee-ddce-d549e85c04d3"
      },
      "execution_count": 81,
      "outputs": [
        {
          "output_type": "execute_result",
          "data": {
            "text/plain": [
              "True"
            ]
          },
          "metadata": {},
          "execution_count": 81
        }
      ]
    },
    {
      "cell_type": "code",
      "source": [
        "x or z"
      ],
      "metadata": {
        "colab": {
          "base_uri": "https://localhost:8080/"
        },
        "id": "y30einxcilJd",
        "outputId": "2b19c5b5-c8de-4743-847c-68e9eab2614c"
      },
      "execution_count": 82,
      "outputs": [
        {
          "output_type": "execute_result",
          "data": {
            "text/plain": [
              "True"
            ]
          },
          "metadata": {},
          "execution_count": 82
        }
      ]
    },
    {
      "cell_type": "code",
      "source": [
        "y or a"
      ],
      "metadata": {
        "colab": {
          "base_uri": "https://localhost:8080/"
        },
        "id": "Pi0EWXbWimXm",
        "outputId": "63d5fe71-aa81-4ab8-87b1-822891761c0c"
      },
      "execution_count": 83,
      "outputs": [
        {
          "output_type": "execute_result",
          "data": {
            "text/plain": [
              "False"
            ]
          },
          "metadata": {},
          "execution_count": 83
        }
      ]
    },
    {
      "cell_type": "code",
      "source": [
        "# not\n",
        "not x"
      ],
      "metadata": {
        "colab": {
          "base_uri": "https://localhost:8080/"
        },
        "id": "OPJgSUZGioSL",
        "outputId": "5a716e68-ea8b-4a69-9f1c-d9f27ea02dc0"
      },
      "execution_count": 84,
      "outputs": [
        {
          "output_type": "execute_result",
          "data": {
            "text/plain": [
              "False"
            ]
          },
          "metadata": {},
          "execution_count": 84
        }
      ]
    },
    {
      "cell_type": "code",
      "source": [
        "not y"
      ],
      "metadata": {
        "colab": {
          "base_uri": "https://localhost:8080/"
        },
        "id": "miKLh5kNitOm",
        "outputId": "ca6afbc2-4197-4939-9f7d-478df2688a70"
      },
      "execution_count": 85,
      "outputs": [
        {
          "output_type": "execute_result",
          "data": {
            "text/plain": [
              "True"
            ]
          },
          "metadata": {},
          "execution_count": 85
        }
      ]
    },
    {
      "cell_type": "markdown",
      "source": [
        "## Membership Operator"
      ],
      "metadata": {
        "id": "g5DuKCmYjNHb"
      }
    },
    {
      "cell_type": "code",
      "source": [
        "l1"
      ],
      "metadata": {
        "colab": {
          "base_uri": "https://localhost:8080/"
        },
        "id": "x-jCcJhEiuOx",
        "outputId": "73bd062d-dc68-45e6-d4ba-728c8a70b519"
      },
      "execution_count": 86,
      "outputs": [
        {
          "output_type": "execute_result",
          "data": {
            "text/plain": [
              "[10, 90, 20, 30, 'hello', 100, 20, 90, 10]"
            ]
          },
          "metadata": {},
          "execution_count": 86
        }
      ]
    },
    {
      "cell_type": "code",
      "source": [
        "10 in l1"
      ],
      "metadata": {
        "colab": {
          "base_uri": "https://localhost:8080/"
        },
        "id": "XV5s7esOjP6m",
        "outputId": "8fecdfed-13d0-4cba-8550-0728a621f98b"
      },
      "execution_count": 87,
      "outputs": [
        {
          "output_type": "execute_result",
          "data": {
            "text/plain": [
              "True"
            ]
          },
          "metadata": {},
          "execution_count": 87
        }
      ]
    },
    {
      "cell_type": "code",
      "source": [
        "99 in l1"
      ],
      "metadata": {
        "colab": {
          "base_uri": "https://localhost:8080/"
        },
        "id": "_0xBqq_wjala",
        "outputId": "1acaf62d-804f-4e8e-d645-507757ac8078"
      },
      "execution_count": 90,
      "outputs": [
        {
          "output_type": "execute_result",
          "data": {
            "text/plain": [
              "False"
            ]
          },
          "metadata": {},
          "execution_count": 90
        }
      ]
    },
    {
      "cell_type": "code",
      "source": [
        "100 not in l1"
      ],
      "metadata": {
        "colab": {
          "base_uri": "https://localhost:8080/"
        },
        "id": "1KUQ-RqkjRDL",
        "outputId": "907a3b07-f2e3-456a-e5d4-8d79729e0e05"
      },
      "execution_count": 88,
      "outputs": [
        {
          "output_type": "execute_result",
          "data": {
            "text/plain": [
              "False"
            ]
          },
          "metadata": {},
          "execution_count": 88
        }
      ]
    },
    {
      "cell_type": "code",
      "source": [
        "99 not in l1"
      ],
      "metadata": {
        "colab": {
          "base_uri": "https://localhost:8080/"
        },
        "id": "6huLa5QPjW9q",
        "outputId": "8b24569e-52a6-4273-a521-d18f245bf408"
      },
      "execution_count": 89,
      "outputs": [
        {
          "output_type": "execute_result",
          "data": {
            "text/plain": [
              "True"
            ]
          },
          "metadata": {},
          "execution_count": 89
        }
      ]
    },
    {
      "cell_type": "markdown",
      "source": [
        "#### Practice Activity :\n",
        "\n",
        "1. A child has just turned 5 years old.  Write a Python expression to calculate her age in months.\n",
        "2. A Nurse reports that - temperature of a baby was 30.56 degrees Celsius when measured at hospital during previous visit.  Write an expression to convert the temperature from Celsius to Fahreneheit.  \n",
        "**Hint:** To convert Celsius to Fahreneheit Multiply by 9, divide by 5, and then add 32."
      ],
      "metadata": {
        "id": "aOS32EV4j1Lw"
      }
    },
    {
      "cell_type": "code",
      "source": [
        "#Q1\n",
        "age_in_years = 5\n",
        "age_in_mon = age_in_years*12\n",
        "print(\"Age in months is\",age_in_mon)"
      ],
      "metadata": {
        "colab": {
          "base_uri": "https://localhost:8080/"
        },
        "id": "bFeGeShwjX_z",
        "outputId": "8341e22a-be87-43e0-fe07-59c03ab97536"
      },
      "execution_count": 91,
      "outputs": [
        {
          "output_type": "stream",
          "name": "stdout",
          "text": [
            "Age in months is 60\n"
          ]
        }
      ]
    },
    {
      "cell_type": "code",
      "source": [
        "#Q2\n",
        "t = 30.56\n",
        "t_f = ((t*9)/5) + 32\n",
        "print('temperature in farhenheit is ',t_f)"
      ],
      "metadata": {
        "colab": {
          "base_uri": "https://localhost:8080/"
        },
        "id": "XZMn688Qm2sN",
        "outputId": "ad2f40be-e13a-4477-f08d-160f049e4cd5"
      },
      "execution_count": 92,
      "outputs": [
        {
          "output_type": "stream",
          "name": "stdout",
          "text": [
            "temperature in farhenheit is  87.008\n"
          ]
        }
      ]
    },
    {
      "cell_type": "code",
      "source": [],
      "metadata": {
        "id": "YR00c9OpnBRw"
      },
      "execution_count": null,
      "outputs": []
    }
  ]
}