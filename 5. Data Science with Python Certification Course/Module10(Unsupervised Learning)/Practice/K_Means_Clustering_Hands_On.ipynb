{
  "nbformat": 4,
  "nbformat_minor": 0,
  "metadata": {
    "colab": {
      "provenance": []
    },
    "kernelspec": {
      "name": "python3",
      "display_name": "Python 3"
    },
    "language_info": {
      "name": "python"
    }
  },
  "cells": [
    {
      "cell_type": "code",
      "execution_count": null,
      "metadata": {
        "colab": {
          "base_uri": "https://localhost:8080/"
        },
        "id": "yy09p3tpuEqO",
        "outputId": "eba90ab3-f44a-4f3f-eb0b-ffd301dc8658"
      },
      "outputs": [
        {
          "output_type": "stream",
          "name": "stdout",
          "text": [
            "--2023-01-12 02:06:20--  https://raw.githubusercontent.com/nachikethmurthy/Source-Code-Dataset-for-Machine-Learning-using-Python/main/Data/Income%20Data.csv\n",
            "Resolving raw.githubusercontent.com (raw.githubusercontent.com)... 185.199.108.133, 185.199.109.133, 185.199.110.133, ...\n",
            "Connecting to raw.githubusercontent.com (raw.githubusercontent.com)|185.199.108.133|:443... connected.\n",
            "HTTP request sent, awaiting response... 200 OK\n",
            "Length: 4145 (4.0K) [text/plain]\n",
            "Saving to: ‘Income Data.csv’\n",
            "\n",
            "Income Data.csv     100%[===================>]   4.05K  --.-KB/s    in 0s      \n",
            "\n",
            "2023-01-12 02:06:20 (49.0 MB/s) - ‘Income Data.csv’ saved [4145/4145]\n",
            "\n"
          ]
        }
      ],
      "source": [
        "#get the dataset\n",
        "!wget https://raw.githubusercontent.com/nachikethmurthy/Source-Code-Dataset-for-Machine-Learning-using-Python/main/Data/Income%20Data.csv"
      ]
    },
    {
      "cell_type": "code",
      "source": [
        "import pandas as pd\n",
        "import numpy as np"
      ],
      "metadata": {
        "id": "4oM44hRFujs-"
      },
      "execution_count": null,
      "outputs": []
    },
    {
      "cell_type": "code",
      "source": [
        "df = pd.read_csv('Income Data.csv')"
      ],
      "metadata": {
        "id": "F7c2vua1un71"
      },
      "execution_count": null,
      "outputs": []
    },
    {
      "cell_type": "code",
      "source": [
        "df.head()"
      ],
      "metadata": {
        "colab": {
          "base_uri": "https://localhost:8080/",
          "height": 206
        },
        "id": "P_4VbItqur-C",
        "outputId": "08a0107a-c0e7-49ce-95e6-1c7043f7960f"
      },
      "execution_count": null,
      "outputs": [
        {
          "output_type": "execute_result",
          "data": {
            "text/plain": [
              "    income    age\n",
              "0  41100.0  48.75\n",
              "1  54100.0  28.10\n",
              "2  47800.0  46.75\n",
              "3  19100.0  40.25\n",
              "4  18200.0  35.80"
            ],
            "text/html": [
              "\n",
              "  <div id=\"df-eef94f37-9102-41c0-bc20-78afa3c4d873\">\n",
              "    <div class=\"colab-df-container\">\n",
              "      <div>\n",
              "<style scoped>\n",
              "    .dataframe tbody tr th:only-of-type {\n",
              "        vertical-align: middle;\n",
              "    }\n",
              "\n",
              "    .dataframe tbody tr th {\n",
              "        vertical-align: top;\n",
              "    }\n",
              "\n",
              "    .dataframe thead th {\n",
              "        text-align: right;\n",
              "    }\n",
              "</style>\n",
              "<table border=\"1\" class=\"dataframe\">\n",
              "  <thead>\n",
              "    <tr style=\"text-align: right;\">\n",
              "      <th></th>\n",
              "      <th>income</th>\n",
              "      <th>age</th>\n",
              "    </tr>\n",
              "  </thead>\n",
              "  <tbody>\n",
              "    <tr>\n",
              "      <th>0</th>\n",
              "      <td>41100.0</td>\n",
              "      <td>48.75</td>\n",
              "    </tr>\n",
              "    <tr>\n",
              "      <th>1</th>\n",
              "      <td>54100.0</td>\n",
              "      <td>28.10</td>\n",
              "    </tr>\n",
              "    <tr>\n",
              "      <th>2</th>\n",
              "      <td>47800.0</td>\n",
              "      <td>46.75</td>\n",
              "    </tr>\n",
              "    <tr>\n",
              "      <th>3</th>\n",
              "      <td>19100.0</td>\n",
              "      <td>40.25</td>\n",
              "    </tr>\n",
              "    <tr>\n",
              "      <th>4</th>\n",
              "      <td>18200.0</td>\n",
              "      <td>35.80</td>\n",
              "    </tr>\n",
              "  </tbody>\n",
              "</table>\n",
              "</div>\n",
              "      <button class=\"colab-df-convert\" onclick=\"convertToInteractive('df-eef94f37-9102-41c0-bc20-78afa3c4d873')\"\n",
              "              title=\"Convert this dataframe to an interactive table.\"\n",
              "              style=\"display:none;\">\n",
              "        \n",
              "  <svg xmlns=\"http://www.w3.org/2000/svg\" height=\"24px\"viewBox=\"0 0 24 24\"\n",
              "       width=\"24px\">\n",
              "    <path d=\"M0 0h24v24H0V0z\" fill=\"none\"/>\n",
              "    <path d=\"M18.56 5.44l.94 2.06.94-2.06 2.06-.94-2.06-.94-.94-2.06-.94 2.06-2.06.94zm-11 1L8.5 8.5l.94-2.06 2.06-.94-2.06-.94L8.5 2.5l-.94 2.06-2.06.94zm10 10l.94 2.06.94-2.06 2.06-.94-2.06-.94-.94-2.06-.94 2.06-2.06.94z\"/><path d=\"M17.41 7.96l-1.37-1.37c-.4-.4-.92-.59-1.43-.59-.52 0-1.04.2-1.43.59L10.3 9.45l-7.72 7.72c-.78.78-.78 2.05 0 2.83L4 21.41c.39.39.9.59 1.41.59.51 0 1.02-.2 1.41-.59l7.78-7.78 2.81-2.81c.8-.78.8-2.07 0-2.86zM5.41 20L4 18.59l7.72-7.72 1.47 1.35L5.41 20z\"/>\n",
              "  </svg>\n",
              "      </button>\n",
              "      \n",
              "  <style>\n",
              "    .colab-df-container {\n",
              "      display:flex;\n",
              "      flex-wrap:wrap;\n",
              "      gap: 12px;\n",
              "    }\n",
              "\n",
              "    .colab-df-convert {\n",
              "      background-color: #E8F0FE;\n",
              "      border: none;\n",
              "      border-radius: 50%;\n",
              "      cursor: pointer;\n",
              "      display: none;\n",
              "      fill: #1967D2;\n",
              "      height: 32px;\n",
              "      padding: 0 0 0 0;\n",
              "      width: 32px;\n",
              "    }\n",
              "\n",
              "    .colab-df-convert:hover {\n",
              "      background-color: #E2EBFA;\n",
              "      box-shadow: 0px 1px 2px rgba(60, 64, 67, 0.3), 0px 1px 3px 1px rgba(60, 64, 67, 0.15);\n",
              "      fill: #174EA6;\n",
              "    }\n",
              "\n",
              "    [theme=dark] .colab-df-convert {\n",
              "      background-color: #3B4455;\n",
              "      fill: #D2E3FC;\n",
              "    }\n",
              "\n",
              "    [theme=dark] .colab-df-convert:hover {\n",
              "      background-color: #434B5C;\n",
              "      box-shadow: 0px 1px 3px 1px rgba(0, 0, 0, 0.15);\n",
              "      filter: drop-shadow(0px 1px 2px rgba(0, 0, 0, 0.3));\n",
              "      fill: #FFFFFF;\n",
              "    }\n",
              "  </style>\n",
              "\n",
              "      <script>\n",
              "        const buttonEl =\n",
              "          document.querySelector('#df-eef94f37-9102-41c0-bc20-78afa3c4d873 button.colab-df-convert');\n",
              "        buttonEl.style.display =\n",
              "          google.colab.kernel.accessAllowed ? 'block' : 'none';\n",
              "\n",
              "        async function convertToInteractive(key) {\n",
              "          const element = document.querySelector('#df-eef94f37-9102-41c0-bc20-78afa3c4d873');\n",
              "          const dataTable =\n",
              "            await google.colab.kernel.invokeFunction('convertToInteractive',\n",
              "                                                     [key], {});\n",
              "          if (!dataTable) return;\n",
              "\n",
              "          const docLinkHtml = 'Like what you see? Visit the ' +\n",
              "            '<a target=\"_blank\" href=https://colab.research.google.com/notebooks/data_table.ipynb>data table notebook</a>'\n",
              "            + ' to learn more about interactive tables.';\n",
              "          element.innerHTML = '';\n",
              "          dataTable['output_type'] = 'display_data';\n",
              "          await google.colab.output.renderOutput(dataTable, element);\n",
              "          const docLink = document.createElement('div');\n",
              "          docLink.innerHTML = docLinkHtml;\n",
              "          element.appendChild(docLink);\n",
              "        }\n",
              "      </script>\n",
              "    </div>\n",
              "  </div>\n",
              "  "
            ]
          },
          "metadata": {},
          "execution_count": 4
        }
      ]
    },
    {
      "cell_type": "code",
      "source": [
        "import seaborn as sns\n",
        "import matplotlib.pyplot as plt\n",
        "\n",
        "sns.scatterplot(x='income',y='age',data=df)\n",
        "plt.show()"
      ],
      "metadata": {
        "colab": {
          "base_uri": "https://localhost:8080/",
          "height": 279
        },
        "id": "JNLkH_qIusw-",
        "outputId": "0c84da8d-a267-4b39-c77c-3daed665922a"
      },
      "execution_count": null,
      "outputs": [
        {
          "output_type": "display_data",
          "data": {
            "text/plain": [
              "<Figure size 432x288 with 1 Axes>"
            ],
            "image/png": "[encoded data removed]"
          },
          "metadata": {
            "needs_background": "light"
          }
        }
      ]
    },
    {
      "cell_type": "code",
      "source": [
        "from sklearn.cluster import KMeans\n",
        "km = KMeans(n_clusters=3, random_state=0)\n",
        "km.fit(df)\n",
        "\n",
        "result = df.copy() # create explicit copy of the dataframe\n",
        "result['cluster_id'] = km.predict(df)\n",
        "result.head()"
      ],
      "metadata": {
        "colab": {
          "base_uri": "https://localhost:8080/",
          "height": 206
        },
        "id": "Kch4BGz-u_7f",
        "outputId": "36529327-0eea-4033-9d1c-38c61e3936a2"
      },
      "execution_count": null,
      "outputs": [
        {
          "output_type": "execute_result",
          "data": {
            "text/plain": [
              "    income    age  cluster_id\n",
              "0  41100.0  48.75           0\n",
              "1  54100.0  28.10           2\n",
              "2  47800.0  46.75           0\n",
              "3  19100.0  40.25           1\n",
              "4  18200.0  35.80           1"
            ],
            "text/html": [
              "\n",
              "  <div id=\"df-bec607ce-7283-42f3-80f8-1f79124c0334\">\n",
              "    <div class=\"colab-df-container\">\n",
              "      <div>\n",
              "<style scoped>\n",
              "    .dataframe tbody tr th:only-of-type {\n",
              "        vertical-align: middle;\n",
              "    }\n",
              "\n",
              "    .dataframe tbody tr th {\n",
              "        vertical-align: top;\n",
              "    }\n",
              "\n",
              "    .dataframe thead th {\n",
              "        text-align: right;\n",
              "    }\n",
              "</style>\n",
              "<table border=\"1\" class=\"dataframe\">\n",
              "  <thead>\n",
              "    <tr style=\"text-align: right;\">\n",
              "      <th></th>\n",
              "      <th>income</th>\n",
              "      <th>age</th>\n",
              "      <th>cluster_id</th>\n",
              "    </tr>\n",
              "  </thead>\n",
              "  <tbody>\n",
              "    <tr>\n",
              "      <th>0</th>\n",
              "      <td>41100.0</td>\n",
              "      <td>48.75</td>\n",
              "      <td>0</td>\n",
              "    </tr>\n",
              "    <tr>\n",
              "      <th>1</th>\n",
              "      <td>54100.0</td>\n",
              "      <td>28.10</td>\n",
              "      <td>2</td>\n",
              "    </tr>\n",
              "    <tr>\n",
              "      <th>2</th>\n",
              "      <td>47800.0</td>\n",
              "      <td>46.75</td>\n",
              "      <td>0</td>\n",
              "    </tr>\n",
              "    <tr>\n",
              "      <th>3</th>\n",
              "      <td>19100.0</td>\n",
              "      <td>40.25</td>\n",
              "      <td>1</td>\n",
              "    </tr>\n",
              "    <tr>\n",
              "      <th>4</th>\n",
              "      <td>18200.0</td>\n",
              "      <td>35.80</td>\n",
              "      <td>1</td>\n",
              "    </tr>\n",
              "  </tbody>\n",
              "</table>\n",
              "</div>\n",
              "      <button class=\"colab-df-convert\" onclick=\"convertToInteractive('df-bec607ce-7283-42f3-80f8-1f79124c0334')\"\n",
              "              title=\"Convert this dataframe to an interactive table.\"\n",
              "              style=\"display:none;\">\n",
              "        \n",
              "  <svg xmlns=\"http://www.w3.org/2000/svg\" height=\"24px\"viewBox=\"0 0 24 24\"\n",
              "       width=\"24px\">\n",
              "    <path d=\"M0 0h24v24H0V0z\" fill=\"none\"/>\n",
              "    <path d=\"M18.56 5.44l.94 2.06.94-2.06 2.06-.94-2.06-.94-.94-2.06-.94 2.06-2.06.94zm-11 1L8.5 8.5l.94-2.06 2.06-.94-2.06-.94L8.5 2.5l-.94 2.06-2.06.94zm10 10l.94 2.06.94-2.06 2.06-.94-2.06-.94-.94-2.06-.94 2.06-2.06.94z\"/><path d=\"M17.41 7.96l-1.37-1.37c-.4-.4-.92-.59-1.43-.59-.52 0-1.04.2-1.43.59L10.3 9.45l-7.72 7.72c-.78.78-.78 2.05 0 2.83L4 21.41c.39.39.9.59 1.41.59.51 0 1.02-.2 1.41-.59l7.78-7.78 2.81-2.81c.8-.78.8-2.07 0-2.86zM5.41 20L4 18.59l7.72-7.72 1.47 1.35L5.41 20z\"/>\n",
              "  </svg>\n",
              "      </button>\n",
              "      \n",
              "  <style>\n",
              "    .colab-df-container {\n",
              "      display:flex;\n",
              "      flex-wrap:wrap;\n",
              "      gap: 12px;\n",
              "    }\n",
              "\n",
              "    .colab-df-convert {\n",
              "      background-color: #E8F0FE;\n",
              "      border: none;\n",
              "      border-radius: 50%;\n",
              "      cursor: pointer;\n",
              "      display: none;\n",
              "      fill: #1967D2;\n",
              "      height: 32px;\n",
              "      padding: 0 0 0 0;\n",
              "      width: 32px;\n",
              "    }\n",
              "\n",
              "    .colab-df-convert:hover {\n",
              "      background-color: #E2EBFA;\n",
              "      box-shadow: 0px 1px 2px rgba(60, 64, 67, 0.3), 0px 1px 3px 1px rgba(60, 64, 67, 0.15);\n",
              "      fill: #174EA6;\n",
              "    }\n",
              "\n",
              "    [theme=dark] .colab-df-convert {\n",
              "      background-color: #3B4455;\n",
              "      fill: #D2E3FC;\n",
              "    }\n",
              "\n",
              "    [theme=dark] .colab-df-convert:hover {\n",
              "      background-color: #434B5C;\n",
              "      box-shadow: 0px 1px 3px 1px rgba(0, 0, 0, 0.15);\n",
              "      filter: drop-shadow(0px 1px 2px rgba(0, 0, 0, 0.3));\n",
              "      fill: #FFFFFF;\n",
              "    }\n",
              "  </style>\n",
              "\n",
              "      <script>\n",
              "        const buttonEl =\n",
              "          document.querySelector('#df-bec607ce-7283-42f3-80f8-1f79124c0334 button.colab-df-convert');\n",
              "        buttonEl.style.display =\n",
              "          google.colab.kernel.accessAllowed ? 'block' : 'none';\n",
              "\n",
              "        async function convertToInteractive(key) {\n",
              "          const element = document.querySelector('#df-bec607ce-7283-42f3-80f8-1f79124c0334');\n",
              "          const dataTable =\n",
              "            await google.colab.kernel.invokeFunction('convertToInteractive',\n",
              "                                                     [key], {});\n",
              "          if (!dataTable) return;\n",
              "\n",
              "          const docLinkHtml = 'Like what you see? Visit the ' +\n",
              "            '<a target=\"_blank\" href=https://colab.research.google.com/notebooks/data_table.ipynb>data table notebook</a>'\n",
              "            + ' to learn more about interactive tables.';\n",
              "          element.innerHTML = '';\n",
              "          dataTable['output_type'] = 'display_data';\n",
              "          await google.colab.output.renderOutput(dataTable, element);\n",
              "          const docLink = document.createElement('div');\n",
              "          docLink.innerHTML = docLinkHtml;\n",
              "          element.appendChild(docLink);\n",
              "        }\n",
              "      </script>\n",
              "    </div>\n",
              "  </div>\n",
              "  "
            ]
          },
          "metadata": {},
          "execution_count": 6
        }
      ]
    },
    {
      "cell_type": "code",
      "source": [
        "sns.scatterplot(x='income',y='age',hue='cluster_id',data=result)\n",
        "plt.show()"
      ],
      "metadata": {
        "colab": {
          "base_uri": "https://localhost:8080/",
          "height": 279
        },
        "id": "x_xilsXYvqJc",
        "outputId": "d8eb6ba0-d6eb-4e28-b8cc-df8dbac1eb3e"
      },
      "execution_count": null,
      "outputs": [
        {
          "output_type": "display_data",
          "data": {
            "text/plain": [
              "<Figure size 432x288 with 1 Axes>"
            ],
            "image/png": "[encoded data removed]"
          },
          "metadata": {
            "needs_background": "light"
          }
        }
      ]
    },
    {
      "cell_type": "code",
      "source": [
        "from sklearn.preprocessing import StandardScaler\n",
        "ss = StandardScaler()\n",
        "result_df = ss.fit_transform(df)\n",
        "result = result_df.copy()\n",
        "result = pd.DataFrame(result, columns = df.columns)\n",
        "km = KMeans(n_clusters=3, random_state=0)\n",
        "km.fit(result)\n",
        "\n",
        "result['cluster_id'] = km.predict(result)\n",
        "result.head()"
      ],
      "metadata": {
        "colab": {
          "base_uri": "https://localhost:8080/",
          "height": 206
        },
        "id": "KWr5qzE8v-VL",
        "outputId": "53fb79ed-8849-45a9-9355-f7e78f06dad5"
      },
      "execution_count": null,
      "outputs": [
        {
          "output_type": "execute_result",
          "data": {
            "text/plain": [
              "     income       age  cluster_id\n",
              "0  0.097185  1.370164           2\n",
              "1  0.906027 -1.379128           1\n",
              "2  0.514050  1.103888           2\n",
              "3 -1.271624  0.238494           0\n",
              "4 -1.327621 -0.353969           0"
            ],
            "text/html": [
              "\n",
              "  <div id=\"df-69a81d0a-99ff-4ff7-9a0f-1df7980fe31f\">\n",
              "    <div class=\"colab-df-container\">\n",
              "      <div>\n",
              "<style scoped>\n",
              "    .dataframe tbody tr th:only-of-type {\n",
              "        vertical-align: middle;\n",
              "    }\n",
              "\n",
              "    .dataframe tbody tr th {\n",
              "        vertical-align: top;\n",
              "    }\n",
              "\n",
              "    .dataframe thead th {\n",
              "        text-align: right;\n",
              "    }\n",
              "</style>\n",
              "<table border=\"1\" class=\"dataframe\">\n",
              "  <thead>\n",
              "    <tr style=\"text-align: right;\">\n",
              "      <th></th>\n",
              "      <th>income</th>\n",
              "      <th>age</th>\n",
              "      <th>cluster_id</th>\n",
              "    </tr>\n",
              "  </thead>\n",
              "  <tbody>\n",
              "    <tr>\n",
              "      <th>0</th>\n",
              "      <td>0.097185</td>\n",
              "      <td>1.370164</td>\n",
              "      <td>2</td>\n",
              "    </tr>\n",
              "    <tr>\n",
              "      <th>1</th>\n",
              "      <td>0.906027</td>\n",
              "      <td>-1.379128</td>\n",
              "      <td>1</td>\n",
              "    </tr>\n",
              "    <tr>\n",
              "      <th>2</th>\n",
              "      <td>0.514050</td>\n",
              "      <td>1.103888</td>\n",
              "      <td>2</td>\n",
              "    </tr>\n",
              "    <tr>\n",
              "      <th>3</th>\n",
              "      <td>-1.271624</td>\n",
              "      <td>0.238494</td>\n",
              "      <td>0</td>\n",
              "    </tr>\n",
              "    <tr>\n",
              "      <th>4</th>\n",
              "      <td>-1.327621</td>\n",
              "      <td>-0.353969</td>\n",
              "      <td>0</td>\n",
              "    </tr>\n",
              "  </tbody>\n",
              "</table>\n",
              "</div>\n",
              "      <button class=\"colab-df-convert\" onclick=\"convertToInteractive('df-69a81d0a-99ff-4ff7-9a0f-1df7980fe31f')\"\n",
              "              title=\"Convert this dataframe to an interactive table.\"\n",
              "              style=\"display:none;\">\n",
              "        \n",
              "  <svg xmlns=\"http://www.w3.org/2000/svg\" height=\"24px\"viewBox=\"0 0 24 24\"\n",
              "       width=\"24px\">\n",
              "    <path d=\"M0 0h24v24H0V0z\" fill=\"none\"/>\n",
              "    <path d=\"M18.56 5.44l.94 2.06.94-2.06 2.06-.94-2.06-.94-.94-2.06-.94 2.06-2.06.94zm-11 1L8.5 8.5l.94-2.06 2.06-.94-2.06-.94L8.5 2.5l-.94 2.06-2.06.94zm10 10l.94 2.06.94-2.06 2.06-.94-2.06-.94-.94-2.06-.94 2.06-2.06.94z\"/><path d=\"M17.41 7.96l-1.37-1.37c-.4-.4-.92-.59-1.43-.59-.52 0-1.04.2-1.43.59L10.3 9.45l-7.72 7.72c-.78.78-.78 2.05 0 2.83L4 21.41c.39.39.9.59 1.41.59.51 0 1.02-.2 1.41-.59l7.78-7.78 2.81-2.81c.8-.78.8-2.07 0-2.86zM5.41 20L4 18.59l7.72-7.72 1.47 1.35L5.41 20z\"/>\n",
              "  </svg>\n",
              "      </button>\n",
              "      \n",
              "  <style>\n",
              "    .colab-df-container {\n",
              "      display:flex;\n",
              "      flex-wrap:wrap;\n",
              "      gap: 12px;\n",
              "    }\n",
              "\n",
              "    .colab-df-convert {\n",
              "      background-color: #E8F0FE;\n",
              "      border: none;\n",
              "      border-radius: 50%;\n",
              "      cursor: pointer;\n",
              "      display: none;\n",
              "      fill: #1967D2;\n",
              "      height: 32px;\n",
              "      padding: 0 0 0 0;\n",
              "      width: 32px;\n",
              "    }\n",
              "\n",
              "    .colab-df-convert:hover {\n",
              "      background-color: #E2EBFA;\n",
              "      box-shadow: 0px 1px 2px rgba(60, 64, 67, 0.3), 0px 1px 3px 1px rgba(60, 64, 67, 0.15);\n",
              "      fill: #174EA6;\n",
              "    }\n",
              "\n",
              "    [theme=dark] .colab-df-convert {\n",
              "      background-color: #3B4455;\n",
              "      fill: #D2E3FC;\n",
              "    }\n",
              "\n",
              "    [theme=dark] .colab-df-convert:hover {\n",
              "      background-color: #434B5C;\n",
              "      box-shadow: 0px 1px 3px 1px rgba(0, 0, 0, 0.15);\n",
              "      filter: drop-shadow(0px 1px 2px rgba(0, 0, 0, 0.3));\n",
              "      fill: #FFFFFF;\n",
              "    }\n",
              "  </style>\n",
              "\n",
              "      <script>\n",
              "        const buttonEl =\n",
              "          document.querySelector('#df-69a81d0a-99ff-4ff7-9a0f-1df7980fe31f button.colab-df-convert');\n",
              "        buttonEl.style.display =\n",
              "          google.colab.kernel.accessAllowed ? 'block' : 'none';\n",
              "\n",
              "        async function convertToInteractive(key) {\n",
              "          const element = document.querySelector('#df-69a81d0a-99ff-4ff7-9a0f-1df7980fe31f');\n",
              "          const dataTable =\n",
              "            await google.colab.kernel.invokeFunction('convertToInteractive',\n",
              "                                                     [key], {});\n",
              "          if (!dataTable) return;\n",
              "\n",
              "          const docLinkHtml = 'Like what you see? Visit the ' +\n",
              "            '<a target=\"_blank\" href=https://colab.research.google.com/notebooks/data_table.ipynb>data table notebook</a>'\n",
              "            + ' to learn more about interactive tables.';\n",
              "          element.innerHTML = '';\n",
              "          dataTable['output_type'] = 'display_data';\n",
              "          await google.colab.output.renderOutput(dataTable, element);\n",
              "          const docLink = document.createElement('div');\n",
              "          docLink.innerHTML = docLinkHtml;\n",
              "          element.appendChild(docLink);\n",
              "        }\n",
              "      </script>\n",
              "    </div>\n",
              "  </div>\n",
              "  "
            ]
          },
          "metadata": {},
          "execution_count": 12
        }
      ]
    },
    {
      "cell_type": "code",
      "source": [
        "sns.scatterplot(x='income',y='age',hue='cluster_id',data=result)\n",
        "plt.show()"
      ],
      "metadata": {
        "colab": {
          "base_uri": "https://localhost:8080/",
          "height": 279
        },
        "id": "-fhdqjPbwtO3",
        "outputId": "fff1ebe0-0c45-4a54-8f90-ea93959e17dd"
      },
      "execution_count": null,
      "outputs": [
        {
          "output_type": "display_data",
          "data": {
            "text/plain": [
              "<Figure size 432x288 with 1 Axes>"
            ],
            "image/png": "[encoded data removed]"
          },
          "metadata": {
            "needs_background": "light"
          }
        }
      ]
    },
    {
      "cell_type": "code",
      "source": [
        "km.cluster_centers_ # Return centroids"
      ],
      "metadata": {
        "colab": {
          "base_uri": "https://localhost:8080/"
        },
        "id": "n6xIeX1nwts2",
        "outputId": "5148d5dd-dfcb-488e-c6a7-51dedaf31cf3"
      },
      "execution_count": null,
      "outputs": [
        {
          "output_type": "execute_result",
          "data": {
            "text/plain": [
              "array([[-1.32005197,  0.09073855],\n",
              "       [ 0.97471684, -1.20817959],\n",
              "       [ 0.29682871,  1.08753708]])"
            ]
          },
          "metadata": {},
          "execution_count": 14
        }
      ]
    },
    {
      "cell_type": "code",
      "source": [
        "km.inertia_ # WSS"
      ],
      "metadata": {
        "colab": {
          "base_uri": "https://localhost:8080/"
        },
        "id": "WC_J7pZ7xR_s",
        "outputId": "a43cd87e-5451-42c3-b428-3222f61a5490"
      },
      "execution_count": null,
      "outputs": [
        {
          "output_type": "execute_result",
          "data": {
            "text/plain": [
              "58.30120949883503"
            ]
          },
          "metadata": {},
          "execution_count": 15
        }
      ]
    },
    {
      "cell_type": "code",
      "source": [
        "#decide on number of clusters\n",
        "# Elbow\n",
        "ss = StandardScaler()\n",
        "df_scaled = ss.fit_transform(df)\n",
        "df_scaled = pd.DataFrame(df_scaled, columns=df.columns)\n",
        "\n",
        "\n",
        "\n",
        "inertia = []\n",
        "for i in range(2,12):\n",
        "  km = KMeans(n_clusters=i)\n",
        "  km.fit(df_scaled)\n",
        "  inertia.append(km.inertia_)\n",
        "\n",
        "plt.plot(range(2,12),inertia,marker='x')\n",
        "plt.xlabel(\"Number of cluster\")\n",
        "plt.ylabel('inertia')\n",
        "plt.show()"
      ],
      "metadata": {
        "colab": {
          "base_uri": "https://localhost:8080/",
          "height": 279
        },
        "id": "tolgbcDexVON",
        "outputId": "70d8262c-f544-44ee-a8f8-ce3f76fd8e1e"
      },
      "execution_count": null,
      "outputs": [
        {
          "output_type": "display_data",
          "data": {
            "text/plain": [
              "<Figure size 432x288 with 1 Axes>"
            ],
            "image/png": "[encoded data removed]"
          },
          "metadata": {
            "needs_background": "light"
          }
        }
      ]
    },
    {
      "cell_type": "code",
      "source": [
        "# Clusters 3 and 4 is suitable with this data"
      ],
      "metadata": {
        "id": "-d3JI49tx_Tn"
      },
      "execution_count": null,
      "outputs": []
    },
    {
      "cell_type": "code",
      "source": [
        "km.predict([[0.8,0.9]])"
      ],
      "metadata": {
        "colab": {
          "base_uri": "https://localhost:8080/"
        },
        "id": "gbecgl-CyPXI",
        "outputId": "1699c826-9d02-43e3-a64b-df3f9781eb4f"
      },
      "execution_count": null,
      "outputs": [
        {
          "output_type": "stream",
          "name": "stderr",
          "text": [
            "/usr/local/lib/python3.8/dist-packages/sklearn/base.py:450: UserWarning: X does not have valid feature names, but KMeans was fitted with feature names\n",
            "  warnings.warn(\n"
          ]
        },
        {
          "output_type": "execute_result",
          "data": {
            "text/plain": [
              "array([0], dtype=int32)"
            ]
          },
          "metadata": {},
          "execution_count": 17
        }
      ]
    },
    {
      "cell_type": "code",
      "source": [
        "from sklearn.preprocessing import StandardScaler\n",
        "ss = StandardScaler()\n",
        "result_df = ss.fit_transform(df)\n",
        "result = result_df.copy()\n",
        "result = pd.DataFrame(result, columns = df.columns)\n",
        "km = KMeans(n_clusters=3, random_state=0)\n",
        "km.fit(result)\n",
        "\n",
        "result['cluster_id'] = km.predict(result)\n",
        "result.head()"
      ],
      "metadata": {
        "colab": {
          "base_uri": "https://localhost:8080/",
          "height": 206
        },
        "id": "OIPBOQbVyXJc",
        "outputId": "d13326ac-e827-429e-93b4-d32fee3b4c61"
      },
      "execution_count": null,
      "outputs": [
        {
          "output_type": "execute_result",
          "data": {
            "text/plain": [
              "     income       age  cluster_id\n",
              "0  0.097185  1.370164           2\n",
              "1  0.906027 -1.379128           1\n",
              "2  0.514050  1.103888           2\n",
              "3 -1.271624  0.238494           0\n",
              "4 -1.327621 -0.353969           0"
            ],
            "text/html": [
              "\n",
              "  <div id=\"df-3a7afc1b-6725-4bef-b8a5-1bc4c6752f09\">\n",
              "    <div class=\"colab-df-container\">\n",
              "      <div>\n",
              "<style scoped>\n",
              "    .dataframe tbody tr th:only-of-type {\n",
              "        vertical-align: middle;\n",
              "    }\n",
              "\n",
              "    .dataframe tbody tr th {\n",
              "        vertical-align: top;\n",
              "    }\n",
              "\n",
              "    .dataframe thead th {\n",
              "        text-align: right;\n",
              "    }\n",
              "</style>\n",
              "<table border=\"1\" class=\"dataframe\">\n",
              "  <thead>\n",
              "    <tr style=\"text-align: right;\">\n",
              "      <th></th>\n",
              "      <th>income</th>\n",
              "      <th>age</th>\n",
              "      <th>cluster_id</th>\n",
              "    </tr>\n",
              "  </thead>\n",
              "  <tbody>\n",
              "    <tr>\n",
              "      <th>0</th>\n",
              "      <td>0.097185</td>\n",
              "      <td>1.370164</td>\n",
              "      <td>2</td>\n",
              "    </tr>\n",
              "    <tr>\n",
              "      <th>1</th>\n",
              "      <td>0.906027</td>\n",
              "      <td>-1.379128</td>\n",
              "      <td>1</td>\n",
              "    </tr>\n",
              "    <tr>\n",
              "      <th>2</th>\n",
              "      <td>0.514050</td>\n",
              "      <td>1.103888</td>\n",
              "      <td>2</td>\n",
              "    </tr>\n",
              "    <tr>\n",
              "      <th>3</th>\n",
              "      <td>-1.271624</td>\n",
              "      <td>0.238494</td>\n",
              "      <td>0</td>\n",
              "    </tr>\n",
              "    <tr>\n",
              "      <th>4</th>\n",
              "      <td>-1.327621</td>\n",
              "      <td>-0.353969</td>\n",
              "      <td>0</td>\n",
              "    </tr>\n",
              "  </tbody>\n",
              "</table>\n",
              "</div>\n",
              "      <button class=\"colab-df-convert\" onclick=\"convertToInteractive('df-3a7afc1b-6725-4bef-b8a5-1bc4c6752f09')\"\n",
              "              title=\"Convert this dataframe to an interactive table.\"\n",
              "              style=\"display:none;\">\n",
              "        \n",
              "  <svg xmlns=\"http://www.w3.org/2000/svg\" height=\"24px\"viewBox=\"0 0 24 24\"\n",
              "       width=\"24px\">\n",
              "    <path d=\"M0 0h24v24H0V0z\" fill=\"none\"/>\n",
              "    <path d=\"M18.56 5.44l.94 2.06.94-2.06 2.06-.94-2.06-.94-.94-2.06-.94 2.06-2.06.94zm-11 1L8.5 8.5l.94-2.06 2.06-.94-2.06-.94L8.5 2.5l-.94 2.06-2.06.94zm10 10l.94 2.06.94-2.06 2.06-.94-2.06-.94-.94-2.06-.94 2.06-2.06.94z\"/><path d=\"M17.41 7.96l-1.37-1.37c-.4-.4-.92-.59-1.43-.59-.52 0-1.04.2-1.43.59L10.3 9.45l-7.72 7.72c-.78.78-.78 2.05 0 2.83L4 21.41c.39.39.9.59 1.41.59.51 0 1.02-.2 1.41-.59l7.78-7.78 2.81-2.81c.8-.78.8-2.07 0-2.86zM5.41 20L4 18.59l7.72-7.72 1.47 1.35L5.41 20z\"/>\n",
              "  </svg>\n",
              "      </button>\n",
              "      \n",
              "  <style>\n",
              "    .colab-df-container {\n",
              "      display:flex;\n",
              "      flex-wrap:wrap;\n",
              "      gap: 12px;\n",
              "    }\n",
              "\n",
              "    .colab-df-convert {\n",
              "      background-color: #E8F0FE;\n",
              "      border: none;\n",
              "      border-radius: 50%;\n",
              "      cursor: pointer;\n",
              "      display: none;\n",
              "      fill: #1967D2;\n",
              "      height: 32px;\n",
              "      padding: 0 0 0 0;\n",
              "      width: 32px;\n",
              "    }\n",
              "\n",
              "    .colab-df-convert:hover {\n",
              "      background-color: #E2EBFA;\n",
              "      box-shadow: 0px 1px 2px rgba(60, 64, 67, 0.3), 0px 1px 3px 1px rgba(60, 64, 67, 0.15);\n",
              "      fill: #174EA6;\n",
              "    }\n",
              "\n",
              "    [theme=dark] .colab-df-convert {\n",
              "      background-color: #3B4455;\n",
              "      fill: #D2E3FC;\n",
              "    }\n",
              "\n",
              "    [theme=dark] .colab-df-convert:hover {\n",
              "      background-color: #434B5C;\n",
              "      box-shadow: 0px 1px 3px 1px rgba(0, 0, 0, 0.15);\n",
              "      filter: drop-shadow(0px 1px 2px rgba(0, 0, 0, 0.3));\n",
              "      fill: #FFFFFF;\n",
              "    }\n",
              "  </style>\n",
              "\n",
              "      <script>\n",
              "        const buttonEl =\n",
              "          document.querySelector('#df-3a7afc1b-6725-4bef-b8a5-1bc4c6752f09 button.colab-df-convert');\n",
              "        buttonEl.style.display =\n",
              "          google.colab.kernel.accessAllowed ? 'block' : 'none';\n",
              "\n",
              "        async function convertToInteractive(key) {\n",
              "          const element = document.querySelector('#df-3a7afc1b-6725-4bef-b8a5-1bc4c6752f09');\n",
              "          const dataTable =\n",
              "            await google.colab.kernel.invokeFunction('convertToInteractive',\n",
              "                                                     [key], {});\n",
              "          if (!dataTable) return;\n",
              "\n",
              "          const docLinkHtml = 'Like what you see? Visit the ' +\n",
              "            '<a target=\"_blank\" href=https://colab.research.google.com/notebooks/data_table.ipynb>data table notebook</a>'\n",
              "            + ' to learn more about interactive tables.';\n",
              "          element.innerHTML = '';\n",
              "          dataTable['output_type'] = 'display_data';\n",
              "          await google.colab.output.renderOutput(dataTable, element);\n",
              "          const docLink = document.createElement('div');\n",
              "          docLink.innerHTML = docLinkHtml;\n",
              "          element.appendChild(docLink);\n",
              "        }\n",
              "      </script>\n",
              "    </div>\n",
              "  </div>\n",
              "  "
            ]
          },
          "metadata": {},
          "execution_count": 18
        }
      ]
    },
    {
      "cell_type": "code",
      "source": [
        "df['cluster_id'] = result['cluster_id']"
      ],
      "metadata": {
        "id": "h9QSSvEezHVs"
      },
      "execution_count": null,
      "outputs": []
    },
    {
      "cell_type": "code",
      "source": [
        "df.head()"
      ],
      "metadata": {
        "colab": {
          "base_uri": "https://localhost:8080/",
          "height": 206
        },
        "id": "v-nNQ2GgzNbz",
        "outputId": "3214375c-d1cd-4b87-ac62-af78c4c4afc4"
      },
      "execution_count": null,
      "outputs": [
        {
          "output_type": "execute_result",
          "data": {
            "text/plain": [
              "    income    age  cluster_id\n",
              "0  41100.0  48.75           2\n",
              "1  54100.0  28.10           1\n",
              "2  47800.0  46.75           2\n",
              "3  19100.0  40.25           0\n",
              "4  18200.0  35.80           0"
            ],
            "text/html": [
              "\n",
              "  <div id=\"df-b466ec64-eeda-47b0-912f-f74e2fa96f0c\">\n",
              "    <div class=\"colab-df-container\">\n",
              "      <div>\n",
              "<style scoped>\n",
              "    .dataframe tbody tr th:only-of-type {\n",
              "        vertical-align: middle;\n",
              "    }\n",
              "\n",
              "    .dataframe tbody tr th {\n",
              "        vertical-align: top;\n",
              "    }\n",
              "\n",
              "    .dataframe thead th {\n",
              "        text-align: right;\n",
              "    }\n",
              "</style>\n",
              "<table border=\"1\" class=\"dataframe\">\n",
              "  <thead>\n",
              "    <tr style=\"text-align: right;\">\n",
              "      <th></th>\n",
              "      <th>income</th>\n",
              "      <th>age</th>\n",
              "      <th>cluster_id</th>\n",
              "    </tr>\n",
              "  </thead>\n",
              "  <tbody>\n",
              "    <tr>\n",
              "      <th>0</th>\n",
              "      <td>41100.0</td>\n",
              "      <td>48.75</td>\n",
              "      <td>2</td>\n",
              "    </tr>\n",
              "    <tr>\n",
              "      <th>1</th>\n",
              "      <td>54100.0</td>\n",
              "      <td>28.10</td>\n",
              "      <td>1</td>\n",
              "    </tr>\n",
              "    <tr>\n",
              "      <th>2</th>\n",
              "      <td>47800.0</td>\n",
              "      <td>46.75</td>\n",
              "      <td>2</td>\n",
              "    </tr>\n",
              "    <tr>\n",
              "      <th>3</th>\n",
              "      <td>19100.0</td>\n",
              "      <td>40.25</td>\n",
              "      <td>0</td>\n",
              "    </tr>\n",
              "    <tr>\n",
              "      <th>4</th>\n",
              "      <td>18200.0</td>\n",
              "      <td>35.80</td>\n",
              "      <td>0</td>\n",
              "    </tr>\n",
              "  </tbody>\n",
              "</table>\n",
              "</div>\n",
              "      <button class=\"colab-df-convert\" onclick=\"convertToInteractive('df-b466ec64-eeda-47b0-912f-f74e2fa96f0c')\"\n",
              "              title=\"Convert this dataframe to an interactive table.\"\n",
              "              style=\"display:none;\">\n",
              "        \n",
              "  <svg xmlns=\"http://www.w3.org/2000/svg\" height=\"24px\"viewBox=\"0 0 24 24\"\n",
              "       width=\"24px\">\n",
              "    <path d=\"M0 0h24v24H0V0z\" fill=\"none\"/>\n",
              "    <path d=\"M18.56 5.44l.94 2.06.94-2.06 2.06-.94-2.06-.94-.94-2.06-.94 2.06-2.06.94zm-11 1L8.5 8.5l.94-2.06 2.06-.94-2.06-.94L8.5 2.5l-.94 2.06-2.06.94zm10 10l.94 2.06.94-2.06 2.06-.94-2.06-.94-.94-2.06-.94 2.06-2.06.94z\"/><path d=\"M17.41 7.96l-1.37-1.37c-.4-.4-.92-.59-1.43-.59-.52 0-1.04.2-1.43.59L10.3 9.45l-7.72 7.72c-.78.78-.78 2.05 0 2.83L4 21.41c.39.39.9.59 1.41.59.51 0 1.02-.2 1.41-.59l7.78-7.78 2.81-2.81c.8-.78.8-2.07 0-2.86zM5.41 20L4 18.59l7.72-7.72 1.47 1.35L5.41 20z\"/>\n",
              "  </svg>\n",
              "      </button>\n",
              "      \n",
              "  <style>\n",
              "    .colab-df-container {\n",
              "      display:flex;\n",
              "      flex-wrap:wrap;\n",
              "      gap: 12px;\n",
              "    }\n",
              "\n",
              "    .colab-df-convert {\n",
              "      background-color: #E8F0FE;\n",
              "      border: none;\n",
              "      border-radius: 50%;\n",
              "      cursor: pointer;\n",
              "      display: none;\n",
              "      fill: #1967D2;\n",
              "      height: 32px;\n",
              "      padding: 0 0 0 0;\n",
              "      width: 32px;\n",
              "    }\n",
              "\n",
              "    .colab-df-convert:hover {\n",
              "      background-color: #E2EBFA;\n",
              "      box-shadow: 0px 1px 2px rgba(60, 64, 67, 0.3), 0px 1px 3px 1px rgba(60, 64, 67, 0.15);\n",
              "      fill: #174EA6;\n",
              "    }\n",
              "\n",
              "    [theme=dark] .colab-df-convert {\n",
              "      background-color: #3B4455;\n",
              "      fill: #D2E3FC;\n",
              "    }\n",
              "\n",
              "    [theme=dark] .colab-df-convert:hover {\n",
              "      background-color: #434B5C;\n",
              "      box-shadow: 0px 1px 3px 1px rgba(0, 0, 0, 0.15);\n",
              "      filter: drop-shadow(0px 1px 2px rgba(0, 0, 0, 0.3));\n",
              "      fill: #FFFFFF;\n",
              "    }\n",
              "  </style>\n",
              "\n",
              "      <script>\n",
              "        const buttonEl =\n",
              "          document.querySelector('#df-b466ec64-eeda-47b0-912f-f74e2fa96f0c button.colab-df-convert');\n",
              "        buttonEl.style.display =\n",
              "          google.colab.kernel.accessAllowed ? 'block' : 'none';\n",
              "\n",
              "        async function convertToInteractive(key) {\n",
              "          const element = document.querySelector('#df-b466ec64-eeda-47b0-912f-f74e2fa96f0c');\n",
              "          const dataTable =\n",
              "            await google.colab.kernel.invokeFunction('convertToInteractive',\n",
              "                                                     [key], {});\n",
              "          if (!dataTable) return;\n",
              "\n",
              "          const docLinkHtml = 'Like what you see? Visit the ' +\n",
              "            '<a target=\"_blank\" href=https://colab.research.google.com/notebooks/data_table.ipynb>data table notebook</a>'\n",
              "            + ' to learn more about interactive tables.';\n",
              "          element.innerHTML = '';\n",
              "          dataTable['output_type'] = 'display_data';\n",
              "          await google.colab.output.renderOutput(dataTable, element);\n",
              "          const docLink = document.createElement('div');\n",
              "          docLink.innerHTML = docLinkHtml;\n",
              "          element.appendChild(docLink);\n",
              "        }\n",
              "      </script>\n",
              "    </div>\n",
              "  </div>\n",
              "  "
            ]
          },
          "metadata": {},
          "execution_count": 20
        }
      ]
    },
    {
      "cell_type": "code",
      "source": [
        "df.groupby('cluster_id').agg(['mean'])"
      ],
      "metadata": {
        "colab": {
          "base_uri": "https://localhost:8080/",
          "height": 206
        },
        "id": "zF92zE2hzOzg",
        "outputId": "bb6a5f7d-8e04-4c74-aa1d-54ac29e4ea6b"
      },
      "execution_count": null,
      "outputs": [
        {
          "output_type": "execute_result",
          "data": {
            "text/plain": [
              "                  income        age\n",
              "                    mean       mean\n",
              "cluster_id                         \n",
              "0           18321.649485  39.140206\n",
              "1           55204.000000  29.384000\n",
              "2           44308.737864  46.627184"
            ],
            "text/html": [
              "\n",
              "  <div id=\"df-27954b68-e8f4-4422-bd94-28f95878e1f5\">\n",
              "    <div class=\"colab-df-container\">\n",
              "      <div>\n",
              "<style scoped>\n",
              "    .dataframe tbody tr th:only-of-type {\n",
              "        vertical-align: middle;\n",
              "    }\n",
              "\n",
              "    .dataframe tbody tr th {\n",
              "        vertical-align: top;\n",
              "    }\n",
              "\n",
              "    .dataframe thead tr th {\n",
              "        text-align: left;\n",
              "    }\n",
              "\n",
              "    .dataframe thead tr:last-of-type th {\n",
              "        text-align: right;\n",
              "    }\n",
              "</style>\n",
              "<table border=\"1\" class=\"dataframe\">\n",
              "  <thead>\n",
              "    <tr>\n",
              "      <th></th>\n",
              "      <th>income</th>\n",
              "      <th>age</th>\n",
              "    </tr>\n",
              "    <tr>\n",
              "      <th></th>\n",
              "      <th>mean</th>\n",
              "      <th>mean</th>\n",
              "    </tr>\n",
              "    <tr>\n",
              "      <th>cluster_id</th>\n",
              "      <th></th>\n",
              "      <th></th>\n",
              "    </tr>\n",
              "  </thead>\n",
              "  <tbody>\n",
              "    <tr>\n",
              "      <th>0</th>\n",
              "      <td>18321.649485</td>\n",
              "      <td>39.140206</td>\n",
              "    </tr>\n",
              "    <tr>\n",
              "      <th>1</th>\n",
              "      <td>55204.000000</td>\n",
              "      <td>29.384000</td>\n",
              "    </tr>\n",
              "    <tr>\n",
              "      <th>2</th>\n",
              "      <td>44308.737864</td>\n",
              "      <td>46.627184</td>\n",
              "    </tr>\n",
              "  </tbody>\n",
              "</table>\n",
              "</div>\n",
              "      <button class=\"colab-df-convert\" onclick=\"convertToInteractive('df-27954b68-e8f4-4422-bd94-28f95878e1f5')\"\n",
              "              title=\"Convert this dataframe to an interactive table.\"\n",
              "              style=\"display:none;\">\n",
              "        \n",
              "  <svg xmlns=\"http://www.w3.org/2000/svg\" height=\"24px\"viewBox=\"0 0 24 24\"\n",
              "       width=\"24px\">\n",
              "    <path d=\"M0 0h24v24H0V0z\" fill=\"none\"/>\n",
              "    <path d=\"M18.56 5.44l.94 2.06.94-2.06 2.06-.94-2.06-.94-.94-2.06-.94 2.06-2.06.94zm-11 1L8.5 8.5l.94-2.06 2.06-.94-2.06-.94L8.5 2.5l-.94 2.06-2.06.94zm10 10l.94 2.06.94-2.06 2.06-.94-2.06-.94-.94-2.06-.94 2.06-2.06.94z\"/><path d=\"M17.41 7.96l-1.37-1.37c-.4-.4-.92-.59-1.43-.59-.52 0-1.04.2-1.43.59L10.3 9.45l-7.72 7.72c-.78.78-.78 2.05 0 2.83L4 21.41c.39.39.9.59 1.41.59.51 0 1.02-.2 1.41-.59l7.78-7.78 2.81-2.81c.8-.78.8-2.07 0-2.86zM5.41 20L4 18.59l7.72-7.72 1.47 1.35L5.41 20z\"/>\n",
              "  </svg>\n",
              "      </button>\n",
              "      \n",
              "  <style>\n",
              "    .colab-df-container {\n",
              "      display:flex;\n",
              "      flex-wrap:wrap;\n",
              "      gap: 12px;\n",
              "    }\n",
              "\n",
              "    .colab-df-convert {\n",
              "      background-color: #E8F0FE;\n",
              "      border: none;\n",
              "      border-radius: 50%;\n",
              "      cursor: pointer;\n",
              "      display: none;\n",
              "      fill: #1967D2;\n",
              "      height: 32px;\n",
              "      padding: 0 0 0 0;\n",
              "      width: 32px;\n",
              "    }\n",
              "\n",
              "    .colab-df-convert:hover {\n",
              "      background-color: #E2EBFA;\n",
              "      box-shadow: 0px 1px 2px rgba(60, 64, 67, 0.3), 0px 1px 3px 1px rgba(60, 64, 67, 0.15);\n",
              "      fill: #174EA6;\n",
              "    }\n",
              "\n",
              "    [theme=dark] .colab-df-convert {\n",
              "      background-color: #3B4455;\n",
              "      fill: #D2E3FC;\n",
              "    }\n",
              "\n",
              "    [theme=dark] .colab-df-convert:hover {\n",
              "      background-color: #434B5C;\n",
              "      box-shadow: 0px 1px 3px 1px rgba(0, 0, 0, 0.15);\n",
              "      filter: drop-shadow(0px 1px 2px rgba(0, 0, 0, 0.3));\n",
              "      fill: #FFFFFF;\n",
              "    }\n",
              "  </style>\n",
              "\n",
              "      <script>\n",
              "        const buttonEl =\n",
              "          document.querySelector('#df-27954b68-e8f4-4422-bd94-28f95878e1f5 button.colab-df-convert');\n",
              "        buttonEl.style.display =\n",
              "          google.colab.kernel.accessAllowed ? 'block' : 'none';\n",
              "\n",
              "        async function convertToInteractive(key) {\n",
              "          const element = document.querySelector('#df-27954b68-e8f4-4422-bd94-28f95878e1f5');\n",
              "          const dataTable =\n",
              "            await google.colab.kernel.invokeFunction('convertToInteractive',\n",
              "                                                     [key], {});\n",
              "          if (!dataTable) return;\n",
              "\n",
              "          const docLinkHtml = 'Like what you see? Visit the ' +\n",
              "            '<a target=\"_blank\" href=https://colab.research.google.com/notebooks/data_table.ipynb>data table notebook</a>'\n",
              "            + ' to learn more about interactive tables.';\n",
              "          element.innerHTML = '';\n",
              "          dataTable['output_type'] = 'display_data';\n",
              "          await google.colab.output.renderOutput(dataTable, element);\n",
              "          const docLink = document.createElement('div');\n",
              "          docLink.innerHTML = docLinkHtml;\n",
              "          element.appendChild(docLink);\n",
              "        }\n",
              "      </script>\n",
              "    </div>\n",
              "  </div>\n",
              "  "
            ]
          },
          "metadata": {},
          "execution_count": 22
        }
      ]
    },
    {
      "cell_type": "markdown",
      "source": [
        "# Hierarchial Clustering\n",
        "\n",
        "![image.png](data:image/png;base64,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)"
      ],
      "metadata": {
        "id": "FXDK05334B26"
      }
    },
    {
      "cell_type": "code",
      "source": [
        "!wget https://raw.githubusercontent.com/nachikethmurthy/Source-Code-Dataset-for-Machine-Learning-using-Python/main/Data/beer.csv"
      ],
      "metadata": {
        "colab": {
          "base_uri": "https://localhost:8080/"
        },
        "id": "T3BnTs_2zXCU",
        "outputId": "ed94f45e-8ace-421b-b03e-b163e2ff2a09"
      },
      "execution_count": null,
      "outputs": [
        {
          "output_type": "stream",
          "name": "stdout",
          "text": [
            "--2023-01-12 02:51:51--  https://raw.githubusercontent.com/nachikethmurthy/Source-Code-Dataset-for-Machine-Learning-using-Python/main/Data/beer.csv\n",
            "Resolving raw.githubusercontent.com (raw.githubusercontent.com)... 185.199.109.133, 185.199.108.133, 185.199.111.133, ...\n",
            "Connecting to raw.githubusercontent.com (raw.githubusercontent.com)|185.199.109.133|:443... connected.\n",
            "HTTP request sent, awaiting response... 200 OK\n",
            "Length: 612 [text/plain]\n",
            "Saving to: ‘beer.csv’\n",
            "\n",
            "\rbeer.csv              0%[                    ]       0  --.-KB/s               \rbeer.csv            100%[===================>]     612  --.-KB/s    in 0s      \n",
            "\n",
            "2023-01-12 02:51:51 (22.0 MB/s) - ‘beer.csv’ saved [612/612]\n",
            "\n"
          ]
        }
      ]
    },
    {
      "cell_type": "code",
      "source": [
        "beer = pd.read_csv('beer.csv')\n",
        "beer.head()"
      ],
      "metadata": {
        "colab": {
          "base_uri": "https://localhost:8080/",
          "height": 206
        },
        "id": "8-HDpnCX5A9u",
        "outputId": "f4ec5bd2-34bb-4fe8-c972-731e88c07871"
      },
      "execution_count": null,
      "outputs": [
        {
          "output_type": "execute_result",
          "data": {
            "text/plain": [
              "          name  calories  sodium  alcohol  cost\n",
              "0    Budweiser       144      15      4.7  0.43\n",
              "1      Schlitz       151      19      4.9  0.43\n",
              "2    Lowenbrau       157      15      0.9  0.48\n",
              "3  Kronenbourg       170       7      5.2  0.73\n",
              "4     Heineken       152      11      5.0  0.77"
            ],
            "text/html": [
              "\n",
              "  <div id=\"df-50cc9721-0f83-4f47-a130-47a85cde5488\">\n",
              "    <div class=\"colab-df-container\">\n",
              "      <div>\n",
              "<style scoped>\n",
              "    .dataframe tbody tr th:only-of-type {\n",
              "        vertical-align: middle;\n",
              "    }\n",
              "\n",
              "    .dataframe tbody tr th {\n",
              "        vertical-align: top;\n",
              "    }\n",
              "\n",
              "    .dataframe thead th {\n",
              "        text-align: right;\n",
              "    }\n",
              "</style>\n",
              "<table border=\"1\" class=\"dataframe\">\n",
              "  <thead>\n",
              "    <tr style=\"text-align: right;\">\n",
              "      <th></th>\n",
              "      <th>name</th>\n",
              "      <th>calories</th>\n",
              "      <th>sodium</th>\n",
              "      <th>alcohol</th>\n",
              "      <th>cost</th>\n",
              "    </tr>\n",
              "  </thead>\n",
              "  <tbody>\n",
              "    <tr>\n",
              "      <th>0</th>\n",
              "      <td>Budweiser</td>\n",
              "      <td>144</td>\n",
              "      <td>15</td>\n",
              "      <td>4.7</td>\n",
              "      <td>0.43</td>\n",
              "    </tr>\n",
              "    <tr>\n",
              "      <th>1</th>\n",
              "      <td>Schlitz</td>\n",
              "      <td>151</td>\n",
              "      <td>19</td>\n",
              "      <td>4.9</td>\n",
              "      <td>0.43</td>\n",
              "    </tr>\n",
              "    <tr>\n",
              "      <th>2</th>\n",
              "      <td>Lowenbrau</td>\n",
              "      <td>157</td>\n",
              "      <td>15</td>\n",
              "      <td>0.9</td>\n",
              "      <td>0.48</td>\n",
              "    </tr>\n",
              "    <tr>\n",
              "      <th>3</th>\n",
              "      <td>Kronenbourg</td>\n",
              "      <td>170</td>\n",
              "      <td>7</td>\n",
              "      <td>5.2</td>\n",
              "      <td>0.73</td>\n",
              "    </tr>\n",
              "    <tr>\n",
              "      <th>4</th>\n",
              "      <td>Heineken</td>\n",
              "      <td>152</td>\n",
              "      <td>11</td>\n",
              "      <td>5.0</td>\n",
              "      <td>0.77</td>\n",
              "    </tr>\n",
              "  </tbody>\n",
              "</table>\n",
              "</div>\n",
              "      <button class=\"colab-df-convert\" onclick=\"convertToInteractive('df-50cc9721-0f83-4f47-a130-47a85cde5488')\"\n",
              "              title=\"Convert this dataframe to an interactive table.\"\n",
              "              style=\"display:none;\">\n",
              "        \n",
              "  <svg xmlns=\"http://www.w3.org/2000/svg\" height=\"24px\"viewBox=\"0 0 24 24\"\n",
              "       width=\"24px\">\n",
              "    <path d=\"M0 0h24v24H0V0z\" fill=\"none\"/>\n",
              "    <path d=\"M18.56 5.44l.94 2.06.94-2.06 2.06-.94-2.06-.94-.94-2.06-.94 2.06-2.06.94zm-11 1L8.5 8.5l.94-2.06 2.06-.94-2.06-.94L8.5 2.5l-.94 2.06-2.06.94zm10 10l.94 2.06.94-2.06 2.06-.94-2.06-.94-.94-2.06-.94 2.06-2.06.94z\"/><path d=\"M17.41 7.96l-1.37-1.37c-.4-.4-.92-.59-1.43-.59-.52 0-1.04.2-1.43.59L10.3 9.45l-7.72 7.72c-.78.78-.78 2.05 0 2.83L4 21.41c.39.39.9.59 1.41.59.51 0 1.02-.2 1.41-.59l7.78-7.78 2.81-2.81c.8-.78.8-2.07 0-2.86zM5.41 20L4 18.59l7.72-7.72 1.47 1.35L5.41 20z\"/>\n",
              "  </svg>\n",
              "      </button>\n",
              "      \n",
              "  <style>\n",
              "    .colab-df-container {\n",
              "      display:flex;\n",
              "      flex-wrap:wrap;\n",
              "      gap: 12px;\n",
              "    }\n",
              "\n",
              "    .colab-df-convert {\n",
              "      background-color: #E8F0FE;\n",
              "      border: none;\n",
              "      border-radius: 50%;\n",
              "      cursor: pointer;\n",
              "      display: none;\n",
              "      fill: #1967D2;\n",
              "      height: 32px;\n",
              "      padding: 0 0 0 0;\n",
              "      width: 32px;\n",
              "    }\n",
              "\n",
              "    .colab-df-convert:hover {\n",
              "      background-color: #E2EBFA;\n",
              "      box-shadow: 0px 1px 2px rgba(60, 64, 67, 0.3), 0px 1px 3px 1px rgba(60, 64, 67, 0.15);\n",
              "      fill: #174EA6;\n",
              "    }\n",
              "\n",
              "    [theme=dark] .colab-df-convert {\n",
              "      background-color: #3B4455;\n",
              "      fill: #D2E3FC;\n",
              "    }\n",
              "\n",
              "    [theme=dark] .colab-df-convert:hover {\n",
              "      background-color: #434B5C;\n",
              "      box-shadow: 0px 1px 3px 1px rgba(0, 0, 0, 0.15);\n",
              "      filter: drop-shadow(0px 1px 2px rgba(0, 0, 0, 0.3));\n",
              "      fill: #FFFFFF;\n",
              "    }\n",
              "  </style>\n",
              "\n",
              "      <script>\n",
              "        const buttonEl =\n",
              "          document.querySelector('#df-50cc9721-0f83-4f47-a130-47a85cde5488 button.colab-df-convert');\n",
              "        buttonEl.style.display =\n",
              "          google.colab.kernel.accessAllowed ? 'block' : 'none';\n",
              "\n",
              "        async function convertToInteractive(key) {\n",
              "          const element = document.querySelector('#df-50cc9721-0f83-4f47-a130-47a85cde5488');\n",
              "          const dataTable =\n",
              "            await google.colab.kernel.invokeFunction('convertToInteractive',\n",
              "                                                     [key], {});\n",
              "          if (!dataTable) return;\n",
              "\n",
              "          const docLinkHtml = 'Like what you see? Visit the ' +\n",
              "            '<a target=\"_blank\" href=https://colab.research.google.com/notebooks/data_table.ipynb>data table notebook</a>'\n",
              "            + ' to learn more about interactive tables.';\n",
              "          element.innerHTML = '';\n",
              "          dataTable['output_type'] = 'display_data';\n",
              "          await google.colab.output.renderOutput(dataTable, element);\n",
              "          const docLink = document.createElement('div');\n",
              "          docLink.innerHTML = docLinkHtml;\n",
              "          element.appendChild(docLink);\n",
              "        }\n",
              "      </script>\n",
              "    </div>\n",
              "  </div>\n",
              "  "
            ]
          },
          "metadata": {},
          "execution_count": 34
        }
      ]
    },
    {
      "cell_type": "code",
      "source": [
        "beer.set_index('name',inplace=True)"
      ],
      "metadata": {
        "id": "Ah7u9Tmi5O0-"
      },
      "execution_count": null,
      "outputs": []
    },
    {
      "cell_type": "code",
      "source": [
        "from sklearn.cluster import AgglomerativeClustering"
      ],
      "metadata": {
        "id": "TiCWROLf5XAP"
      },
      "execution_count": null,
      "outputs": []
    },
    {
      "cell_type": "code",
      "source": [
        "agg = AgglomerativeClustering(n_clusters=3, linkage='single')\n",
        "agg.fit_predict(beer)"
      ],
      "metadata": {
        "colab": {
          "base_uri": "https://localhost:8080/"
        },
        "id": "t73XMUt25bUF",
        "outputId": "7943a9d8-78da-4ba5-d0db-3a6296ca9dc4"
      },
      "execution_count": null,
      "outputs": [
        {
          "output_type": "execute_result",
          "data": {
            "text/plain": [
              "array([0, 0, 0, 0, 0, 0, 0, 0, 2, 2, 0, 2, 0, 0, 0, 1, 0, 0, 1, 2])"
            ]
          },
          "metadata": {},
          "execution_count": 37
        }
      ]
    },
    {
      "cell_type": "code",
      "source": [
        "import scipy.cluster.hierarchy as shc"
      ],
      "metadata": {
        "id": "CCBKuBrQ5sIN"
      },
      "execution_count": null,
      "outputs": []
    },
    {
      "cell_type": "code",
      "source": [
        "beer.index"
      ],
      "metadata": {
        "colab": {
          "base_uri": "https://localhost:8080/"
        },
        "id": "a6hga5Lk7Fvy",
        "outputId": "f7d4b606-1bfc-47e4-dceb-2b1677cc3bed"
      },
      "execution_count": null,
      "outputs": [
        {
          "output_type": "execute_result",
          "data": {
            "text/plain": [
              "Index(['Budweiser', 'Schlitz', 'Lowenbrau', 'Kronenbourg', 'Heineken',\n",
              "       'Old_Milwaukee', 'Augsberger', 'Srohs_Bohemian_Style', 'Miller_Lite',\n",
              "       'Budweiser_Light', 'Coors', 'Coors_Light', 'Michelob_Light', 'Becks',\n",
              "       'Kirin', 'Pabst_Extra_Light', 'Hamms', 'Heilemans_Old_Style',\n",
              "       'Olympia_Goled_Light', 'Schlitz_Light'],\n",
              "      dtype='object', name='name')"
            ]
          },
          "metadata": {},
          "execution_count": 42
        }
      ]
    },
    {
      "cell_type": "code",
      "source": [
        "plt.figure(figsize=(30,30))\n",
        "dendrogram = shc.dendrogram(shc.linkage(beer, method='complete'), labels=beer.index)\n",
        "plt.xticks(rotation=90)"
      ],
      "metadata": {
        "colab": {
          "base_uri": "https://localhost:8080/",
          "height": 994
        },
        "id": "8ZfDhkrA6P0L",
        "outputId": "d227224b-ddf5-4fe4-bdff-ed3a77524bbb"
      },
      "execution_count": null,
      "outputs": [
        {
          "output_type": "execute_result",
          "data": {
            "text/plain": [
              "(array([  5,  15,  25,  35,  45,  55,  65,  75,  85,  95, 105, 115, 125,\n",
              "        135, 145, 155, 165, 175, 185, 195]),\n",
              " <a list of 20 Text major ticklabel objects>)"
            ]
          },
          "metadata": {},
          "execution_count": 44
        },
        {
          "output_type": "display_data",
          "data": {
            "text/plain": [
              "<Figure size 2160x2160 with 1 Axes>"
            ],
            "image/png": "[encoded data removed]"
          },
          "metadata": {
            "needs_background": "light"
          }
        }
      ]
    },
    {
      "cell_type": "code",
      "source": [
        "len(beer)"
      ],
      "metadata": {
        "colab": {
          "base_uri": "https://localhost:8080/"
        },
        "id": "m8-FtkYi6lJL",
        "outputId": "c1cc2518-bb49-463a-cbe7-3bdc5533ef64"
      },
      "execution_count": null,
      "outputs": [
        {
          "output_type": "execute_result",
          "data": {
            "text/plain": [
              "20"
            ]
          },
          "metadata": {},
          "execution_count": 46
        }
      ]
    },
    {
      "cell_type": "code",
      "source": [],
      "metadata": {
        "id": "HCYWc-bS7wZJ"
      },
      "execution_count": null,
      "outputs": []
    }
  ]
}