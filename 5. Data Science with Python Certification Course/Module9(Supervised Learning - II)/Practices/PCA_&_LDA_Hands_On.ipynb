{
  "nbformat": 4,
  "nbformat_minor": 0,
  "metadata": {
    "colab": {
      "provenance": []
    },
    "kernelspec": {
      "name": "python3",
      "display_name": "Python 3"
    },
    "language_info": {
      "name": "python"
    }
  },
  "cells": [
    {
      "cell_type": "code",
      "execution_count": null,
      "metadata": {
        "id": "__zZl3lblZAV"
      },
      "outputs": [],
      "source": [
        "import pandas as pd\n",
        "import numpy as np\n",
        "import matplotlib.pyplot as plt\n",
        "from sklearn.datasets import load_digits\n",
        "\n",
        "digits = load_digits()"
      ]
    },
    {
      "cell_type": "code",
      "source": [
        "X = digits.data\n",
        "y = digits.target"
      ],
      "metadata": {
        "id": "qUSs9E1Rl6sd"
      },
      "execution_count": null,
      "outputs": []
    },
    {
      "cell_type": "code",
      "source": [
        "X"
      ],
      "metadata": {
        "colab": {
          "base_uri": "https://localhost:8080/"
        },
        "id": "qEpD3T9wmJia",
        "outputId": "a311ce99-9635-417b-edec-3a5de1c5ea3f"
      },
      "execution_count": null,
      "outputs": [
        {
          "output_type": "execute_result",
          "data": {
            "text/plain": [
              "array([[ 0.,  0.,  5., ...,  0.,  0.,  0.],\n",
              "       [ 0.,  0.,  0., ..., 10.,  0.,  0.],\n",
              "       [ 0.,  0.,  0., ..., 16.,  9.,  0.],\n",
              "       ...,\n",
              "       [ 0.,  0.,  1., ...,  6.,  0.,  0.],\n",
              "       [ 0.,  0.,  2., ..., 12.,  0.,  0.],\n",
              "       [ 0.,  0., 10., ..., 12.,  1.,  0.]])"
            ]
          },
          "metadata": {},
          "execution_count": 3
        }
      ]
    },
    {
      "cell_type": "code",
      "source": [
        "X.shape"
      ],
      "metadata": {
        "colab": {
          "base_uri": "https://localhost:8080/"
        },
        "id": "trnBTt68mLjh",
        "outputId": "2b50edc4-5654-4487-df88-d4abd2b3f4dc"
      },
      "execution_count": null,
      "outputs": [
        {
          "output_type": "execute_result",
          "data": {
            "text/plain": [
              "(1797, 64)"
            ]
          },
          "metadata": {},
          "execution_count": 4
        }
      ]
    },
    {
      "cell_type": "code",
      "source": [
        "plt.matshow(X[0].reshape(8,8))"
      ],
      "metadata": {
        "colab": {
          "base_uri": "https://localhost:8080/",
          "height": 292
        },
        "id": "GAFY0tMAmPOq",
        "outputId": "5c9e259f-643a-4aac-a3e8-81c695b10e4e"
      },
      "execution_count": null,
      "outputs": [
        {
          "output_type": "execute_result",
          "data": {
            "text/plain": [
              "<matplotlib.image.AxesImage at 0x7fca15a5e370>"
            ]
          },
          "metadata": {},
          "execution_count": 6
        },
        {
          "output_type": "display_data",
          "data": {
            "text/plain": [
              "<Figure size 288x288 with 1 Axes>"
            ],
            "image/png": "[encoded data removed]"
          },
          "metadata": {
            "needs_background": "light"
          }
        }
      ]
    },
    {
      "cell_type": "code",
      "source": [
        "y[0]"
      ],
      "metadata": {
        "colab": {
          "base_uri": "https://localhost:8080/"
        },
        "id": "eEPKUcTQmahB",
        "outputId": "b44b8982-dee8-4a0e-a0c0-a0248e6f9b45"
      },
      "execution_count": null,
      "outputs": [
        {
          "output_type": "execute_result",
          "data": {
            "text/plain": [
              "0"
            ]
          },
          "metadata": {},
          "execution_count": 7
        }
      ]
    },
    {
      "cell_type": "code",
      "source": [
        "print(y[1])\n",
        "plt.matshow(X[1].reshape(8,8))"
      ],
      "metadata": {
        "colab": {
          "base_uri": "https://localhost:8080/",
          "height": 310
        },
        "id": "ENHtNtTrmjay",
        "outputId": "2fac0f5b-14c2-4bf0-df86-864542414560"
      },
      "execution_count": null,
      "outputs": [
        {
          "output_type": "stream",
          "name": "stdout",
          "text": [
            "1\n"
          ]
        },
        {
          "output_type": "execute_result",
          "data": {
            "text/plain": [
              "<matplotlib.image.AxesImage at 0x7fca15551640>"
            ]
          },
          "metadata": {},
          "execution_count": 8
        },
        {
          "output_type": "display_data",
          "data": {
            "text/plain": [
              "<Figure size 288x288 with 1 Axes>"
            ],
            "image/png": "[encoded data removed]"
          },
          "metadata": {
            "needs_background": "light"
          }
        }
      ]
    },
    {
      "cell_type": "markdown",
      "source": [
        "# Scaling on the dataset\n",
        "## Imagedata --> Apply the minmax scaler (0 to 1)\n",
        "## General numeric data --> StandardScaler"
      ],
      "metadata": {
        "id": "jrtalmnRm1mM"
      }
    },
    {
      "cell_type": "code",
      "source": [
        "from sklearn.preprocessing import MinMaxScaler"
      ],
      "metadata": {
        "id": "4IpZBojRmrm8"
      },
      "execution_count": null,
      "outputs": []
    },
    {
      "cell_type": "code",
      "source": [
        "np.max(X),np.min(X)"
      ],
      "metadata": {
        "colab": {
          "base_uri": "https://localhost:8080/"
        },
        "id": "fLagLEYlnHq4",
        "outputId": "6c61921b-92db-4505-d645-2441e3404254"
      },
      "execution_count": null,
      "outputs": [
        {
          "output_type": "execute_result",
          "data": {
            "text/plain": [
              "(16.0, 0.0)"
            ]
          },
          "metadata": {},
          "execution_count": 11
        }
      ]
    },
    {
      "cell_type": "code",
      "source": [
        "min_max = MinMaxScaler()\n",
        "X_transform = min_max.fit_transform(X)"
      ],
      "metadata": {
        "id": "SaP561-dnIu8"
      },
      "execution_count": null,
      "outputs": []
    },
    {
      "cell_type": "code",
      "source": [
        "np.max(X_transform),np.min(X_transform)"
      ],
      "metadata": {
        "colab": {
          "base_uri": "https://localhost:8080/"
        },
        "id": "kp5KMpj5nZ3A",
        "outputId": "0303be95-8009-422b-e6a7-b73e830157dc"
      },
      "execution_count": null,
      "outputs": [
        {
          "output_type": "execute_result",
          "data": {
            "text/plain": [
              "(1.0, 0.0)"
            ]
          },
          "metadata": {},
          "execution_count": 13
        }
      ]
    },
    {
      "cell_type": "markdown",
      "source": [
        "# PCA"
      ],
      "metadata": {
        "id": "8hxV70hdngSV"
      }
    },
    {
      "cell_type": "code",
      "source": [
        "from sklearn.decomposition import PCA"
      ],
      "metadata": {
        "id": "fxIIUbzdncOl"
      },
      "execution_count": null,
      "outputs": []
    },
    {
      "cell_type": "code",
      "source": [
        "pca = PCA(random_state=0)\n",
        "pca.fit(X_transform)"
      ],
      "metadata": {
        "colab": {
          "base_uri": "https://localhost:8080/"
        },
        "id": "XQHkcEo0nt8L",
        "outputId": "44c75b4d-d86d-41a7-e6d8-fd62562641c7"
      },
      "execution_count": null,
      "outputs": [
        {
          "output_type": "execute_result",
          "data": {
            "text/plain": [
              "PCA(random_state=0)"
            ]
          },
          "metadata": {},
          "execution_count": 55
        }
      ]
    },
    {
      "cell_type": "code",
      "source": [
        "X_transform.shape"
      ],
      "metadata": {
        "colab": {
          "base_uri": "https://localhost:8080/"
        },
        "id": "Uj8Q7pGxoDdT",
        "outputId": "f1453c2b-4d50-4b96-e38f-c8dfa77f5f35"
      },
      "execution_count": null,
      "outputs": [
        {
          "output_type": "execute_result",
          "data": {
            "text/plain": [
              "(1797, 64)"
            ]
          },
          "metadata": {},
          "execution_count": 56
        }
      ]
    },
    {
      "cell_type": "code",
      "source": [
        "pca.n_components_ # number of principal components"
      ],
      "metadata": {
        "colab": {
          "base_uri": "https://localhost:8080/"
        },
        "id": "ImrdqMKsn6Mh",
        "outputId": "a465cfc3-c846-4aad-de45-9c0557c99224"
      },
      "execution_count": null,
      "outputs": [
        {
          "output_type": "execute_result",
          "data": {
            "text/plain": [
              "64"
            ]
          },
          "metadata": {},
          "execution_count": 57
        }
      ]
    },
    {
      "cell_type": "code",
      "source": [
        "X_pca = pca.transform(X_transform)\n",
        "X_pca.shape"
      ],
      "metadata": {
        "colab": {
          "base_uri": "https://localhost:8080/"
        },
        "id": "z_OaGN9MoMWf",
        "outputId": "ca630d2b-ab6f-41b7-cbd8-5bff4bb508c7"
      },
      "execution_count": null,
      "outputs": [
        {
          "output_type": "execute_result",
          "data": {
            "text/plain": [
              "(1797, 64)"
            ]
          },
          "metadata": {},
          "execution_count": 58
        }
      ]
    },
    {
      "cell_type": "code",
      "source": [
        "X_transform[:2]"
      ],
      "metadata": {
        "colab": {
          "base_uri": "https://localhost:8080/"
        },
        "id": "w8IR2Q6toQWH",
        "outputId": "a69ca153-9c0f-4f76-e42d-9948fb196079"
      },
      "execution_count": null,
      "outputs": [
        {
          "output_type": "execute_result",
          "data": {
            "text/plain": [
              "array([[0.        , 0.        , 0.3125    , 0.8125    , 0.5625    ,\n",
              "        0.0625    , 0.        , 0.        , 0.        , 0.        ,\n",
              "        0.8125    , 0.9375    , 0.625     , 0.9375    , 0.3125    ,\n",
              "        0.        , 0.        , 0.1875    , 0.9375    , 0.125     ,\n",
              "        0.        , 0.6875    , 0.5       , 0.        , 0.        ,\n",
              "        0.26666667, 0.75      , 0.        , 0.        , 0.5       ,\n",
              "        0.53333333, 0.        , 0.        , 0.35714286, 0.5       ,\n",
              "        0.        , 0.        , 0.5625    , 0.57142857, 0.        ,\n",
              "        0.        , 0.25      , 0.6875    , 0.        , 0.0625    ,\n",
              "        0.75      , 0.4375    , 0.        , 0.        , 0.125     ,\n",
              "        0.875     , 0.3125    , 0.625     , 0.75      , 0.        ,\n",
              "        0.        , 0.        , 0.        , 0.375     , 0.8125    ,\n",
              "        0.625     , 0.        , 0.        , 0.        ],\n",
              "       [0.        , 0.        , 0.        , 0.75      , 0.8125    ,\n",
              "        0.3125    , 0.        , 0.        , 0.        , 0.        ,\n",
              "        0.        , 0.6875    , 1.        , 0.5625    , 0.        ,\n",
              "        0.        , 0.        , 0.        , 0.1875    , 0.9375    ,\n",
              "        1.        , 0.375     , 0.        , 0.        , 0.        ,\n",
              "        0.46666667, 0.9375    , 1.        , 1.        , 0.125     ,\n",
              "        0.        , 0.        , 0.        , 0.        , 0.0625    ,\n",
              "        1.        , 1.        , 0.1875    , 0.        , 0.        ,\n",
              "        0.        , 0.        , 0.0625    , 1.        , 1.        ,\n",
              "        0.375     , 0.        , 0.        , 0.        , 0.        ,\n",
              "        0.0625    , 1.        , 1.        , 0.375     , 0.        ,\n",
              "        0.        , 0.        , 0.        , 0.        , 0.6875    ,\n",
              "        1.        , 0.625     , 0.        , 0.        ]])"
            ]
          },
          "metadata": {},
          "execution_count": 59
        }
      ]
    },
    {
      "cell_type": "code",
      "source": [
        "X_pca[:2]"
      ],
      "metadata": {
        "colab": {
          "base_uri": "https://localhost:8080/"
        },
        "id": "OePb04sloYPV",
        "outputId": "f1ccf93f-4bb1-4e68-860f-a9a65fe20403"
      },
      "execution_count": null,
      "outputs": [
        {
          "output_type": "execute_result",
          "data": {
            "text/plain": [
              "array([[ 6.11373907e-02,  1.37811679e+00, -5.38755428e-01,\n",
              "         8.07858280e-01, -4.39151234e-01, -4.67758770e-01,\n",
              "         2.02320604e-01,  1.41209545e-01, -4.49734474e-02,\n",
              "         2.25564337e-01,  1.66976108e-01,  9.85409616e-02,\n",
              "        -1.10743704e-01, -1.99703630e-01,  3.53770920e-01,\n",
              "         1.76814124e-01,  4.68125796e-02, -8.11021351e-02,\n",
              "         1.44516091e-02,  9.25383716e-02, -2.57946262e-01,\n",
              "        -1.65238323e-01,  8.34626778e-02,  5.03673791e-02,\n",
              "         5.27621908e-02,  8.10549391e-02,  2.41560498e-01,\n",
              "        -3.98974797e-02, -8.94987928e-02, -1.46056457e-01,\n",
              "         1.06889770e-01, -2.13552965e-02, -1.90637113e-02,\n",
              "        -1.31161662e-01,  8.60166777e-02, -3.76112475e-02,\n",
              "         9.96826274e-03, -6.21761916e-02, -1.46808464e-01,\n",
              "         8.75446757e-02,  3.44396038e-02,  1.12219826e-01,\n",
              "        -4.40690813e-02,  6.75024353e-03, -6.57971832e-02,\n",
              "        -6.65230947e-02,  1.21519464e-03,  2.86311474e-02,\n",
              "        -4.04719018e-02, -4.04398305e-03, -1.72851908e-02,\n",
              "         1.77269427e-03,  2.06746259e-02,  5.22552406e-03,\n",
              "        -1.56276549e-02, -7.30459533e-03, -1.19980548e-02,\n",
              "        -3.56710142e-03, -2.69317902e-03,  1.53258279e-03,\n",
              "        -3.95875679e-03,  3.22029385e-17, -1.70038623e-17,\n",
              "        -4.36053256e-17],\n",
              "       [ 3.75737245e-01, -1.35466438e+00,  2.26963701e-01,\n",
              "        -9.23098248e-01,  3.77030237e-01, -4.01136660e-01,\n",
              "         1.31883826e-01, -2.59255695e-01,  2.54848603e-01,\n",
              "        -7.61268663e-02, -3.61310375e-01, -1.13962760e-01,\n",
              "         7.11381022e-02, -4.30008886e-01, -1.31380543e-01,\n",
              "        -1.22564927e-01, -3.63127235e-01,  2.66512589e-01,\n",
              "        -1.62161614e-01,  3.00331752e-01, -1.52626443e-01,\n",
              "        -4.56735536e-02, -2.96082573e-01, -1.81811705e-01,\n",
              "         3.59483192e-01, -2.12614473e-02,  1.31001151e-01,\n",
              "        -7.16229078e-02,  1.03928293e-01, -4.78094629e-02,\n",
              "        -4.80727631e-02,  2.92141668e-02, -1.72107303e-01,\n",
              "         7.33719101e-02,  1.91812798e-01,  8.86409099e-02,\n",
              "        -2.44241663e-01, -1.03746413e-02,  1.08939726e-01,\n",
              "        -5.96298418e-02,  8.38734010e-02, -8.63196214e-02,\n",
              "         1.23795123e-02,  8.90132441e-02, -9.51706867e-02,\n",
              "         3.44273043e-02, -2.82718947e-02, -1.77864768e-02,\n",
              "         3.81221298e-02,  9.46274692e-04, -1.60604263e-02,\n",
              "        -1.88997808e-02, -6.33741779e-03, -1.11273961e-02,\n",
              "         5.47628732e-03,  1.36342673e-02,  3.69480578e-04,\n",
              "        -2.83953885e-03, -3.84018576e-03, -2.84148206e-03,\n",
              "         2.72010148e-04, -3.62295221e-16, -4.76658095e-17,\n",
              "         1.05354198e-17]])"
            ]
          },
          "metadata": {},
          "execution_count": 60
        }
      ]
    },
    {
      "cell_type": "code",
      "source": [
        "pca.explained_variance_ratio_ # This tell us how much variance will be explained by the given features"
      ],
      "metadata": {
        "colab": {
          "base_uri": "https://localhost:8080/"
        },
        "id": "ZBM686wloZtA",
        "outputId": "2fdba743-10c2-4ac8-e9e5-d4e5bd19d3d4"
      },
      "execution_count": null,
      "outputs": [
        {
          "output_type": "execute_result",
          "data": {
            "text/plain": [
              "array([1.48151574e-01, 1.35236752e-01, 1.17066538e-01, 8.31652424e-02,\n",
              "       5.73661316e-02, 4.85009013e-02, 4.25288061e-02, 3.67751516e-02,\n",
              "       3.32337640e-02, 3.04663428e-02, 2.35953051e-02, 2.28228587e-02,\n",
              "       1.82131184e-02, 1.77337331e-02, 1.45855982e-02, 1.39627225e-02,\n",
              "       1.31001969e-02, 1.24301826e-02, 1.02038935e-02, 9.09604550e-03,\n",
              "       8.90749088e-03, 7.97984371e-03, 7.88424146e-03, 7.63210338e-03,\n",
              "       6.90211226e-03, 5.95599324e-03, 5.76735560e-03, 5.11271074e-03,\n",
              "       5.00826265e-03, 4.42500789e-03, 3.97674687e-03, 3.77750002e-03,\n",
              "       3.43315299e-03, 3.31145760e-03, 3.13676697e-03, 2.96432153e-03,\n",
              "       2.57299586e-03, 2.34284538e-03, 2.28555243e-03, 2.26172836e-03,\n",
              "       2.07395525e-03, 1.87444684e-03, 1.59701046e-03, 1.50526034e-03,\n",
              "       1.38705823e-03, 1.14318274e-03, 1.11922744e-03, 9.79672329e-04,\n",
              "       9.48579444e-04, 7.16059509e-04, 5.15199360e-04, 4.47126393e-04,\n",
              "       3.50072744e-04, 3.03624344e-04, 2.86710647e-04, 2.76573788e-04,\n",
              "       2.23194329e-04, 1.28344479e-04, 1.13615875e-04, 8.72622989e-05,\n",
              "       5.07757415e-05, 1.78304328e-33, 9.52461063e-34, 9.37925863e-34])"
            ]
          },
          "metadata": {},
          "execution_count": 61
        }
      ]
    },
    {
      "cell_type": "code",
      "source": [
        "np.sum(pca.explained_variance_ratio_)"
      ],
      "metadata": {
        "colab": {
          "base_uri": "https://localhost:8080/"
        },
        "id": "BPiDfa7yollp",
        "outputId": "b395fb79-af6b-44e3-d66d-a039a14c72de"
      },
      "execution_count": null,
      "outputs": [
        {
          "output_type": "execute_result",
          "data": {
            "text/plain": [
              "1.0"
            ]
          },
          "metadata": {},
          "execution_count": 62
        }
      ]
    },
    {
      "cell_type": "code",
      "source": [
        "x = np.cumsum(pca.explained_variance_ratio_)"
      ],
      "metadata": {
        "id": "LAvb0W-kubHm"
      },
      "execution_count": null,
      "outputs": []
    },
    {
      "cell_type": "code",
      "source": [
        "np.round(x,2)"
      ],
      "metadata": {
        "colab": {
          "base_uri": "https://localhost:8080/"
        },
        "id": "PawvJf3HoyFu",
        "outputId": "91fbb768-cd6e-45ba-f22e-e51decc1773e"
      },
      "execution_count": null,
      "outputs": [
        {
          "output_type": "execute_result",
          "data": {
            "text/plain": [
              "array([0.15, 0.28, 0.4 , 0.48, 0.54, 0.59, 0.63, 0.67, 0.7 , 0.73, 0.76,\n",
              "       0.78, 0.8 , 0.81, 0.83, 0.84, 0.86, 0.87, 0.88, 0.89, 0.9 , 0.91,\n",
              "       0.91, 0.92, 0.93, 0.93, 0.94, 0.94, 0.95, 0.95, 0.96, 0.96, 0.96,\n",
              "       0.97, 0.97, 0.97, 0.98, 0.98, 0.98, 0.98, 0.99, 0.99, 0.99, 0.99,\n",
              "       0.99, 0.99, 0.99, 1.  , 1.  , 1.  , 1.  , 1.  , 1.  , 1.  , 1.  ,\n",
              "       1.  , 1.  , 1.  , 1.  , 1.  , 1.  , 1.  , 1.  , 1.  ])"
            ]
          },
          "metadata": {},
          "execution_count": 64
        }
      ]
    },
    {
      "cell_type": "code",
      "source": [
        "np.round(np.cumsum([1,2,3,4,5]),2)"
      ],
      "metadata": {
        "colab": {
          "base_uri": "https://localhost:8080/"
        },
        "id": "g6Kia5bupaBo",
        "outputId": "21fb3595-05d6-4756-973b-a0f40210ee55"
      },
      "execution_count": null,
      "outputs": [
        {
          "output_type": "execute_result",
          "data": {
            "text/plain": [
              "array([ 1,  3,  6, 10, 15])"
            ]
          },
          "metadata": {},
          "execution_count": 65
        }
      ]
    },
    {
      "cell_type": "code",
      "source": [
        "pca = PCA(n_components=20,random_state=0)\n",
        "X_pca = pca.fit_transform(X_transform)\n",
        "X_pca.shape"
      ],
      "metadata": {
        "colab": {
          "base_uri": "https://localhost:8080/"
        },
        "id": "aItrfgZ-qBDS",
        "outputId": "345a2f50-4d55-4f84-cd76-5870b287f06b"
      },
      "execution_count": null,
      "outputs": [
        {
          "output_type": "execute_result",
          "data": {
            "text/plain": [
              "(1797, 20)"
            ]
          },
          "metadata": {},
          "execution_count": 66
        }
      ]
    },
    {
      "cell_type": "code",
      "source": [
        "np.cumsum(pca.explained_variance_ratio_)"
      ],
      "metadata": {
        "colab": {
          "base_uri": "https://localhost:8080/"
        },
        "id": "KhenFL8brZSO",
        "outputId": "58399091-b837-4202-8bba-a3c8ddfddfc1"
      },
      "execution_count": null,
      "outputs": [
        {
          "output_type": "execute_result",
          "data": {
            "text/plain": [
              "array([0.14815157, 0.28338833, 0.40045486, 0.48362011, 0.54098624,\n",
              "       0.58948714, 0.63201594, 0.6687911 , 0.70202486, 0.7324912 ,\n",
              "       0.75608651, 0.77890931, 0.7971223 , 0.81485598, 0.82944121,\n",
              "       0.84340378, 0.85650252, 0.86893259, 0.87913621, 0.88823065])"
            ]
          },
          "metadata": {},
          "execution_count": 48
        }
      ]
    },
    {
      "cell_type": "code",
      "source": [
        "np.round(np.cumsum(pca.explained_variance_ratio_),2)"
      ],
      "metadata": {
        "colab": {
          "base_uri": "https://localhost:8080/"
        },
        "id": "vCV-zzbAqX-i",
        "outputId": "b07e8353-73b8-4261-a0bf-02c08d031c7b"
      },
      "execution_count": null,
      "outputs": [
        {
          "output_type": "execute_result",
          "data": {
            "text/plain": [
              "array([0.15, 0.28, 0.4 , 0.48, 0.54, 0.59, 0.63, 0.67, 0.7 , 0.73, 0.76,\n",
              "       0.78, 0.8 , 0.81, 0.83, 0.84, 0.86, 0.87, 0.88, 0.89])"
            ]
          },
          "metadata": {},
          "execution_count": 45
        }
      ]
    },
    {
      "cell_type": "code",
      "source": [
        "#Apply the model\n",
        "from sklearn.model_selection import train_test_split\n",
        "from sklearn.tree import DecisionTreeClassifier\n",
        "\n",
        "X_train,X_test,y_train,y_test = train_test_split(X_pca,y,test_size=0.2, random_state=0)\n",
        "tree = DecisionTreeClassifier(random_state=2)\n",
        "tree.fit(X_train,y_train)"
      ],
      "metadata": {
        "colab": {
          "base_uri": "https://localhost:8080/"
        },
        "id": "_QaDWF3nqfLy",
        "outputId": "76be16c4-783b-4cc9-c063-693af69ab029"
      },
      "execution_count": null,
      "outputs": [
        {
          "output_type": "execute_result",
          "data": {
            "text/plain": [
              "DecisionTreeClassifier(random_state=2)"
            ]
          },
          "metadata": {},
          "execution_count": 47
        }
      ]
    },
    {
      "cell_type": "markdown",
      "source": [
        "# LDA"
      ],
      "metadata": {
        "id": "CnqPQd3VutY7"
      }
    },
    {
      "cell_type": "code",
      "source": [
        "# Supervised Machine Learning\n",
        "n_classes = 10\n",
        "n_features = 64\n",
        "min(n_classes - 1, n_features) # less than or equal to this value"
      ],
      "metadata": {
        "colab": {
          "base_uri": "https://localhost:8080/"
        },
        "id": "IhXYaevfrMdI",
        "outputId": "aaf8769d-ff91-4526-8c33-f8a9759f57cb"
      },
      "execution_count": null,
      "outputs": [
        {
          "output_type": "execute_result",
          "data": {
            "text/plain": [
              "9"
            ]
          },
          "metadata": {},
          "execution_count": 67
        }
      ]
    },
    {
      "cell_type": "code",
      "source": [
        "from sklearn.discriminant_analysis import LinearDiscriminantAnalysis\n",
        "lda = LinearDiscriminantAnalysis()\n",
        "lda.fit(X_transform,y)"
      ],
      "metadata": {
        "colab": {
          "base_uri": "https://localhost:8080/"
        },
        "id": "Xahj7HS1vQD-",
        "outputId": "b6f47cfe-e88e-4d49-edc0-d5a23bd5d720"
      },
      "execution_count": null,
      "outputs": [
        {
          "output_type": "execute_result",
          "data": {
            "text/plain": [
              "LinearDiscriminantAnalysis()"
            ]
          },
          "metadata": {},
          "execution_count": 72
        }
      ]
    },
    {
      "cell_type": "code",
      "source": [
        "lda.explained_variance_ratio_"
      ],
      "metadata": {
        "colab": {
          "base_uri": "https://localhost:8080/"
        },
        "id": "w1eXtFuJvuXA",
        "outputId": "a9bf2c2c-5da4-4a45-f28b-4bccdeb7a69b"
      },
      "execution_count": null,
      "outputs": [
        {
          "output_type": "execute_result",
          "data": {
            "text/plain": [
              "array([0.28912041, 0.18262788, 0.16962345, 0.1167055 , 0.08301253,\n",
              "       0.06565685, 0.04310127, 0.0293257 , 0.0208264 ])"
            ]
          },
          "metadata": {},
          "execution_count": 74
        }
      ]
    },
    {
      "cell_type": "code",
      "source": [
        "np.sum(lda.explained_variance_ratio_)"
      ],
      "metadata": {
        "colab": {
          "base_uri": "https://localhost:8080/"
        },
        "id": "jmlQ7g7Rv460",
        "outputId": "2c100b99-40c2-4c69-8dce-b44df73097dd"
      },
      "execution_count": null,
      "outputs": [
        {
          "output_type": "execute_result",
          "data": {
            "text/plain": [
              "1.0"
            ]
          },
          "metadata": {},
          "execution_count": 75
        }
      ]
    },
    {
      "cell_type": "code",
      "source": [
        "len(set(y))"
      ],
      "metadata": {
        "colab": {
          "base_uri": "https://localhost:8080/"
        },
        "id": "zMWP1lNCwC07",
        "outputId": "9d6a9bfc-a02a-497d-fc15-ba6172ff5d99"
      },
      "execution_count": null,
      "outputs": [
        {
          "output_type": "execute_result",
          "data": {
            "text/plain": [
              "10"
            ]
          },
          "metadata": {},
          "execution_count": 77
        }
      ]
    },
    {
      "cell_type": "code",
      "source": [
        "set(y)"
      ],
      "metadata": {
        "colab": {
          "base_uri": "https://localhost:8080/"
        },
        "id": "lhP_9kzQwcli",
        "outputId": "b2a35844-c99f-412d-c203-4f7bf092d522"
      },
      "execution_count": null,
      "outputs": [
        {
          "output_type": "execute_result",
          "data": {
            "text/plain": [
              "{0, 1, 2, 3, 4, 5, 6, 7, 8, 9}"
            ]
          },
          "metadata": {},
          "execution_count": 78
        }
      ]
    },
    {
      "cell_type": "code",
      "source": [],
      "metadata": {
        "id": "9eh2wfefw0Ti"
      },
      "execution_count": null,
      "outputs": []
    }
  ]
}